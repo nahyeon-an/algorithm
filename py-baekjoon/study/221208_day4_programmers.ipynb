{
 "cells": [
  {
   "cell_type": "markdown",
   "source": [
    "## level2 : 77485"
   ],
   "metadata": {
    "collapsed": false
   }
  },
  {
   "cell_type": "markdown",
   "source": [
    "행렬 : rows * cols\n",
    "1 ~ rows*cols 까지의 숫자로 채워짐\n",
    "직사각형 모양의 범위를 선택 -> 테두리 부분의 숫자들을 시계방향으로 회전\n",
    "\n",
    "회전 : (x1, y1, x2, y2)\n",
    "x1행 y1열 ~ x2행 y2열 -> 직사각형\n",
    "\n",
    "rows : 행의 개수 (2 ~ 100)\n",
    "columns : 열의 개수 (2 ~ 100)\n",
    "queries : 회전 목록 (1 ~ 10^4개)\n",
    "\n",
    "행렬 초기화 : 순서대로\n",
    "\n",
    "위치가 바뀐 숫자들 중 가장 작은 숫자들 순서대로 배열로 리턴\n",
    "-> 즉 각 회전마다 최솟값을 배열에 넣음\n",
    "-> 리턴 길이 == 쿼리 길이"
   ],
   "metadata": {
    "collapsed": false
   }
  },
  {
   "cell_type": "code",
   "execution_count": 1,
   "outputs": [],
   "source": [
    "def solution(rows, columns, queries):\n",
    "    answer = []\n",
    "\n",
    "    matrix = []\n",
    "    for row in range(rows):\n",
    "        matrix.append([columns * row + col for col in range(1, columns + 1)])\n",
    "\n",
    "    for x1, y1, x2, y2 in queries:\n",
    "        moves = []\n",
    "        moves.extend(matrix[x1-1][y1-1:y2])\n",
    "        moves.extend([matrix[r][y2-1] for r in range(x1, x2)])\n",
    "        moves.extend(reversed(matrix[x2-1][y1-1:y2-1]))\n",
    "        moves.extend(reversed([matrix[r][y1-1] for r in range(x1, x2-1)]))\n",
    "        answer.append(min(moves))\n",
    "\n",
    "        for r in range(x1-1, x2):\n",
    "            matrix[r][y1-1] = moves.pop()\n",
    "\n",
    "        for c in range(y1, y2):\n",
    "            matrix[x2-1][c] = moves.pop()\n",
    "\n",
    "        for r in range(x2-2, x1-2, -1):\n",
    "            matrix[r][y2-1] = moves.pop()\n",
    "\n",
    "        for c in range(y2-2, y1-1, -1):\n",
    "            matrix[x1-1][c] = moves.pop()\n",
    "\n",
    "    return answer"
   ],
   "metadata": {
    "collapsed": false
   }
  },
  {
   "cell_type": "code",
   "execution_count": 2,
   "outputs": [
    {
     "data": {
      "text/plain": "[8, 10, 25]"
     },
     "execution_count": 2,
     "metadata": {},
     "output_type": "execute_result"
    }
   ],
   "source": [
    "rows = 6\n",
    "cols = 6\n",
    "q = [[2,2,5,4],[3,3,6,6],[5,1,6,3]]\n",
    "\n",
    "solution(rows, cols, q)"
   ],
   "metadata": {
    "collapsed": false
   }
  },
  {
   "cell_type": "code",
   "execution_count": 3,
   "outputs": [
    {
     "data": {
      "text/plain": "[1, 1, 5, 3]"
     },
     "execution_count": 3,
     "metadata": {},
     "output_type": "execute_result"
    }
   ],
   "source": [
    "rows = 3\n",
    "cols = 3\n",
    "q = [[1,1,2,2],[1,2,2,3],[2,1,3,2],[2,2,3,3]]\n",
    "\n",
    "solution(rows, cols, q)"
   ],
   "metadata": {
    "collapsed": false
   }
  },
  {
   "cell_type": "code",
   "execution_count": 4,
   "outputs": [
    {
     "data": {
      "text/plain": "[1]"
     },
     "execution_count": 4,
     "metadata": {},
     "output_type": "execute_result"
    }
   ],
   "source": [
    "rows = 100\n",
    "cols = 97\n",
    "q = [[1,1,100,97]]\n",
    "\n",
    "solution(rows, cols, q)"
   ],
   "metadata": {
    "collapsed": false
   }
  },
  {
   "cell_type": "markdown",
   "source": [
    "## level2 - 77885"
   ],
   "metadata": {
    "collapsed": false
   }
  },
  {
   "cell_type": "markdown",
   "source": [
    "x : 양의 정수\n",
    "\n",
    "f(x) 정의\n",
    "(1) x보다 크고 (2) 비트가 1~2개 다른 수\n",
    "들 중 가장 작은 수\n",
    "\n",
    "numbers 값들에 대해 적용해서 배열로 리턴\n",
    "\n",
    "numbers 의 원소 : 0 ~ 10^5"
   ],
   "metadata": {
    "collapsed": false
   }
  },
  {
   "cell_type": "code",
   "execution_count": 5,
   "metadata": {
    "collapsed": true
   },
   "outputs": [],
   "source": [
    "# 시간 초과\n",
    "def solution1(numbers):\n",
    "    answer = []\n",
    "\n",
    "    for num in numbers:\n",
    "        num_bit = format(num, 'b')\n",
    "        prefix = '1' * len(num_bit)\n",
    "        maximum = int(prefix + num_bit, 2)\n",
    "\n",
    "        for n in range(num+1, maximum + 1):\n",
    "            # 비트가 1~2 개 다른 숫자 찾기\n",
    "            n_bit = format(n, 'b')\n",
    "            org = num_bit\n",
    "\n",
    "            cnt = 0\n",
    "\n",
    "            if len(org) > len(n_bit):\n",
    "                cnt += len(org) - len(n_bit)\n",
    "                org = org[len(org) - len(n_bit):]\n",
    "            else:\n",
    "                cnt += len(n_bit) - len(org)\n",
    "                n_bit = n_bit[len(n_bit) - len(org):]\n",
    "\n",
    "            for i in range(len(n_bit)):\n",
    "                if n_bit[i] != org[i]:\n",
    "                    cnt += 1\n",
    "\n",
    "            if cnt in (1, 2):\n",
    "                answer.append(n)\n",
    "                break\n",
    "\n",
    "    return answer"
   ]
  },
  {
   "cell_type": "code",
   "execution_count": 6,
   "outputs": [
    {
     "data": {
      "text/plain": "50"
     },
     "execution_count": 6,
     "metadata": {},
     "output_type": "execute_result"
    }
   ],
   "source": [
    "len(format(10**15, 'b'))"
   ],
   "metadata": {
    "collapsed": false
   }
  },
  {
   "cell_type": "code",
   "execution_count": 7,
   "outputs": [
    {
     "data": {
      "text/plain": "[1000000000000001]"
     },
     "execution_count": 7,
     "metadata": {},
     "output_type": "execute_result"
    }
   ],
   "source": [
    "def solution(numbers):\n",
    "    answer = []\n",
    "\n",
    "    for num in numbers:\n",
    "        bit = format(num, 'b')\n",
    "\n",
    "        vals = []\n",
    "        idx = bit.rfind('01')\n",
    "        if idx > -1:\n",
    "            s = bit[:idx] + '10' + bit[idx+2:]\n",
    "            vals.append(int(s, 2))\n",
    "\n",
    "        idx = bit.rfind('0')\n",
    "        if idx > -1:\n",
    "            s = bit[:idx] + '1' + bit[idx+1: ]\n",
    "            vals.append(int(s, 2))\n",
    "\n",
    "        s = '10' + bit[1:]\n",
    "        vals.append(int(s, 2))\n",
    "\n",
    "        answer.append(min(vals))\n",
    "\n",
    "    return answer\n",
    "\n",
    "solution([10**15])"
   ],
   "metadata": {
    "collapsed": false
   }
  },
  {
   "cell_type": "code",
   "execution_count": 8,
   "outputs": [],
   "source": [
    "ret1 = solution1(range(100))\n",
    "ret = solution(range(100))\n",
    "\n",
    "for i, val in enumerate(zip(ret1, ret)):\n",
    "    x, y = val\n",
    "    if x != y:\n",
    "        print(f\"number: {i}, bit: {format(i, 'b')}\")\n",
    "        print(f\"answer: {x}, bit: {format(x, 'b')}\")\n",
    "        print(f\"wrong: {y}, bit: {format(y, 'b')}\")\n",
    "        break"
   ],
   "metadata": {
    "collapsed": false
   }
  },
  {
   "cell_type": "code",
   "execution_count": 9,
   "outputs": [
    {
     "data": {
      "text/plain": "[3, 11]"
     },
     "execution_count": 9,
     "metadata": {},
     "output_type": "execute_result"
    }
   ],
   "source": [
    "solution([2, 7])"
   ],
   "metadata": {
    "collapsed": false
   }
  },
  {
   "cell_type": "code",
   "execution_count": 10,
   "outputs": [
    {
     "data": {
      "text/plain": "14"
     },
     "execution_count": 10,
     "metadata": {},
     "output_type": "execute_result"
    }
   ],
   "source": [
    "int('1110', 2)"
   ],
   "metadata": {
    "collapsed": false
   }
  },
  {
   "cell_type": "code",
   "execution_count": null,
   "outputs": [],
   "source": [],
   "metadata": {
    "collapsed": false
   }
  }
 ],
 "metadata": {
  "kernelspec": {
   "display_name": "Python 3",
   "language": "python",
   "name": "python3"
  },
  "language_info": {
   "codemirror_mode": {
    "name": "ipython",
    "version": 2
   },
   "file_extension": ".py",
   "mimetype": "text/x-python",
   "name": "python",
   "nbconvert_exporter": "python",
   "pygments_lexer": "ipython2",
   "version": "2.7.6"
  }
 },
 "nbformat": 4,
 "nbformat_minor": 0
}
