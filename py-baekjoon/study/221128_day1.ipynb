{
 "cells": [
  {
   "cell_type": "markdown",
   "source": [
    "## 백준"
   ],
   "metadata": {
    "collapsed": false
   }
  },
  {
   "cell_type": "markdown",
   "source": [
    "### 1012 : 유기농 배추"
   ],
   "metadata": {
    "collapsed": false
   }
  },
  {
   "cell_type": "markdown",
   "source": [
    "배추흰지렁이 사는 배추 -> 인접 배추로 이동 가능\n",
    "상하좌우\n",
    "인접한 배추들이 몇 군데에 퍼져있는지 조사 -> 총 몇 마리의 지렁이가 필요할까? (최소)\n",
    "\n",
    "0 : 배추 X, 1: 배추 O"
   ],
   "metadata": {
    "collapsed": false
   }
  },
  {
   "cell_type": "code",
   "execution_count": null,
   "metadata": {
    "collapsed": true,
    "pycharm": {
     "is_executing": true
    }
   },
   "outputs": [],
   "source": [
    "T = int(input())  # tc 수\n",
    "\n",
    "for i in range(T):\n",
    "    # M : 배추 밭의 가로 길이 (1~50) -> 열의 개수\n",
    "    # N : 배추 밭의 세로 길이 (1~50) -> 행의 개수\n",
    "    # K : 배추 위치 개수 (1~2500)\n",
    "    # n^2\n",
    "    M, N, K = map(int, input().split(\" \"))\n",
    "    matrix = [[0 for _ in range(M)] for _ in range(N)]\n",
    "\n",
    "    start = None\n",
    "    while K > 0:\n",
    "        X, Y = map(int, input().split(\" \"))\n",
    "        matrix[Y][X] = 1\n",
    "        if start is None:\n",
    "            start = (Y, X)\n",
    "        K -= 1\n",
    "\n",
    "    # 인접 노드 방문\n",
    "    stack = [start]\n",
    "\n",
    "    while stack:\n",
    "        r, c = stack.pop()\n",
    "\n",
    "        if r-1 >= 0 and matrix[r-1][c] == 1:\n",
    "            matrix[r-1][c] = 0\n",
    "            stack.append((r-1, c))\n",
    "        if r+1 < N and matrix[r+1][c] == 1:\n",
    "            matrix[r+1][c] = 0\n",
    "            stack.append((r+1, c))\n",
    "        if c-1 >= 0 and matrix[r][c-1] == 1:\n",
    "            matrix[r][c-1] = 0\n",
    "            stack.append((r, c-1))\n",
    "        if c+1 < M and matrix[r][c+1] == 1:\n",
    "            matrix[r][c+1] = 0\n",
    "            stack.append((r, c+1))\n",
    "\n",
    "    print(matrix)"
   ]
  },
  {
   "cell_type": "markdown",
   "source": [
    "### 11286 : 절댓값 힙"
   ],
   "metadata": {
    "collapsed": false
   }
  },
  {
   "cell_type": "markdown",
   "source": [
    "배열에 정수 x != 0 를 넣는다\n",
    "절댓값이 가장 작은 것을 출력 후, 제거\n",
    "- 가장 작은 절댓값 여러개일 때, 가장 작은 수 출력 후 제거 (ex. 1, -1 이 존재하면 -1 출력)\n",
    "\n",
    "N (1 ~ 10^5)"
   ],
   "metadata": {
    "collapsed": false
   }
  },
  {
   "cell_type": "code",
   "execution_count": null,
   "outputs": [],
   "source": [
    "N = int(input())\n",
    "\n",
    "import heapq\n",
    "\n",
    "heap = []\n",
    "for _ in range(N):\n",
    "    x = int(input())\n",
    "\n",
    "    if x == 0:\n",
    "        mini = heapq.heappop(heap)\n",
    "        print(mini)\n",
    "    else:\n",
    "        heapq.heappush(heap, (abs(x), x))"
   ],
   "metadata": {
    "collapsed": false
   }
  },
  {
   "cell_type": "markdown",
   "source": [
    "### 1107 : 리모컨"
   ],
   "metadata": {
    "collapsed": false
   }
  },
  {
   "cell_type": "markdown",
   "source": [
    "버튼 0~9, +, -\n",
    "\\+ : +1 채널\n",
    "\\- : -1 채널\n",
    "\n",
    "채널 범위 : 0 ~ 무한대\n",
    "\n",
    "이동하려는 채널 N\n",
    "고장난 버튼이 주어짐\n",
    "\n",
    "N 으로 이동하기 위해 최소 몇 번의 버튼을 눌러야 하는가?\n",
    "현재 위치 : 100\n",
    "N : 0 ~ 5 * 10^5"
   ],
   "metadata": {
    "collapsed": false
   }
  },
  {
   "cell_type": "markdown",
   "source": [
    "놓친 반례 !!\n",
    "숫자 이동보다 +, - 로 이동하는 것이 더 빠를 수 있음\n",
    "\n",
    "ex)\n",
    "99\n",
    "0\n",
    "\n",
    "ex)\n",
    "102\n",
    "0"
   ],
   "metadata": {
    "collapsed": false
   }
  },
  {
   "cell_type": "code",
   "execution_count": null,
   "outputs": [],
   "source": [
    "N = int(input())\n",
    "M = int(input())  # 고장난 버튼 개수, 0 ~ 10\n",
    "\n",
    "nums = set(n for n in range(10))\n",
    "broken_buttons = set(map(int, input().split(\" \")))\n",
    "nums -= broken_buttons\n",
    "\n",
    "ans = \"\"\n",
    "if N == 100:\n",
    "    ans += \"0\" + \"\\n\"\n",
    "else:\n",
    "    N = str(N)\n",
    "    nearest = \"\"\n",
    "    for c in N:\n",
    "        # c 와 abs 가 가장 가까운 숫자를 nums 에서 찾아야 함\n",
    "        mini = 10\n",
    "        near = -1\n",
    "        for n in nums:\n",
    "            if abs(n - int(c)) < mini:\n",
    "                mini = abs(n - int(c))\n",
    "                near = n\n",
    "        nearest += str(near)\n",
    "    print(nearest)\n",
    "\n",
    "print(nums)"
   ],
   "metadata": {
    "collapsed": false,
    "pycharm": {
     "is_executing": true
    }
   }
  },
  {
   "cell_type": "code",
   "execution_count": null,
   "outputs": [],
   "source": [],
   "metadata": {
    "collapsed": false
   }
  }
 ],
 "metadata": {
  "kernelspec": {
   "display_name": "Python 3",
   "language": "python",
   "name": "python3"
  },
  "language_info": {
   "codemirror_mode": {
    "name": "ipython",
    "version": 2
   },
   "file_extension": ".py",
   "mimetype": "text/x-python",
   "name": "python",
   "nbconvert_exporter": "python",
   "pygments_lexer": "ipython2",
   "version": "2.7.6"
  }
 },
 "nbformat": 4,
 "nbformat_minor": 0
}
