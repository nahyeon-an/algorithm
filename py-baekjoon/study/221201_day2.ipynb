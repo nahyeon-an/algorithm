{
 "cells": [
  {
   "cell_type": "markdown",
   "source": [
    "## 영어 끝말잇기\n",
    "https://school.programmers.co.kr/learn/courses/30/lessons/12981"
   ],
   "metadata": {
    "collapsed": false
   }
  },
  {
   "cell_type": "markdown",
   "source": [
    "1~n 사람\n",
    "1) 1번 사람부터 단어 말함\n",
    "2) 마지막 사람 다음엔 다시 1번\n",
    "3) 앞사람 단어의 마지막 문자로 시작하는 단어 말하기\n",
    "4) 이전에 등장한 단어 금지\n",
    "5) 한 글자 단어 금지\n",
    "\n",
    "3명 예시\n",
    "tank -> kick -> know -> wheel -> land -> dream -> mother -> robot -> tank\n",
    "3번은 이전에 등장한 tank 때문에 탈락\n",
    "\n",
    "입력\n",
    "- n : 사람 수\n",
    "- words : 사람들이 순서대로 말한 단어\n",
    "\n",
    "출력\n",
    "- 가장 먼저 탈락 인간 번호\n",
    "- 몇 번째 차례에서 탈락하는지\n",
    "- 포맷 : \\[번호, 차례\\]\n",
    "\n",
    "n : 2~10\n",
    "words : 사용한 단어의 순서 배열, 길이는 n ~ 100\n",
    "단어 길이 : 2 ~ 50\n",
    "알파벳 소문자로만\n",
    "\n",
    "탈락자 없으면 0, 0 리턴"
   ],
   "metadata": {
    "collapsed": false
   }
  },
  {
   "cell_type": "code",
   "execution_count": 20,
   "outputs": [],
   "source": [
    "from collections import deque\n",
    "\n",
    "\n",
    "def solution(n, words):\n",
    "    dq = deque(words)\n",
    "\n",
    "    word_set = set()\n",
    "    last_character = ''\n",
    "    round = 1\n",
    "    person = 0\n",
    "\n",
    "    while dq:\n",
    "        word = dq.popleft()\n",
    "        person += 1\n",
    "        print(round, person, word)\n",
    "\n",
    "        # check1. 마지막 문자 같은지\n",
    "        # check2. 이미 등장했는지\n",
    "        # check3. 한 글자인지\n",
    "        if (last_character and word[0] != last_character) or (word in word_set) or (len(word) <= 1):\n",
    "            return [person, round]\n",
    "\n",
    "        last_character = word[-1]\n",
    "        word_set.add(word)\n",
    "        if person == n:\n",
    "            round += 1\n",
    "            person = 0\n",
    "\n",
    "    return [0, 0]"
   ],
   "metadata": {
    "collapsed": false
   }
  },
  {
   "cell_type": "code",
   "execution_count": 21,
   "outputs": [
    {
     "name": "stdout",
     "output_type": "stream",
     "text": [
      "1 1 hello\n",
      "1 2 observe\n",
      "1 3 effect\n",
      "1 4 take\n",
      "1 5 either\n",
      "2 1 recognize\n",
      "2 2 encourage\n",
      "2 3 ensure\n",
      "2 4 establish\n",
      "2 5 hang\n",
      "3 1 gather\n",
      "3 2 refer\n",
      "3 3 reference\n",
      "3 4 estimate\n",
      "3 5 executive\n"
     ]
    },
    {
     "data": {
      "text/plain": "[0, 0]"
     },
     "execution_count": 21,
     "metadata": {},
     "output_type": "execute_result"
    }
   ],
   "source": [
    "n = 5\n",
    "words = [\"hello\", \"observe\", \"effect\", \"take\", \"either\", \"recognize\", \"encourage\", \"ensure\", \"establish\", \"hang\", \"gather\", \"refer\", \"reference\", \"estimate\", \"executive\"]\n",
    "\n",
    "solution(n, words)"
   ],
   "metadata": {
    "collapsed": false
   }
  },
  {
   "cell_type": "code",
   "execution_count": 22,
   "outputs": [
    {
     "name": "stdout",
     "output_type": "stream",
     "text": [
      "1 1 tank\n",
      "1 2 kick\n",
      "1 3 know\n",
      "2 1 wheel\n",
      "2 2 land\n",
      "2 3 dream\n",
      "3 1 mother\n",
      "3 2 robot\n",
      "3 3 tank\n"
     ]
    },
    {
     "data": {
      "text/plain": "[3, 3]"
     },
     "execution_count": 22,
     "metadata": {},
     "output_type": "execute_result"
    }
   ],
   "source": [
    "n = 3\n",
    "words = [\"tank\", \"kick\", \"know\", \"wheel\", \"land\", \"dream\", \"mother\", \"robot\", \"tank\"]\n",
    "\n",
    "solution(n, words)"
   ],
   "metadata": {
    "collapsed": false
   }
  },
  {
   "cell_type": "code",
   "execution_count": 23,
   "outputs": [
    {
     "name": "stdout",
     "output_type": "stream",
     "text": [
      "1 1 hello\n",
      "1 2 one\n",
      "2 1 even\n",
      "2 2 never\n",
      "3 1 now\n"
     ]
    },
    {
     "data": {
      "text/plain": "[1, 3]"
     },
     "execution_count": 23,
     "metadata": {},
     "output_type": "execute_result"
    }
   ],
   "source": [
    "n = 2\n",
    "words = [\"hello\", \"one\", \"even\", \"never\", \"now\", \"world\", \"draw\"]\n",
    "\n",
    "solution(n, words)"
   ],
   "metadata": {
    "collapsed": false
   }
  },
  {
   "cell_type": "markdown",
   "source": [
    "## 방문 길이\n",
    "https://school.programmers.co.kr/learn/courses/30/lessons/49994"
   ],
   "metadata": {
    "collapsed": false
   }
  },
  {
   "cell_type": "markdown",
   "source": [
    "4개의 명령어\n",
    "U : 위쪽으로 한 칸\n",
    "D : 아래쪽으로 한 칸\n",
    "R : 오른쪽으로 한 칸\n",
    "L : 왼쪽으로 한 칸\n",
    "\n",
    "(0,0) 에서 시작\n",
    "좌표평면\n",
    "- 왼쪽 위 : (-5, 5)\n",
    "- 왼쪽 아래 : (-5, -5)\n",
    "- 오른쪽 위 : (5, 5)\n",
    "- 오른쪽 아래 : (5, -5)\n",
    "\n",
    "입력\n",
    "\n",
    "출력 : 캐릭터가 처음 걸어본 길의 길이"
   ],
   "metadata": {
    "collapsed": false
   }
  },
  {
   "cell_type": "code",
   "execution_count": 31,
   "outputs": [],
   "source": [
    "def solution(dirs):\n",
    "    visit = set()\n",
    "    x, y = 0, 0\n",
    "\n",
    "    for dir in dirs:\n",
    "        nx, ny = 0, 0\n",
    "        if dir == 'U':\n",
    "            nx, ny = x, y + 1\n",
    "        if dir == 'D':\n",
    "            nx, ny = x, y - 1\n",
    "        if dir == 'R':\n",
    "            nx, ny = x + 1, y\n",
    "        if dir == 'L':\n",
    "            nx, ny = x - 1, y\n",
    "\n",
    "        if nx < -5 or nx > 5 or ny < -5 or ny > 5:\n",
    "            continue\n",
    "\n",
    "        visit.add((x, y, nx, ny))\n",
    "        visit.add((nx, ny, x, y))\n",
    "        x, y = nx, ny\n",
    "\n",
    "    print(visit)\n",
    "    return len(visit) // 2"
   ],
   "metadata": {
    "collapsed": false
   }
  },
  {
   "cell_type": "code",
   "execution_count": 32,
   "outputs": [
    {
     "name": "stdout",
     "output_type": "stream",
     "text": [
      "{(1, 1, 0, 1), (-1, 1, 0, 1), (0, 2, -1, 2), (-1, 1, -1, 2), (0, 0, 0, 1), (1, 2, 1, 1), (-1, 2, -1, 1), (0, 1, 1, 1), (0, 1, 0, 0), (0, 1, -1, 1), (0, 2, 1, 2), (1, 1, 1, 2), (-1, 2, 0, 2), (1, 2, 0, 2)}\n"
     ]
    },
    {
     "data": {
      "text/plain": "7"
     },
     "execution_count": 32,
     "metadata": {},
     "output_type": "execute_result"
    }
   ],
   "source": [
    "dirs = \"ULURRDLLU\"\n",
    "solution(dirs)"
   ],
   "metadata": {
    "collapsed": false
   }
  },
  {
   "cell_type": "code",
   "execution_count": 33,
   "outputs": [
    {
     "name": "stdout",
     "output_type": "stream",
     "text": [
      "{(-1, 0, 0, 0), (-3, 1, -2, 1), (-1, 1, -2, 1), (-2, 1, -1, 1), (-4, 1, -3, 1), (-4, 1, -5, 1), (-5, 2, -5, 1), (-2, 1, -3, 1), (0, 0, -1, 0), (-5, 1, -4, 1), (-5, 1, -5, 2), (-1, 0, -1, 1), (-3, 1, -4, 1), (-1, 1, -1, 0)}\n"
     ]
    },
    {
     "data": {
      "text/plain": "7"
     },
     "execution_count": 33,
     "metadata": {},
     "output_type": "execute_result"
    }
   ],
   "source": [
    "dirs = \"LULLLLLLU\"\n",
    "solution(dirs)"
   ],
   "metadata": {
    "collapsed": false
   }
  },
  {
   "cell_type": "code",
   "execution_count": null,
   "outputs": [],
   "source": [],
   "metadata": {
    "collapsed": false
   }
  }
 ],
 "metadata": {
  "kernelspec": {
   "display_name": "Python 3",
   "language": "python",
   "name": "python3"
  },
  "language_info": {
   "codemirror_mode": {
    "name": "ipython",
    "version": 2
   },
   "file_extension": ".py",
   "mimetype": "text/x-python",
   "name": "python",
   "nbconvert_exporter": "python",
   "pygments_lexer": "ipython2",
   "version": "2.7.6"
  }
 },
 "nbformat": 4,
 "nbformat_minor": 0
}
