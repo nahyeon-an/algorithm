{
 "cells": [
  {
   "cell_type": "markdown",
   "metadata": {},
   "source": [
    "### 풀이1"
   ]
  },
  {
   "cell_type": "code",
   "execution_count": 1,
   "metadata": {},
   "outputs": [],
   "source": [
    "import sys"
   ]
  },
  {
   "cell_type": "code",
   "execution_count": 9,
   "metadata": {},
   "outputs": [
    {
     "name": "stdin",
     "output_type": "stream",
     "text": [
      " 1\n",
      " 15\n",
      " 1 21 3 4 5 35 5 4 3 5 98 21 14 17 32\n"
     ]
    },
    {
     "name": "stdout",
     "output_type": "stream",
     "text": [
      "864\n",
      "[0, 0, 0, 0, 0, 0, 0, 0, 0, 0, 0, 0, 0, 0, 0, 0]\n",
      "[0, 0, 22, 47, 58, 75, 144, 189, 206, 222, 247, 431, 571, 634, 716, 864]\n",
      "[0, 0, 0, 24, 35, 52, 120, 165, 182, 198, 223, 406, 546, 609, 691, 839]\n",
      "[0, 0, 0, 0, 7, 19, 66, 111, 128, 144, 164, 326, 466, 529, 611, 739]\n",
      "[0, 0, 0, 0, 0, 9, 53, 98, 115, 128, 148, 307, 447, 510, 592, 717]\n",
      "[0, 0, 0, 0, 0, 0, 40, 85, 98, 111, 131, 286, 426, 489, 571, 692]\n",
      "[0, 0, 0, 0, 0, 0, 0, 40, 53, 66, 86, 236, 376, 439, 521, 637]\n",
      "[0, 0, 0, 0, 0, 0, 0, 0, 9, 19, 34, 149, 285, 334, 399, 515]\n",
      "[0, 0, 0, 0, 0, 0, 0, 0, 0, 7, 19, 129, 260, 309, 374, 490]\n",
      "[0, 0, 0, 0, 0, 0, 0, 0, 0, 0, 8, 114, 241, 290, 355, 471]\n",
      "[0, 0, 0, 0, 0, 0, 0, 0, 0, 0, 0, 103, 227, 276, 341, 457]\n",
      "[0, 0, 0, 0, 0, 0, 0, 0, 0, 0, 0, 0, 119, 168, 233, 349]\n",
      "[0, 0, 0, 0, 0, 0, 0, 0, 0, 0, 0, 0, 0, 35, 83, 167]\n",
      "[0, 0, 0, 0, 0, 0, 0, 0, 0, 0, 0, 0, 0, 0, 31, 94]\n",
      "[0, 0, 0, 0, 0, 0, 0, 0, 0, 0, 0, 0, 0, 0, 0, 49]\n",
      "[0, 0, 0, 0, 0, 0, 0, 0, 0, 0, 0, 0, 0, 0, 0, 0]\n"
     ]
    }
   ],
   "source": [
    "# t = int(sys.stdin.readline().strip())\n",
    "t = int(input())\n",
    "\n",
    "inf = 50000005\n",
    "while t > 0:\n",
    "#     k = int(sys.stdin.readline())\n",
    "    k = int(input())\n",
    "    \n",
    "#     cost = [0] + list(map(int, sys.stdin.readline().split()))\n",
    "    cost = [0] + list(map(int, input().split()))\n",
    "    tot = [0] * (k+1)\n",
    "    for i in range(1, k+1):\n",
    "        tot[i] = tot[i-1] + cost[i]\n",
    "        \n",
    "    dp = [[0] * (k+1) for _ in range(k+1)] \n",
    "        \n",
    "    for d in range(1, k):\n",
    "        for st in range(1, k - d + 1):\n",
    "            end = st + d\n",
    "            dp[st][end] = inf\n",
    "            \n",
    "            for mid in range(st, end):\n",
    "                dp[st][end] = min(dp[st][end], \n",
    "                                 dp[st][mid] + dp[mid+1][end] +\\\n",
    "                                 tot[end] - tot[st - 1])\n",
    "    print( dp[1][k] )\n",
    "    \n",
    "    t -= 1"
   ]
  },
  {
   "cell_type": "markdown",
   "metadata": {},
   "source": [
    "### 풀이3 (최적화)"
   ]
  },
  {
   "cell_type": "code",
   "execution_count": null,
   "metadata": {},
   "outputs": [],
   "source": [
    "t = int(input())\n",
    "\n",
    "inf = 50000005\n",
    "while t > 0:\n",
    "    k = int(input())\n",
    "    \n",
    "    cost = [0] + list(map(int, input().split()))\n",
    "    tot = [0] * (k+1)\n",
    "    for i in range(1, k+1):\n",
    "        tot[i] = tot[i-1] + cost[i]\n",
    "        \n",
    "    dp = [[0] * (k+1) for _ in range(k+1)] \n",
    "        \n",
    "    for d in range(1, k):\n",
    "        for st in range(1, k - d + 1):\n",
    "            end = st + d\n",
    "            dp[st][end] = inf\n",
    "            \n",
    "            for mid in range(st, end):\n",
    "                dp[st][end] = min(dp[st][end], \n",
    "                                 dp[st][mid] + dp[mid+1][end] +\\\n",
    "                                 tot[end] - tot[st - 1])\n",
    "    print( dp[1][k] )\n",
    "    \n",
    "    t -= 1"
   ]
  },
  {
   "cell_type": "code",
   "execution_count": null,
   "metadata": {},
   "outputs": [],
   "source": [
    "for (scanf(\"%d\", &T); T--;) {\n",
    "        scanf(\"%d\", &N);\n",
    "        for (int i = 1; i <= N; i++)\n",
    "            scanf(\"%d\", &novel[i]), psum[i] = psum[i - 1] + novel[i];\n",
    "    \n",
    "        for (int i = 1; i <= N; i++)\n",
    "            num[i - 1][i] = i;\n",
    "        for (int d = 2; d <= N; d++) {\n",
    "            for (int i = 0; i + d <= N; i++) {\n",
    "                int j = i + d;\n",
    "                dp2[i][j] = 2e9;\n",
    "                for (int k = num[i][j - 1]; k <= num[i + 1][j]; k++) {\n",
    "                    \n",
    "                    int v = dp2[i][k] + dp2[k][j] + psum[j] - psum[i];\n",
    "                    if (dp2[i][j] > v)\n",
    "                        dp2[i][j] = v, num[i][j] = k;\n",
    "                }\n",
    "            }\n",
    "        }\n",
    "        printf(\"%d\\n\", dp2[0][N]);\n",
    "    }\n",
    "    return 0;"
   ]
  }
 ],
 "metadata": {
  "kernelspec": {
   "display_name": "Python 3",
   "language": "python",
   "name": "python3"
  },
  "language_info": {
   "codemirror_mode": {
    "name": "ipython",
    "version": 3
   },
   "file_extension": ".py",
   "mimetype": "text/x-python",
   "name": "python",
   "nbconvert_exporter": "python",
   "pygments_lexer": "ipython3",
   "version": "3.7.6"
  }
 },
 "nbformat": 4,
 "nbformat_minor": 4
}
