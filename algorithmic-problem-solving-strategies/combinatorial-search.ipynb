{
 "cells": [
  {
   "cell_type": "markdown",
   "metadata": {},
   "source": [
    "# 조합탐색\n",
    "ch. 11"
   ]
  },
  {
   "cell_type": "markdown",
   "metadata": {},
   "source": [
    "### 11.3 게임판 덮기 2\n",
    "\n",
    "게임판의 크기  \n",
    "블록의 모양 크기  \n",
    "게임판 정보  \n",
    "\n",
    "\\# : 검은색  \n",
    ". : 흰색  \n",
    "\n",
    "출력 : 놓을 수 있는 최대 블록 수"
   ]
  },
  {
   "cell_type": "code",
   "execution_count": null,
   "metadata": {},
   "outputs": [],
   "source": [
    "rotations = []\n",
    "\n",
    "def rotate(arr):\n",
    "    ret( len(arr[0]), str(len(arr)) )\n",
    "    for i in range(0, len(arr)):\n",
    "        for j in range(0, len(arr[0])):\n",
    "            ret[j][len(arr)-i-1] = arr[i][j]\n",
    "    return ret\n",
    "\n",
    "def generate(block):\n",
    "    global rotations = []\n",
    "    for rot in range(4):\n",
    "        originY = -1\n",
    "        originX = -1\n",
    "        for i in range(len(block)):\n",
    "            for j in range(len(block[i])):\n",
    "                if(block[i][j] == '#'):\n",
    "                    if originY == -1:\n",
    "                        originY = i\n",
    "                        originX = j\n",
    "                    rotations[rot].append([i-originY, j-originX])\n",
    "\n",
    "def solution(block):\n",
    "    return\n",
    "\n",
    "# 3\n",
    "H, W = 4, 7\n",
    "board = [\"##.##.. #...... #....## #..####\"]\n",
    "R, C = 2, 3\n",
    "block = [\"### #..\"]\n",
    "\n",
    "# 8\n",
    "H, W = 5, 10\n",
    "board = [\".......... .......... .......... .......... ..........\"]\n",
    "R, C = 3, 3\n",
    "block = [\".#. ### ..#\"]"
   ]
  },
  {
   "cell_type": "code",
   "execution_count": null,
   "metadata": {},
   "outputs": [],
   "source": []
  },
  {
   "cell_type": "code",
   "execution_count": null,
   "metadata": {},
   "outputs": [],
   "source": []
  },
  {
   "cell_type": "code",
   "execution_count": null,
   "metadata": {},
   "outputs": [],
   "source": []
  },
  {
   "cell_type": "code",
   "execution_count": null,
   "metadata": {},
   "outputs": [],
   "source": []
  },
  {
   "cell_type": "code",
   "execution_count": null,
   "metadata": {},
   "outputs": [],
   "source": []
  },
  {
   "cell_type": "code",
   "execution_count": null,
   "metadata": {},
   "outputs": [],
   "source": []
  }
 ],
 "metadata": {
  "kernelspec": {
   "display_name": "Python 3",
   "language": "python",
   "name": "python3"
  },
  "language_info": {
   "codemirror_mode": {
    "name": "ipython",
    "version": 3
   },
   "file_extension": ".py",
   "mimetype": "text/x-python",
   "name": "python",
   "nbconvert_exporter": "python",
   "pygments_lexer": "ipython3",
   "version": "3.7.6"
  }
 },
 "nbformat": 4,
 "nbformat_minor": 4
}
