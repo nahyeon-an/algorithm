{
 "cells": [
  {
   "cell_type": "markdown",
   "metadata": {},
   "source": [
    "# DFS (깊이 우선 탐색)\n",
    "\n",
    "chapter 28"
   ]
  },
  {
   "cell_type": "code",
   "execution_count": 28,
   "metadata": {},
   "outputs": [
    {
     "name": "stdout",
     "output_type": "stream",
     "text": [
      "abcdefhlkgijmnopqrstuvwxyz\n"
     ]
    }
   ],
   "source": [
    "# 문제 28.2 : 고대어 사전\n",
    "# 알파벳의 상대적인 순서를 계산\n",
    "def makeGraph(words):\n",
    "    adj = [[0 for _ in range(26)] for _ in range(26)]\n",
    "    for j in range(1, len(words)):\n",
    "        i = j-1\n",
    "        l = min(len(words[i]), len(words[j]))\n",
    "        for k in range(l):\n",
    "            if words[i][k] != words[j][k]:\n",
    "                a = ord(words[i][k]) - ord('a')\n",
    "                b = ord(words[j][k]) - ord('a')\n",
    "                adj[a][b] = 1\n",
    "                break\n",
    "    return adj\n",
    "                \n",
    "g = makeGraph(['gg', 'kia', 'lotte', 'lg', 'hanwha'])\n",
    "# g = makeGraph(['ba', 'aa', 'ab'])\n",
    "# g = makeGraph(['dictionary', 'english', 'is', 'ordered', 'ordinary', 'this'])\n",
    "\n",
    "seen = [0 for _ in range(26)]\n",
    "order = []\n",
    "def dfs(here):\n",
    "    global seen, g, order\n",
    "    \n",
    "    seen[here] = 1\n",
    "    for there in range(len(g)):\n",
    "        if g[here][there] and (not seen[there]):\n",
    "            dfs(there)\n",
    "    order.append(here)\n",
    "    \n",
    "def topological_sort():\n",
    "    global g, seen, order\n",
    "    \n",
    "    m = len(g)\n",
    "    seen = [0 for _ in range(m)]\n",
    "    order = []\n",
    "    for i in range(m):\n",
    "        if not seen[i]:\n",
    "            dfs(i)\n",
    "            \n",
    "    order = order[::-1]\n",
    "    for i in range(m):\n",
    "        for j in range(i+1, m):\n",
    "            if g[order[j]][order[i]]:\n",
    "                return []\n",
    "    return order\n",
    "    \n",
    "o = topological_sort()\n",
    "# print(o)\n",
    "# print(type(o[0]))\n",
    "o = o[::-1]\n",
    "print(\"\".join(list(map(lambda x: chr(x+ord('a')), o))))\n"
   ]
  },
  {
   "cell_type": "code",
   "execution_count": null,
   "metadata": {},
   "outputs": [],
   "source": []
  },
  {
   "cell_type": "code",
   "execution_count": null,
   "metadata": {},
   "outputs": [],
   "source": []
  },
  {
   "cell_type": "code",
   "execution_count": null,
   "metadata": {},
   "outputs": [],
   "source": []
  }
 ],
 "metadata": {
  "kernelspec": {
   "display_name": "Python 3",
   "language": "python",
   "name": "python3"
  },
  "language_info": {
   "codemirror_mode": {
    "name": "ipython",
    "version": 3
   },
   "file_extension": ".py",
   "mimetype": "text/x-python",
   "name": "python",
   "nbconvert_exporter": "python",
   "pygments_lexer": "ipython3",
   "version": "3.7.6"
  }
 },
 "nbformat": 4,
 "nbformat_minor": 4
}
