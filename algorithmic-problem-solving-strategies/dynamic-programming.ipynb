{
 "cells": [
  {
   "cell_type": "markdown",
   "metadata": {},
   "source": [
    "# 동적 계획법 (Dynamic Programming)\n",
    "ch. 08 - 09  "
   ]
  },
  {
   "cell_type": "code",
   "execution_count": 1,
   "metadata": {},
   "outputs": [
    {
     "name": "stdout",
     "output_type": "stream",
     "text": [
      "3\n"
     ]
    }
   ],
   "source": [
    "# 재귀 호출을 이용한 이항 계수 계산\n",
    "def bino(n, r):\n",
    "    if r == 0 or n == r:\n",
    "        return 1\n",
    "    return bino(n-1, r-1) + bino(n-1, r)\n",
    "\n",
    "print(bino(3,2))"
   ]
  },
  {
   "cell_type": "code",
   "execution_count": 5,
   "metadata": {},
   "outputs": [
    {
     "name": "stdout",
     "output_type": "stream",
     "text": [
      "153\n"
     ]
    }
   ],
   "source": [
    "# 메모이제이션을 이용한 이항 계수 계산\n",
    "def bino2(n, r):\n",
    "    memo = [[-1 for _ in range(r+1)] for _ in range(n+1)]\n",
    "    if r == 0 or r == n:\n",
    "        return 1\n",
    "    if memo[n][r] != -1:\n",
    "        return memo[n][r]\n",
    "    memo[n][r] = bino2(n-1, r-1) + bino2(n-1, r)\n",
    "    return memo[n][r]\n",
    "\n",
    "print(bino2(18,2))"
   ]
  },
  {
   "cell_type": "markdown",
   "metadata": {},
   "source": [
    "3 테스트 케이스의 수  \n",
    "he?p 와일드카드 패턴  \n",
    "3       파일명의 수  \n",
    "help      n줄에 파일명  \n",
    "heap  \n",
    "helpp  \n",
    "\\*p\\*  \n",
    "3       파일명의 수  \n",
    "help  \n",
    "papa  \n",
    "hello  \n",
    "\\*bb\\*  \n",
    "1        파일명의 수  \n",
    "babbbc  "
   ]
  },
  {
   "cell_type": "code",
   "execution_count": 2,
   "metadata": {},
   "outputs": [
    {
     "name": "stdout",
     "output_type": "stream",
     "text": [
      "True\n",
      "True\n",
      "False\n"
     ]
    }
   ],
   "source": [
    "# 8.6 와일드 카드\n",
    "def match(w, s):\n",
    "    pos = 0\n",
    "    while (pos<len(s)) and (pos<len(w)) and \\\n",
    "    (w[pos]=='?' or w[pos]==s[pos]):\n",
    "        pos += 1\n",
    "        \n",
    "    if pos == len(w):\n",
    "        return pos==len(s)\n",
    "    \n",
    "    if w[pos] == '*':\n",
    "        for skip in range(len(s)-pos+1):\n",
    "            if match(w[pos+1:], s[pos+skip:]):\n",
    "                return True\n",
    "    return False\n",
    "\n",
    "print(match('he?p', 'help'))\n",
    "print(match('he?p', 'heap'))\n",
    "print(match('he?p', 'helpp'))"
   ]
  },
  {
   "cell_type": "code",
   "execution_count": 74,
   "metadata": {},
   "outputs": [
    {
     "name": "stdout",
     "output_type": "stream",
     "text": [
      "False\n"
     ]
    }
   ],
   "source": [
    "# 8.7 와일드카드 (DP)\n",
    "# 캐시는 어떻게 초기화하는거지..?\n",
    "cache = [ [-1 for _ in range(101)] for _ in range(101) ]\n",
    "\n",
    "W = 'he?p'\n",
    "S = 'helpp' # heap, helpp\n",
    "def match(w, s):\n",
    "    ret = cache[w][s]\n",
    "    if ret != -1:\n",
    "        return ret\n",
    "    \n",
    "    while (s<len(S)) and (w<len(W)) and \\\n",
    "    (W[w]=='?' or W[w]==S[s]):\n",
    "        return match(w+1, s+1)\n",
    "        \n",
    "    if w == len(W):\n",
    "        cache[w][s] = (s==len(S))\n",
    "        return s==len(S)\n",
    "    \n",
    "    if W[w] == '*':\n",
    "        if match(w+1, s) or (s<len(S) and match(w,s+1)):\n",
    "            cache[w][s] = 1\n",
    "            return True\n",
    "        \n",
    "    cache[w][s] = 0\n",
    "    return False\n",
    "\n",
    "print(match(0, 0))"
   ]
  },
  {
   "cell_type": "code",
   "execution_count": 24,
   "metadata": {},
   "outputs": [
    {
     "name": "stdout",
     "output_type": "stream",
     "text": [
      "5\n",
      "6\n",
      "5\n"
     ]
    }
   ],
   "source": [
    "# 문제 8.5 합친 LIS\n",
    "import sys\n",
    "neginf = - sys.maxsize + 1\n",
    "\n",
    "def jlis(idx_a, idx_b):\n",
    "    global A, B, n, m\n",
    "    ret = cache[idx_a+1][idx_b+1]\n",
    "    \n",
    "    if ret != -1:\n",
    "        return ret\n",
    "    \n",
    "    ret = 2\n",
    "    if idx_a == -1:\n",
    "        a = neginf\n",
    "    else:\n",
    "        a = A[idx_a]\n",
    "        \n",
    "    if idx_b == -1:\n",
    "        b = neginf\n",
    "    else:\n",
    "        b = B[idx_b]\n",
    "        \n",
    "    max_element = max(a,b)\n",
    "    \n",
    "    for next_a in range(idx_a+1, n):\n",
    "        if max_element < A[next_a]:\n",
    "            ret = max(ret, jlis(next_a, idx_b)+1)\n",
    "            \n",
    "    for next_b in range(idx_b+1, m):\n",
    "        if max_element < B[next_b]:\n",
    "            ret = max(ret, jlis(idx_a, next_b)+1)\n",
    "    \n",
    "    cache[idx_a][idx_b] = ret\n",
    "    return ret\n",
    "\n",
    "n = 3\n",
    "m = 3\n",
    "A = [1,2,4]\n",
    "B = [3,4,7]\n",
    "cache = [ [-1 for _ in range(101)] for _ in range(101) ]\n",
    "print(jlis(-1,-1)-2)\n",
    "\n",
    "n = 3\n",
    "m = 3\n",
    "A = [1,2,3]\n",
    "B = [4,5,6]\n",
    "cache = [ [-1 for _ in range(101)] for _ in range(101) ]\n",
    "print(jlis(-1,-1)-2)\n",
    "\n",
    "n = 5\n",
    "m = 3\n",
    "A = [10,20,30,1,2]\n",
    "B = [10,20,30]\n",
    "cache = [ [-1 for _ in range(101)] for _ in range(101) ]\n",
    "print(jlis(-1,-1)-2)"
   ]
  },
  {
   "cell_type": "code",
   "execution_count": 27,
   "metadata": {},
   "outputs": [
    {
     "name": "stdout",
     "output_type": "stream",
     "text": [
      "2\n",
      "0\n",
      "2\n",
      "913227494\n"
     ]
    }
   ],
   "source": [
    "# 문제 8.12 비대칭 타일링\n",
    "mod = 1000000007\n",
    "\n",
    "def tiling(width):\n",
    "    if width <= 1:\n",
    "        return 1\n",
    "    ret = cache[width]\n",
    "    if ret != -1:\n",
    "        return ret\n",
    "    ret = (tiling(width-2) + tiling(width-1)) % mod\n",
    "    cache[width] = ret\n",
    "    return ret\n",
    "\n",
    "def asymmetric(width):\n",
    "    global mod\n",
    "    if width % 2 == 1: # 홀수\n",
    "        return (tiling(width) - tiling(width//2) + mod) % mod\n",
    "    ret = tiling(width)\n",
    "    ret = (ret - tiling(width//2) + mod) % mod # 절반이 대칭\n",
    "    ret = (ret - tiling(width//2-1) + mod) % mod # 가운데 세로줄을 가로 타일이 덮는 경우\n",
    "    return ret\n",
    "\n",
    "n = [3, 2, 4, 92]\n",
    "for i in n:\n",
    "    cache = [-1 for _ in range(101)]\n",
    "    print(asymmetric(i))"
   ]
  },
  {
   "cell_type": "code",
   "execution_count": 29,
   "metadata": {},
   "outputs": [
    {
     "name": "stdout",
     "output_type": "stream",
     "text": [
      "2\n",
      "0\n",
      "2\n",
      "913227494\n"
     ]
    }
   ],
   "source": [
    "# 비대칭 타일 수를 세는 방법\n",
    "mod = 1000000007\n",
    "\n",
    "def asymmetric2(width):\n",
    "    if width <= 2:\n",
    "        return 0\n",
    "    \n",
    "    ret = cache2[width]\n",
    "    if ret != -1:\n",
    "        return ret\n",
    "    \n",
    "    ret = asymmetric2(width-2) % mod\n",
    "    ret = (ret + asymmetric2(width-4)) % mod\n",
    "    ret = (ret + tiling(width-3)) % mod\n",
    "    ret = (ret + tiling(width-3)) % mod\n",
    "    cache2[width] = ret\n",
    "    return ret\n",
    "\n",
    "n = [3, 2, 4, 92]\n",
    "for i in n:\n",
    "    cache2 = [-1 for _ in range(101)]\n",
    "    print(asymmetric2(i))"
   ]
  },
  {
   "cell_type": "code",
   "execution_count": 36,
   "metadata": {},
   "outputs": [
    {
     "name": "stdout",
     "output_type": "stream",
     "text": [
      "2\n",
      "19\n",
      "4841817\n"
     ]
    }
   ],
   "source": [
    "# 문제 8.14 폴리오미노\n",
    "mod = 10 * 1000 * 1000\n",
    "\n",
    "def poly(n, first):\n",
    "    if n == first:\n",
    "        return 1\n",
    "    \n",
    "    ret = cache[n][first]\n",
    "    \n",
    "    if ret != -1:\n",
    "        return ret\n",
    "    \n",
    "    ret = 0\n",
    "    for second in range(1, n-first+1):\n",
    "        add = second + first -1\n",
    "        add *= poly(n-first, second)\n",
    "        add %= mod\n",
    "        ret += add\n",
    "        ret %= mod\n",
    "\n",
    "    cache[n][first] = ret\n",
    "    return ret\n",
    "\n",
    "num = [2, 4, 92]\n",
    "for n in num:\n",
    "    cache = [[-1 for _ in range(100)] for _ in range(100)]\n",
    "    answer = 0\n",
    "    for i in range(1, n+1):\n",
    "        answer += poly(n, i)\n",
    "    print(answer % mod)"
   ]
  },
  {
   "cell_type": "code",
   "execution_count": 41,
   "metadata": {},
   "outputs": [
    {
     "name": "stdout",
     "output_type": "stream",
     "text": [
      "24\n",
      "['laptop', 'camera', 'grinder']\n",
      "30\n",
      "['laptop', 'camera', 'xbox', 'grinder']\n"
     ]
    }
   ],
   "source": [
    "# 문제 9.2 여행 짐 싸기\n",
    "# W 보다는 capacity가 작으면서\n",
    "# 절박도는 최대가 되도록 아이템 담기\n",
    "def pack(capacity, item):\n",
    "    if item == N:\n",
    "        return 0\n",
    "    \n",
    "    ret = cache[capacity][item]\n",
    "    \n",
    "    if ret != -1:\n",
    "        return ret\n",
    "    \n",
    "    ret = pack(capacity, item+1)\n",
    "    \n",
    "    if capacity >= volume[item]:\n",
    "        ret = max(ret, pack(capacity-volume[item], item+1)+need[item])\n",
    "        \n",
    "    cache[capacity][item] = ret\n",
    "    \n",
    "    return ret # 최대 절박도\n",
    "\n",
    "def reconstruct(capacity, item, picked):\n",
    "    if item == N:\n",
    "        return\n",
    "    \n",
    "    if pack(capacity, item) == pack(capacity, item+1):\n",
    "        reconstruct(capacity, item+1, picked)\n",
    "    else:\n",
    "        picked.append(name[item])\n",
    "        reconstruct(capacity-volume[item], item+1, picked)\n",
    "\n",
    "# testcase 1\n",
    "N, W = 6, 10\n",
    "info = list()\n",
    "info.append([\"laptop\", 4, 7])\n",
    "info.append([\"camera\", 2, 10])\n",
    "info.append([\"xbox\", 6, 6])\n",
    "info.append([\"grinder\", 4, 7])\n",
    "info.append([\"dumbell\", 2, 5])\n",
    "info.append([\"encyclopedia\", 10, 4])\n",
    "name = [x[0] for x in info]\n",
    "volume = [x[1] for x in info]\n",
    "need = [x[2] for x in info]\n",
    "cache = [[-1 for _ in range(101)] for _ in range(101)]\n",
    "picked = []\n",
    "print(pack(W, 0))\n",
    "reconstruct(W, 0, picked)\n",
    "print(picked)\n",
    "# testcase 2\n",
    "N, W = 6, 17\n",
    "info = list()\n",
    "info.append([\"laptop\", 4, 7])\n",
    "info.append([\"camera\", 2, 10])\n",
    "info.append([\"xbox\", 6, 6])\n",
    "info.append([\"grinder\", 4, 7])\n",
    "info.append([\"dumbell\", 2, 5])\n",
    "info.append([\"encyclopedia\", 10, 4])\n",
    "name = [x[0] for x in info]\n",
    "volume = [x[1] for x in info]\n",
    "need = [x[2] for x in info]\n",
    "cache = [[-1 for _ in range(101)] for _ in range(101)]\n",
    "picked = []\n",
    "print(pack(W, 0))\n",
    "reconstruct(W, 0, picked)\n",
    "print(picked)"
   ]
  },
  {
   "cell_type": "code",
   "execution_count": 50,
   "metadata": {},
   "outputs": [
    {
     "name": "stdout",
     "output_type": "stream",
     "text": [
      "(0, 1, 2)\n",
      "FX\n",
      "(1, 1, 5)\n",
      "FX+YF\n",
      "(2, 6, 5)\n",
      "+FX-Y\n"
     ]
    }
   ],
   "source": [
    "# 문제 9.9 드래곤 커브\n",
    "import sys\n",
    "def curve(seed, generations, ret):\n",
    "    if generations == 0:\n",
    "        ret.append(seed)\n",
    "        return;\n",
    "\n",
    "    for i in range(0, len(seed)):\n",
    "        if seed[i] == 'X':\n",
    "            curve(\"X+YF\", generations-1, ret)\n",
    "        elif seed[i] == 'Y':\n",
    "            curve(\"FX-Y\", generations-1, ret)\n",
    "        else:\n",
    "            ret.append(seed[i])\n",
    "\n",
    "# 42, 764853475, 30 은 이거로는 너무 오래 걸려서 못 풂\n",
    "# 아래 dp로 해야하는데 아래 것이 이상하다..\n",
    "n = [0, 1, 2]\n",
    "p = [1, 1, 6]\n",
    "l = [2, 5, 5]\n",
    "\n",
    "ret = []\n",
    "\n",
    "for e in zip(n,p,l):\n",
    "    ret = []\n",
    "    curve(\"FX\", e[0], ret)\n",
    "    s = \"\".join(ret)\n",
    "    print(e)\n",
    "    print(s[e[1]-1:e[1]+e[2]-1])"
   ]
  },
  {
   "cell_type": "code",
   "execution_count": 4,
   "metadata": {},
   "outputs": [
    {
     "name": "stdout",
     "output_type": "stream",
     "text": [
      "FX\n",
      "FX+**\n",
      "XF***\n",
      "++FXF+FX+-FXF-FX++FXF-FX+-FXF+\n"
     ]
    }
   ],
   "source": [
    "# 답 출력이 제대로 안 됨\n",
    "import sys\n",
    "\n",
    "def precalc():\n",
    "    length[0] = 1\n",
    "    for i in range(51):\n",
    "        length[i] = min(max_val, length[i-1]*2 + 2)\n",
    "\n",
    "def expand(dragonCurve, generations, skip):\n",
    "    if generations == 0:\n",
    "        return dragonCurve[skip]\n",
    "    \n",
    "    for i in range(len(dragonCurve)):\n",
    "        if (dragonCurve[i]=='X') or (dragonCurve[i] == 'Y'):\n",
    "            if skip >= length[generations] :\n",
    "                skip -= length[generations]\n",
    "            elif dragonCurve[i] == 'X':\n",
    "                return expand(\"X+YF\", generations-1, skip)\n",
    "            else:\n",
    "                return expand(\"FX-Y\", generations-1, skip)\n",
    "        elif skip > 0:\n",
    "            skip -= 1\n",
    "        else:\n",
    "            return dragonCurve[i]\n",
    "        \n",
    "n = [0, 1, 2, 42]\n",
    "p = [1, 1, 6, 764853475]\n",
    "l = [2, 5, 5, 30]\n",
    "max_val = sys.maxsize\n",
    "length = [ -1 for _ in range(51)]\n",
    "\n",
    "precalc()\n",
    "for e in zip(n, p, l):\n",
    "    answer = \"\"\n",
    "    for i in range(e[2]):\n",
    "        if expand(\"FX\", e[0], e[1]+i-1) is None:\n",
    "            answer += '*'\n",
    "            continue\n",
    "        answer += expand(\"FX\", e[0], e[1]+i-1)\n",
    "    print(answer)"
   ]
  },
  {
   "cell_type": "code",
   "execution_count": 14,
   "metadata": {},
   "outputs": [
    {
     "name": "stdout",
     "output_type": "stream",
     "text": [
      "0\n",
      "7\n",
      "\n"
     ]
    }
   ],
   "source": [
    "# 문제 9.14 실험 데이터 복구하기\n",
    "# 흠.. 모르겠다\n",
    "N = 15\n",
    "\n",
    "def restore(last, used):\n",
    "    if used == (1<<k)-1:\n",
    "        return 0\n",
    "    \n",
    "    ret = cache[last][used]\n",
    "    \n",
    "    if ret != -1:\n",
    "        return ret\n",
    "    \n",
    "    ret = 0\n",
    "    for nex in range(k):\n",
    "        if (used & (1<<nex)) == 0:\n",
    "            cand = overlap[last][nex] + restore(nex, used + (1<<nex)) \n",
    "            ret = max(ret, cand)\n",
    "    \n",
    "    cache[last][used] = ret\n",
    "    return ret\n",
    "\n",
    "def reconstruct(last, used):\n",
    "    if used == (1<<k)-1:\n",
    "        print(used)\n",
    "        return \"\"\n",
    "    for nex in range(k):\n",
    "        if used & (1<<nex):\n",
    "            continue\n",
    "        ifUsed = restore(nex, used + (1<<nex) + overlap[last][nex])\n",
    "        if restore(last, used) == ifUsed:\n",
    "            return words[nex][:overlap[last][nex]] + reconstruct(nex, used + (1<<nex))\n",
    "    return \"oops!\"\n",
    "\n",
    "k = 3\n",
    "words = [\"geo\", \"oji\", \"jing\"] # geojing\n",
    "cache = [[-1 for _ in range(1<<N)] for _ in range(N)]\n",
    "overlap = [[0 for _ in range(N)] for _ in range(N)]\n",
    "print(restore(0,0))\n",
    "print(reconstruct(0,0))\n",
    "\n",
    "k = 2\n",
    "words = [\"world\", \"hello\"] # helloworld\n",
    "\n",
    "k = 3\n",
    "words = [\"abrac\", \"cadabra\", \"dabr\"] # cadabrac"
   ]
  },
  {
   "cell_type": "code",
   "execution_count": 43,
   "metadata": {},
   "outputs": [
    {
     "name": "stdout",
     "output_type": "stream",
     "text": [
      "1\n",
      "0\n",
      "1\n"
     ]
    }
   ],
   "source": [
    "# 문제 9.19 블록 게임\n",
    "def cell(y, x):\n",
    "    return 1 << (y * 5 + x)\n",
    "\n",
    "moves = []\n",
    "def precalc():\n",
    "    global moves\n",
    "    for y in range(4):\n",
    "        for x in range(4):\n",
    "            cells = []\n",
    "            for dy in range(2):\n",
    "                for dx in range(2):\n",
    "                    cells.append(cell(y+dy, x+dx))\n",
    "            square = cells[0] + cells[1] + cells[2] + cells[3]\n",
    "            for i in range(4):\n",
    "                moves.append(square - cells[i])\n",
    "        \n",
    "    for i in range(5):\n",
    "        for j in range(4):\n",
    "            moves.append(cell(i,j) + cell(i, j+1))\n",
    "            moves.append(cell(j,i) + cell(j+1, i))\n",
    "\n",
    "# n : 정수형 but 이진 표현인 것을 bin타입/10진수 값으로\n",
    "def convert(n):\n",
    "    exp = 0\n",
    "    ret = 0\n",
    "    while n > 0:\n",
    "        ret += (n % 10) * (2 ** exp)\n",
    "        exp += 1\n",
    "        n //= 10\n",
    "    return ret\n",
    "            \n",
    "def play(board):\n",
    "    ret = cache[board]\n",
    "    if ret != -1:\n",
    "        return ret\n",
    "    \n",
    "    ret = 0\n",
    "    for i in range(len(moves)):\n",
    "        if (moves[i] & board) == 0:\n",
    "            if not play(board | moves[i]):\n",
    "                ret = 1\n",
    "                break\n",
    "    cache[board] = ret\n",
    "    return ret\n",
    "\n",
    "precalc()\n",
    "case1 = \"......##..##..##.###..#..\" # win 1\n",
    "board = \"\"\n",
    "for c in case1:\n",
    "    if c == '.':\n",
    "        board += '0'\n",
    "    else:\n",
    "        board += '1'\n",
    "board = int(board)\n",
    "cache = [-1 for _ in range(1<<25)]\n",
    "print(play(convert(board)))\n",
    "\n",
    "case2 = \".........................\" # lose 0\n",
    "board = \"\"\n",
    "for c in case2:\n",
    "    if c == '.':\n",
    "        board += '0'\n",
    "    else:\n",
    "        board += '1'\n",
    "board = int(board)\n",
    "cache = [-1 for _ in range(1<<25)]\n",
    "print(play(convert(board)))\n",
    "\n",
    "case3 = \"#..####.####.###...###.##\" # win 1\n",
    "board = \"\"\n",
    "for c in case3:\n",
    "    if c == '.':\n",
    "        board += '0'\n",
    "    else:\n",
    "        board += '1'\n",
    "board = int(board)\n",
    "cache = [-1 for _ in range(1<<25)]\n",
    "print(play(convert(board)))"
   ]
  },
  {
   "cell_type": "code",
   "execution_count": 19,
   "metadata": {},
   "outputs": [
    {
     "data": {
      "text/plain": [
       "'0b1011'"
      ]
     },
     "execution_count": 19,
     "metadata": {},
     "output_type": "execute_result"
    }
   ],
   "source": [
    "bin(int(\"00011\"))"
   ]
  },
  {
   "cell_type": "code",
   "execution_count": 17,
   "metadata": {},
   "outputs": [
    {
     "name": "stdout",
     "output_type": "stream",
     "text": [
      "0b10000000000000000000000000\n",
      "33554432\n"
     ]
    }
   ],
   "source": [
    "print(bin(1 << 25))\n",
    "print(1<<25)"
   ]
  },
  {
   "cell_type": "code",
   "execution_count": 73,
   "metadata": {},
   "outputs": [
    {
     "name": "stdout",
     "output_type": "stream",
     "text": [
      "28\n",
      "1631925\n",
      "CPU times: user 13.6 s, sys: 29.2 ms, total: 13.6 s\n",
      "Wall time: 13.7 s\n"
     ]
    }
   ],
   "source": [
    "%%time\n",
    "# 문제 9.22\n",
    "def sushi(n,m,price,pref):\n",
    "    ret = 0\n",
    "    m //= 100\n",
    "    c[0] = 0\n",
    "    for budget in range(1, m+1):\n",
    "        b = budget % (max_budget+1)\n",
    "        c[b] = 0\n",
    "        for dish in range(n):\n",
    "            if budget >= price[dish]:\n",
    "                a = (budget-price[dish]) % (max_budget+1)\n",
    "                c[b] = max(c[b], c[a] + pref[dish])\n",
    "        ret = max(ret, c[b])        \n",
    "        c[b] = ret\n",
    "    return ret\n",
    "\n",
    "max_budget = 200\n",
    "n = 6\n",
    "m = 10000\n",
    "price = [25,30,40,50,100,150]\n",
    "pref = [7,9,10,12,20,1]\n",
    "c = [-1 for _ in range(max_budget)]\n",
    "\n",
    "print(sushi(n,m,price,pref))\n",
    "\n",
    "max_budget = 200\n",
    "n = 6\n",
    "m = 543975612\n",
    "price = [25,30,40,50,100,150]\n",
    "pref = [7,9,10,12,20,1]\n",
    "c = [-1 for _ in range(max_budget+1)]\n",
    "\n",
    "print(sushi(n,m,price,pref))"
   ]
  },
  {
   "cell_type": "markdown",
   "metadata": {},
   "source": [
    "### 백준 9095번 : 1,2,3 더하기"
   ]
  },
  {
   "cell_type": "code",
   "execution_count": null,
   "metadata": {},
   "outputs": [],
   "source": [
    "memo = dict()\n",
    "memo[1] = 1\n",
    "memo[2] = 2\n",
    "memo[3] = 4\n",
    "\n",
    "def solution(n):\n",
    "    if n == 1:\n",
    "        return 1\n",
    "    if n == 2:\n",
    "        return 2\n",
    "    if n == 3:\n",
    "        return 4\n",
    "\n",
    "    ret = 0\n",
    "    for i in range(1, 4):\n",
    "        if n-i in memo:\n",
    "            ret += memo[n-i]\n",
    "        else:\n",
    "            ret += solution(n-i)\n",
    "    return ret\n",
    "\n",
    "t = int(input())\n",
    "n_list = []\n",
    "for i in range(t):\n",
    "    n_list.append(int(input()))\n",
    "\n",
    "for n in n_list:\n",
    "    print(solution(n))"
   ]
  },
  {
   "cell_type": "markdown",
   "metadata": {},
   "source": [
    "### 10870번 : 피보나치수5"
   ]
  },
  {
   "cell_type": "code",
   "execution_count": null,
   "metadata": {},
   "outputs": [],
   "source": [
    "n = int(input())\n",
    "\n",
    "memo = [0 for _ in range(n+1)]\n",
    "if n == 0:\n",
    "    memo[0] = 0\n",
    "else:\n",
    "    memo[0] = 0\n",
    "    memo[1] = 1\n",
    "\n",
    "for i in range(2, n+1):\n",
    "    memo[i] = memo[i-1] + memo[i-2]\n",
    "\n",
    "print(memo[n])"
   ]
  },
  {
   "cell_type": "markdown",
   "metadata": {},
   "source": [
    "### 1932번 : 정수삼각형"
   ]
  },
  {
   "cell_type": "code",
   "execution_count": 84,
   "metadata": {},
   "outputs": [
    {
     "name": "stdout",
     "output_type": "stream",
     "text": [
      "5\n",
      "7\n",
      "3 8\n",
      "8 1 0\n",
      "2 7 4 4\n",
      "4 5 2 6 5\n",
      "out: 30\n"
     ]
    }
   ],
   "source": [
    "def solution(level):\n",
    "    if level == 0:\n",
    "        return\n",
    "    \n",
    "    for i in range(0, level):\n",
    "        if memo[level][i] != -1:\n",
    "            left_val = memo[level][i]\n",
    "        else:\n",
    "            left_val = board[level][i]\n",
    "            \n",
    "        if memo[level][i+1] != -1:\n",
    "            right_val = memo[level][i+1]\n",
    "        else:\n",
    "            right_val = board[level][i+1]\n",
    "            \n",
    "        left = board[level-1][i] + left_val\n",
    "        right = board[level-1][i] + right_val\n",
    "        memo[level-1][i] = max(left, right)\n",
    "\n",
    "    solution(level-1)\n",
    "\n",
    "n = int(input())\n",
    "board = []\n",
    "for i in range(n):\n",
    "    board.append(list(map(int,input().split())))\n",
    "memo = [[-1 for _ in range(n)] for _ in range(n)]\n",
    "solution(n-1)\n",
    "print(\"out:\", memo[0][0])"
   ]
  },
  {
   "cell_type": "markdown",
   "metadata": {},
   "source": [
    "### 11727번 : 2 * n 타일링2"
   ]
  },
  {
   "cell_type": "code",
   "execution_count": 81,
   "metadata": {},
   "outputs": [
    {
     "name": "stdout",
     "output_type": "stream",
     "text": [
      "1000\n",
      "out: 7326\n",
      "CPU times: user 6.29 ms, sys: 4.08 ms, total: 10.4 ms\n",
      "Wall time: 1.37 s\n"
     ]
    }
   ],
   "source": [
    "%%time\n",
    "# 반복문\n",
    "n = int(input())\n",
    "mod = 10007\n",
    "memo = [-1 for _ in range(n+1)]\n",
    "memo[1] = 1\n",
    "if n != 1:\n",
    "    memo[2] = memo[1] + 2\n",
    "for i in range(3, n+1):\n",
    "    memo[i] = (memo[i-1] + memo[i-2]*2) % mod\n",
    "print(\"out:\", memo[n])"
   ]
  },
  {
   "cell_type": "code",
   "execution_count": 83,
   "metadata": {},
   "outputs": [
    {
     "name": "stdout",
     "output_type": "stream",
     "text": [
      "7326\n",
      "CPU times: user 769 µs, sys: 74 µs, total: 843 µs\n",
      "Wall time: 815 µs\n"
     ]
    }
   ],
   "source": [
    "%%time\n",
    "# 재귀함수 : 훨씬 빠르네\n",
    "def solution(n):\n",
    "    if n == 1:\n",
    "        memo[n] = 1\n",
    "        return 1\n",
    "    if n == 2:\n",
    "        memo[n] = solution(n-1) + 2\n",
    "        return memo[n]\n",
    "    \n",
    "    if memo[n-1] != -1:\n",
    "        left = memo[n-1]\n",
    "    else:\n",
    "        left = solution(n-1)\n",
    "        \n",
    "    if memo[n-2] != -1:\n",
    "        right = memo[n-2]\n",
    "    else:\n",
    "        right = solution(n-2)\n",
    "    \n",
    "    ret = (left + right * 2) % mod\n",
    "    memo[n] = ret\n",
    "    return ret\n",
    "\n",
    "n = 1000\n",
    "memo = [-1 for _ in range(n+1)]\n",
    "print(solution(n))"
   ]
  }
 ],
 "metadata": {
  "kernelspec": {
   "display_name": "Python 3",
   "language": "python",
   "name": "python3"
  },
  "language_info": {
   "codemirror_mode": {
    "name": "ipython",
    "version": 3
   },
   "file_extension": ".py",
   "mimetype": "text/x-python",
   "name": "python",
   "nbconvert_exporter": "python",
   "pygments_lexer": "ipython3",
   "version": "3.7.6"
  }
 },
 "nbformat": 4,
 "nbformat_minor": 4
}
