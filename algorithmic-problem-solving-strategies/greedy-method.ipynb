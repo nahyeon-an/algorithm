{
 "cells": [
  {
   "cell_type": "markdown",
   "metadata": {},
   "source": [
    "# 탐욕법\n",
    "ch 10."
   ]
  },
  {
   "cell_type": "markdown",
   "metadata": {},
   "source": [
    "### 문제 10.2 도시락 데우기 \n",
    "\n",
    "점심시간을 가장 빨리 마치도록 하는 도시락 데우는 순서  \n",
    "i 번째 도시락 - 데우는 시간 mi 초 - 먹는 시간 ei ch  \n",
    "출력 : 점심 먹는 최소 시간"
   ]
  },
  {
   "cell_type": "code",
   "execution_count": 6,
   "metadata": {},
   "outputs": [
    {
     "name": "stdout",
     "output_type": "stream",
     "text": [
      "8\n",
      "7\n"
     ]
    }
   ],
   "source": [
    "def solution(t, e):\n",
    "    order = [(x, i) for i, x in enumerate(sorted(e, reverse=True))]\n",
    "    ret, begin = 0, 0\n",
    "    for i in range(len(order)):\n",
    "        box = order[i][1]\n",
    "        begin += t[box]\n",
    "        ret = max(ret, begin + e[box])\n",
    "    return ret\n",
    "\n",
    "t = [2,2,2]\n",
    "e = [2,2,2]\n",
    "print(solution(t, e))\n",
    "\n",
    "t = [1,2,3]\n",
    "e = [1,2,1]\n",
    "print(solution(t, e))\n"
   ]
  },
  {
   "cell_type": "markdown",
   "metadata": {},
   "source": [
    "### 문제 10.4 문자열 합치기\n",
    "비용 = 문자열의 길이  \n",
    "문자열을 합치는 전체 비용이 최소가 되도록  \n",
    "출력 : 최소 반복문 수행 횟수"
   ]
  },
  {
   "cell_type": "code",
   "execution_count": 23,
   "metadata": {},
   "outputs": [
    {
     "name": "stdout",
     "output_type": "stream",
     "text": [
      "12\n",
      "26\n",
      "27\n"
     ]
    }
   ],
   "source": [
    "from queue import PriorityQueue\n",
    "\n",
    "def solution(l):\n",
    "    pq = PriorityQueue()\n",
    "    for i in l:\n",
    "        pq.put(i)\n",
    "\n",
    "    ret = 0\n",
    "    while pq.qsize() > 1:\n",
    "        min1 = pq.get()\n",
    "        min2 = pq.get()\n",
    "        pq.put(min1 + min2)\n",
    "        ret += min1 + min2\n",
    "    return ret\n",
    "\n",
    "n = 3\n",
    "l = [2,2,4] # 12\n",
    "print(solution(l))\n",
    "\n",
    "n = 5\n",
    "l = [3,1,3,4,1] # 26\n",
    "print(solution(l))\n",
    "\n",
    "n = 8\n",
    "l = [1,1,1,1,1,1,1,2] # 27\n",
    "print(solution(l))"
   ]
  },
  {
   "cell_type": "markdown",
   "metadata": {},
   "source": [
    "### 문제 10.6 미나스 아노르 (p.406)\n",
    "출력 : 성벽의 모든 부분을 감시하는 최소한의 병사 수(초소 수)"
   ]
  },
  {
   "cell_type": "code",
   "execution_count": null,
   "metadata": {},
   "outputs": [],
   "source": [
    "def solution():\n",
    "    return\n",
    "\n",
    "# 5\n",
    "y = [7.02066050, -7.23257714, 0.00000000, -8.00000000, -6.47213595,\\\n",
    "    -4.70228202, 7.60845213, -2.47213595, 6.47213595, -0.00000000]\n",
    "x = [-3.83540431, -3.41903904, -8.00000000, -0.00000000, 4.70228202,\\\n",
    "    6.47213595, -2.47213595, -7.60845213, 4.70228202, 8.00000000]\n",
    "r = [4.0, 2.0, 8.0, 4.8, 3.2, 4.8, 1.6, 8.8, 7.6, 4.8]\n",
    "\n",
    "# 4\n",
    "y = [8.00000000, 0.00000000, -8.00000000, 1.25147572]\n",
    "x = [0.00000000, -8.00000000, -0.00000000, 7.90150672]\n",
    "r = [8.00, 8.00, 8.00, 5.40]\n",
    "\n",
    "# impossible\n",
    "y = [8]\n",
    "x = [0]\n",
    "r = [15.99]"
   ]
  },
  {
   "cell_type": "code",
   "execution_count": null,
   "metadata": {},
   "outputs": [],
   "source": []
  },
  {
   "cell_type": "markdown",
   "metadata": {},
   "source": [
    "### 11399번 : ATM\n",
    "\n",
    "1 대의 ATM기, N명의 사람들이 줄 서있다  \n",
    "i 번째 사람이 돈을 인출하는데 걸리는 시간 Pi 분  \n",
    "\n",
    "줄을 서는 순서에 따라 돈을 인출하는데에 필요한 시간의 합이 다름  \n",
    "출력 : 각 사람이 돈을 인출하는데 필요한 시간의 합의 최솟값  "
   ]
  },
  {
   "cell_type": "code",
   "execution_count": 8,
   "metadata": {},
   "outputs": [
    {
     "name": "stdout",
     "output_type": "stream",
     "text": [
      "5\n",
      "3 1 4 3 2\n",
      "32\n"
     ]
    }
   ],
   "source": [
    "N = int(input())\n",
    "p = list(map(int, input().split()))\n",
    "\n",
    "p.sort()\n",
    "t = [ sum(p[:i+1]) for i in range(N) ]\n",
    "\n",
    "print(sum(t))"
   ]
  },
  {
   "cell_type": "markdown",
   "metadata": {},
   "source": [
    "### 5585번 : 거스름돈\n",
    "\n",
    "동전(500, 100, 50, 10, 5, 1)이 충분히 있다  \n",
    "거스름돈 개수가 가장 적게 잔돈을 돌려줌  \n",
    "1000엔을 낸다  \n",
    "출력 : 잔돈의 개수  "
   ]
  },
  {
   "cell_type": "code",
   "execution_count": 9,
   "metadata": {},
   "outputs": [
    {
     "name": "stdout",
     "output_type": "stream",
     "text": [
      "380\n",
      "4\n"
     ]
    }
   ],
   "source": [
    "money = int(input())\n",
    "ret = 1000 - money\n",
    "coins = [500, 100, 50, 10, 5, 1]\n",
    "\n",
    "ans = 0\n",
    "i = 0\n",
    "while i < len(coins):\n",
    "    if ret >= coins[i]:\n",
    "        ret -= coins[i]\n",
    "        ans += 1\n",
    "    else:\n",
    "        i += 1\n",
    "        \n",
    "print(ans)"
   ]
  },
  {
   "cell_type": "code",
   "execution_count": null,
   "metadata": {},
   "outputs": [],
   "source": []
  },
  {
   "cell_type": "code",
   "execution_count": null,
   "metadata": {},
   "outputs": [],
   "source": []
  },
  {
   "cell_type": "code",
   "execution_count": null,
   "metadata": {},
   "outputs": [],
   "source": []
  },
  {
   "cell_type": "code",
   "execution_count": null,
   "metadata": {},
   "outputs": [],
   "source": []
  }
 ],
 "metadata": {
  "kernelspec": {
   "display_name": "Python 3",
   "language": "python",
   "name": "python3"
  },
  "language_info": {
   "codemirror_mode": {
    "name": "ipython",
    "version": 3
   },
   "file_extension": ".py",
   "mimetype": "text/x-python",
   "name": "python",
   "nbconvert_exporter": "python",
   "pygments_lexer": "ipython3",
   "version": "3.7.6"
  }
 },
 "nbformat": 4,
 "nbformat_minor": 4
}
