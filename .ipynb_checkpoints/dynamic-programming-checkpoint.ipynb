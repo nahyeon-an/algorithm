{
 "cells": [
  {
   "cell_type": "markdown",
   "metadata": {},
   "source": [
    "# 동적 계획법 (Dynamic Programming)\n",
    "중복되는 부분 문제 : 두 번 이상 계산되는 부분 문제  \n",
    "ex) 점화식, 이항 계수의 계산  \n",
    "\n",
    "두 번 이상 반복 계산되는 부분 문제의 답을 미리 저장하여 속도를 향상시킴  \n",
    "\n",
    "메모이제이션을 적용할 수 있는 경우 : 참조적 투명 함수의 경우에만 가능  \n",
    "참조적 투명성 : 함수의 반환 값이 그 입력 값만으로 결정되는지의 여부  \n",
    "참조적 투명 함수 : 입력이 고정되어 있을 때 그 결과가 항상 같은 함수  \n",
    "\n",
    "### 메모이제이션의 시간 복잡도 분석\n",
    "(존재하는 부분 문제의 수) * (한 부분 문제를 풀 때 필요한 반복문의 횟수)  \n",
    "\n"
   ]
  },
  {
   "cell_type": "code",
   "execution_count": 1,
   "metadata": {},
   "outputs": [
    {
     "name": "stdout",
     "output_type": "stream",
     "text": [
      "3\n"
     ]
    }
   ],
   "source": [
    "# 재귀 호출을 이용한 이항 계수 계산\n",
    "def bino(n, r):\n",
    "    if r == 0 or n == r:\n",
    "        return 1\n",
    "    return bino(n-1, r-1) + bino(n-1, r)\n",
    "\n",
    "print(bino(3,2))"
   ]
  },
  {
   "cell_type": "code",
   "execution_count": 5,
   "metadata": {},
   "outputs": [
    {
     "name": "stdout",
     "output_type": "stream",
     "text": [
      "153\n"
     ]
    }
   ],
   "source": [
    "# 메모이제이션을 이용한 이항 계수 계산\n",
    "def bino2(n, r):\n",
    "    memo = [[-1 for _ in range(r+1)] for _ in range(n+1)]\n",
    "    if r == 0 or r == n:\n",
    "        return 1\n",
    "    if memo[n][r] != -1:\n",
    "        return memo[n][r]\n",
    "    memo[n][r] = bino2(n-1, r-1) + bino2(n-1, r)\n",
    "    return memo[n][r]\n",
    "\n",
    "print(bino2(18,2))"
   ]
  },
  {
   "cell_type": "markdown",
   "metadata": {},
   "source": [
    "3 테스트 케이스의 수  \n",
    "he?p 와일드카드 패턴  \n",
    "3       파일명의 수  \n",
    "help      n줄에 파일명  \n",
    "heap  \n",
    "helpp  \n",
    "\\*p\\*  \n",
    "3       파일명의 수  \n",
    "help  \n",
    "papa  \n",
    "hello  \n",
    "\\*bb\\*  \n",
    "1        파일명의 수  \n",
    "babbbc  "
   ]
  },
  {
   "cell_type": "code",
   "execution_count": 2,
   "metadata": {},
   "outputs": [
    {
     "name": "stdout",
     "output_type": "stream",
     "text": [
      "True\n",
      "True\n",
      "False\n"
     ]
    }
   ],
   "source": [
    "# 8.6 와일드 카드\n",
    "def match(w, s):\n",
    "    pos = 0\n",
    "    while (pos<len(s)) and (pos<len(w)) and \\\n",
    "    (w[pos]=='?' or w[pos]==s[pos]):\n",
    "        pos += 1\n",
    "        \n",
    "    if pos == len(w):\n",
    "        return pos==len(s)\n",
    "    \n",
    "    if w[pos] == '*':\n",
    "        for skip in range(len(s)-pos+1):\n",
    "            if match(w[pos+1:], s[pos+skip:]):\n",
    "                return True\n",
    "    return False\n",
    "\n",
    "print(match('he?p', 'help'))\n",
    "print(match('he?p', 'heap'))\n",
    "print(match('he?p', 'helpp'))"
   ]
  },
  {
   "cell_type": "code",
   "execution_count": 5,
   "metadata": {},
   "outputs": [
    {
     "name": "stdout",
     "output_type": "stream",
     "text": [
      "False\n"
     ]
    }
   ],
   "source": [
    "# 8.7 와일드카드 (DP)\n",
    "# 캐시는 어떻게 초기화하는거지..?\n",
    "cache = [ [-1 for _ in range(101)] for _ in range(101) ]\n",
    "\n",
    "W = 'he?p'\n",
    "S = 'helpp' # heap, helpp\n",
    "def match(w, s):\n",
    "    ret = cache[w][s]\n",
    "    if ret != -1:\n",
    "        return ret\n",
    "    \n",
    "    while (s<len(S)) and (w<len(W)) and \\\n",
    "    (W[w]=='?' or W[w]==S[s]):\n",
    "        return match(w+1, s+1)\n",
    "        \n",
    "    if w == len(W):\n",
    "        cache[w][s] = (s==len(S))\n",
    "        return s==len(S)\n",
    "    \n",
    "    if W[w] == '*':\n",
    "        if match(w+1, s) or (s<len(S) and match(w,s+1)):\n",
    "            return True\n",
    "    return False\n",
    "\n",
    "print(match(0, 0))"
   ]
  },
  {
   "cell_type": "code",
   "execution_count": null,
   "metadata": {},
   "outputs": [],
   "source": []
  },
  {
   "cell_type": "code",
   "execution_count": null,
   "metadata": {},
   "outputs": [],
   "source": []
  },
  {
   "cell_type": "code",
   "execution_count": null,
   "metadata": {},
   "outputs": [],
   "source": []
  },
  {
   "cell_type": "code",
   "execution_count": null,
   "metadata": {},
   "outputs": [],
   "source": []
  },
  {
   "cell_type": "code",
   "execution_count": null,
   "metadata": {},
   "outputs": [],
   "source": []
  },
  {
   "cell_type": "code",
   "execution_count": null,
   "metadata": {},
   "outputs": [],
   "source": []
  },
  {
   "cell_type": "code",
   "execution_count": null,
   "metadata": {},
   "outputs": [],
   "source": []
  },
  {
   "cell_type": "code",
   "execution_count": null,
   "metadata": {},
   "outputs": [],
   "source": []
  }
 ],
 "metadata": {
  "kernelspec": {
   "display_name": "Python 3",
   "language": "python",
   "name": "python3"
  },
  "language_info": {
   "codemirror_mode": {
    "name": "ipython",
    "version": 3
   },
   "file_extension": ".py",
   "mimetype": "text/x-python",
   "name": "python",
   "nbconvert_exporter": "python",
   "pygments_lexer": "ipython3",
   "version": "3.7.6"
  }
 },
 "nbformat": 4,
 "nbformat_minor": 4
}
