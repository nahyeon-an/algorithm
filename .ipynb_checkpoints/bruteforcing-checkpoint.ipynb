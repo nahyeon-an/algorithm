{
 "cells": [
  {
   "cell_type": "markdown",
   "metadata": {},
   "source": [
    "## 무식하게 풀기 / 완전 탐색 (brute-force)\n",
    "ch 06."
   ]
  },
  {
   "cell_type": "code",
   "execution_count": 1,
   "metadata": {},
   "outputs": [],
   "source": [
    "# 6.1. 1~n의 합을 계산\n",
    "# 반복문\n",
    "def sum_n(n):\n",
    "    ret = 0\n",
    "    for i in range(1, n+1):\n",
    "        ret += i\n",
    "    return ret\n",
    "\n",
    "# 재귀 함수\n",
    "def recursive_sum(n):\n",
    "    # base case\n",
    "    if n == 1:\n",
    "        return 1\n",
    "    return n + recursive_sum(n-1)"
   ]
  },
  {
   "cell_type": "code",
   "execution_count": 3,
   "metadata": {},
   "outputs": [
    {
     "name": "stdout",
     "output_type": "stream",
     "text": [
      "CPU times: user 62 µs, sys: 1 µs, total: 63 µs\n",
      "Wall time: 65.1 µs\n"
     ]
    },
    {
     "data": {
      "text/plain": [
       "500500"
      ]
     },
     "execution_count": 3,
     "metadata": {},
     "output_type": "execute_result"
    }
   ],
   "source": [
    "%%time\n",
    "sum_n(1000)"
   ]
  },
  {
   "cell_type": "code",
   "execution_count": 4,
   "metadata": {},
   "outputs": [
    {
     "name": "stdout",
     "output_type": "stream",
     "text": [
      "CPU times: user 1.32 ms, sys: 287 µs, total: 1.6 ms\n",
      "Wall time: 1.61 ms\n"
     ]
    },
    {
     "data": {
      "text/plain": [
       "500500"
      ]
     },
     "execution_count": 4,
     "metadata": {},
     "output_type": "execute_result"
    }
   ],
   "source": [
    "%%time\n",
    "recursive_sum(1000)"
   ]
  },
  {
   "cell_type": "code",
   "execution_count": 24,
   "metadata": {},
   "outputs": [
    {
     "name": "stdout",
     "output_type": "stream",
     "text": [
      "[0, 1, 2]\n",
      "[0, 1, 3]\n",
      "[0, 2, 3]\n",
      "[1, 2, 3]\n"
     ]
    }
   ],
   "source": [
    "# 6.2. 중첩 반복문 대체\n",
    "# 0 ~ n 개의 원소 중 m개를 고르는 모든 경우를 출력\n",
    "# n : 전체 원소의 수\n",
    "# picked : 지금까지 고른 원소의 번호\n",
    "# to_pick : 더 고를 원소의 개수\n",
    "\n",
    "def pick(n, picked, to_pick):\n",
    "    if to_pick == 0:\n",
    "        print(picked)\n",
    "        return\n",
    "    \n",
    "    # 고를 수 있는 가장 작은 번호를 계산\n",
    "    if not picked:\n",
    "        smallest = 0\n",
    "    else:\n",
    "        smallest = picked[-1] + 1\n",
    "        \n",
    "    # 하나의 원소를 고른다\n",
    "    for i in range(smallest, n):\n",
    "        picked.append(i)\n",
    "        pick(n, picked, to_pick-1)\n",
    "        picked.pop()\n",
    "\n",
    "picked = []\n",
    "pick(4, picked, 3)"
   ]
  },
  {
   "cell_type": "code",
   "execution_count": 32,
   "metadata": {},
   "outputs": [],
   "source": [
    "# 6.3. 보글 게임\n",
    "# 5 * 5 크기의 알파벳 격자\n",
    "# 상하좌우/대각선으로 인접한 칸의 글자를 이어서 단어를 찾는다\n",
    "# 한 글자가 2번 이상 사용될 수 있다\n",
    "# 주어진 칸에서 시작하여 특정 단어를 찾을 수 있는지 확인하는 문제\n",
    "def hasWord(y, x, word):\n",
    "    '''\n",
    "    (y,x)에서 시작\n",
    "    word = 단어 의 존재 여부(T/F)를 반환\n",
    "    '''\n",
    "    dx = [-1, -1, -1, 1, 1, 1, 0, 0]\n",
    "    dy = [-1, 0, 1, -1, 0, 1, -1, 1]\n",
    "    board = [\n",
    "        ['N', 'N', 'N', 'N', 'S'],\n",
    "        ['N', 'E', 'E', 'E', 'N'],\n",
    "        ['N', 'E', 'Y', 'E', 'N'],\n",
    "        ['N', 'E', 'E', 'E', 'N'],\n",
    "        ['N', 'N', 'N', 'N', 'N']\n",
    "    ]\n",
    "    # (y, x)가 board의 밖이면 false\n",
    "    if y not in range(0, 5) and x not in range(0, 5):\n",
    "        return False\n",
    "    # 첫 글자가 일치하지 않으면 false\n",
    "    if board[y][x] != word[0]:\n",
    "        return False\n",
    "    # 단어의 길이가 1이면 true\n",
    "    elif len(word) == 1:\n",
    "        return True\n",
    "    # 인접 여덟칸을 검사\n",
    "    for direction in range(0, 8):\n",
    "        next_y = y + dy[direction]\n",
    "        next_x = x + dx[direction]\n",
    "        if hasWord(next_y, next_x, word.replace(board[y][x], '')):\n",
    "            return True\n",
    "    return False"
   ]
  },
  {
   "cell_type": "code",
   "execution_count": 27,
   "metadata": {},
   "outputs": [
    {
     "data": {
      "text/plain": [
       "True"
      ]
     },
     "execution_count": 27,
     "metadata": {},
     "output_type": "execute_result"
    }
   ],
   "source": [
    "hasWord(2, 2, 'YES')"
   ]
  },
  {
   "cell_type": "code",
   "execution_count": 33,
   "metadata": {},
   "outputs": [
    {
     "data": {
      "text/plain": [
       "False"
      ]
     },
     "execution_count": 33,
     "metadata": {},
     "output_type": "execute_result"
    }
   ],
   "source": [
    "hasWord(1, 1, 'YES') # 첫 글자가 Y가 아니라서 false"
   ]
  },
  {
   "cell_type": "markdown",
   "metadata": {},
   "source": [
    "### 문제 : 소풍\n",
    "각 학생들의 쌍에 대해 서로 친구인지 여부가 주어질 때,  \n",
    "학생들을 짝지을 수 있는 방법의 수  \n",
    "입력의 첫 줄에는 테스트 케이스의 수 C <= 50 가 주어진다.  \n",
    "테스트 케이스의 첫 줄 : 학생 수 n 과 친구 쌍의 수 m  \n",
    "그 다음 줄에 m개의 정수 쌍으로 학생의 번호가 주어진다. 번호는 0 ~ n-1  \n",
    "학생들의 수는 짝수, 같은 쌍이 두 번 주어지지 않는다.  "
   ]
  },
  {
   "cell_type": "markdown",
   "metadata": {},
   "source": [
    "#### 예제 입력\n",
    "3 \n",
    "\n",
    "2 1  \n",
    "0 1  \n",
    "4 6  \n",
    "0 1 1 2 2 3 3 0 0 2 1 3  \n",
    "6 10  \n",
    "0 1 0 2 1 2 1 3 1 4 2 3 2 4 3 4 3 5 4 5"
   ]
  },
  {
   "cell_type": "markdown",
   "metadata": {},
   "source": [
    "#### 예제 출력\n",
    "1  \n",
    "3  \n",
    "4"
   ]
  },
  {
   "cell_type": "code",
   "execution_count": 7,
   "metadata": {},
   "outputs": [],
   "source": [
    "# 6.5.\n",
    "# 관계를 n * n 행렬로 표현\n",
    "def count_pairs(n, friends, relation):\n",
    "    # friends 중 False 이면서 인덱스가 가장 작은 친구를 찾는다\n",
    "    friend = -1\n",
    "    for f in friends:\n",
    "        if f == False: \n",
    "            friend = friends.index(f)\n",
    "            \n",
    "    # 모든 학생이 친구를 찾았다. <=> friend = -1\n",
    "    # 한 가지 방법을 찾은 것이므로 1을 반환\n",
    "    if friend == -1:\n",
    "        return 1\n",
    "    \n",
    "    ret = 0\n",
    "    # friend와 짝지을 친구를 찾는다.\n",
    "    for p in range(friend+1, n):\n",
    "        if friends[p] == False and relation[friend][p]:\n",
    "            friends[friend] = True\n",
    "            friends[p] = True\n",
    "            ret += count_pairs(n, friends, relation)\n",
    "            friends[friend] = False\n",
    "            friends[p] = False\n",
    "    return ret"
   ]
  },
  {
   "cell_type": "code",
   "execution_count": 8,
   "metadata": {},
   "outputs": [
    {
     "name": "stdout",
     "output_type": "stream",
     "text": [
      "1\n"
     ]
    }
   ],
   "source": [
    "# 학생 수, 친구 쌍\n",
    "n, m = 2, 1\n",
    "friends = [ False for i in range(n) ]\n",
    "relation = [[ 0 for i in range(n) ] for i in range(n)]\n",
    "relation[0][1] = 1\n",
    "relation[1][0] = 1\n",
    "\n",
    "print(count_pairs(n, friends, relation))"
   ]
  },
  {
   "cell_type": "code",
   "execution_count": 18,
   "metadata": {},
   "outputs": [
    {
     "name": "stdout",
     "output_type": "stream",
     "text": [
      "3\n",
      "2 1\n",
      "0 1\n",
      "out: 1\n",
      "4 6\n",
      "0 1 1 2 2 3 3 0 0 2 1 3\n",
      "out: 3\n",
      "6 10\n",
      "0 1 0 2 1 2 1 3 1 4 2 3 2 4 3 4 3 5 4 5\n",
      "out: 4\n"
     ]
    }
   ],
   "source": [
    "'''\n",
    "3\n",
    "2 1 -> \"2 1\" -> [\"2\", \"1\"] -> [2, 1]\n",
    "0 1\n",
    "4 6\n",
    "0 1 1 2 2 3 3 0 0 2 1 3\n",
    "6 10\n",
    "0 1 0 2 1 2 1 3 1 4 2 3 2 4 3 4 3 5 4 5\n",
    "'''\n",
    "\n",
    "if __name__ == '__main__':\n",
    "    c = int(input()) # 테스트 케이스의 수\n",
    "    for i in range(c):\n",
    "        n, m = map(int, input().split())\n",
    "        friends = [ False for i in range(n) ]\n",
    "        relation = [[ 0 for i in range(n) ] for i in range(n)]\n",
    "        temp = list(map(int, input().split()))\n",
    "        for i in range(0, len(temp), 2):\n",
    "            relation[temp[i]][temp[i+1]] = True\n",
    "            relation[temp[i+1]][temp[i]] = True\n",
    "        print(\"out:\",count_pairs(n, friends, relation))"
   ]
  },
  {
   "cell_type": "markdown",
   "metadata": {},
   "source": [
    "### 문제 : 게임판 덮기\n",
    "H * W 크기의 게임판이 있다.  \n",
    "게임판은 검은 칸과 흰 칸으로 구성된다.  \n",
    "모든 흰 칸을 3칸짜리 L자 모양의 블록으로 덮고 싶다.  \n",
    "게임판이 주어질 때 이를 덮는 방법의 수를 계산하는 프로그램 작성  \n",
    "\n",
    "입력  \n",
    "- 첫 줄 : 테스트 케이스의 수 C (C <= 30)\n",
    "- 테스트 케이스의 첫 줄 : H, W (1 <= <= 20)\n",
    "- 다음 H줄 : W글자로 게임판 (# : 검은 칸, . : 흰 칸)\n",
    "- 흰 칸의 수 <= 50\n",
    "\n",
    "#### 예제 입력\n",
    "3  \n",
    "3 7  \n",
    "#.....#  \n",
    "#.....#  \n",
    "##...##  \n",
    "3 7  \n",
    "#.....#  \n",
    "#.....#  \n",
    "##..###  \n",
    "8 10  \n",
    "##########  \n",
    "#........#  \n",
    "#........#  \n",
    "#........#  \n",
    "#........#  \n",
    "#........#  \n",
    "#........#  \n",
    "##########  \n",
    "\n",
    "#### 예제 출력\n",
    "0  \n",
    "2  \n",
    "1514"
   ]
  },
  {
   "cell_type": "code",
   "execution_count": 30,
   "metadata": {},
   "outputs": [],
   "source": [
    "# 6.6\n",
    "\n",
    "# 한 칸을 덮는 방법\n",
    "# dy, dx\n",
    "cover_type = [\n",
    "    [[0,0], [1,0], [0,1]],\n",
    "    [[0,0], [0,1], [1,1]],\n",
    "    [[0,0], [1,0], [1,-1]],\n",
    "    [[0,0], [1,0], [1,1]]\n",
    "]\n",
    "\n",
    "def set_block(board, y, x, t, delta):\n",
    "    # 덮어지는지 여부를 반환\n",
    "    ok = True;\n",
    "    for i in range(3):\n",
    "        ny = y + cover_type[t][i][0]\n",
    "        nx = x + cover_type[t][i][1]\n",
    "        if (ny < 0) or (ny >= len(board)) \\\n",
    "        or (nx < 0) or (nx >= len(board[0])):\n",
    "            ok = False\n",
    "        else:\n",
    "            board[ny][nx] += delta\n",
    "            if board[ny][nx] > 1:\n",
    "                ok = False\n",
    "    return ok\n",
    "    \n",
    "def solution(board):\n",
    "    # 채우지 못한 칸 중\n",
    "    # 가장 윗줄, 왼쪽에 있는 칸을 찾음\n",
    "    y, x = -1, -1\n",
    "    for i in range(len(board)):\n",
    "        for j in range(len(board[i])):\n",
    "            if board[i][j] == 0:\n",
    "                y, x = i, j\n",
    "                break\n",
    "            if y != -1:\n",
    "                break\n",
    "                \n",
    "    # base case\n",
    "    if y == -1:\n",
    "        return 1\n",
    "    \n",
    "    ret = 0\n",
    "    for t in range(4):\n",
    "        # 해당 커버 타입 t 로 덮을 수 있다면 재귀 호출\n",
    "        if set_block(board, y, x, t, 1):\n",
    "            ret += solution(board)\n",
    "        # 덮은 블록을 치움\n",
    "        set_block(board, y, x, t, -1)\n",
    "        \n",
    "    return ret"
   ]
  },
  {
   "cell_type": "code",
   "execution_count": 31,
   "metadata": {},
   "outputs": [
    {
     "data": {
      "text/plain": [
       "0"
      ]
     },
     "execution_count": 31,
     "metadata": {},
     "output_type": "execute_result"
    }
   ],
   "source": [
    "board = [\n",
    "    [1, 0, 0, 0, 0, 0, 1],\n",
    "    [1, 0, 0, 0, 0, 0, 1],\n",
    "    [1, 1, 0, 0, 0, 1, 1]\n",
    "]\n",
    "solution(board)"
   ]
  },
  {
   "cell_type": "code",
   "execution_count": 32,
   "metadata": {},
   "outputs": [
    {
     "data": {
      "text/plain": [
       "2"
      ]
     },
     "execution_count": 32,
     "metadata": {},
     "output_type": "execute_result"
    }
   ],
   "source": [
    "board = [\n",
    "    [1, 0, 0, 0, 0, 0, 1],\n",
    "    [1, 0, 0, 0, 0, 0, 1],\n",
    "    [1, 1, 0, 0, 1, 1, 1]\n",
    "]\n",
    "solution(board)"
   ]
  },
  {
   "cell_type": "code",
   "execution_count": 34,
   "metadata": {},
   "outputs": [
    {
     "data": {
      "text/plain": [
       "1514"
      ]
     },
     "execution_count": 34,
     "metadata": {},
     "output_type": "execute_result"
    }
   ],
   "source": [
    "board = [\n",
    "    [1, 1, 1, 1, 1, 1, 1, 1, 1, 1],\n",
    "    [1, 0, 0, 0, 0, 0, 0, 0, 0, 1],\n",
    "    [1, 0, 0, 0, 0, 0, 0, 0, 0, 1],\n",
    "    [1, 0, 0, 0, 0, 0, 0, 0, 0, 1],\n",
    "    [1, 0, 0, 0, 0, 0, 0, 0, 0, 1],\n",
    "    [1, 0, 0, 0, 0, 0, 0, 0, 0, 1],\n",
    "    [1, 0, 0, 0, 0, 0, 0, 0, 0, 1],\n",
    "    [1, 1, 1, 1, 1, 1, 1, 1, 1, 1]\n",
    "]\n",
    "solution(board)"
   ]
  },
  {
   "cell_type": "markdown",
   "metadata": {},
   "source": [
    "### 예제: 여행하는 외판원 문제 (Traveling Sales-man Problem, TSP)\n",
    "어떤 나라에 n \\[2, 10\\] 개의 도시가 있다.  \n",
    "한 사원이 한 도시에서 출발하여,  \n",
    "다른 도시들을 전부 한 번씩 방문한 뒤,  \n",
    "시작 도시로 돌아오려고 한다.  \n",
    "\n",
    "가능한 경로 중 가장 짧은 경로는?  \n",
    "\n",
    "[입력예제](https://twinw.tistory.com/223)"
   ]
  },
  {
   "cell_type": "code",
   "execution_count": 15,
   "metadata": {},
   "outputs": [],
   "source": [
    "import sys\n",
    "\n",
    "def shortest_path(n, dist, path, visited, current_length):\n",
    "    # base case : 모든 도시를 방문했을 때 시작도시로 가고 종료\n",
    "    if len(path) == n:\n",
    "        return current_length + dist[path[0]][path.pop()]\n",
    "    \n",
    "    ret = sys.maxsize\n",
    "\n",
    "    for next_city in range(n):\n",
    "        if visited[next_city]:\n",
    "            continue\n",
    "        print(path)\n",
    "        if path:\n",
    "            here = path[-1]\n",
    "            print(here)\n",
    "        path.append(next_city)\n",
    "        visited[next_city] = True\n",
    "        \n",
    "        # 나머지 경로\n",
    "        cand = shortest_path(n, dist, path, visited,\\\n",
    "                             current_length+dist[here][next_city])\n",
    "        ret = min(ret, cand)\n",
    "        visited[next_city] = False\n",
    "        if path:\n",
    "            path.pop()\n",
    "    return ret"
   ]
  },
  {
   "cell_type": "code",
   "execution_count": 16,
   "metadata": {},
   "outputs": [
    {
     "name": "stdout",
     "output_type": "stream",
     "text": [
      "[0]\n",
      "0\n",
      "[0, 1]\n",
      "1\n",
      "[0, 1, 2]\n",
      "2\n",
      "[0]\n",
      "0\n",
      "[0, 3]\n",
      "3\n",
      "[]\n",
      "[2]\n",
      "2\n",
      "[2, 1]\n",
      "1\n",
      "[2]\n",
      "2\n",
      "[2, 3]\n",
      "3\n",
      "[]\n",
      "[3]\n",
      "3\n",
      "[3, 1]\n",
      "1\n",
      "[3]\n",
      "3\n",
      "[3, 2]\n",
      "2\n"
     ]
    },
    {
     "data": {
      "text/plain": [
       "106"
      ]
     },
     "execution_count": 16,
     "metadata": {},
     "output_type": "execute_result"
    }
   ],
   "source": [
    "n = 4\n",
    "dist = [\n",
    "    [0, 20, 28, 30],\n",
    "    [25, 0, 27, 28],\n",
    "    [30, 35, 0, 29],\n",
    "    [280, 29, 27, 0]\n",
    "]\n",
    "path = [0] # 이렇게 전달하면 index 접근 에러&할당 에러 등등 발생\n",
    "visited = [ False for _ in range(n) ]\n",
    "visited[0] = True\n",
    "shortest_path(n, dist, path, visited, 0)"
   ]
  },
  {
   "cell_type": "code",
   "execution_count": 66,
   "metadata": {},
   "outputs": [
    {
     "name": "stdout",
     "output_type": "stream",
     "text": [
      "[0, 0, 1, 2]\n",
      "34\n",
      "[1, 0, 2, 3]\n",
      "52\n",
      "[2, 0, 1, 3]\n",
      "53\n",
      "[3, 0, 1, 2]\n",
      "56\n"
     ]
    },
    {
     "data": {
      "text/plain": [
       "29"
      ]
     },
     "execution_count": 66,
     "metadata": {},
     "output_type": "execute_result"
    }
   ],
   "source": [
    "n = 4\n",
    "dist = [\n",
    "    [0, 10, 15, 20],\n",
    "    [5,  0,  9, 10],\n",
    "    [6, 13,  0, 12],\n",
    "    [8,  8,  9,  0]\n",
    "]\n",
    "path = [0]\n",
    "visited = [ False for _ in range(n) ]\n",
    "shortest_path(n, dist, path, visited, 0) # 가장 짧은 경로를 출력함"
   ]
  },
  {
   "cell_type": "markdown",
   "metadata": {},
   "source": [
    "### 문제 : 시계 맞추기"
   ]
  },
  {
   "cell_type": "code",
   "execution_count": 92,
   "metadata": {},
   "outputs": [],
   "source": [
    "inf = 9999\n",
    "switches = 10\n",
    "clock_num = 16\n",
    "linked = [\n",
    "    \"xxx.............\",\n",
    "    \"...x...x.x.x....\",\n",
    "    \"....x.....x...xx\",\n",
    "    \"x...xxxx........\",\n",
    "    \"......xxx.x.x...\",\n",
    "    \"x.x...........xx\",\n",
    "    \"...x..........xx\",\n",
    "    \"....xx.x......xx\",\n",
    "    \".xxxxx..........\",\n",
    "    \"...xxx...x...x..\"\n",
    "]\n",
    "\n",
    "# 모든 시계가 12를 가리키는지 확인\n",
    "def aligned(clocks):\n",
    "    for c in clocks:\n",
    "        if c != 12:\n",
    "            return False\n",
    "    return True\n",
    "\n",
    "# swtch 번 스위치를 누름\n",
    "def push(clocks, swtch):\n",
    "    for clock in range(clock_num):\n",
    "        if linked[swtch][clock] == 'x':\n",
    "            clocks[clock] += 3\n",
    "            if clocks[clock] == 15:\n",
    "                clocks[clock] = 3\n",
    "\n",
    "def solution(clocks, swtch):\n",
    "    if swtch == switches:\n",
    "        if aligned(clocks):\n",
    "            return 0\n",
    "        else:\n",
    "            return inf\n",
    "    \n",
    "    ret = inf\n",
    "    # 스위치를 0번 누르는 경우 ~ 3번 누르는 경우 \n",
    "    for cnt in range(4):\n",
    "        # 스위치를 누르는 순서가 중요하지 않아서\n",
    "        # 0부터 누르면서 +1 하여 답을 구함\n",
    "        ret = min(ret, cnt + solution(clocks, swtch + 1))\n",
    "        push(clocks, swtch)\n",
    "        \n",
    "    return ret"
   ]
  },
  {
   "cell_type": "code",
   "execution_count": 98,
   "metadata": {},
   "outputs": [
    {
     "name": "stdout",
     "output_type": "stream",
     "text": [
      "out: 2\n"
     ]
    }
   ],
   "source": [
    "clocks = [12,6,6,6,6,6,12,12,12,12,12,12,12,12,12,12]\n",
    "answer = []\n",
    "for swtch in range(10):\n",
    "    answer.append(solution(clocks, swtch))\n",
    "print(\"out:\", min(answer))"
   ]
  },
  {
   "cell_type": "code",
   "execution_count": 105,
   "metadata": {},
   "outputs": [
    {
     "data": {
      "text/plain": [
       "2"
      ]
     },
     "execution_count": 105,
     "metadata": {},
     "output_type": "execute_result"
    }
   ],
   "source": [
    "# swtch=0 인 것이 답임\n",
    "clocks = [12,6,6,6,6,6,12,12,12,12,12,12,12,12,12,12]\n",
    "solution(clocks, 0)"
   ]
  },
  {
   "cell_type": "code",
   "execution_count": 102,
   "metadata": {},
   "outputs": [
    {
     "name": "stdout",
     "output_type": "stream",
     "text": [
      "out: 9\n"
     ]
    }
   ],
   "source": [
    "clocks = [12,9,3,12,6,6,9,3,12,9,12,9,12,12,6,6]\n",
    "answer = []\n",
    "for swtch in range(10):\n",
    "    answer.append(solution(clocks, swtch))\n",
    "print(\"out:\", min(answer))"
   ]
  },
  {
   "cell_type": "code",
   "execution_count": 106,
   "metadata": {},
   "outputs": [
    {
     "data": {
      "text/plain": [
       "9"
      ]
     },
     "execution_count": 106,
     "metadata": {},
     "output_type": "execute_result"
    }
   ],
   "source": [
    "clocks = [12,9,3,12,6,6,9,3,12,9,12,9,12,12,6,6]\n",
    "solution(clocks, 0)"
   ]
  }
 ],
 "metadata": {
  "kernelspec": {
   "display_name": "Python 3",
   "language": "python",
   "name": "python3"
  },
  "language_info": {
   "codemirror_mode": {
    "name": "ipython",
    "version": 3
   },
   "file_extension": ".py",
   "mimetype": "text/x-python",
   "name": "python",
   "nbconvert_exporter": "python",
   "pygments_lexer": "ipython3",
   "version": "3.7.6"
  }
 },
 "nbformat": 4,
 "nbformat_minor": 4
}
