{
 "cells": [
  {
   "cell_type": "code",
   "execution_count": 14,
   "metadata": {},
   "outputs": [],
   "source": [
    "def moving_average(weight, M):\n",
    "    ret = list()\n",
    "    for i in range(M-1, len(weight)):\n",
    "        partialSum = 0\n",
    "        for j in range(M):\n",
    "            partialSum += weight[i-j]\n",
    "        ret.append(partialSum / M)\n",
    "    return ret"
   ]
  },
  {
   "cell_type": "code",
   "execution_count": 11,
   "metadata": {},
   "outputs": [],
   "source": [
    "def moving_average_2(weight, M):\n",
    "    ret = list()\n",
    "    partialSum = sum(weight[:M-1])\n",
    "    for i in range(M-1, len(weight)):\n",
    "        partialSum += weight[i]\n",
    "        ret.append(partialSum / M)\n",
    "        partialSum -= weight[i-M+1]\n",
    "    return ret"
   ]
  },
  {
   "cell_type": "code",
   "execution_count": 21,
   "metadata": {},
   "outputs": [
    {
     "name": "stdout",
     "output_type": "stream",
     "text": [
      "[31.242, 37.90599999999999, 41.852, 54.001999999999995, 51.617999999999995, 56.96999999999999, 61.510000000000005, 65.704]\n",
      "M=5, N=12, ret=8\n",
      "len:  8\n",
      "[31.241999999999997, 37.90599999999999, 41.85199999999999, 54.00199999999999, 51.61799999999998, 56.969999999999985, 61.50999999999998, 65.70399999999998]\n"
     ]
    }
   ],
   "source": [
    "weight = [12.3, 33.5, 23.64, 65.32, 21.45, 45.62, 53.23, 84.39, 53.4, 48.21, 68.32, 74.2]\n",
    "M = 5\n",
    "res = moving_average(weight, M)\n",
    "print(moving_average(weight, M))\n",
    "print(\"M={}, N={}, ret={}\".format(M, len(weight), len(res)))\n",
    "print(moving_average_2(weight, M))"
   ]
  },
  {
   "cell_type": "code",
   "execution_count": 6,
   "metadata": {},
   "outputs": [
    {
     "name": "stdout",
     "output_type": "stream",
     "text": [
      "5\n"
     ]
    }
   ],
   "source": [
    "s = [1,2,3,4,5]\n",
    "print(sum(s[1:3]))"
   ]
  },
  {
   "cell_type": "code",
   "execution_count": null,
   "metadata": {},
   "outputs": [],
   "source": []
  },
  {
   "cell_type": "code",
   "execution_count": null,
   "metadata": {},
   "outputs": [],
   "source": []
  },
  {
   "cell_type": "code",
   "execution_count": null,
   "metadata": {},
   "outputs": [],
   "source": []
  },
  {
   "cell_type": "code",
   "execution_count": null,
   "metadata": {},
   "outputs": [],
   "source": []
  }
 ],
 "metadata": {
  "kernelspec": {
   "display_name": "Python 3",
   "language": "python",
   "name": "python3"
  },
  "language_info": {
   "codemirror_mode": {
    "name": "ipython",
    "version": 3
   },
   "file_extension": ".py",
   "mimetype": "text/x-python",
   "name": "python",
   "nbconvert_exporter": "python",
   "pygments_lexer": "ipython3",
   "version": "3.7.6"
  }
 },
 "nbformat": 4,
 "nbformat_minor": 4
}
