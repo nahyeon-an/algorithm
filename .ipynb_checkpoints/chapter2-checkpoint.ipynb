{
 "cells": [
  {
   "cell_type": "markdown",
   "metadata": {},
   "source": [
    "## 02. 문제 해결 개관"
   ]
  },
  {
   "cell_type": "markdown",
   "metadata": {},
   "source": [
    "### 문제 해결을 위한 6단계\n",
    "1. 문제를 읽고 이해\n",
    "2. 익숙한 용어로 재정의\n",
    "3. 해결 계획 세우기<br>\n",
    "    : 알고리즘, 자료구조 선택\n",
    "4. 계획 검증<br>\n",
    "    : 요구 조건을 정확히 수행하는가\n",
    "      소요시간, 사용 메모리 확인\n",
    "5. 구현\n",
    "6. 개선 방법 생각하기"
   ]
  },
  {
   "cell_type": "markdown",
   "metadata": {},
   "source": [
    "### 체계적인 접근을 위한 질문\n",
    "1. 비슷한 문제를 풀어봤나?\n",
    "\n",
    "2. 단순한 방법에서 시작할 수 있는가?\n",
    "\n",
    "3. 문제 푸는 과정을 수식화할 수 있는가?\n",
    "\n",
    "4. 문제를 단순화 할 수 있는가?\n",
    "\n",
    "5. 그림으로 그릴 수 있는가?\n",
    "\n",
    "6. 수식으로 표현가능?\n",
    "\n",
    "7. 문제를 분해할 수 있나?\n",
    "\n",
    "8. 뒤에서부터 풀 수 있을까?\n",
    "\n",
    "9. 순서를 강제할 수 있을까?\n",
    "\n",
    "10. 특정 형태의 답만 고려 가능?"
   ]
  }
 ],
 "metadata": {
  "kernelspec": {
   "display_name": "Python 3",
   "language": "python",
   "name": "python3"
  },
  "language_info": {
   "codemirror_mode": {
    "name": "ipython",
    "version": 3
   },
   "file_extension": ".py",
   "mimetype": "text/x-python",
   "name": "python",
   "nbconvert_exporter": "python",
   "pygments_lexer": "ipython3",
   "version": "3.7.6"
  }
 },
 "nbformat": 4,
 "nbformat_minor": 4
}
