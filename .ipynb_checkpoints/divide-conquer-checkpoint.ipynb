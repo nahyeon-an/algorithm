{
 "cells": [
  {
   "cell_type": "markdown",
   "metadata": {},
   "source": [
    "# 분할정복 (Divide and Conquer)\n",
    "ch 07."
   ]
  },
  {
   "cell_type": "code",
   "execution_count": 1,
   "metadata": {},
   "outputs": [],
   "source": [
    "# 7.1\n",
    "def fast_sum(n):\n",
    "    if n == 1:\n",
    "        return 1\n",
    "    if n % 2 == 1:\n",
    "        return fast_sum(n-1) + n\n",
    "    return 2*fast_sum(n//2) + (n//2)*(n//2)"
   ]
  },
  {
   "cell_type": "code",
   "execution_count": 2,
   "metadata": {},
   "outputs": [
    {
     "data": {
      "text/plain": [
       "55"
      ]
     },
     "execution_count": 2,
     "metadata": {},
     "output_type": "execute_result"
    }
   ],
   "source": [
    "fast_sum(10)"
   ]
  },
  {
   "cell_type": "code",
   "execution_count": 17,
   "metadata": {},
   "outputs": [],
   "source": [
    "# 7.2\n",
    "# 행렬의 거듭제곱\n",
    "import numpy as np\n",
    "\n",
    "def identity(n):\n",
    "    ret = [ [0 for _ in range(n)] for _ in range(n) ]\n",
    "    for i in range(n):\n",
    "        for j in range(n):\n",
    "            if i == j:\n",
    "                ret[i][j] = 1\n",
    "    return np.asmatrix(ret)\n",
    "\n",
    "def power(matrix, m):\n",
    "    if m == 0:\n",
    "        return identity(len(matrix))\n",
    "    if m % 2 > 0:\n",
    "        return power(matrix, m-1) * matrix # 곱 연산이 정의가 안 되어 있다\n",
    "    half = np.asmatrix(power(matrix, m//2))\n",
    "    return half * half"
   ]
  },
  {
   "cell_type": "code",
   "execution_count": 21,
   "metadata": {},
   "outputs": [
    {
     "data": {
      "text/plain": [
       "matrix([[3, 4],\n",
       "        [2, 3]])"
      ]
     },
     "execution_count": 21,
     "metadata": {},
     "output_type": "execute_result"
    }
   ],
   "source": [
    "matrix = np.asmatrix([[1,2], [1,1]])\n",
    "power(matrix, 2)"
   ]
  },
  {
   "cell_type": "code",
   "execution_count": null,
   "metadata": {},
   "outputs": [],
   "source": [
    "# 7.3 두 큰 수의 곱 \n",
    "def normalize(num):\n",
    "    num.append(0)\n",
    "    for i in range(len(num)-1):\n",
    "        if num[i] < 0:\n",
    "            borrow = (abs(num[i]) + 9) // 10\n",
    "            num[i+1] -= borrow\n",
    "            num[i] += borrow * 10\n",
    "        else:\n",
    "            num[i+1] += num[i] // 10\n",
    "            num[i] %= 10\n",
    "            \n",
    "    while (len(num)>1) and (num[-1]==0):\n",
    "        num.pop()\n",
    "\n",
    "def multiply(a, b):\n",
    "    c = [0 for _ in range(len(a)+len(b)+1)]\n",
    "    for i in range(len(a)):\n",
    "        for j in range(len(b)):\n",
    "            c[i+j] += a[i] * b[j]\n",
    "    normalize(c)\n",
    "    return c"
   ]
  },
  {
   "cell_type": "code",
   "execution_count": null,
   "metadata": {},
   "outputs": [],
   "source": [
    "# 7.4 카라츠바의 빠른 정수 곱셈\n",
    "def addTo(a, b, k):\n",
    "    for i in range(k):\n",
    "        b.insert(0, 0)\n",
    "    \n",
    "    for j in range(len(zip(a,b))):\n",
    "        a[k] += b[k]\n",
    "        \n",
    "def subFrom(a, b):\n",
    "    for i in range(len(b)):\n",
    "        a[i] -= b[i]\n",
    "        \n",
    "def karatsuba(a, b):\n",
    "    an = len(a)\n",
    "    bn = len(b)\n",
    "    \n",
    "    if an < bn:\n",
    "        return karatsuba(b, a)\n",
    "    \n",
    "    if (an==0) or (bn==0):\n",
    "        return list()\n",
    "    \n",
    "    if an <= 50:\n",
    "        return multiply(a, b)\n",
    "    \n",
    "    half = an//2\n",
    "    \n",
    "    a0 = a[:half]\n",
    "    a1 = a[half:]\n",
    "    b0 = b[:min(bn, half)]\n",
    "    b1 = b[min(bn, half):]\n",
    "    \n",
    "    z2 = karatsuba(a1, b1)\n",
    "    z0 = karatsuba(a0, b0)\n",
    "    \n",
    "    addTo(a0, a1, 0)\n",
    "    addTo(b0, b1, 0)\n",
    "    \n",
    "    z1 = karatsuba(a0, b0)\n",
    "    subFrom(z1, z0)\n",
    "    subFrom(z1, z2)\n",
    "    \n",
    "    addTo(ret, z0, 0)\n",
    "    addTo(ret, z1, half)\n",
    "    addTo(ret, z2, half + half)\n",
    "    return ret"
   ]
  },
  {
   "cell_type": "code",
   "execution_count": null,
   "metadata": {},
   "outputs": [],
   "source": [
    "# 7.5 쿼드 트리\n",
    "# 주어진 트리를 상하로 뒤집은 결과를 압축하여 출력\n",
    "def decompress(it, y, x, size):\n",
    "    head = it\n",
    "    if (head=='b') || (head=='w'):\n",
    "        for dy in range(0, size):\n",
    "            for dx in range(0, size):\n",
    "                decompressed[y+dy][x+dx] = head\n",
    "    else:\n",
    "        half = size/2\n",
    "        decompress(it, y, x, half)\n",
    "        decompress(it, y, x+half, half)\n",
    "        decompress(it, y+half, x, half)\n",
    "        decompress(it, y+half, x+half, half)"
   ]
  },
  {
   "cell_type": "code",
   "execution_count": null,
   "metadata": {},
   "outputs": [],
   "source": [
    "# 7.6 쿼드 트리\n",
    "# 분할 정복 알고리즘\n",
    "def reverse(it):\n",
    "    head = it\n",
    "#     it += 1\n",
    "    if (head == 'b') or (head == 'w'):\n",
    "        return head\n",
    "    it += 1\n",
    "    upperLeft = reverse(it)\n",
    "    upperRight = reverse(it)\n",
    "    lowerLeft = reverse(it)\n",
    "    lowerRight = reverse(it)\n",
    "    \n",
    "    return \"x\" + lowerLeft + lowerRight + upperLeft + upperRight"
   ]
  },
  {
   "cell_type": "markdown",
   "metadata": {},
   "source": [
    "### 2448 번 : 별찍기-10"
   ]
  },
  {
   "cell_type": "code",
   "execution_count": 36,
   "metadata": {},
   "outputs": [
    {
     "name": "stdout",
     "output_type": "stream",
     "text": [
      "81\n",
      "*********************************************************************************\n",
      "* ** ** ** ** ** ** ** ** ** ** ** ** ** ** ** ** ** ** ** ** ** ** ** ** ** ** *\n",
      "*********************************************************************************\n",
      "***   ******   ******   ******   ******   ******   ******   ******   ******   ***\n",
      "* *   * ** *   * ** *   * ** *   * ** *   * ** *   * ** *   * ** *   * ** *   * *\n",
      "***   ******   ******   ******   ******   ******   ******   ******   ******   ***\n",
      "*********************************************************************************\n",
      "* ** ** ** ** ** ** ** ** ** ** ** ** ** ** ** ** ** ** ** ** ** ** ** ** ** ** *\n",
      "*********************************************************************************\n",
      "*********         ******************         ******************         *********\n",
      "* ** ** *         * ** ** ** ** ** *         * ** ** ** ** ** *         * ** ** *\n",
      "*********         ******************         ******************         *********\n",
      "***   ***         ***   ******   ***         ***   ******   ***         ***   ***\n",
      "* *   * *         * *   * ** *   * *         * *   * ** *   * *         * *   * *\n",
      "***   ***         ***   ******   ***         ***   ******   ***         ***   ***\n",
      "*********         ******************         ******************         *********\n",
      "* ** ** *         * ** ** ** ** ** *         * ** ** ** ** ** *         * ** ** *\n",
      "*********         ******************         ******************         *********\n",
      "*********************************************************************************\n",
      "* ** ** ** ** ** ** ** ** ** ** ** ** ** ** ** ** ** ** ** ** ** ** ** ** ** ** *\n",
      "*********************************************************************************\n",
      "***   ******   ******   ******   ******   ******   ******   ******   ******   ***\n",
      "* *   * ** *   * ** *   * ** *   * ** *   * ** *   * ** *   * ** *   * ** *   * *\n",
      "***   ******   ******   ******   ******   ******   ******   ******   ******   ***\n",
      "*********************************************************************************\n",
      "* ** ** ** ** ** ** ** ** ** ** ** ** ** ** ** ** ** ** ** ** ** ** ** ** ** ** *\n",
      "*********************************************************************************\n",
      "***************************                           ***************************\n",
      "* ** ** ** ** ** ** ** ** *                           * ** ** ** ** ** ** ** ** *\n",
      "***************************                           ***************************\n",
      "***   ******   ******   ***                           ***   ******   ******   ***\n",
      "* *   * ** *   * ** *   * *                           * *   * ** *   * ** *   * *\n",
      "***   ******   ******   ***                           ***   ******   ******   ***\n",
      "***************************                           ***************************\n",
      "* ** ** ** ** ** ** ** ** *                           * ** ** ** ** ** ** ** ** *\n",
      "***************************                           ***************************\n",
      "*********         *********                           *********         *********\n",
      "* ** ** *         * ** ** *                           * ** ** *         * ** ** *\n",
      "*********         *********                           *********         *********\n",
      "***   ***         ***   ***                           ***   ***         ***   ***\n",
      "* *   * *         * *   * *                           * *   * *         * *   * *\n",
      "***   ***         ***   ***                           ***   ***         ***   ***\n",
      "*********         *********                           *********         *********\n",
      "* ** ** *         * ** ** *                           * ** ** *         * ** ** *\n",
      "*********         *********                           *********         *********\n",
      "***************************                           ***************************\n",
      "* ** ** ** ** ** ** ** ** *                           * ** ** ** ** ** ** ** ** *\n",
      "***************************                           ***************************\n",
      "***   ******   ******   ***                           ***   ******   ******   ***\n",
      "* *   * ** *   * ** *   * *                           * *   * ** *   * ** *   * *\n",
      "***   ******   ******   ***                           ***   ******   ******   ***\n",
      "***************************                           ***************************\n",
      "* ** ** ** ** ** ** ** ** *                           * ** ** ** ** ** ** ** ** *\n",
      "***************************                           ***************************\n",
      "*********************************************************************************\n",
      "* ** ** ** ** ** ** ** ** ** ** ** ** ** ** ** ** ** ** ** ** ** ** ** ** ** ** *\n",
      "*********************************************************************************\n",
      "***   ******   ******   ******   ******   ******   ******   ******   ******   ***\n",
      "* *   * ** *   * ** *   * ** *   * ** *   * ** *   * ** *   * ** *   * ** *   * *\n",
      "***   ******   ******   ******   ******   ******   ******   ******   ******   ***\n",
      "*********************************************************************************\n",
      "* ** ** ** ** ** ** ** ** ** ** ** ** ** ** ** ** ** ** ** ** ** ** ** ** ** ** *\n",
      "*********************************************************************************\n",
      "*********         ******************         ******************         *********\n",
      "* ** ** *         * ** ** ** ** ** *         * ** ** ** ** ** *         * ** ** *\n",
      "*********         ******************         ******************         *********\n",
      "***   ***         ***   ******   ***         ***   ******   ***         ***   ***\n",
      "* *   * *         * *   * ** *   * *         * *   * ** *   * *         * *   * *\n",
      "***   ***         ***   ******   ***         ***   ******   ***         ***   ***\n",
      "*********         ******************         ******************         *********\n",
      "* ** ** *         * ** ** ** ** ** *         * ** ** ** ** ** *         * ** ** *\n",
      "*********         ******************         ******************         *********\n",
      "*********************************************************************************\n",
      "* ** ** ** ** ** ** ** ** ** ** ** ** ** ** ** ** ** ** ** ** ** ** ** ** ** ** *\n",
      "*********************************************************************************\n",
      "***   ******   ******   ******   ******   ******   ******   ******   ******   ***\n",
      "* *   * ** *   * ** *   * ** *   * ** *   * ** *   * ** *   * ** *   * ** *   * *\n",
      "***   ******   ******   ******   ******   ******   ******   ******   ******   ***\n",
      "*********************************************************************************\n",
      "* ** ** ** ** ** ** ** ** ** ** ** ** ** ** ** ** ** ** ** ** ** ** ** ** ** ** *\n",
      "*********************************************************************************\n",
      "CPU times: user 17.3 ms, sys: 10.6 ms, total: 28 ms\n",
      "Wall time: 1.5 s\n"
     ]
    }
   ],
   "source": [
    "%%time\n",
    "# N : 3의 거듭제곱\n",
    "# N * N 정사각형\n",
    "# 가운데에 공백, 나머지 별 하나씩\n",
    "# N>3 ? (N/3) * (N/3) 정사각형을 가운데에 비우고 주위를 N/3으로 둘러싼다\n",
    "# 런타임 에러 : 아마 numpy 때문인것 같은데 리스트로 나중에 다시 해보기 (8제곱에서 출력이 안 됨)\n",
    "\n",
    "N = int(input())\n",
    "board = [['*' for _ in range(N)] for _ in range(N)]\n",
    "\n",
    "def solution(N, r, c):\n",
    "    if N == 3:\n",
    "        \"\"\"\n",
    "        ***\n",
    "        * *\n",
    "        \"\"\"\n",
    "        board[r+N//2][c+N//2] = ' '\n",
    "    else:\n",
    "        # 나머지 재귀호출\n",
    "        N = N//3\n",
    "        solution(N, r, c)\n",
    "        solution(N, r, c+N)\n",
    "        solution(N, r, c+N*2)\n",
    "        solution(N, r+N, c)\n",
    "        # 가운데 정사각형 출력\n",
    "        for i in range(r+N, r+N*2):\n",
    "            for j in range(c+N, c+N*2):\n",
    "                board[i][j] = ' '\n",
    "        # 나머지\n",
    "        solution(N, r+N, c+N*2)\n",
    "        solution(N, r+N*2, c)\n",
    "        solution(N, r+N*2, c+N)\n",
    "        solution(N, r+N*2, c+N*2)\n",
    "        \n",
    "solution(N, 0, 0)\n",
    "for r in board:\n",
    "    print(\"\".join(r))"
   ]
  },
  {
   "cell_type": "markdown",
   "metadata": {},
   "source": [
    "### 2630 : 색종이 만들기"
   ]
  },
  {
   "cell_type": "code",
   "execution_count": 33,
   "metadata": {},
   "outputs": [
    {
     "name": "stdout",
     "output_type": "stream",
     "text": [
      "8\n",
      "1 1 0 0 0 0 1 1\n",
      "1 1 0 0 0 0 1 1\n",
      "0 0 0 0 1 1 0 0\n",
      "0 0 0 0 1 1 0 0\n",
      "1 0 0 0 1 1 1 1\n",
      "0 1 0 0 1 1 1 1\n",
      "0 0 1 1 1 1 1 1\n",
      "0 0 1 1 1 1 1 1\n",
      "9\n",
      "7\n",
      "CPU times: user 225 ms, sys: 143 ms, total: 368 ms\n",
      "Wall time: 34.9 s\n"
     ]
    }
   ],
   "source": [
    "# 정답\n",
    "%%time\n",
    "N = int(input())\n",
    "board = []\n",
    "for i in range(N):\n",
    "    board.append(input().split())\n",
    "\n",
    "b = 0\n",
    "w = 0\n",
    "\n",
    "def is_same_color(N, r, c):\n",
    "    check = board[r][c]\n",
    "    for i in range(r, r+N):\n",
    "        for j in range(c, c+N):\n",
    "            if check != board[i][j]:\n",
    "                return False\n",
    "    return True\n",
    "\n",
    "def solution(N, r, c):\n",
    "    global b, w\n",
    "    if N == 1:\n",
    "        if board[r][c] == '1':\n",
    "            b += 1\n",
    "        else:\n",
    "            w += 1\n",
    "        return\n",
    "    # 모든 색이 같은지 확인\n",
    "    if is_same_color(N, r, c):\n",
    "        if board[r][c] == '1':\n",
    "            b += 1\n",
    "        else:\n",
    "            w += 1\n",
    "    # 4조각으로 분할 뒤 재귀함수호출\n",
    "    else:\n",
    "        solution(N//2, r, c)\n",
    "        solution(N//2, r, c+N//2)\n",
    "        solution(N//2, r+N//2, c)\n",
    "        solution(N//2, r+N//2, c+N//2)\n",
    "\n",
    "res = solution(N, 0, 0)\n",
    "print(w) # white count\n",
    "print(b) # blue count"
   ]
  },
  {
   "cell_type": "code",
   "execution_count": null,
   "metadata": {},
   "outputs": [],
   "source": []
  }
 ],
 "metadata": {
  "kernelspec": {
   "display_name": "Python 3",
   "language": "python",
   "name": "python3"
  },
  "language_info": {
   "codemirror_mode": {
    "name": "ipython",
    "version": 3
   },
   "file_extension": ".py",
   "mimetype": "text/x-python",
   "name": "python",
   "nbconvert_exporter": "python",
   "pygments_lexer": "ipython3",
   "version": "3.7.6"
  }
 },
 "nbformat": 4,
 "nbformat_minor": 4
}
