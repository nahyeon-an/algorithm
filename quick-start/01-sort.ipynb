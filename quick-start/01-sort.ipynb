{
 "cells": [
  {
   "cell_type": "markdown",
   "metadata": {},
   "source": [
    "#### python copy\n",
    "1. 단순 복사  \n",
    "2. 얕은 복사  \n",
    "3. 깊은 복사  \n",
    "\n",
    "[참조](https://blueshw.github.io/2016/01/20/shallow-copy-deep-copy/)"
   ]
  },
  {
   "cell_type": "code",
   "execution_count": 1,
   "metadata": {},
   "outputs": [],
   "source": [
    "from copy import deepcopy"
   ]
  },
  {
   "cell_type": "code",
   "execution_count": 2,
   "metadata": {},
   "outputs": [],
   "source": [
    "org_data = [30, -3, 100, 23, -47, 92, 13, -4, -32]"
   ]
  },
  {
   "cell_type": "markdown",
   "metadata": {},
   "source": [
    "### 선택 정렬 (Selection Sort)\n",
    "\n",
    "정렬되지 않은 배열에서 가장 작은 원소를 맨 앞의 자리로 이동하는 알고리즘 = 오름차순 정렬  \n",
    "앞쪽 배열은 정렬된 상태  \n",
    "특정 원소, 즉 **가장 작은/큰 값을 선택**하여 앞으로 이동시키는 알고리즘  "
   ]
  },
  {
   "cell_type": "code",
   "execution_count": 3,
   "metadata": {},
   "outputs": [
    {
     "name": "stdout",
     "output_type": "stream",
     "text": [
      "[input]   [30, -3, 100, 23, -47, 92, 13, -4, -32]\n",
      "[output]  [-47, -32, -4, -3, 13, 23, 30, 92, 100]\n"
     ]
    }
   ],
   "source": [
    "data = deepcopy(org_data)\n",
    "\n",
    "print(\"[input]  \", data)\n",
    "\n",
    "# 오름차순\n",
    "for i in range(len(data) - 1):\n",
    "    mini = data[i]\n",
    "    idx = i\n",
    "    for j in range(i, len(data)):\n",
    "        if data[j] < mini:\n",
    "            mini = data[j]\n",
    "            idx = j\n",
    "    data[i], data[idx] = data[idx], data[i]\n",
    "            \n",
    "print(\"[output] \", data)"
   ]
  },
  {
   "cell_type": "code",
   "execution_count": 4,
   "metadata": {},
   "outputs": [
    {
     "name": "stdout",
     "output_type": "stream",
     "text": [
      "[input]   [30, -3, 100, 23, -47, 92, 13, -4, -32]\n",
      "[output]  [100, 92, 30, 23, 13, -3, -4, -32, -47]\n"
     ]
    }
   ],
   "source": [
    "# 내림차순\n",
    "data = deepcopy(org_data)\n",
    "\n",
    "print(\"[input]  \", data)\n",
    "\n",
    "for i in range(len(data) - 1):\n",
    "    maxi = data[i]\n",
    "    idx = i\n",
    "    for j in range(i, len(data)):\n",
    "        if data[j] > maxi:\n",
    "            maxi = data[j]\n",
    "            idx = j\n",
    "    data[i], data[idx] = data[idx], data[i]\n",
    "    \n",
    "print(\"[output] \", data)"
   ]
  },
  {
   "cell_type": "markdown",
   "metadata": {},
   "source": [
    "### 버블 정렬 (Bubble Sort)\n",
    "\n",
    "한 사이클이 끝났을 때 가장 큰 값이 배열의 맨 뒤로 보내지는 알고리즘 = 오름차순 정렬  \n",
    "**인접한 두 원소를 비교**하며 계속 반복  \n",
    "뒤쪽 배열이 정렬된 상태 "
   ]
  },
  {
   "cell_type": "code",
   "execution_count": 5,
   "metadata": {},
   "outputs": [
    {
     "name": "stdout",
     "output_type": "stream",
     "text": [
      "[input]   [30, -3, 100, 23, -47, 92, 13, -4, -32]\n",
      "[output]  [-47, -32, -4, -3, 13, 23, 30, 92, 100]\n"
     ]
    }
   ],
   "source": [
    "# sys.stdin.readline()으로는 키보드 입력이 안 나타난다...?\n",
    "\"\"\"\n",
    "jupyter 에서는 stdin 이 제대로 구성되어 있지 않기 때문에 \n",
    "stdin.readline() 을 실행하면 입력을 받지 못하고 항상 빈 문자열이 반환됩니다.\n",
    "\n",
    "sydin.readline() 대신에 input() 을 사용해야 합니다.\n",
    "\n",
    "[출처] https://www.acmicpc.net/board/view/39939\n",
    "\"\"\"\n",
    "# 그렇다고 한다.. 파이참에서는 sys.stdin.readline()이 잘 동작했었다...\n",
    "\n",
    "data = deepcopy(org_data)\n",
    "\n",
    "print(\"[input]  \", data)\n",
    "\n",
    "# 오름차순 정렬\n",
    "for i in range(len(data), 0, -1):\n",
    "    for j in range(i - 1):\n",
    "        # 앞의 데이터가 뒤의 데이터보다 크면 순서 바꿈\n",
    "        if data[j] > data[j+1]:\n",
    "            data[j], data[j+1] = data[j+1], data[j]\n",
    "            \n",
    "print(\"[output] \", data)"
   ]
  },
  {
   "cell_type": "code",
   "execution_count": 6,
   "metadata": {},
   "outputs": [
    {
     "name": "stdout",
     "output_type": "stream",
     "text": [
      "[output]  [100, 92, 30, 23, 13, -3, -4, -32, -47]\n"
     ]
    }
   ],
   "source": [
    "# 내림차순 정렬\n",
    "for i in range(len(data), 0, -1):\n",
    "    for j in range(i - 1):\n",
    "        if data[j] < data[j+1]:\n",
    "            data[j], data[j+1] = data[j+1], data[j]\n",
    "            \n",
    "print(\"[output] \", data)"
   ]
  },
  {
   "cell_type": "markdown",
   "metadata": {},
   "source": [
    "## 삽입 정렬 (Insertion Sort)\n",
    "\n",
    "앞의 배열은 정렬되어 있다 가정  \n",
    "앞의 배열에서 들어갈 위치로 넣음  "
   ]
  },
  {
   "cell_type": "code",
   "execution_count": 13,
   "metadata": {},
   "outputs": [
    {
     "name": "stdout",
     "output_type": "stream",
     "text": [
      "[input]   [30, -3, 100, 23, -47, 92, 13, -4, -32]\n",
      "[-3, 30, 100, 23, -47, 92, 13, -4, -32]\n",
      "[-3, 30, 100, 23, -47, 92, 13, -4, -32]\n",
      "[-3, 23, 30, 100, -47, 92, 13, -4, -32]\n",
      "[-47, -3, 23, 30, 100, 92, 13, -4, -32]\n",
      "[-47, -3, 23, 30, 92, 100, 13, -4, -32]\n",
      "[-47, -3, 13, 23, 30, 92, 100, -4, -32]\n",
      "[-47, -4, -3, 13, 23, 30, 92, 100, -32]\n",
      "[-47, -32, -4, -3, 13, 23, 30, 92, 100]\n",
      "[output]  [-47, -32, -4, -3, 13, 23, 30, 92, 100]\n"
     ]
    }
   ],
   "source": [
    "data = deepcopy(org_data)\n",
    "\n",
    "print(\"[input]  \", data)\n",
    "\n",
    "for i in range(1, len(data)):\n",
    "    idx = i\n",
    "    for j in range(i-1, -1, -1):\n",
    "        if data[j] > data[idx]:\n",
    "            data[j], data[idx] = data[idx], data[j]\n",
    "            idx = j\n",
    "        else:\n",
    "            break  # 앞의 두 정렬보다 좀 더 효율적으로 만드는 부분 (전체를 비교하는 것이 아님)\n",
    "    print(data)\n",
    "            \n",
    "print(\"[output] \", data)"
   ]
  },
  {
   "cell_type": "code",
   "execution_count": 14,
   "metadata": {},
   "outputs": [
    {
     "name": "stdout",
     "output_type": "stream",
     "text": [
      "[input]   [30, -3, 100, 23, -47, 92, 13, -4, -32]\n",
      "[30, -3, 100, 23, -47, 92, 13, -4, -32]\n",
      "[100, 30, -3, 23, -47, 92, 13, -4, -32]\n",
      "[100, 30, 23, -3, -47, 92, 13, -4, -32]\n",
      "[100, 30, 23, -3, -47, 92, 13, -4, -32]\n",
      "[100, 92, 30, 23, -3, -47, 13, -4, -32]\n",
      "[100, 92, 30, 23, 13, -3, -47, -4, -32]\n",
      "[100, 92, 30, 23, 13, -3, -4, -47, -32]\n",
      "[100, 92, 30, 23, 13, -3, -4, -32, -47]\n",
      "[output]  [100, 92, 30, 23, 13, -3, -4, -32, -47]\n"
     ]
    }
   ],
   "source": [
    "data = deepcopy(org_data)\n",
    "\n",
    "print(\"[input]  \", data)\n",
    "\n",
    "for i in range(1, len(data)):\n",
    "    idx = i\n",
    "    for j in range(i-1, -1, -1):\n",
    "        if data[j] < data[idx]:\n",
    "            data[j], data[idx] = data[idx], data[j]\n",
    "            idx = j\n",
    "        else:\n",
    "            break\n",
    "    print(data)\n",
    "    \n",
    "print(\"[output] \", data)"
   ]
  },
  {
   "cell_type": "markdown",
   "metadata": {},
   "source": [
    "## 퀵 정렬 (Quick Sort)"
   ]
  },
  {
   "cell_type": "code",
   "execution_count": null,
   "metadata": {},
   "outputs": [],
   "source": [
    "data = deepcopy(org_data)\n",
    "\n",
    "print(\"[input]  \", data)\n",
    "\n",
    "\n",
    "            \n",
    "print(\"[output] \", data)"
   ]
  },
  {
   "cell_type": "code",
   "execution_count": null,
   "metadata": {},
   "outputs": [],
   "source": [
    "data = deepcopy(org_data)\n",
    "\n",
    "print(\"[input]  \", data)\n",
    "\n",
    "            \n",
    "print(\"[output] \", data)"
   ]
  },
  {
   "cell_type": "markdown",
   "metadata": {},
   "source": [
    "## 병합 정렬 (Merge Sort)"
   ]
  },
  {
   "cell_type": "code",
   "execution_count": null,
   "metadata": {},
   "outputs": [],
   "source": [
    "data = deepcopy(org_data)\n",
    "\n",
    "print(\"[input]  \", data)\n",
    "\n",
    "            \n",
    "print(\"[output] \", data)"
   ]
  },
  {
   "cell_type": "code",
   "execution_count": null,
   "metadata": {},
   "outputs": [],
   "source": [
    "data = deepcopy(org_data)\n",
    "\n",
    "print(\"[input]  \", data)\n",
    "\n",
    "            \n",
    "print(\"[output] \", data)"
   ]
  },
  {
   "cell_type": "markdown",
   "metadata": {},
   "source": [
    "## 힙 정렬 (Heap Sort)"
   ]
  },
  {
   "cell_type": "code",
   "execution_count": null,
   "metadata": {},
   "outputs": [],
   "source": [
    "data = deepcopy(org_data)\n",
    "\n",
    "print(\"[input]  \", data)\n",
    "\n",
    "            \n",
    "print(\"[output] \", data)"
   ]
  },
  {
   "cell_type": "code",
   "execution_count": null,
   "metadata": {},
   "outputs": [],
   "source": [
    "data = deepcopy(org_data)\n",
    "\n",
    "print(\"[input]  \", data)\n",
    "\n",
    "            \n",
    "print(\"[output] \", data)"
   ]
  },
  {
   "cell_type": "markdown",
   "metadata": {},
   "source": [
    "## 계수 정렬 (Counting Sort) "
   ]
  },
  {
   "cell_type": "code",
   "execution_count": null,
   "metadata": {},
   "outputs": [],
   "source": [
    "data = deepcopy(org_data)\n",
    "\n",
    "print(\"[input]  \", data)\n",
    "\n",
    "            \n",
    "print(\"[output] \", data)"
   ]
  },
  {
   "cell_type": "code",
   "execution_count": null,
   "metadata": {},
   "outputs": [],
   "source": [
    "data = deepcopy(org_data)\n",
    "\n",
    "print(\"[input]  \", data)\n",
    "\n",
    "            \n",
    "print(\"[output] \", data)"
   ]
  }
 ],
 "metadata": {
  "kernelspec": {
   "display_name": "Python 3",
   "language": "python",
   "name": "python3"
  },
  "language_info": {
   "codemirror_mode": {
    "name": "ipython",
    "version": 3
   },
   "file_extension": ".py",
   "mimetype": "text/x-python",
   "name": "python",
   "nbconvert_exporter": "python",
   "pygments_lexer": "ipython3",
   "version": "3.7.6"
  }
 },
 "nbformat": 4,
 "nbformat_minor": 4
}
