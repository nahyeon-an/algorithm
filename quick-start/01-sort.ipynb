{
 "cells": [
  {
   "cell_type": "markdown",
   "metadata": {},
   "source": [
    "#### python copy\n",
    "1. 단순 복사  \n",
    "2. 얕은 복사  \n",
    "3. 깊은 복사  \n",
    "\n",
    "[참조](https://blueshw.github.io/2016/01/20/shallow-copy-deep-copy/)"
   ]
  },
  {
   "cell_type": "code",
   "execution_count": 1,
   "metadata": {},
   "outputs": [],
   "source": [
    "from copy import deepcopy"
   ]
  },
  {
   "cell_type": "code",
   "execution_count": 2,
   "metadata": {},
   "outputs": [],
   "source": [
    "org_data = [30, -3, 100, 23, -47, 92, 13, -4, -32]"
   ]
  },
  {
   "cell_type": "markdown",
   "metadata": {},
   "source": [
    "### 선택 정렬 (Selection Sort)\n",
    "\n",
    "정렬되지 않은 배열에서 가장 작은 원소를 맨 앞의 자리로 이동하는 알고리즘 = 오름차순 정렬  \n",
    "앞쪽 배열은 정렬된 상태  \n",
    "특정 원소, 즉 **가장 작은/큰 값을 선택**하여 앞으로 이동시키는 알고리즘  "
   ]
  },
  {
   "cell_type": "code",
   "execution_count": 3,
   "metadata": {},
   "outputs": [
    {
     "name": "stdout",
     "output_type": "stream",
     "text": [
      "[input]   [30, -3, 100, 23, -47, 92, 13, -4, -32]\n",
      "[output]  [-47, -32, -4, -3, 13, 23, 30, 92, 100]\n"
     ]
    }
   ],
   "source": [
    "data = deepcopy(org_data)\n",
    "\n",
    "print(\"[input]  \", data)\n",
    "\n",
    "# 오름차순\n",
    "for i in range(len(data) - 1):\n",
    "    mini = data[i]\n",
    "    idx = i\n",
    "    for j in range(i, len(data)):\n",
    "        if data[j] < mini:\n",
    "            mini = data[j]\n",
    "            idx = j\n",
    "    data[i], data[idx] = data[idx], data[i]\n",
    "            \n",
    "print(\"[output] \", data)"
   ]
  },
  {
   "cell_type": "code",
   "execution_count": 4,
   "metadata": {},
   "outputs": [
    {
     "name": "stdout",
     "output_type": "stream",
     "text": [
      "[input]   [30, -3, 100, 23, -47, 92, 13, -4, -32]\n",
      "[output]  [100, 92, 30, 23, 13, -3, -4, -32, -47]\n"
     ]
    }
   ],
   "source": [
    "# 내림차순\n",
    "data = deepcopy(org_data)\n",
    "\n",
    "print(\"[input]  \", data)\n",
    "\n",
    "for i in range(len(data) - 1):\n",
    "    maxi = data[i]\n",
    "    idx = i\n",
    "    for j in range(i, len(data)):\n",
    "        if data[j] > maxi:\n",
    "            maxi = data[j]\n",
    "            idx = j\n",
    "    data[i], data[idx] = data[idx], data[i]\n",
    "    \n",
    "print(\"[output] \", data)"
   ]
  },
  {
   "cell_type": "markdown",
   "metadata": {},
   "source": [
    "### 버블 정렬 (Bubble Sort)\n",
    "\n",
    "한 사이클이 끝났을 때 가장 큰 값이 배열의 맨 뒤로 보내지는 알고리즘 = 오름차순 정렬  \n",
    "**인접한 두 원소를 비교**하며 계속 반복  \n",
    "뒤쪽 배열이 정렬된 상태 "
   ]
  },
  {
   "cell_type": "code",
   "execution_count": 5,
   "metadata": {},
   "outputs": [
    {
     "name": "stdout",
     "output_type": "stream",
     "text": [
      "[input]   [30, -3, 100, 23, -47, 92, 13, -4, -32]\n",
      "[output]  [-47, -32, -4, -3, 13, 23, 30, 92, 100]\n"
     ]
    }
   ],
   "source": [
    "# sys.stdin.readline()으로는 키보드 입력이 안 나타난다...?\n",
    "\"\"\"\n",
    "jupyter 에서는 stdin 이 제대로 구성되어 있지 않기 때문에 \n",
    "stdin.readline() 을 실행하면 입력을 받지 못하고 항상 빈 문자열이 반환됩니다.\n",
    "\n",
    "sydin.readline() 대신에 input() 을 사용해야 합니다.\n",
    "\n",
    "[출처] https://www.acmicpc.net/board/view/39939\n",
    "\"\"\"\n",
    "# 그렇다고 한다.. 파이참에서는 sys.stdin.readline()이 잘 동작했었다...\n",
    "\n",
    "data = deepcopy(org_data)\n",
    "\n",
    "print(\"[input]  \", data)\n",
    "\n",
    "# 오름차순 정렬\n",
    "for i in range(len(data), 0, -1):\n",
    "    for j in range(i - 1):\n",
    "        # 앞의 데이터가 뒤의 데이터보다 크면 순서 바꿈\n",
    "        if data[j] > data[j+1]:\n",
    "            data[j], data[j+1] = data[j+1], data[j]\n",
    "            \n",
    "print(\"[output] \", data)"
   ]
  },
  {
   "cell_type": "code",
   "execution_count": 6,
   "metadata": {},
   "outputs": [
    {
     "name": "stdout",
     "output_type": "stream",
     "text": [
      "[output]  [100, 92, 30, 23, 13, -3, -4, -32, -47]\n"
     ]
    }
   ],
   "source": [
    "# 내림차순 정렬\n",
    "for i in range(len(data), 0, -1):\n",
    "    for j in range(i - 1):\n",
    "        if data[j] < data[j+1]:\n",
    "            data[j], data[j+1] = data[j+1], data[j]\n",
    "            \n",
    "print(\"[output] \", data)"
   ]
  },
  {
   "cell_type": "markdown",
   "metadata": {},
   "source": [
    "## 삽입 정렬 (Insertion Sort)\n",
    "\n",
    "앞의 배열은 정렬되어 있다 가정  \n",
    "앞의 배열에서 들어갈 위치로 넣음  "
   ]
  },
  {
   "cell_type": "code",
   "execution_count": 7,
   "metadata": {},
   "outputs": [
    {
     "name": "stdout",
     "output_type": "stream",
     "text": [
      "[input]   [30, -3, 100, 23, -47, 92, 13, -4, -32]\n",
      "[-3, 30, 100, 23, -47, 92, 13, -4, -32]\n",
      "[-3, 30, 100, 23, -47, 92, 13, -4, -32]\n",
      "[-3, 23, 30, 100, -47, 92, 13, -4, -32]\n",
      "[-47, -3, 23, 30, 100, 92, 13, -4, -32]\n",
      "[-47, -3, 23, 30, 92, 100, 13, -4, -32]\n",
      "[-47, -3, 13, 23, 30, 92, 100, -4, -32]\n",
      "[-47, -4, -3, 13, 23, 30, 92, 100, -32]\n",
      "[-47, -32, -4, -3, 13, 23, 30, 92, 100]\n",
      "[output]  [-47, -32, -4, -3, 13, 23, 30, 92, 100]\n"
     ]
    }
   ],
   "source": [
    "data = deepcopy(org_data)\n",
    "\n",
    "print(\"[input]  \", data)\n",
    "\n",
    "for i in range(1, len(data)):\n",
    "    idx = i\n",
    "    for j in range(i-1, -1, -1):\n",
    "        if data[j] > data[idx]:\n",
    "            data[j], data[idx] = data[idx], data[j]\n",
    "            idx = j\n",
    "        else:\n",
    "            break  # 앞의 두 정렬보다 좀 더 효율적으로 만드는 부분 (전체를 비교하는 것이 아님)\n",
    "    print(data)\n",
    "            \n",
    "print(\"[output] \", data)"
   ]
  },
  {
   "cell_type": "code",
   "execution_count": 8,
   "metadata": {},
   "outputs": [
    {
     "name": "stdout",
     "output_type": "stream",
     "text": [
      "[input]   [30, -3, 100, 23, -47, 92, 13, -4, -32]\n",
      "[30, -3, 100, 23, -47, 92, 13, -4, -32]\n",
      "[100, 30, -3, 23, -47, 92, 13, -4, -32]\n",
      "[100, 30, 23, -3, -47, 92, 13, -4, -32]\n",
      "[100, 30, 23, -3, -47, 92, 13, -4, -32]\n",
      "[100, 92, 30, 23, -3, -47, 13, -4, -32]\n",
      "[100, 92, 30, 23, 13, -3, -47, -4, -32]\n",
      "[100, 92, 30, 23, 13, -3, -4, -47, -32]\n",
      "[100, 92, 30, 23, 13, -3, -4, -32, -47]\n",
      "[output]  [100, 92, 30, 23, 13, -3, -4, -32, -47]\n"
     ]
    }
   ],
   "source": [
    "data = deepcopy(org_data)\n",
    "\n",
    "print(\"[input]  \", data)\n",
    "\n",
    "for i in range(1, len(data)):\n",
    "    idx = i\n",
    "    for j in range(i-1, -1, -1):\n",
    "        if data[j] < data[idx]:\n",
    "            data[j], data[idx] = data[idx], data[j]\n",
    "            idx = j\n",
    "        else:\n",
    "            break\n",
    "    print(data)\n",
    "    \n",
    "print(\"[output] \", data)"
   ]
  },
  {
   "cell_type": "markdown",
   "metadata": {},
   "source": [
    "## 퀵 정렬 (Quick Sort)"
   ]
  },
  {
   "cell_type": "markdown",
   "metadata": {},
   "source": [
    "기준값 = pivot 을 기준으로 작은 숫자와 큰 숫자를 나누어 정렬   \n",
    "left 는 pivot 보다 큰 값을 찾고, right 는 pivot 보다 작은 값을 찾는다.  \n",
    "left 와 right가 엇갈리면 반복을 pivot과 right의 값을 교환한 후 반복을 멈춤  \n",
    "엇갈리지 않았다면 left, right의 값을 교환  "
   ]
  },
  {
   "cell_type": "markdown",
   "metadata": {},
   "source": [
    "left 는 왼쪽 조각으로 들어갈 데이터를 찾는 것, right는 오른쪽 조각으로 들어갈 데이터를 찾는 것  "
   ]
  },
  {
   "cell_type": "code",
   "execution_count": 9,
   "metadata": {},
   "outputs": [
    {
     "name": "stdout",
     "output_type": "stream",
     "text": [
      "[input]   [30, -3, 100, 23, -47, 92, 13, -4, -32]\n",
      "[output]  [-47, -32, -4, -3, 13, 23, 30, 92, 100]\n"
     ]
    }
   ],
   "source": [
    "data = deepcopy(org_data)\n",
    "\n",
    "print(\"[input]  \", data)\n",
    "\n",
    "def quick_sort(arr, start, end):\n",
    "    if start >= end:\n",
    "        return\n",
    "    \n",
    "    pivot = start\n",
    "    left = start + 1\n",
    "    right = end\n",
    "    \n",
    "    while left <= right:\n",
    "        while left <= end and arr[left] <= arr[pivot]:\n",
    "            left += 1\n",
    "        while right > start and arr[pivot] <= arr[right]:\n",
    "            right -= 1\n",
    "        if left > right:\n",
    "            arr[pivot], arr[right] = arr[right], arr[pivot]\n",
    "        else:\n",
    "            arr[left], arr[right] = arr[right], arr[left]\n",
    "\n",
    "    quick_sort(arr, start, right - 1)\n",
    "    quick_sort(arr, right + 1, end)\n",
    "    \n",
    "quick_sort(data, 0, len(data)-1)\n",
    "            \n",
    "print(\"[output] \", data)"
   ]
  },
  {
   "cell_type": "code",
   "execution_count": 10,
   "metadata": {},
   "outputs": [
    {
     "name": "stdout",
     "output_type": "stream",
     "text": [
      "[input]   [30, -3, 100, 23, -47, 92, 13, -4, -32]\n",
      "[output]  [100, 92, 30, 23, 13, -3, -4, -32, -47]\n"
     ]
    }
   ],
   "source": [
    "data = deepcopy(org_data)\n",
    "\n",
    "print(\"[input]  \", data)\n",
    "\n",
    "def reverse_quick_sort(arr, start, end):\n",
    "    if start >= end:\n",
    "        return\n",
    "    \n",
    "    pivot = start\n",
    "    left = start + 1\n",
    "    right = end\n",
    "    \n",
    "    while left <= right:\n",
    "        while left <= end and arr[left] >= arr[pivot]:\n",
    "            left += 1\n",
    "        while right > start and arr[pivot] >= arr[right]:\n",
    "            right -= 1\n",
    "        if left > right:\n",
    "            arr[pivot], arr[right] = arr[right], arr[pivot]\n",
    "        else:\n",
    "            arr[left], arr[right] = arr[right], arr[left]\n",
    "\n",
    "    reverse_quick_sort(arr, start, right - 1)\n",
    "    reverse_quick_sort(arr, right + 1, end)\n",
    "    \n",
    "reverse_quick_sort(data, 0, len(data)-1)\n",
    "\n",
    "print(\"[output] \", data)"
   ]
  },
  {
   "cell_type": "markdown",
   "metadata": {},
   "source": [
    "## 병합 정렬 (Merge Sort)"
   ]
  },
  {
   "cell_type": "markdown",
   "metadata": {},
   "source": [
    "원소가 하나만 남을 때까지 절반으로 분할  \n",
    "각 조각은 정렬이 된 상태에서 두 조각씩 병합  "
   ]
  },
  {
   "cell_type": "code",
   "execution_count": 11,
   "metadata": {},
   "outputs": [
    {
     "name": "stdout",
     "output_type": "stream",
     "text": [
      "[input]   [30, -3, 100, 23, -47, 92, 13, -4, -32]\n",
      "[output]  [-47, -32, -4, -3, 13, 23, 30, 92, 100]\n"
     ]
    }
   ],
   "source": [
    "data = deepcopy(org_data)\n",
    "\n",
    "print(\"[input]  \", data)\n",
    "\n",
    "def merge(arr, start, mid, end):\n",
    "    # 실제로 합치는 함수\n",
    "    left, right = start, mid+1    \n",
    "    ret = []\n",
    "    \n",
    "    while left <= mid and right <= end:\n",
    "        if arr[left] < arr[right]:\n",
    "            ret.append(arr[left])\n",
    "            left += 1\n",
    "        else:\n",
    "            ret.append(arr[right])\n",
    "            right += 1\n",
    "    \n",
    "    while left <= mid:\n",
    "        ret.append(arr[left])\n",
    "        left += 1\n",
    "        \n",
    "    while right <= end:\n",
    "        ret.append(arr[right])\n",
    "        right += 1\n",
    "        \n",
    "    for i in range(end, start-1, -1):\n",
    "        arr[i] = ret.pop()\n",
    "    \n",
    "def merge_sort(arr, start, end):\n",
    "    # 반씩 분할\n",
    "    if start >= end:\n",
    "        return\n",
    "    mid = (start + end) // 2\n",
    "    merge_sort(arr, start, mid)\n",
    "    merge_sort(arr, mid+1, end)\n",
    "    merge(arr, start, mid, end)\n",
    "    \n",
    "merge_sort(data, 0, len(data)-1)\n",
    "            \n",
    "print(\"[output] \", data)"
   ]
  },
  {
   "cell_type": "code",
   "execution_count": 13,
   "metadata": {},
   "outputs": [
    {
     "name": "stdout",
     "output_type": "stream",
     "text": [
      "[input]   [30, -3, 100, 23, -47, 92, 13, -4, -32]\n",
      "[output]  [100, 92, 30, 23, 13, -3, -4, -32, -47]\n"
     ]
    }
   ],
   "source": [
    "data = deepcopy(org_data)\n",
    "\n",
    "print(\"[input]  \", data)\n",
    "\n",
    "def merge(arr, start, mid, end):\n",
    "    left, right = start, mid+1    \n",
    "    ret = []\n",
    "    \n",
    "    while left <= mid and right <= end:\n",
    "        if arr[left] > arr[right]:\n",
    "            ret.append(arr[left])\n",
    "            left += 1\n",
    "        else:\n",
    "            ret.append(arr[right])\n",
    "            right += 1\n",
    "    \n",
    "    while left <= mid:\n",
    "        ret.append(arr[left])\n",
    "        left += 1\n",
    "        \n",
    "    while right <= end:\n",
    "        ret.append(arr[right])\n",
    "        right += 1\n",
    "        \n",
    "    for i in range(end, start-1, -1):\n",
    "        arr[i] = ret.pop()\n",
    "    \n",
    "def merge_sort(arr, start, end):\n",
    "    if start >= end:\n",
    "        return\n",
    "    mid = (start + end) // 2\n",
    "    merge_sort(arr, start, mid)\n",
    "    merge_sort(arr, mid+1, end)\n",
    "    merge(arr, start, mid, end)\n",
    "    \n",
    "merge_sort(data, 0, len(data)-1)\n",
    "\n",
    "print(\"[output] \", data)"
   ]
  },
  {
   "cell_type": "markdown",
   "metadata": {},
   "source": [
    "## 힙 정렬 (Heap Sort)"
   ]
  },
  {
   "cell_type": "markdown",
   "metadata": {},
   "source": [
    "힙 트리 구조를 이용하는 정렬  \n",
    "\n",
    "힙(heap) 트리 : **완전이진트리**를 기반으로 최솟값, 최댓값을 빠르게 찾는 자료구조  \n",
    "- 최소 힙 : 부모 노드의 값이 자식 노드의 값보다 항상 작다  \n",
    "- 최대 힙 : 부모 노드의 값이 자식 노드의 값보다 항상 크다  \n",
    "\n",
    "heapify : 노드를 검사하여 조건에 맞게 부모 노드와 자식 노드를 교환하는 알고리즘  \n",
    "\n",
    "힙 정렬  \n",
    "1. 힙 구조를 만든다. = O(logN)  \n",
    "2. 힙에서 루트 노드를 빼내고 다시 heapify 를 반복하여 정렬된 배열을 얻는다. = O(N)  "
   ]
  },
  {
   "cell_type": "code",
   "execution_count": 14,
   "metadata": {},
   "outputs": [
    {
     "name": "stdout",
     "output_type": "stream",
     "text": [
      "[input]   [30, -3, 100, 23, -47, 92, 13, -4, -32]\n",
      "[0, -47, -32, 13, -3, -4, 100, 92, 30, 23]\n",
      "[0, -32, 13, -3, -4, 100, 92, 30, 23]\n",
      "[0, -4, 13, -3, 100, 92, 30, 23]\n",
      "[0, -3, 13, 100, 92, 30, 23]\n",
      "[0, 13, 100, 92, 30, 23]\n",
      "[0, 30, 23, 92, 100]\n",
      "[0, 23, 92, 100]\n",
      "[0, 92, 100]\n",
      "[0, 100]\n",
      "[0]\n",
      "[output]  [-47, -32, -4, -3, 13, 30, 23, 92, 100]\n"
     ]
    }
   ],
   "source": [
    "data = deepcopy(org_data)\n",
    "\n",
    "print(\"[input]  \", data)\n",
    "\n",
    "# 최소 힙\n",
    "def heapify(arr, node, n):\n",
    "    \"\"\"\n",
    "    node : 노드번호\n",
    "    n : 노드의 개수\n",
    "    \"\"\"\n",
    "    left = 2 * node\n",
    "    right = 2 * node + 1\n",
    "    \n",
    "    if left <= n and arr[left] < arr[node]:\n",
    "        arr[left], arr[node] = arr[node], arr[left]\n",
    "        heapify(arr, left, n)\n",
    "        \n",
    "    if right <= n and arr[right] < arr[node]:\n",
    "        arr[right], arr[node] = arr[node], arr[right]\n",
    "        heapify(arr, right, n)\n",
    "        \n",
    "def heap_sort(arr):\n",
    "    num = len(arr)\n",
    "    temp = [0] + arr\n",
    "    ret = []\n",
    "    for i in range(num, 0, -1):\n",
    "        heapify(temp, i, num)\n",
    "    \n",
    "    print(temp)\n",
    "    \n",
    "    for i in range(1, num+1):\n",
    "        ret.append(temp[1])\n",
    "        temp = [0] + temp[2:]\n",
    "        num -= 1\n",
    "        heapify(temp, 1, num)\n",
    "        print(temp)\n",
    "        \n",
    "    return ret\n",
    "            \n",
    "print(\"[output] \", heap_sort(data))"
   ]
  },
  {
   "cell_type": "code",
   "execution_count": 15,
   "metadata": {},
   "outputs": [
    {
     "name": "stdout",
     "output_type": "stream",
     "text": [
      "[input]   [30, -3, 100, 23, -47, 92, 13, -4, -32]\n",
      "[0, 100, 23, 92, -3, -47, 30, 13, -4, -32]\n",
      "[0, 92, 30, -3, -47, 23, 13, -4, -32]\n",
      "[0, 30, -3, -47, 23, 13, -4, -32]\n",
      "[0, 23, -47, -3, 13, -4, -32]\n",
      "[0, 13, -4, -3, -47, -32]\n",
      "[0, -3, -4, -47, -32]\n",
      "[0, -4, -47, -32]\n",
      "[0, -32, -47]\n",
      "[0, -47]\n",
      "[0]\n",
      "[output]  [100, 92, 30, 23, 13, -3, -4, -32, -47]\n"
     ]
    }
   ],
   "source": [
    "data = deepcopy(org_data)\n",
    "\n",
    "print(\"[input]  \", data)\n",
    "\n",
    "# 최대 힙\n",
    "def heapify(arr, node, n):\n",
    "    left = 2 * node\n",
    "    right = 2 * node + 1\n",
    "    \n",
    "    if left <= n and arr[left] > arr[node]:\n",
    "        arr[left], arr[node] = arr[node], arr[left]\n",
    "        heapify(arr, left, n)\n",
    "        \n",
    "    if right <= n and arr[right] > arr[node]:\n",
    "        arr[right], arr[node] = arr[node], arr[right]\n",
    "        heapify(arr, right, n)\n",
    "        \n",
    "def heap_sort(arr):\n",
    "    num = len(arr)\n",
    "    temp = [0] + arr\n",
    "    ret = []\n",
    "    for i in range(1, num+1):\n",
    "        heapify(temp, i, num)\n",
    "    \n",
    "    print(temp)\n",
    "    \n",
    "    for i in range(1, num+1):\n",
    "        ret.append(temp[1])\n",
    "        temp = [0] + temp[2:]\n",
    "        num -= 1\n",
    "        heapify(temp, 1, num)\n",
    "        print(temp)\n",
    "        \n",
    "    return ret\n",
    "            \n",
    "print(\"[output] \", heap_sort(data))"
   ]
  },
  {
   "cell_type": "markdown",
   "metadata": {},
   "source": [
    "## 계수 정렬 (Counting Sort) "
   ]
  },
  {
   "cell_type": "markdown",
   "metadata": {},
   "source": [
    "범위 조건이 존재하는 경우 굉장히 빠른 알고리즘 O(N)  \n",
    "ex. 5이하의 자연수 데이터들을 오름차순 정렬하시오.  \n",
    "\n",
    "크기를 기준으로 개수를 세는 알고리즘  \n",
    "\n",
    "범위를 배열로 만듦 -> 개수만큼 반복하여 해당 값을 출력   "
   ]
  },
  {
   "cell_type": "code",
   "execution_count": 16,
   "metadata": {},
   "outputs": [
    {
     "name": "stdout",
     "output_type": "stream",
     "text": [
      "[input]   [1, 1, 4, 2, 3, 1, 5, 2, 1, 3, 3, 4, 4, 2, 1, 3, 5, 2, 1]\n",
      "[output]  [1, 1, 1, 1, 1, 1, 2, 2, 2, 2, 3, 3, 3, 3, 4, 4, 4, 5, 5]\n",
      "[output]  [5, 5, 4, 4, 4, 3, 3, 3, 3, 2, 2, 2, 2, 1, 1, 1, 1, 1, 1]\n"
     ]
    }
   ],
   "source": [
    "data = [1, 1, 4, 2, 3, 1, 5, 2, 1, 3, 3, 4, 4, 2, 1, 3, 5, 2, 1]\n",
    "\n",
    "print(\"[input]  \", data)\n",
    "\n",
    "num = [0] * 5\n",
    "for d in data:\n",
    "    num[d-1] += 1\n",
    "\n",
    "ret = []\n",
    "for i in range(5):\n",
    "    ret += ([i+1] * num[i])\n",
    "            \n",
    "print(\"[output] \", ret)\n",
    "\n",
    "desc = []\n",
    "for i in range(4, -1, -1):\n",
    "    desc += ([i+1] * num[i])\n",
    "    \n",
    "print(\"[output] \", desc)"
   ]
  },
  {
   "cell_type": "code",
   "execution_count": null,
   "metadata": {},
   "outputs": [],
   "source": []
  }
 ],
 "metadata": {
  "kernelspec": {
   "display_name": "Python 3",
   "language": "python",
   "name": "python3"
  },
  "language_info": {
   "codemirror_mode": {
    "name": "ipython",
    "version": 3
   },
   "file_extension": ".py",
   "mimetype": "text/x-python",
   "name": "python",
   "nbconvert_exporter": "python",
   "pygments_lexer": "ipython3",
   "version": "3.7.6"
  }
 },
 "nbformat": 4,
 "nbformat_minor": 4
}
