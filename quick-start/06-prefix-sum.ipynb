{
 "cells": [
  {
   "cell_type": "markdown",
   "metadata": {},
   "source": [
    "[백준 2042 : 구간합 구하기](https://www.acmicpc.net/problem/2042)"
   ]
  },
  {
   "cell_type": "markdown",
   "metadata": {},
   "source": [
    "구간합을 구할 때 값의 업데이트가 존재하는 경우 사용하는 알고리즘  \n",
    "구간합 뿐만 아니라 구간곱, 최대/최소 등에서도 활용 가능  "
   ]
  },
  {
   "cell_type": "markdown",
   "metadata": {},
   "source": [
    "## Segment Tree"
   ]
  },
  {
   "cell_type": "code",
   "execution_count": 4,
   "metadata": {},
   "outputs": [
    {
     "name": "stdin",
     "output_type": "stream",
     "text": [
      " 5 2 2\n",
      " 1\n",
      " 2\n",
      " 3\n",
      " 4\n",
      " 5\n"
     ]
    },
    {
     "name": "stdout",
     "output_type": "stream",
     "text": [
      "[0, 15, 6, 9, 3, 3, 4, 5, 1, 2, 0, 0, 0, 0, 0, 0]\n"
     ]
    },
    {
     "name": "stdin",
     "output_type": "stream",
     "text": [
      " 1 3 6\n",
      " 2 2 5\n"
     ]
    },
    {
     "name": "stdout",
     "output_type": "stream",
     "text": [
      "17\n"
     ]
    },
    {
     "name": "stdin",
     "output_type": "stream",
     "text": [
      " 1 5 2\n",
      " 2 3 5\n"
     ]
    },
    {
     "name": "stdout",
     "output_type": "stream",
     "text": [
      "12\n"
     ]
    }
   ],
   "source": [
    "import sys\n",
    "from math import ceil, log2\n",
    "\n",
    "n, m, k = map(int, input().split())\n",
    "\n",
    "arr = [0] * (n+1)\n",
    "tree = [0] * (pow(2, ceil(log2(n)) +1))\n",
    "\n",
    "def init(a, t, node, start, end):\n",
    "    if start == end:\n",
    "        t[node] = a[start]\n",
    "        return t[node]\n",
    "    mid = (start + end) // 2\n",
    "    t[node] = init(a, t, 2 * node, start, mid) + init(a, t, 2*node+1, mid+1, end)\n",
    "    return t[node]\n",
    "\n",
    "def query(t, node, start, end, left, right):\n",
    "    if left > end or right < start:\n",
    "        return 0\n",
    "    if left <= start and end <= right:\n",
    "        return t[node]\n",
    "    mid = (start + end) // 2\n",
    "    return query(t, 2*node, start, mid, left, right) + query(t, 2*node+1, mid+1, end, left, right)\n",
    "\n",
    "def update(t, node, start, end, idx, diff):\n",
    "    if idx < start or idx > end:\n",
    "        return\n",
    "    t[node] += diff\n",
    "    if start != end:\n",
    "        mid = (start + end) // 2\n",
    "        update(t, 2*node, start, mid, idx, diff)\n",
    "        update(t, 2*node+1, mid+1, end, idx, diff)\n",
    "\n",
    "for i in range(1, n+1):\n",
    "    x = int(input())\n",
    "    arr[i] = x\n",
    "\n",
    "init(arr, tree, 1, 1, n)\n",
    "print(tree)\n",
    "    \n",
    "for i in range(m + k):\n",
    "    a, b, c = map(int, input().split())\n",
    "    if a == 1:\n",
    "        update(tree, 1, 1, n, b, c - arr[b])\n",
    "        arr[b] = c\n",
    "    else:\n",
    "        print(query(tree, 1, 1, n, b, c))"
   ]
  },
  {
   "cell_type": "code",
   "execution_count": null,
   "metadata": {},
   "outputs": [],
   "source": []
  },
  {
   "cell_type": "markdown",
   "metadata": {},
   "source": [
    "## Fenwick Tree\n",
    "\n",
    "[펜윅 트리 - 백준 게시판의 설명글](https://www.acmicpc.net/blog/view/21)"
   ]
  },
  {
   "cell_type": "code",
   "execution_count": 5,
   "metadata": {},
   "outputs": [
    {
     "name": "stdin",
     "output_type": "stream",
     "text": [
      " 5 2 2\n",
      " 1\n"
     ]
    },
    {
     "name": "stdout",
     "output_type": "stream",
     "text": [
      "1 1 [0, 1, 1, 0, 1, 0]\n"
     ]
    },
    {
     "name": "stdin",
     "output_type": "stream",
     "text": [
      " 2\n"
     ]
    },
    {
     "name": "stdout",
     "output_type": "stream",
     "text": [
      "2 2 [0, 1, 3, 0, 3, 0]\n"
     ]
    },
    {
     "name": "stdin",
     "output_type": "stream",
     "text": [
      " 3\n"
     ]
    },
    {
     "name": "stdout",
     "output_type": "stream",
     "text": [
      "3 3 [0, 1, 3, 3, 6, 0]\n"
     ]
    },
    {
     "name": "stdin",
     "output_type": "stream",
     "text": [
      " 4\n"
     ]
    },
    {
     "name": "stdout",
     "output_type": "stream",
     "text": [
      "4 4 [0, 1, 3, 3, 10, 0]\n"
     ]
    },
    {
     "name": "stdin",
     "output_type": "stream",
     "text": [
      " 5\n"
     ]
    },
    {
     "name": "stdout",
     "output_type": "stream",
     "text": [
      "5 5 [0, 1, 3, 3, 10, 5]\n"
     ]
    },
    {
     "name": "stdin",
     "output_type": "stream",
     "text": [
      " 1 3 6\n",
      " 2 2 5\n"
     ]
    },
    {
     "name": "stdout",
     "output_type": "stream",
     "text": [
      "17\n"
     ]
    },
    {
     "name": "stdin",
     "output_type": "stream",
     "text": [
      " 1 5 2\n",
      " 2 3 5\n"
     ]
    },
    {
     "name": "stdout",
     "output_type": "stream",
     "text": [
      "12\n"
     ]
    }
   ],
   "source": [
    "import sys\n",
    "\n",
    "n, m, k = map(int, input().split())\n",
    "\n",
    "arr = [0] * (n+1)\n",
    "tree = [0] * (n+1)\n",
    "\n",
    "# i번째 수까지 누적합을 계산\n",
    "def prefix_sum(i):\n",
    "    result = 0\n",
    "    while i > 0:\n",
    "        result += tree[i]\n",
    "        i -= (i & -i)\n",
    "    return result\n",
    "\n",
    "# i번째 수를 dif 만큼 더한다 \n",
    "def update(i, dif):\n",
    "    while i <= n:\n",
    "        tree[i] += dif\n",
    "        i += (i & -i)\n",
    "        \n",
    "# start 부터 end까지의 구간 합을 계산\n",
    "def interval_sum(start, end):\n",
    "    return prefix_sum(end) - prefix_sum(start-1)\n",
    "\n",
    "for i in range(1, n+1):\n",
    "    x = int(input())\n",
    "    arr[i] = x\n",
    "    update(i, x)\n",
    "    print(i, x, tree)\n",
    "    \n",
    "for i in range(m + k):\n",
    "    a, b, c = map(int, input().split())\n",
    "    if a == 1:\n",
    "        update(b, c - arr[b])\n",
    "        arr[b] = c\n",
    "    else:\n",
    "        print(interval_sum(b, c))"
   ]
  },
  {
   "cell_type": "code",
   "execution_count": null,
   "metadata": {},
   "outputs": [],
   "source": []
  }
 ],
 "metadata": {
  "kernelspec": {
   "display_name": "Python 3",
   "language": "python",
   "name": "python3"
  },
  "language_info": {
   "codemirror_mode": {
    "name": "ipython",
    "version": 3
   },
   "file_extension": ".py",
   "mimetype": "text/x-python",
   "name": "python",
   "nbconvert_exporter": "python",
   "pygments_lexer": "ipython3",
   "version": "3.7.6"
  }
 },
 "nbformat": 4,
 "nbformat_minor": 4
}
