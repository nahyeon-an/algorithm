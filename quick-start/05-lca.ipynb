{
 "cells": [
  {
   "cell_type": "markdown",
   "metadata": {},
   "source": [
    "### 기본 알고리즘\n",
    "1. 모든 노드에 대해 depth를 계산 = dfs  \n",
    "2. 쿼리 대상인 두 노드의 depth가 동일할 때까지 depth가 큰 노드를 거슬러 올라감  \n",
    "3. 부모가 같아질 때까지 두 노드의 부모를 거술러 올라감  \n",
    "최악의 경우 거술러 올라가는 연산 = O(N)  \n",
    "쿼리가 M개일 때 = O(NM)  "
   ]
  },
  {
   "cell_type": "code",
   "execution_count": 1,
   "metadata": {},
   "outputs": [],
   "source": [
    "import sys"
   ]
  },
  {
   "cell_type": "code",
   "execution_count": 2,
   "metadata": {},
   "outputs": [],
   "source": [
    "sys.setrecursionlimit(int(1e5))"
   ]
  },
  {
   "cell_type": "code",
   "execution_count": 4,
   "metadata": {},
   "outputs": [],
   "source": [
    "n = 15"
   ]
  },
  {
   "cell_type": "code",
   "execution_count": 5,
   "metadata": {},
   "outputs": [],
   "source": [
    "parent = [0] * (n+1)\n",
    "d = [0] * (n+1)\n",
    "c = [0] * (n+1)\n",
    "graph = [[] for _ in range(n+1)]"
   ]
  },
  {
   "cell_type": "code",
   "execution_count": null,
   "metadata": {},
   "outputs": [],
   "source": []
  },
  {
   "cell_type": "code",
   "execution_count": null,
   "metadata": {},
   "outputs": [],
   "source": [
    "def dfs(x, depth):\n",
    "    \"\"\"\n",
    "    노드의 깊이와 부모 노드를 찾기\n",
    "    \"\"\"\n",
    "    c[x] = True\n",
    "    d[x] = depth\n",
    "    for nex in graph[x]:\n",
    "        if not c[nex]:\n",
    "            parent[nex] = x\n",
    "            dfs(nex, depth + 1)"
   ]
  },
  {
   "cell_type": "code",
   "execution_count": null,
   "metadata": {},
   "outputs": [],
   "source": [
    "dfs(1, 0)  # 루트 노드는 1, 깊이는 0"
   ]
  },
  {
   "cell_type": "code",
   "execution_count": null,
   "metadata": {},
   "outputs": [],
   "source": [
    "def lca(a, b):\n",
    "    while d[a] != d[b]:\n",
    "        if d[a] > d[b]:\n",
    "            a = parent[a]\n",
    "        else:\n",
    "            b = parent[b]\n",
    "    while a != b:\n",
    "        a = parent[a]\n",
    "        b = parent[b]\n",
    "    return a"
   ]
  },
  {
   "cell_type": "markdown",
   "metadata": {},
   "source": [
    "### 개선\n",
    "노드가 거슬러 올라가는 속도를 빠르게 만드는 방법?  \n",
    "2의 제곱 형태로 거술러 올라가면 O(lgN)의 시간복잡도로 줄일 수 있다.  \n",
    "15칸을 거슬러야 한다면? 8 > 4 > 2 > 1  \n",
    "메모리를 더 사용하여 각 노드의 2 ** i 번째 부모 노드에 대한 정보를 기록함  \n",
    "\n",
    "부모노드를 거슬러 올라가는 시간복잡도 = O(lgN)  \n",
    "쿼리의 개수가 M개일 때 전체 시간복잡도 = O(MlgN)  "
   ]
  },
  {
   "cell_type": "code",
   "execution_count": 2,
   "metadata": {},
   "outputs": [],
   "source": [
    "LOG = 21  # 2^20 = 1000000\n",
    "\n",
    "n = 15\n",
    "parent = [[0] * LOG for _ in range(n+1)]\n",
    "d = [0] * (n+1)\n",
    "c = [0] * (n+1)\n",
    "graph = [[] for _ in range(n+1)]"
   ]
  },
  {
   "cell_type": "code",
   "execution_count": null,
   "metadata": {},
   "outputs": [],
   "source": [
    "def dfs(x, depth):\n",
    "    c[x] = True\n",
    "    d[x] = depth\n",
    "    for y in graph[x]:\n",
    "        if not c[y]:\n",
    "            parent[y][0] = x\n",
    "            dfs(y, depth+1)"
   ]
  },
  {
   "cell_type": "code",
   "execution_count": null,
   "metadata": {},
   "outputs": [],
   "source": [
    "def set_parent():\n",
    "    # 각 노드의 2의 i 번째 부모노드 찾기\n",
    "    dfs(1, 0)\n",
    "    for i in range(1, LOG):\n",
    "        for j in range(1, n+1):\n",
    "            parent[j][i] = parent[parent[j][i-1]][i-1]"
   ]
  },
  {
   "cell_type": "code",
   "execution_count": null,
   "metadata": {},
   "outputs": [],
   "source": [
    "def lca(a, b):\n",
    "    if d[a] > d[b]:\n",
    "        a, b = b, a\n",
    "    for i in range(LOG-1, -1, -1):\n",
    "        if d[b] - d[a] >= (1 << i):\n",
    "            b = parent[b][i]\n",
    "    if a == b:\n",
    "        return a\n",
    "    for i in range(LOG-1, -1, -1):\n",
    "        if parent[a][i] != parent[b][i]:\n",
    "            a = parent[a][i]\n",
    "            b = parent[b][i]\n",
    "    return parent[a][0]"
   ]
  },
  {
   "cell_type": "code",
   "execution_count": null,
   "metadata": {},
   "outputs": [],
   "source": [
    "set_parent()\n",
    "lca()"
   ]
  },
  {
   "cell_type": "code",
   "execution_count": 1,
   "metadata": {},
   "outputs": [
    {
     "output_type": "execute_result",
     "data": {
      "text/plain": [
       "4"
      ]
     },
     "metadata": {},
     "execution_count": 1
    }
   ],
   "source": [
    "1 << 2"
   ]
  },
  {
   "cell_type": "code",
   "execution_count": 2,
   "metadata": {},
   "outputs": [
    {
     "output_type": "execute_result",
     "data": {
      "text/plain": [
       "1"
      ]
     },
     "metadata": {},
     "execution_count": 2
    }
   ],
   "source": [
    "1 << 0"
   ]
  },
  {
   "cell_type": "code",
   "execution_count": 3,
   "metadata": {},
   "outputs": [
    {
     "output_type": "execute_result",
     "data": {
      "text/plain": [
       "2"
      ]
     },
     "metadata": {},
     "execution_count": 3
    }
   ],
   "source": [
    "1 << 1"
   ]
  },
  {
   "cell_type": "code",
   "execution_count": null,
   "metadata": {},
   "outputs": [],
   "source": []
  }
 ],
 "metadata": {
  "kernelspec": {
   "name": "python385jvsc74a57bd096b35406b75d45586dc95859edcb4e85a5aae4582403cd00a9034e0205d61f8c",
   "display_name": "Python 3.8.5 64-bit ('scrapy': conda)"
  },
  "language_info": {
   "codemirror_mode": {
    "name": "ipython",
    "version": 3
   },
   "file_extension": ".py",
   "mimetype": "text/x-python",
   "name": "python",
   "nbconvert_exporter": "python",
   "pygments_lexer": "ipython3",
   "version": "3.8.5"
  },
  "metadata": {
   "interpreter": {
    "hash": "96b35406b75d45586dc95859edcb4e85a5aae4582403cd00a9034e0205d61f8c"
   }
  }
 },
 "nbformat": 4,
 "nbformat_minor": 4
}