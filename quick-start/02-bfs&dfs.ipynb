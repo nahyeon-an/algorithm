{
 "cells": [
  {
   "cell_type": "code",
   "execution_count": 1,
   "metadata": {},
   "outputs": [],
   "source": [
    "n = 7\n",
    "visit = [False for _ in range(n+1)]\n",
    "g = {\n",
    "    1: [2, 3],\n",
    "    2: [1, 3, 4, 5],\n",
    "    3: [1, 2, 6, 7], \n",
    "    4: [2, 5],\n",
    "    5: [2, 4],\n",
    "    6: [3, 7],\n",
    "    7: [3, 6]\n",
    "}"
   ]
  },
  {
   "cell_type": "markdown",
   "metadata": {},
   "source": [
    "## BFS  "
   ]
  },
  {
   "cell_type": "markdown",
   "metadata": {},
   "source": [
    "#### Queue를 이용하여 구현한다.  "
   ]
  },
  {
   "cell_type": "code",
   "execution_count": 2,
   "metadata": {},
   "outputs": [
    {
     "name": "stdout",
     "output_type": "stream",
     "text": [
      "1 2 3 6 7 4 5 "
     ]
    }
   ],
   "source": [
    "from collections import deque\n",
    "\n",
    "def bfs(start):\n",
    "    dq = deque()\n",
    "    dq.append(start)\n",
    "    visit[start] = True\n",
    "    while dq:\n",
    "        cur = dq.popleft()\n",
    "        print(cur, end=' ')\n",
    "        for nex in g[cur]:\n",
    "            if not visit[nex]:\n",
    "                bfs(nex)\n",
    "                \n",
    "bfs(1)"
   ]
  },
  {
   "cell_type": "code",
   "execution_count": null,
   "metadata": {},
   "outputs": [],
   "source": []
  },
  {
   "cell_type": "markdown",
   "metadata": {},
   "source": [
    "## DFS"
   ]
  },
  {
   "cell_type": "markdown",
   "metadata": {},
   "source": [
    "#### Stack을 이용하여 구현하거나 재귀함수 호출로 구현할 수 있다.  \n",
    "\n",
    "컴퓨터는 내부적으로 함수 호출 시 스택에 쌓아두기 때문에 재귀만으로도 구현이 가능하다.  "
   ]
  },
  {
   "cell_type": "code",
   "execution_count": 3,
   "metadata": {},
   "outputs": [
    {
     "name": "stdout",
     "output_type": "stream",
     "text": [
      "1 2 3 6 7 4 5 "
     ]
    }
   ],
   "source": [
    "visit = [False for _ in range(n+1)]\n",
    "\n",
    "def dfs(start):\n",
    "    if visit[start]:\n",
    "        return\n",
    "    visit[start] = True\n",
    "    print(start, end=' ')\n",
    "    for nex in g[start]:\n",
    "        dfs(nex)\n",
    "                \n",
    "dfs(1)"
   ]
  },
  {
   "cell_type": "code",
   "execution_count": null,
   "metadata": {},
   "outputs": [],
   "source": []
  }
 ],
 "metadata": {
  "kernelspec": {
   "display_name": "Python 3",
   "language": "python",
   "name": "python3"
  },
  "language_info": {
   "codemirror_mode": {
    "name": "ipython",
    "version": 3
   },
   "file_extension": ".py",
   "mimetype": "text/x-python",
   "name": "python",
   "nbconvert_exporter": "python",
   "pygments_lexer": "ipython3",
   "version": "3.7.6"
  }
 },
 "nbformat": 4,
 "nbformat_minor": 4
}
