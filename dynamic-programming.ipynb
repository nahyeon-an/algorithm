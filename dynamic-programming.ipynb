{
 "cells": [
  {
   "cell_type": "markdown",
   "metadata": {},
   "source": [
    "# 동적 계획법 (Dynamic Programming)\n",
    "ch. 08 - 09  \n",
    "\n",
    "중복되는 부분 문제 : 두 번 이상 계산되는 부분 문제  \n",
    "ex) 점화식, 이항 계수의 계산  \n",
    "\n",
    "두 번 이상 반복 계산되는 부분 문제의 답을 미리 저장하여 속도를 향상시킴  \n",
    "\n",
    "메모이제이션을 적용할 수 있는 경우 : 참조적 투명 함수의 경우에만 가능  \n",
    "참조적 투명성 : 함수의 반환 값이 그 입력 값만으로 결정되는지의 여부  \n",
    "참조적 투명 함수 : 입력이 고정되어 있을 때 그 결과가 항상 같은 함수  \n",
    "\n",
    "### 메모이제이션의 시간 복잡도 분석\n",
    "(존재하는 부분 문제의 수) * (한 부분 문제를 풀 때 필요한 반복문의 횟수)  \n",
    "\n"
   ]
  },
  {
   "cell_type": "code",
   "execution_count": 1,
   "metadata": {},
   "outputs": [
    {
     "name": "stdout",
     "output_type": "stream",
     "text": [
      "3\n"
     ]
    }
   ],
   "source": [
    "# 재귀 호출을 이용한 이항 계수 계산\n",
    "def bino(n, r):\n",
    "    if r == 0 or n == r:\n",
    "        return 1\n",
    "    return bino(n-1, r-1) + bino(n-1, r)\n",
    "\n",
    "print(bino(3,2))"
   ]
  },
  {
   "cell_type": "code",
   "execution_count": 5,
   "metadata": {},
   "outputs": [
    {
     "name": "stdout",
     "output_type": "stream",
     "text": [
      "153\n"
     ]
    }
   ],
   "source": [
    "# 메모이제이션을 이용한 이항 계수 계산\n",
    "def bino2(n, r):\n",
    "    memo = [[-1 for _ in range(r+1)] for _ in range(n+1)]\n",
    "    if r == 0 or r == n:\n",
    "        return 1\n",
    "    if memo[n][r] != -1:\n",
    "        return memo[n][r]\n",
    "    memo[n][r] = bino2(n-1, r-1) + bino2(n-1, r)\n",
    "    return memo[n][r]\n",
    "\n",
    "print(bino2(18,2))"
   ]
  },
  {
   "cell_type": "markdown",
   "metadata": {},
   "source": [
    "3 테스트 케이스의 수  \n",
    "he?p 와일드카드 패턴  \n",
    "3       파일명의 수  \n",
    "help      n줄에 파일명  \n",
    "heap  \n",
    "helpp  \n",
    "\\*p\\*  \n",
    "3       파일명의 수  \n",
    "help  \n",
    "papa  \n",
    "hello  \n",
    "\\*bb\\*  \n",
    "1        파일명의 수  \n",
    "babbbc  "
   ]
  },
  {
   "cell_type": "code",
   "execution_count": 2,
   "metadata": {},
   "outputs": [
    {
     "name": "stdout",
     "output_type": "stream",
     "text": [
      "True\n",
      "True\n",
      "False\n"
     ]
    }
   ],
   "source": [
    "# 8.6 와일드 카드\n",
    "def match(w, s):\n",
    "    pos = 0\n",
    "    while (pos<len(s)) and (pos<len(w)) and \\\n",
    "    (w[pos]=='?' or w[pos]==s[pos]):\n",
    "        pos += 1\n",
    "        \n",
    "    if pos == len(w):\n",
    "        return pos==len(s)\n",
    "    \n",
    "    if w[pos] == '*':\n",
    "        for skip in range(len(s)-pos+1):\n",
    "            if match(w[pos+1:], s[pos+skip:]):\n",
    "                return True\n",
    "    return False\n",
    "\n",
    "print(match('he?p', 'help'))\n",
    "print(match('he?p', 'heap'))\n",
    "print(match('he?p', 'helpp'))"
   ]
  },
  {
   "cell_type": "code",
   "execution_count": 5,
   "metadata": {},
   "outputs": [
    {
     "name": "stdout",
     "output_type": "stream",
     "text": [
      "False\n"
     ]
    }
   ],
   "source": [
    "# 8.7 와일드카드 (DP)\n",
    "# 캐시는 어떻게 초기화하는거지..?\n",
    "cache = [ [-1 for _ in range(101)] for _ in range(101) ]\n",
    "\n",
    "W = 'he?p'\n",
    "S = 'helpp' # heap, helpp\n",
    "def match(w, s):\n",
    "    ret = cache[w][s]\n",
    "    if ret != -1:\n",
    "        return ret\n",
    "    \n",
    "    while (s<len(S)) and (w<len(W)) and \\\n",
    "    (W[w]=='?' or W[w]==S[s]):\n",
    "        return match(w+1, s+1)\n",
    "        \n",
    "    if w == len(W):\n",
    "        cache[w][s] = (s==len(S))\n",
    "        return s==len(S)\n",
    "    \n",
    "    if W[w] == '*':\n",
    "        if match(w+1, s) or (s<len(S) and match(w,s+1)):\n",
    "            return True\n",
    "    return False\n",
    "\n",
    "print(match(0, 0))"
   ]
  },
  {
   "cell_type": "code",
   "execution_count": 24,
   "metadata": {},
   "outputs": [
    {
     "name": "stdout",
     "output_type": "stream",
     "text": [
      "5\n",
      "6\n",
      "5\n"
     ]
    }
   ],
   "source": [
    "# 문제 8.5 합친 LIS\n",
    "import sys\n",
    "neginf = - sys.maxsize + 1\n",
    "\n",
    "def jlis(idx_a, idx_b):\n",
    "    global A, B, n, m\n",
    "    ret = cache[idx_a+1][idx_b+1]\n",
    "    \n",
    "    if ret != -1:\n",
    "        return ret\n",
    "    \n",
    "    ret = 2\n",
    "    if idx_a == -1:\n",
    "        a = neginf\n",
    "    else:\n",
    "        a = A[idx_a]\n",
    "        \n",
    "    if idx_b == -1:\n",
    "        b = neginf\n",
    "    else:\n",
    "        b = B[idx_b]\n",
    "        \n",
    "    max_element = max(a,b)\n",
    "    \n",
    "    for next_a in range(idx_a+1, n):\n",
    "        if max_element < A[next_a]:\n",
    "            ret = max(ret, jlis(next_a, idx_b)+1)\n",
    "            \n",
    "    for next_b in range(idx_b+1, m):\n",
    "        if max_element < B[next_b]:\n",
    "            ret = max(ret, jlis(idx_a, next_b)+1)\n",
    "    \n",
    "    cache[idx_a][idx_b] = ret\n",
    "    return ret\n",
    "\n",
    "n = 3\n",
    "m = 3\n",
    "A = [1,2,4]\n",
    "B = [3,4,7]\n",
    "cache = [ [-1 for _ in range(101)] for _ in range(101) ]\n",
    "print(jlis(-1,-1)-2)\n",
    "\n",
    "n = 3\n",
    "m = 3\n",
    "A = [1,2,3]\n",
    "B = [4,5,6]\n",
    "cache = [ [-1 for _ in range(101)] for _ in range(101) ]\n",
    "print(jlis(-1,-1)-2)\n",
    "\n",
    "n = 5\n",
    "m = 3\n",
    "A = [10,20,30,1,2]\n",
    "B = [10,20,30]\n",
    "cache = [ [-1 for _ in range(101)] for _ in range(101) ]\n",
    "print(jlis(-1,-1)-2)"
   ]
  },
  {
   "cell_type": "code",
   "execution_count": 27,
   "metadata": {},
   "outputs": [
    {
     "name": "stdout",
     "output_type": "stream",
     "text": [
      "2\n",
      "0\n",
      "2\n",
      "913227494\n"
     ]
    }
   ],
   "source": [
    "# 문제 8.12 비대칭 타일링\n",
    "mod = 1000000007\n",
    "\n",
    "def tiling(width):\n",
    "    if width <= 1:\n",
    "        return 1\n",
    "    ret = cache[width]\n",
    "    if ret != -1:\n",
    "        return ret\n",
    "    ret = (tiling(width-2) + tiling(width-1)) % mod\n",
    "    cache[width] = ret\n",
    "    return ret\n",
    "\n",
    "def asymmetric(width):\n",
    "    global mod\n",
    "    if width % 2 == 1: # 홀수\n",
    "        return (tiling(width) - tiling(width//2) + mod) % mod\n",
    "    ret = tiling(width)\n",
    "    ret = (ret - tiling(width//2) + mod) % mod # 절반이 대칭\n",
    "    ret = (ret - tiling(width//2-1) + mod) % mod # 가운데 세로줄을 가로 타일이 덮는 경우\n",
    "    return ret\n",
    "\n",
    "n = [3, 2, 4, 92]\n",
    "for i in n:\n",
    "    cache = [-1 for _ in range(101)]\n",
    "    print(asymmetric(i))"
   ]
  },
  {
   "cell_type": "code",
   "execution_count": 29,
   "metadata": {},
   "outputs": [
    {
     "name": "stdout",
     "output_type": "stream",
     "text": [
      "2\n",
      "0\n",
      "2\n",
      "913227494\n"
     ]
    }
   ],
   "source": [
    "# 비대칭 타일 수를 세는 방법\n",
    "mod = 1000000007\n",
    "\n",
    "def asymmetric2(width):\n",
    "    if width <= 2:\n",
    "        return 0\n",
    "    \n",
    "    ret = cache2[width]\n",
    "    if ret != -1:\n",
    "        return ret\n",
    "    \n",
    "    ret = asymmetric2(width-2) % mod\n",
    "    ret = (ret + asymmetric2(width-4)) % mod\n",
    "    ret = (ret + tiling(width-3)) % mod\n",
    "    ret = (ret + tiling(width-3)) % mod\n",
    "    cache2[width] = ret\n",
    "    return ret\n",
    "\n",
    "n = [3, 2, 4, 92]\n",
    "for i in n:\n",
    "    cache2 = [-1 for _ in range(101)]\n",
    "    print(asymmetric2(i))"
   ]
  },
  {
   "cell_type": "code",
   "execution_count": 36,
   "metadata": {},
   "outputs": [
    {
     "name": "stdout",
     "output_type": "stream",
     "text": [
      "2\n",
      "19\n",
      "4841817\n"
     ]
    }
   ],
   "source": [
    "# 문제 8.14 폴리오미노\n",
    "mod = 10 * 1000 * 1000\n",
    "\n",
    "def poly(n, first):\n",
    "    if n == first:\n",
    "        return 1\n",
    "    \n",
    "    ret = cache[n][first]\n",
    "    \n",
    "    if ret != -1:\n",
    "        return ret\n",
    "    \n",
    "    ret = 0\n",
    "    for second in range(1, n-first+1):\n",
    "        add = second + first -1\n",
    "        add *= poly(n-first, second)\n",
    "        add %= mod\n",
    "        ret += add\n",
    "        ret %= mod\n",
    "\n",
    "    cache[n][first] = ret\n",
    "    return ret\n",
    "\n",
    "num = [2, 4, 92]\n",
    "for n in num:\n",
    "    cache = [[-1 for _ in range(100)] for _ in range(100)]\n",
    "    answer = 0\n",
    "    for i in range(1, n+1):\n",
    "        answer += poly(n, i)\n",
    "    print(answer % mod)"
   ]
  },
  {
   "cell_type": "code",
   "execution_count": 41,
   "metadata": {},
   "outputs": [
    {
     "name": "stdout",
     "output_type": "stream",
     "text": [
      "24\n",
      "['laptop', 'camera', 'grinder']\n",
      "30\n",
      "['laptop', 'camera', 'xbox', 'grinder']\n"
     ]
    }
   ],
   "source": [
    "# 문제 9.2 여행 짐 싸기\n",
    "# W 보다는 capacity가 작으면서\n",
    "# 절박도는 최대가 되도록 아이템 담기\n",
    "def pack(capacity, item):\n",
    "    if item == N:\n",
    "        return 0\n",
    "    \n",
    "    ret = cache[capacity][item]\n",
    "    \n",
    "    if ret != -1:\n",
    "        return ret\n",
    "    \n",
    "    ret = pack(capacity, item+1)\n",
    "    \n",
    "    if capacity >= volume[item]:\n",
    "        ret = max(ret, pack(capacity-volume[item], item+1)+need[item])\n",
    "        \n",
    "    cache[capacity][item] = ret\n",
    "    \n",
    "    return ret # 최대 절박도\n",
    "\n",
    "def reconstruct(capacity, item, picked):\n",
    "    if item == N:\n",
    "        return\n",
    "    \n",
    "    if pack(capacity, item) == pack(capacity, item+1):\n",
    "        reconstruct(capacity, item+1, picked)\n",
    "    else:\n",
    "        picked.append(name[item])\n",
    "        reconstruct(capacity-volume[item], item+1, picked)\n",
    "\n",
    "# testcase 1\n",
    "N, W = 6, 10\n",
    "info = list()\n",
    "info.append([\"laptop\", 4, 7])\n",
    "info.append([\"camera\", 2, 10])\n",
    "info.append([\"xbox\", 6, 6])\n",
    "info.append([\"grinder\", 4, 7])\n",
    "info.append([\"dumbell\", 2, 5])\n",
    "info.append([\"encyclopedia\", 10, 4])\n",
    "name = [x[0] for x in info]\n",
    "volume = [x[1] for x in info]\n",
    "need = [x[2] for x in info]\n",
    "cache = [[-1 for _ in range(101)] for _ in range(101)]\n",
    "picked = []\n",
    "print(pack(W, 0))\n",
    "reconstruct(W, 0, picked)\n",
    "print(picked)\n",
    "# testcase 2\n",
    "N, W = 6, 17\n",
    "info = list()\n",
    "info.append([\"laptop\", 4, 7])\n",
    "info.append([\"camera\", 2, 10])\n",
    "info.append([\"xbox\", 6, 6])\n",
    "info.append([\"grinder\", 4, 7])\n",
    "info.append([\"dumbell\", 2, 5])\n",
    "info.append([\"encyclopedia\", 10, 4])\n",
    "name = [x[0] for x in info]\n",
    "volume = [x[1] for x in info]\n",
    "need = [x[2] for x in info]\n",
    "cache = [[-1 for _ in range(101)] for _ in range(101)]\n",
    "picked = []\n",
    "print(pack(W, 0))\n",
    "reconstruct(W, 0, picked)\n",
    "print(picked)"
   ]
  },
  {
   "cell_type": "code",
   "execution_count": null,
   "metadata": {},
   "outputs": [],
   "source": [
    "# 문제 9.9 드래곤 커브\n"
   ]
  },
  {
   "cell_type": "code",
   "execution_count": null,
   "metadata": {},
   "outputs": [],
   "source": [
    "# 문제 9.14"
   ]
  },
  {
   "cell_type": "code",
   "execution_count": null,
   "metadata": {},
   "outputs": [],
   "source": [
    "# 문제 9.19"
   ]
  },
  {
   "cell_type": "code",
   "execution_count": null,
   "metadata": {},
   "outputs": [],
   "source": [
    "# 문제 9.22"
   ]
  }
 ],
 "metadata": {
  "kernelspec": {
   "display_name": "Python 3",
   "language": "python",
   "name": "python3"
  },
  "language_info": {
   "codemirror_mode": {
    "name": "ipython",
    "version": 3
   },
   "file_extension": ".py",
   "mimetype": "text/x-python",
   "name": "python",
   "nbconvert_exporter": "python",
   "pygments_lexer": "ipython3",
   "version": "3.7.6"
  }
 },
 "nbformat": 4,
 "nbformat_minor": 4
}
