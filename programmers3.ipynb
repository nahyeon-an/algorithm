{
 "cells": [
  {
   "cell_type": "code",
   "execution_count": 15,
   "metadata": {},
   "outputs": [
    {
     "name": "stdout",
     "output_type": "stream",
     "text": [
      "{'a': 500, 'b': 150, 'c': 800}\n",
      "[('c', 800), ('a', 500), ('b', 150)]\n",
      "[2, 0, 1]\n",
      "{'a': 500}\n",
      "[('a', 500)]\n",
      "[0]\n"
     ]
    }
   ],
   "source": [
    "# 해시\n",
    "def solution(genres, plays):\n",
    "    answer = []\n",
    "    # genres[i] : 고유번호 i 의 장르\n",
    "    # plays[i] : 고유번호 i 의 재생 횟수\n",
    "    # 위) 길이 1 ~ 10,000\n",
    "    \n",
    "    # 순서\n",
    "    genres_sum = dict() # 장르 : 횟수합\n",
    "    genres_id = dict() # 장르 : (아이디, 횟수) 리스트\n",
    "    # 1. plays 합이 제일 큰 장르\n",
    "    for i, g in enumerate(genres):\n",
    "        if not g in genres_sum:\n",
    "            genres_sum[g] = plays[i]\n",
    "            genres_id[g] = []\n",
    "            genres_id[g].append([i, plays[i]])\n",
    "        else:\n",
    "            genres_sum[g] += plays[i]\n",
    "            genres_id[g].append([i, plays[i]])\n",
    "            \n",
    "    # 2. 각 노래 마다 plays 횟수 비교해서 큰 것부터\n",
    "    # 3. plays 횟수 같으면 고유 번호 낮은 노래부터\n",
    "    genres_sum = sorted(genres_sum.items(), key=lambda x: x[1], reverse=True)\n",
    "    for g in genres_sum:\n",
    "        genres_id[g[0]].sort(key=lambda x: (x[1], -x[0]), reverse=True)\n",
    "        cnt = 0\n",
    "        for pair in genres_id[g[0]]:\n",
    "            if len(genres_id[g[0]]) < 2:\n",
    "                answer.append(pair[0])\n",
    "                break\n",
    "            if cnt == 2:\n",
    "                break\n",
    "            answer.append(pair[0])\n",
    "            cnt += 1\n",
    "    \n",
    "    # 베스트 앨범에 들어갈 노래의 고유 번호를 순서대로 리턴\n",
    "    return answer\n",
    "\n",
    "# print(solution([\"classic\", \"classic\", \"classic\", \"classic\", \"pop\"], [500,150,800,800,2500]))\n",
    "# print(solution([\"classic\", \"classic\", \"classic\", \"classic\"], [500,150,800,800]))\n",
    "print(solution([\"a\", \"b\", \"c\"], [500,150,800]))\n",
    "print(solution([\"a\"], [500]))\n",
    "\n",
    "'''\n",
    "파이썬 매직 메소드, 클래스 공부하기\n",
    "'''"
   ]
  },
  {
   "cell_type": "code",
   "execution_count": null,
   "metadata": {},
   "outputs": [],
   "source": [
    "# 다른 사람\n",
    "def solution(genres, plays):\n",
    "    answer = []\n",
    "    dic = {}\n",
    "    album_list = []\n",
    "    for i in range(len(genres)):\n",
    "        dic[genres[i]] = dic.get(genres[i], 0) + plays[i]\n",
    "        album_list.append(album(genres[i], plays[i], i))\n",
    "\n",
    "    dic = sorted(dic.items(), key=lambda dic:dic[1], reverse=True)\n",
    "    album_list = sorted(album_list, reverse=True)\n",
    "\n",
    "    while len(dic) > 0:\n",
    "        play_genre = dic.pop(0)\n",
    "        print(play_genre)\n",
    "        cnt = 0;\n",
    "        for ab in album_list:\n",
    "            if play_genre[0] == ab.genre:\n",
    "                answer.append(ab.track)\n",
    "                cnt += 1\n",
    "            if cnt == 2:\n",
    "                break\n",
    "\n",
    "    return answer\n",
    "\n",
    "class album:\n",
    "    def __init__(self, genre, play, track):\n",
    "        self.genre = genre\n",
    "        self.play = play\n",
    "        self.track = track\n",
    "\n",
    "    def __lt__(self, other):\n",
    "        return self.play < other.play\n",
    "    def __le__(self, other):\n",
    "        return self.play <= other.play\n",
    "    def __gt__(self, other):\n",
    "        return self.play > other.play\n",
    "    def __ge__(self, other):\n",
    "        return self.play >= other.play\n",
    "    def __eq__(self, other):\n",
    "        return self.play == other.play\n",
    "    def __ne__(self, other):\n",
    "        return self.play != other.play"
   ]
  },
  {
   "cell_type": "code",
   "execution_count": 59,
   "metadata": {},
   "outputs": [
    {
     "name": "stdout",
     "output_type": "stream",
     "text": [
      "[(1, 6), (5, 0), (2, 6)]\n",
      "6 7 1\n",
      "7 9 4\n",
      "9 14 18\n",
      "6\n",
      "[(1, 6), (5, 0), (2, 6)]\n",
      "6 7 1\n",
      "7 9 4\n",
      "9 14 18\n",
      "6\n",
      "[(2, 2), (5, 0), (3, 5)]\n",
      "2 4 2\n",
      "5 8 5\n",
      "8 13 18\n",
      "6\n"
     ]
    }
   ],
   "source": [
    "# 디스크 컨트롤러\n",
    "# 힙\n",
    "# 하 어렵다..\n",
    "import heapq\n",
    "def solution(jobs):\n",
    "    # jobs 최대 500개 \n",
    "    # 작업 수행 하지 않을 때 먼저 요청 들어온 작업부터 처리\n",
    "    heap = []\n",
    "    for job in jobs:\n",
    "        heapq.heappush(heap, (job[1], job[0]))\n",
    "    \n",
    "    if heap[0][1] != 0:\n",
    "        s = heap[0][1]\n",
    "    else:\n",
    "        s = 0\n",
    "        \n",
    "    tot = 0\n",
    "    while heap:\n",
    "        j = heapq.heappop(heap)\n",
    "        e = s + j[0]\n",
    "        tot += e - j[1]\n",
    "        print(s, e, tot)\n",
    "        if heap:\n",
    "            if heap[0][1] < e:\n",
    "                s = e\n",
    "            else:\n",
    "                s = heap[0][1]\n",
    "    \n",
    "    # 가장 작은 걸린 시간의 평균을 반환\n",
    "    # 소수점 이하 버림\n",
    "    return tot//len(jobs)\n",
    "\n",
    "# print(solution([[0, 3], [1, 9], [2, 6]])) #9\n",
    "# print(solution([[0, 3], [4, 3], [8, 3]])) #3\n",
    "print(solution([[0, 5], [6, 1], [6, 2]])) #3\n",
    "print(solution([[0, 5], [6, 2], [6, 1]])) #3\n",
    "print(solution([[0, 5], [2, 2], [5, 3]])) #5\n",
    "# print(solution([[0, 5], [2, 2], [4, 2]])) #5"
   ]
  },
  {
   "cell_type": "code",
   "execution_count": 34,
   "metadata": {},
   "outputs": [
    {
     "name": "stdout",
     "output_type": "stream",
     "text": [
      "I love the way you talk to me\n",
      "I love the way you kiss me\n",
      "I love the way you look at me\n",
      "\n",
      "I love your eyes\n",
      "I love your smile\n",
      "I love your voice\n",
      "I love everything about you\n",
      "['I', 'love', 'the', 'way', 'you', 'talk', 'to', 'me', 'I', 'love', 'the', 'way', 'you', 'kiss', 'me', 'I', 'love', 'the', 'way', 'you', 'look', 'at', 'me', 'I', 'love', 'your', 'eyes', 'I', 'love', 'your', 'smile', 'I', 'love', 'your', 'voice', 'I', 'love', 'everything', 'about', 'you']\n",
      "7 회\n"
     ]
    }
   ],
   "source": [
    "s = \"I love the way you talk to me\\n\\\n",
    "I love the way you kiss me\\n\\\n",
    "I love the way you look at me\\n\\n\\\n",
    "I love your eyes\\n\\\n",
    "I love your smile\\n\\\n",
    "I love your voice\\n\\\n",
    "I love everything about you\"\n",
    "print(s)\n",
    "\n",
    "l = s.split()\n",
    "I \n",
    "cnt = 0\n",
    "for word in l:\n",
    "    if word == 'love':\n",
    "        cnt += 1\n",
    "print(cnt, '회')"
   ]
  },
  {
   "cell_type": "code",
   "execution_count": null,
   "metadata": {},
   "outputs": [],
   "source": []
  },
  {
   "cell_type": "code",
   "execution_count": null,
   "metadata": {},
   "outputs": [],
   "source": []
  },
  {
   "cell_type": "code",
   "execution_count": null,
   "metadata": {},
   "outputs": [],
   "source": []
  },
  {
   "cell_type": "code",
   "execution_count": null,
   "metadata": {},
   "outputs": [],
   "source": []
  },
  {
   "cell_type": "code",
   "execution_count": null,
   "metadata": {},
   "outputs": [],
   "source": []
  }
 ],
 "metadata": {
  "kernelspec": {
   "display_name": "Python 3",
   "language": "python",
   "name": "python3"
  },
  "language_info": {
   "codemirror_mode": {
    "name": "ipython",
    "version": 3
   },
   "file_extension": ".py",
   "mimetype": "text/x-python",
   "name": "python",
   "nbconvert_exporter": "python",
   "pygments_lexer": "ipython3",
   "version": "3.7.6"
  }
 },
 "nbformat": 4,
 "nbformat_minor": 4
}
