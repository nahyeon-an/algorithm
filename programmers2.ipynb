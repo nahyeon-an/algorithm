{
 "cells": [
  {
   "cell_type": "markdown",
   "metadata": {},
   "source": [
    "## 기능개발 (스택/큐)\n",
    "기능은 진도가 100%일 때 서비스에 반영 가능  \n",
    "뒤에 있는 기능이 앞에 있는 기능보다 먼저 개발될 수 있다.  \n",
    "뒤에 있는 기능은 앞에 있는 기능이 배포될 때 함께 배포된다.  \n",
    "\n",
    "progresses : 배포되어야하는 순서대로 작업의 진도가 적힌 배열  \n",
    "speeds : 각 작업의 개발 속도 배열  \n",
    "\n",
    "리턴 : 배포마다 몇 개의 기능이 배포되는지  \n",
    "\n",
    "제한사항  \n",
    "- progresses 길이 : 100 이하\n",
    "- 작업 진도 : 100 미만 자연수\n",
    "- 작업 속도 : 100 이하 자연수\n",
    "- 배포는 하루에 한 번, 하루 끝 (ex. 진도율이 95인 작업의 속도가 4라면 2일 뒤에 배포)"
   ]
  },
  {
   "cell_type": "code",
   "execution_count": 13,
   "metadata": {},
   "outputs": [
    {
     "name": "stdout",
     "output_type": "stream",
     "text": [
      "[2, 1]\n",
      "[3]\n",
      "[1, 1, 1]\n",
      "[3]\n"
     ]
    }
   ],
   "source": [
    "import math\n",
    "def solution(progresses, speeds):\n",
    "    answer = []\n",
    "    q = []\n",
    "    for p, s in zip(progresses, speeds):\n",
    "        q.append(math.ceil((100 - p) / s))\n",
    "        \n",
    "    while q:\n",
    "        cnt = 1\n",
    "        removed = q.pop(0)\n",
    "        if not q:\n",
    "            answer.append(cnt)\n",
    "            break\n",
    "        cmp = q.pop(0)\n",
    "        while removed >= cmp:\n",
    "            cnt += 1\n",
    "            if not q:\n",
    "                cmp = -1\n",
    "                break\n",
    "            cmp = q.pop(0)\n",
    "        if cmp != -1:\n",
    "            q.insert(0, cmp)\n",
    "        answer.append(cnt)\n",
    "    return answer\n",
    "\n",
    "progresses = [93,30,55]\n",
    "speeds = [1,30,5]\n",
    "print(solution(progresses, speeds))\n",
    "\n",
    "progresses = [50,50,50]\n",
    "speeds = [1,30,50]\n",
    "print(solution(progresses, speeds))\n",
    "\n",
    "progresses = [50,50,50]\n",
    "speeds = [30,20,10]\n",
    "print(solution(progresses, speeds))\n",
    "\n",
    "progresses = [50,50,50]\n",
    "speeds = [10,10,10]\n",
    "print(solution(progresses, speeds))"
   ]
  },
  {
   "cell_type": "code",
   "execution_count": 14,
   "metadata": {},
   "outputs": [
    {
     "name": "stdout",
     "output_type": "stream",
     "text": [
      "p: 93, s: 1\n",
      "[[7, 1]]\n",
      "p: 30, s: 30\n",
      "[[7, 2]]\n",
      "p: 55, s: 5\n",
      "[[7, 2], [9, 1]]\n",
      "[2, 1]\n",
      "p: 50, s: 1\n",
      "[[50, 1]]\n",
      "p: 50, s: 30\n",
      "[[50, 2]]\n",
      "p: 50, s: 50\n",
      "[[50, 3]]\n",
      "[3]\n",
      "p: 50, s: 30\n",
      "[[2, 1]]\n",
      "p: 50, s: 20\n",
      "[[2, 1], [3, 1]]\n",
      "p: 50, s: 10\n",
      "[[2, 1], [3, 1], [5, 1]]\n",
      "[1, 1, 1]\n",
      "p: 50, s: 10\n",
      "[[5, 1]]\n",
      "p: 50, s: 10\n",
      "[[5, 2]]\n",
      "p: 50, s: 10\n",
      "[[5, 3]]\n",
      "[3]\n"
     ]
    }
   ],
   "source": [
    "# 다른 사람\n",
    "def solution(progresses, speeds):\n",
    "    Q = []\n",
    "    for p, s in zip(progresses, speeds):\n",
    "        if len(Q) == 0 or Q[-1][0] < -((p-100)//s):\n",
    "            Q.append([-((p-100)//s), 1])\n",
    "        else:\n",
    "            Q[-1][1] += 1\n",
    "        print(\"p: {}, s: {}\".format(p, s))\n",
    "        print(Q)\n",
    "    return [q[1] for q in Q]\n",
    "\n",
    "progresses = [93,30,55]\n",
    "speeds = [1,30,5]\n",
    "print(solution(progresses, speeds))\n",
    "\n",
    "progresses = [50,50,50]\n",
    "speeds = [1,30,50]\n",
    "print(solution(progresses, speeds))\n",
    "\n",
    "progresses = [50,50,50]\n",
    "speeds = [30,20,10]\n",
    "print(solution(progresses, speeds))\n",
    "\n",
    "progresses = [50,50,50]\n",
    "speeds = [10,10,10]\n",
    "print(solution(progresses, speeds))"
   ]
  },
  {
   "cell_type": "markdown",
   "metadata": {},
   "source": [
    "## 주식가격 (스택/큐)\n",
    "prices : 초 단위로 기록된 주식 가격이 담긴 배열  \n",
    "\n",
    "리턴 : 가격이 떨어지지 않은 기간은 몇 초인지(떨어지기까지의 시간)  \n",
    "\n",
    "제한사항  \n",
    "prices 길이 : 2 ~ 100,000  \n",
    "prices의 가격 : 1 ~ 10,000  "
   ]
  },
  {
   "cell_type": "code",
   "execution_count": 24,
   "metadata": {},
   "outputs": [
    {
     "name": "stdout",
     "output_type": "stream",
     "text": [
      "[4, 3, 1, 1, 0]\n",
      "[6, 5, 1, 3, 2, 1, 0]\n"
     ]
    }
   ],
   "source": [
    "def solution(prices):\n",
    "    answer = []   \n",
    "    for i in range(len(prices)):\n",
    "        for j in range(i+1, len(prices)):\n",
    "            if prices[j] < prices[i]:\n",
    "                answer.append(j-i)\n",
    "                break\n",
    "            if j == len(prices)-1:\n",
    "                answer.append(j-i)\n",
    "        if i == len(prices)-1:\n",
    "            answer.append(0)\n",
    "    return answer\n",
    "\n",
    "prices = [1,2,3,2,3]\n",
    "print(solution(prices))\n",
    "\n",
    "prices = [1, 2, 3, 2, 3, 3, 1]\n",
    "print(solution(prices))"
   ]
  },
  {
   "cell_type": "code",
   "execution_count": 25,
   "metadata": {},
   "outputs": [
    {
     "name": "stdout",
     "output_type": "stream",
     "text": [
      "[4, 3, 1, 1, 0]\n",
      "[6, 5, 1, 3, 2, 1, 0]\n"
     ]
    }
   ],
   "source": [
    "# 다른 사람\n",
    "def solution(prices):\n",
    "    answer = [0] * len(prices)\n",
    "    for i in range(len(prices)):\n",
    "        for j in range(i+1, len(prices)):\n",
    "            if prices[i] <= prices[j]:\n",
    "                answer[i] += 1\n",
    "            else:\n",
    "                answer[i] += 1\n",
    "                break\n",
    "    return answer\n",
    "\n",
    "prices = [1,2,3,2,3]\n",
    "print(solution(prices))\n",
    "\n",
    "prices = [1, 2, 3, 2, 3, 3, 1]\n",
    "print(solution(prices))"
   ]
  },
  {
   "cell_type": "markdown",
   "metadata": {},
   "source": [
    "## 다리를 지나는 트럭\n",
    "모든 트럭이 다리를 건너려면 최소 몇 초가 걸리는지  \n",
    "트럭은 1초에 1만큼 움직임   \n",
    "다리 길이 : bridge_length, 무게 : weight  \n",
    "다리는 무게까지 견딤  \n",
    "\n",
    "bridge_length : 다리 길이  \n",
    "weight : 다리가 견딜 수 있는 무게  \n",
    "truck_weights : 트럭별 무게  \n",
    "\n",
    "리턴 : 모든 트럭이 다리를 건너려면 최소 몇 초  \n",
    "\n",
    "제한조건  \n",
    "bridge_length : 1 ~ 10,000  \n",
    "weight : 1 ~ 10,000  \n",
    "truck_weights길이 : 1 ~ 10,000  \n",
    "모든 트럭의 무게 : 1 ~ weight  "
   ]
  },
  {
   "cell_type": "code",
   "execution_count": 108,
   "metadata": {},
   "outputs": [
    {
     "name": "stdout",
     "output_type": "stream",
     "text": [
      "8 8\n",
      "101 101\n",
      "110 110\n",
      "CPU times: user 754 µs, sys: 331 µs, total: 1.08 ms\n",
      "Wall time: 796 µs\n"
     ]
    }
   ],
   "source": [
    "%%time\n",
    "def solution(bridge_length, weight, truck_weights):\n",
    "    answer = 0\n",
    "    t = len(truck_weights)\n",
    "    arr = []\n",
    "    ing = []\n",
    "    while True:\n",
    "        answer += 1\n",
    "        if len(arr) == t:\n",
    "            break\n",
    "            \n",
    "        i = 0\n",
    "        while i in range(len(ing)):\n",
    "            ing[i][1] += 1\n",
    "            if ing[i][1] == bridge_length + 1:\n",
    "                arr.append(ing[i])\n",
    "                ing.remove(ing[i])\n",
    "            else:\n",
    "                i += 1\n",
    "\n",
    "        if truck_weights:\n",
    "            truck = truck_weights.pop(0)\n",
    "            ing.append([truck, 1])\n",
    "            w = sum([x[0] for x in ing])\n",
    "            if w > weight:\n",
    "                truck_weights.insert(0, truck)\n",
    "                ing.pop()\n",
    "    return answer-1\n",
    "\n",
    "print(solution(2, 10, [7, 4, 5, 6]), 8)\n",
    "print(solution(100, 100, [10]), 101)\n",
    "print(solution(100, 100, [10, 10, 10, 10, 10, 10, 10, 10, 10, 10]), 110)\n",
    "\n",
    "# bridge_length = 2\n",
    "# weight = 10\n",
    "# truck_weights = [7,4,5,6]\n",
    "# print(solution(bridge_length, weight, truck_weights))\n",
    "\n",
    "# bridge_length = 2\n",
    "# weight = 10\n",
    "# truck_weights = [7,4,5,3]\n",
    "# print(solution(bridge_length, weight, truck_weights))\n",
    "\n",
    "# bridge_length = 3\n",
    "# weight = 3\n",
    "# truck_weights = [1,1,1]\n",
    "# print(solution(bridge_length, weight, truck_weights))\n",
    "\n",
    "# bridge_length = 100\n",
    "# weight = 100\n",
    "# truck_weights = [10]\n",
    "# print(solution(bridge_length, weight, truck_weights))\n",
    "\n",
    "# bridge_length = 100\n",
    "# weight = 100\n",
    "# truck_weights = [10,10,10,10,10,10,10,10,10,10]\n",
    "# print(solution(bridge_length, weight, truck_weights))"
   ]
  },
  {
   "cell_type": "code",
   "execution_count": 109,
   "metadata": {},
   "outputs": [
    {
     "name": "stdout",
     "output_type": "stream",
     "text": [
      "8 8\n",
      "101 101\n",
      "110 110\n",
      "CPU times: user 586 µs, sys: 466 µs, total: 1.05 ms\n",
      "Wall time: 681 µs\n"
     ]
    }
   ],
   "source": [
    "# 다른 사람\n",
    "%%time\n",
    "import collections\n",
    "\n",
    "DUMMY_TRUCK = 0\n",
    "\n",
    "class Bridge(object):\n",
    "    def __init__(self, length, weight):\n",
    "        self._max_length = length\n",
    "        self._max_weight = weight\n",
    "        self._queue = collections.deque()\n",
    "        self._current_weight = 0\n",
    "    def push(self, truck):\n",
    "        next_weight = self._current_weight + truck\n",
    "        if next_weight <= self._max_weight and len(self._queue) < self._max_length:\n",
    "            self._queue.append(truck)\n",
    "            self._current_weight = next_weight\n",
    "            return True\n",
    "        else:\n",
    "            # push 실패\n",
    "            return False\n",
    "    def pop(self):\n",
    "        item = self._queue.popleft()\n",
    "        self._current_weight -= item\n",
    "        return item\n",
    "    def __len__(self):\n",
    "        return len(self._queue)\n",
    "    def __repr__(self):\n",
    "        return 'Bridge({}/{} : [{}])'.format(self._current_weight, self._max_weight, list(self._queue))\n",
    "\n",
    "def solution(bridge_length, weight, truck_weights):\n",
    "    bridge = Bridge(bridge_length, weight)\n",
    "    trucks = collections.deque(w for w in truck_weights)\n",
    "\n",
    "    for _ in range(bridge_length):\n",
    "        bridge.push(DUMMY_TRUCK)\n",
    "\n",
    "    count = 0\n",
    "    while trucks:\n",
    "        bridge.pop()\n",
    "\n",
    "        if bridge.push(trucks[0]):\n",
    "            trucks.popleft()\n",
    "        else:\n",
    "            bridge.push(DUMMY_TRUCK)\n",
    "\n",
    "        count += 1\n",
    "\n",
    "    while bridge:\n",
    "        bridge.pop()\n",
    "        count += 1\n",
    "\n",
    "    return count\n",
    "\n",
    "\n",
    "def main():\n",
    "    print(solution(2, 10, [7, 4, 5, 6]), 8)\n",
    "    print(solution(100, 100, [10]), 101)\n",
    "    print(solution(100, 100, [10, 10, 10, 10, 10, 10, 10, 10, 10, 10]), 110)\n",
    "\n",
    "\n",
    "if __name__ == '__main__':\n",
    "    main()"
   ]
  },
  {
   "cell_type": "markdown",
   "metadata": {},
   "source": [
    "## 프린터 (스택/큐)\n",
    "중요도가 높은 문서를 먼저 인쇄  \n",
    "1. 인쇄 대기목록의 가장 앞에 있는 문서(J)를 대기목록에서 꺼냄\n",
    "2. 나머지 대기목록에서 J보다 높은 문서가 한개라도 존재하면 J를 대기목록의 가장 마지막에 넣는다\n",
    "3. 그렇지 않으면 J를 인쇄\n",
    "\n",
    "example) [A, B, C, D]가 대기목록에 있고 중요도가 2 1 3 2 라면  \n",
    "[C D A B] 순으로 인쇄. C는 1번째, A는 3번째로 인쇄된다.  \n",
    "\n",
    "priorities : 대기목록 문서의 중요도 배열  \n",
    "location : 인쇄를 요청한 문서가 있는 대기목록의 위치    \n",
    "\n",
    "return : 내가 인쇄 요청한 문서가 몇 번째로 인쇄되는지  \n",
    "\n",
    "제한사항  \n",
    "대기목록의 길이 1 ~ 100  \n",
    "중요도 : 1 ~ 9 클수록 중요하다  \n",
    "location : 0 ~ (대기목록 작업 수 - 1) 가장 앞 = 0, 두번째 = 1  "
   ]
  },
  {
   "cell_type": "code",
   "execution_count": 5,
   "metadata": {},
   "outputs": [
    {
     "name": "stdout",
     "output_type": "stream",
     "text": [
      "[[2, 0], [1, 1], [3, 2], [2, 3]]\n",
      "[[3, 2], [2, 3], [2, 0], [1, 1]]\n",
      "1\n",
      "[[1, 0], [1, 1], [9, 2], [1, 3], [1, 4], [1, 5]]\n",
      "[[9, 2], [1, 3], [1, 4], [1, 5], [1, 0], [1, 1]]\n",
      "5\n",
      "[[1, 0], [2, 1], [3, 2], [4, 3]]\n",
      "[[4, 3], [3, 2], [2, 1], [1, 0]]\n",
      "2\n"
     ]
    }
   ],
   "source": [
    "def solution(priorities, location):\n",
    "    target = priorities[location]\n",
    "    \n",
    "    pri = []\n",
    "    for idx, p in enumerate(priorities):\n",
    "        pri.append([p, idx])\n",
    "    \n",
    "    a = []\n",
    "    while pri:\n",
    "        j = pri.pop(0)\n",
    "        printable = True\n",
    "        for p in pri:\n",
    "            if p[0] > j[0]:\n",
    "                pri.append(j)\n",
    "                printable = False\n",
    "                break\n",
    "        if printable:\n",
    "            a.append(j)\n",
    "    \n",
    "    return a.index([target, location]) + 1\n",
    "\n",
    "priorities = [2, 1, 3, 2]\n",
    "location = 2\n",
    "print(solution(priorities, location))\n",
    "\n",
    "priorities = [1, 1, 9, 1, 1, 1]\n",
    "location = 0\n",
    "print(solution(priorities, location))\n",
    "\n",
    "priorities = [1,2,3,4]\n",
    "location = 2\n",
    "print(solution(priorities, location))"
   ]
  },
  {
   "cell_type": "code",
   "execution_count": 6,
   "metadata": {},
   "outputs": [
    {
     "name": "stdout",
     "output_type": "stream",
     "text": [
      "5\n",
      "2\n"
     ]
    }
   ],
   "source": [
    "# 다른 사람\n",
    "# deque 를 사용하면 효율성이 좋아진다고 한다..\n",
    "from collections import deque\n",
    "def solution(priorities, location):\n",
    "    answer = 0\n",
    "    d = deque([(v, i) for i, v in enumerate(priorities)])\n",
    "    while len(d):\n",
    "        item = d.popleft()\n",
    "        if d and max(d)[0] > item[0]:\n",
    "            d.append(item)\n",
    "        else:\n",
    "            answer += 1\n",
    "            if item[1] == location:\n",
    "                break\n",
    "    return answer\n",
    "\n",
    "priorities = [1, 1, 9, 1, 1, 1]\n",
    "location = 0\n",
    "print(solution(priorities, location))\n",
    "\n",
    "priorities = [1,2,3,4]\n",
    "location = 2\n",
    "print(solution(priorities, location))"
   ]
  },
  {
   "cell_type": "markdown",
   "metadata": {},
   "source": [
    "## H-Index (정렬)\n",
    "h = H-index 값 (생산성, 영향력)  \n",
    "발표한 논문 n편 중, h번 이상 인용된 논문이 h편 이상 && 나머지 논문이 h번 이하 인용 -> h의 최댓값 = H-index  \n",
    "\n",
    "citation : 논문의 인용 횟수  \n",
    "return : h-index  \n",
    "\n",
    "제한  \n",
    "citation 길이 : 1 ~ 1,000  \n",
    "인용횟수 : 0 ~ 10,000  "
   ]
  },
  {
   "cell_type": "code",
   "execution_count": 42,
   "metadata": {},
   "outputs": [
    {
     "name": "stdout",
     "output_type": "stream",
     "text": [
      "3\n",
      "3\n",
      "1\n"
     ]
    }
   ],
   "source": [
    "def solution(citations):\n",
    "    citations = sorted(citations)[::-1]\n",
    "    idx = 0\n",
    "    h = citations[idx]\n",
    "    arr = []\n",
    "    while True:\n",
    "        while idx<len(citations) and citations[idx] >= h:\n",
    "            arr.append(citations[idx])\n",
    "            idx += 1\n",
    "        if len(arr) >= h:\n",
    "            break\n",
    "        else:\n",
    "            h -= 1            \n",
    "    return h\n",
    "\n",
    "print(solution([3, 0, 6, 1, 5]))\n",
    "print(solution([3, 0, 6, 1, 5, 5]))\n",
    "print(solution([1,1,1,1]))"
   ]
  },
  {
   "cell_type": "code",
   "execution_count": 43,
   "metadata": {},
   "outputs": [
    {
     "name": "stdout",
     "output_type": "stream",
     "text": [
      "3\n",
      "3\n",
      "1\n"
     ]
    }
   ],
   "source": [
    "# 다른 사람\n",
    "def solution(citations):\n",
    "    citations = sorted(citations)\n",
    "    l = len(citations)\n",
    "    for i in range(l):\n",
    "        if citations[i] >= l-i:\n",
    "            return l-i\n",
    "    return 0\n",
    "\n",
    "print(solution([3, 0, 6, 1, 5]))\n",
    "print(solution([3, 0, 6, 1, 5, 5]))\n",
    "print(solution([1,1,1,1]))"
   ]
  },
  {
   "cell_type": "code",
   "execution_count": 44,
   "metadata": {},
   "outputs": [
    {
     "name": "stdout",
     "output_type": "stream",
     "text": [
      "3\n",
      "3\n",
      "1\n"
     ]
    }
   ],
   "source": [
    "# 다른 사람 2\n",
    "def solution(citations):\n",
    "    citations.sort(reverse=True)\n",
    "    answer = max(map(min, enumerate(citations, start=1)))\n",
    "    return answer\n",
    "\n",
    "print(solution([3, 0, 6, 1, 5]))\n",
    "print(solution([3, 0, 6, 1, 5, 5]))\n",
    "print(solution([1,1,1,1]))"
   ]
  },
  {
   "cell_type": "markdown",
   "metadata": {},
   "source": [
    "## 위장 (해시)\n",
    "매일 다른 옷을 조합  \n",
    "\n",
    "clothes : 스파이 의상 2차원 배열  \n",
    "리턴 : 서로 다른 옷의 조합 수  \n",
    "\n",
    "제한  \n",
    "[의상 이름, 의상 종류]  \n",
    "의상의 수 : 1 ~ 30개  \n",
    "같은 이름의 의상은 존재 X  \n",
    "모든 원소는 문자열  \n",
    "알파벳 소문자, _ 로만 이루어짐  \n",
    "최소 한 개의 의상은 입는다  "
   ]
  },
  {
   "cell_type": "code",
   "execution_count": 49,
   "metadata": {},
   "outputs": [
    {
     "name": "stdout",
     "output_type": "stream",
     "text": [
      "{'headgear': ['yellow_hat', 'green_turban'], 'eyewear': ['blue_sunglasses']}\n",
      "5\n",
      "{'face': ['crow_mask', 'blue_sunglasses', 'smoky_makeup']}\n",
      "3\n"
     ]
    }
   ],
   "source": [
    "def solution(clothes):\n",
    "    answer = 1\n",
    "    dictionary = dict()\n",
    "    for cloth in clothes:\n",
    "        if not cloth[1] in dictionary:\n",
    "            dictionary[cloth[1]] = []\n",
    "        dictionary[cloth[1]].append(cloth[0])\n",
    "    for key in dictionary.keys():\n",
    "        answer *= (len(dictionary[key]) + 1)\n",
    "    return answer - 1\n",
    "\n",
    "print(solution([[\"yellow_hat\", \"headgear\"], [\"blue_sunglasses\", \"eyewear\"], [\"green_turban\", \"headgear\"]]))\n",
    "print(solution([[\"crow_mask\", \"face\"], [\"blue_sunglasses\", \"face\"], [\"smoky_makeup\", \"face\"]]))"
   ]
  },
  {
   "cell_type": "code",
   "execution_count": 50,
   "metadata": {},
   "outputs": [
    {
     "name": "stdout",
     "output_type": "stream",
     "text": [
      "5\n",
      "3\n"
     ]
    }
   ],
   "source": [
    "# 다른 사람\n",
    "import collections\n",
    "from functools import reduce\n",
    "def solution(c):\n",
    "    return reduce(lambda x, y: x*y, \\\n",
    "                 [a+1 for a in collections.Counter([x[1] for x in c]).values()])-1\n",
    "\n",
    "print(solution([[\"yellow_hat\", \"headgear\"], [\"blue_sunglasses\", \"eyewear\"], [\"green_turban\", \"headgear\"]]))\n",
    "print(solution([[\"crow_mask\", \"face\"], [\"blue_sunglasses\", \"face\"], [\"smoky_makeup\", \"face\"]]))"
   ]
  },
  {
   "cell_type": "code",
   "execution_count": 54,
   "metadata": {},
   "outputs": [
    {
     "name": "stdout",
     "output_type": "stream",
     "text": [
      "5\n",
      "3\n"
     ]
    }
   ],
   "source": [
    "# 다른 사람 2\n",
    "from collections import Counter\n",
    "from functools import reduce\n",
    "def solution(clothes):\n",
    "    cnt = Counter([kind for name, kind in clothes])\n",
    "#     print(type(cnt))\n",
    "    answer = reduce(lambda x, y: x*(y+1), cnt.values(), 1) - 1\n",
    "    return answer\n",
    "\n",
    "print(solution([[\"yellow_hat\", \"headgear\"], [\"blue_sunglasses\", \"eyewear\"], [\"green_turban\", \"headgear\"]]))\n",
    "print(solution([[\"crow_mask\", \"face\"], [\"blue_sunglasses\", \"face\"], [\"smoky_makeup\", \"face\"]]))"
   ]
  },
  {
   "cell_type": "markdown",
   "metadata": {},
   "source": [
    "## 다음 큰 숫자\n",
    "자연수 n, n의 다음 큰 숫자의 정의  \n",
    "- n보다 큰 자연수\n",
    "- 다음 큰 숫자와 n은 2진수로 변환했을 때 1의 갯수가 같다\n",
    "- 조건 1, 2를 만족하는 수 중 가장 작은 수\n",
    "\n",
    "리턴 : n의 다음 큰 숫자  \n",
    "\n",
    "제한 사항  \n",
    "n : 1 ~ 1,000,000 (10^6)"
   ]
  },
  {
   "cell_type": "code",
   "execution_count": 63,
   "metadata": {},
   "outputs": [
    {
     "name": "stdout",
     "output_type": "stream",
     "text": [
      "83\n",
      "23\n"
     ]
    }
   ],
   "source": [
    "def solution(n):\n",
    "    answer = n+1\n",
    "#     print(format(n,'b').count('1'))\n",
    "    # format 안 쓰고 그냥 bin함수로 해도 count 가능하다..\n",
    "#     cnt = format(n,'b').count('1')\n",
    "    cnt = bin(n).count('1')\n",
    "    while bin(answer).count('1') != cnt:\n",
    "        answer += 1\n",
    "    return answer\n",
    "\n",
    "print(solution(78))\n",
    "print(solution(15))"
   ]
  },
  {
   "cell_type": "markdown",
   "metadata": {},
   "source": [
    "## * 124 나라의 숫자\n",
    "수를 표현하는 규칙  \n",
    "- 자연수만 존재\n",
    "- 수를 표현할 때 1, 2, 4만 사용\n",
    "\n",
    "제한 사항  \n",
    "n : 500,000,000 이하의 자연수  "
   ]
  },
  {
   "cell_type": "code",
   "execution_count": 44,
   "metadata": {},
   "outputs": [
    {
     "name": "stdout",
     "output_type": "stream",
     "text": [
      "41\n",
      "2\n",
      "4\n",
      "21\n",
      "42\n"
     ]
    }
   ],
   "source": [
    "# 머리가 안 돌아간다 ㅋㅋㅋ;;;\n",
    "'''\n",
    "111, 112, 114, 121, 122, 124, 141, 142, 144\n",
    "211, 212, 214, \n",
    "'''\n",
    "def solution(n):\n",
    "    answer = ''\n",
    "    num = ['4', '1', '2']\n",
    "    while n > 0:\n",
    "#             answer += str(num[n % 3])\n",
    "            answer = num[n % 3] + answer\n",
    "            if n % 3 == 0:\n",
    "                n -= 1\n",
    "            n //= 3\n",
    "    return answer\n",
    "\n",
    "print(solution(10))\n",
    "print(solution(2))\n",
    "print(solution(3))\n",
    "print(solution(7))\n",
    "print(solution(11))"
   ]
  },
  {
   "cell_type": "code",
   "execution_count": 45,
   "metadata": {},
   "outputs": [
    {
     "name": "stdout",
     "output_type": "stream",
     "text": [
      "41\n",
      "2\n",
      "4\n",
      "21\n",
      "42\n"
     ]
    }
   ],
   "source": [
    "# 다른 사람\n",
    "def solution(n):\n",
    "    answer = ''\n",
    "    num = ['1', '2', '4']\n",
    "    while n > 0:\n",
    "        n -= 1\n",
    "        answer = num[n % 3] + answer\n",
    "        n //= 3\n",
    "    return answer\n",
    "print(solution(10))\n",
    "print(solution(2))\n",
    "print(solution(3))\n",
    "print(solution(7))\n",
    "print(solution(11))"
   ]
  },
  {
   "cell_type": "markdown",
   "metadata": {},
   "source": [
    "## 타겟 넘버 (DFS/BFS)\n",
    "n개의 음이 아닌 정수  \n",
    "numbers : 사용할 수 있는 숫자 배열  \n",
    "target : 타겟 넘버  \n",
    "타겟 넘버를 만드는 방법의 수를 리턴  \n",
    "\n",
    "숫자의 개수 : 2 ~ 20  \n",
    "각 숫자 : 1 ~ 50 자연수  \n",
    "타겟 넘버 : 1 ~ 1000 자연수  "
   ]
  },
  {
   "cell_type": "code",
   "execution_count": 26,
   "metadata": {},
   "outputs": [
    {
     "name": "stdout",
     "output_type": "stream",
     "text": [
      "0\n",
      "5\n"
     ]
    }
   ],
   "source": [
    "import copy\n",
    "def new_sol(numbers, target, count):\n",
    "    if len(numbers) == 0 and target == 0:\n",
    "        count.append(1)\n",
    "    elif len(numbers) == 0:\n",
    "        pass\n",
    "    else:\n",
    "        n = numbers.pop()\n",
    "        new_sol(copy.deepcopy(numbers), target + n, count)\n",
    "        new_sol(copy.deepcopy(numbers), target - n, count)\n",
    "        \n",
    "def solution(numbers, target):\n",
    "    count = []\n",
    "    new_sol(numbers, target, count)\n",
    "    return sum(count)\n",
    "\n",
    "numbers = [1,1,1]\n",
    "target = 2\n",
    "print(solution(numbers, target))\n",
    "\n",
    "numbers = [1,1,1,1,1]\n",
    "target = 3\n",
    "print(solution(numbers, target))"
   ]
  },
  {
   "cell_type": "code",
   "execution_count": 27,
   "metadata": {},
   "outputs": [
    {
     "name": "stdout",
     "output_type": "stream",
     "text": [
      "0\n",
      "5\n"
     ]
    }
   ],
   "source": [
    "# 다른 사람\n",
    "def solution(numbers, target):\n",
    "    if not numbers and target == 0:\n",
    "        return 1\n",
    "    elif not numbers:\n",
    "        return 0\n",
    "    else:\n",
    "        return solution(numbers[1:], target-numbers[0]) + solution(numbers[1:], target+numbers[0])\n",
    "    \n",
    "numbers = [1,1,1]\n",
    "target = 2\n",
    "print(solution(numbers, target))\n",
    "\n",
    "numbers = [1,1,1,1,1]\n",
    "target = 3\n",
    "print(solution(numbers, target))"
   ]
  },
  {
   "cell_type": "markdown",
   "metadata": {},
   "source": [
    "## 카펫 (완전탐색)\n",
    "중앙 : 노란색, 테두리 1줄 : 갈색  \n",
    "\n",
    "brown : 갈색 격자의 수  \n",
    "yellow : 노란색 격자의 수  \n",
    "\n",
    "카펫의 가로 크기, 세로 크기를 배열에 담아 리턴  \n",
    "\n",
    "brown : 9 ~ 5,000  \n",
    "yellow : 1 ~ 2,000,000  \n",
    "\n",
    "카펫의 가로 길이 >= 세로 길이  "
   ]
  },
  {
   "cell_type": "code",
   "execution_count": 29,
   "metadata": {},
   "outputs": [
    {
     "name": "stdout",
     "output_type": "stream",
     "text": [
      "[4, 3]\n",
      "[3, 3]\n",
      "[8, 6]\n"
     ]
    }
   ],
   "source": [
    "def solution(brown, yellow):\n",
    "    answer = []\n",
    "    area = brown + yellow \n",
    "    for w in range(brown // 2, 0, -1):\n",
    "        h = (brown - w * 2 + 4) // 2\n",
    "        if w * h == area:\n",
    "            answer.append(w)\n",
    "            answer.append(h)\n",
    "            break\n",
    "    return answer\n",
    "\n",
    "print(solution(10, 2))\n",
    "print(solution(8, 1))\n",
    "print(solution(24, 24))"
   ]
  },
  {
   "cell_type": "code",
   "execution_count": 30,
   "metadata": {},
   "outputs": [
    {
     "name": "stdout",
     "output_type": "stream",
     "text": [
      "[4, 3]\n",
      "[3, 3]\n",
      "[8, 6]\n"
     ]
    }
   ],
   "source": [
    "# 다른 사람\n",
    "def solution(brown, yellow):\n",
    "    for i in range(1, int(yellow**(1/2))+1):\n",
    "        if yellow % i == 0:\n",
    "            if 2*(i + yellow//i) == brown-4:\n",
    "                return [yellow//i+2, i+2]\n",
    "            \n",
    "print(solution(10, 2))\n",
    "print(solution(8, 1))\n",
    "print(solution(24, 24))"
   ]
  },
  {
   "cell_type": "markdown",
   "metadata": {},
   "source": [
    "## 소수찾기 (완전탐색)\n",
    "numbers : 종이 조각에 적힌 숫자 문자열  \n",
    "리턴 : 만들 수 있는 소수 개수  \n",
    "\n",
    "제한사항  \n",
    "numbers 길이 : 1 <= <= 7  \n",
    "numbers : 0 ~ 9  "
   ]
  },
  {
   "cell_type": "code",
   "execution_count": 14,
   "metadata": {},
   "outputs": [
    {
     "data": {
      "text/plain": [
       "[('1', '7', '3', '2'),\n",
       " ('1', '7', '2', '3'),\n",
       " ('1', '3', '7', '2'),\n",
       " ('1', '3', '2', '7'),\n",
       " ('1', '2', '7', '3'),\n",
       " ('1', '2', '3', '7'),\n",
       " ('7', '1', '3', '2'),\n",
       " ('7', '1', '2', '3'),\n",
       " ('7', '3', '1', '2'),\n",
       " ('7', '3', '2', '1'),\n",
       " ('7', '2', '1', '3'),\n",
       " ('7', '2', '3', '1'),\n",
       " ('3', '1', '7', '2'),\n",
       " ('3', '1', '2', '7'),\n",
       " ('3', '7', '1', '2'),\n",
       " ('3', '7', '2', '1'),\n",
       " ('3', '2', '1', '7'),\n",
       " ('3', '2', '7', '1'),\n",
       " ('2', '1', '7', '3'),\n",
       " ('2', '1', '3', '7'),\n",
       " ('2', '7', '1', '3'),\n",
       " ('2', '7', '3', '1'),\n",
       " ('2', '3', '1', '7'),\n",
       " ('2', '3', '7', '1')]"
      ]
     },
     "execution_count": 14,
     "metadata": {},
     "output_type": "execute_result"
    }
   ],
   "source": [
    "from itertools import permutations\n",
    "items = ['1', '7', '3', '2']\n",
    "list(permutations(items))"
   ]
  },
  {
   "cell_type": "code",
   "execution_count": 19,
   "metadata": {},
   "outputs": [
    {
     "data": {
      "text/plain": [
       "[('1', '7'),\n",
       " ('1', '3'),\n",
       " ('1', '2'),\n",
       " ('7', '1'),\n",
       " ('7', '3'),\n",
       " ('7', '2'),\n",
       " ('3', '1'),\n",
       " ('3', '7'),\n",
       " ('3', '2'),\n",
       " ('2', '1'),\n",
       " ('2', '7'),\n",
       " ('2', '3')]"
      ]
     },
     "execution_count": 19,
     "metadata": {},
     "output_type": "execute_result"
    }
   ],
   "source": [
    "list(permutations(items,2))"
   ]
  },
  {
   "cell_type": "code",
   "execution_count": 23,
   "metadata": {},
   "outputs": [
    {
     "name": "stdout",
     "output_type": "stream",
     "text": [
      "<class 'tuple'>\n",
      "17\n"
     ]
    }
   ],
   "source": [
    "l = list(permutations(items,2))\n",
    "print(type(l[0]))\n",
    "print(''.join(l[0]))"
   ]
  },
  {
   "cell_type": "code",
   "execution_count": 18,
   "metadata": {},
   "outputs": [
    {
     "name": "stdout",
     "output_type": "stream",
     "text": [
      "[('1',), ('7',), ('3',), ('2',)]\n",
      "[('1', '7'), ('1', '3'), ('1', '2'), ('7', '3'), ('7', '2'), ('3', '2')]\n",
      "[('1', '7', '3'), ('1', '7', '2'), ('1', '3', '2'), ('7', '3', '2')]\n"
     ]
    }
   ],
   "source": [
    "from itertools import combinations\n",
    "items = ['1', '7', '3', '2']\n",
    "print(list(combinations(items, 1)))\n",
    "print(list(combinations(items, 2)))\n",
    "print(list(combinations(items, 3)))"
   ]
  },
  {
   "cell_type": "code",
   "execution_count": 28,
   "metadata": {},
   "outputs": [
    {
     "name": "stdout",
     "output_type": "stream",
     "text": [
      "3\n",
      "2\n",
      "14\n"
     ]
    }
   ],
   "source": [
    "from itertools import permutations\n",
    "\n",
    "def isPrime(num):\n",
    "    # 소수인지 아닌지 확인\n",
    "    if num == 0 or num == 1:\n",
    "        return False\n",
    "    if num == 2:\n",
    "        return True\n",
    "    for d in range(2, num):\n",
    "        if num % d == 0:\n",
    "            # 소수 아님\n",
    "            return False\n",
    "    return True\n",
    "\n",
    "# 최대 경우의 수 : 7^7 = 823643\n",
    "def solution(numbers):\n",
    "    answer = 0\n",
    "    numbers = list(numbers)\n",
    "    prime = []\n",
    "    for i in range(1, len(numbers)+1):\n",
    "        for tup in list(permutations(numbers, i)):\n",
    "            n = int(''.join(tup))\n",
    "            if n in prime:\n",
    "                continue\n",
    "            else:\n",
    "                if isPrime(n) == True:\n",
    "                    prime.append(n)\n",
    "                    answer += 1\n",
    "    return answer\n",
    "\n",
    "print(solution(\"17\"))\n",
    "print(solution(\"011\"))\n",
    "print(solution(\"1234\"))"
   ]
  },
  {
   "cell_type": "code",
   "execution_count": 29,
   "metadata": {},
   "outputs": [
    {
     "name": "stdout",
     "output_type": "stream",
     "text": [
      "3\n",
      "2\n",
      "14\n"
     ]
    }
   ],
   "source": [
    "# 다른 사람\n",
    "# 가능한 모든 숫자를 집합에 저장해두고\n",
    "# 에라토스테네스 체로 제거해 나가는 방식\n",
    "# 비교) 나: 가능한 숫자를 하나씩 만들 때마다 소수인지 아닌지 확인함\n",
    "from itertools import permutations\n",
    "\n",
    "def solution(n):\n",
    "    a = set()\n",
    "    for i in range(len(n)):\n",
    "        a |= set(map(int, map(\"\".join, permutations(list(n), i + 1))))\n",
    "    a -= set(range(0, 2))\n",
    "    for i in range(2, int(max(a) ** 0.5) + 1):\n",
    "        a -= set(range(i * 2, max(a) + 1, i))\n",
    "    return len(a)\n",
    "\n",
    "print(solution(\"17\"))\n",
    "print(solution(\"011\"))\n",
    "print(solution(\"1234\"))"
   ]
  },
  {
   "cell_type": "markdown",
   "metadata": {},
   "source": [
    "## 더 맵게(힙)\n",
    "모든 음식의 스코빌 지수를 K 이상으로 만들고 싶다.  \n",
    "\n",
    "스코빌 지수가 가장 낮은 2개의 음식을 섞음  \n",
    "섞은 음식의 스코빌 지수 = 가장 안 매운 음식의 스코빌 지수 + (두번째 * 2)  \n",
    "\n",
    "모든 음식의 스코빌 지수가 K 이상이 될 때까지 반복하여 섞자.  \n",
    "scoville : 음식의 스코빌 지수가 담긴 배열  \n",
    "K : 스코빌 지수  \n",
    "섞어야 하는 최소 횟수를 리턴  \n",
    "\n",
    "제한사항  \n",
    "scoville 길이 : 2 ~ 10^6  \n",
    "K : 0 ~ 10^9  \n",
    "모든 음식의 스코빌 지수를 K 이상으로 만들 수 없으면 -1 리턴  "
   ]
  },
  {
   "cell_type": "code",
   "execution_count": 33,
   "metadata": {},
   "outputs": [
    {
     "name": "stdout",
     "output_type": "stream",
     "text": [
      "2\n"
     ]
    }
   ],
   "source": [
    "import heapq as heap\n",
    "def solution(scoville, K):\n",
    "    answer = 0\n",
    "    heap.heapify(scoville)\n",
    "    while True:\n",
    "        if scoville:\n",
    "            first = heap.heappop(scoville)\n",
    "        else:\n",
    "            answer = -1\n",
    "            break\n",
    "        if first >= K:\n",
    "            break\n",
    "#         second = heap.heappop(scoville)\n",
    "        if scoville:\n",
    "            second = heap.heappop(scoville)\n",
    "        else:\n",
    "            answer = -1\n",
    "            break\n",
    "        mixed = first + (second * 2)\n",
    "        heap.heappush(scoville, mixed)\n",
    "        answer += 1\n",
    "    return answer\n",
    "\n",
    "print(solution([1,2,9,12,10,3], 7))"
   ]
  },
  {
   "cell_type": "code",
   "execution_count": null,
   "metadata": {},
   "outputs": [],
   "source": [
    "# 다른사람\n",
    "# 배울 것 : if 문 깔끔하게 정리하기\n",
    "import heapq as hq\n",
    "def solution(scoville, K):\n",
    "    hq.heapify(scoville)\n",
    "    answer = 0\n",
    "    while True:\n",
    "        first = hq.heappop(scoville)\n",
    "        if first >= K:\n",
    "            break\n",
    "        if len(scoville) == 0:\n",
    "            return -1\n",
    "        second = hq.heappop(scoville)\n",
    "        hq.heappush(scoville, first + second*2)\n",
    "        answer += 1 \n",
    "    return answer"
   ]
  },
  {
   "cell_type": "markdown",
   "metadata": {},
   "source": [
    "## N개의 최소공배수\n",
    "n개의 수의 최소공배수 := n개의 수들의 배수 중 공통이 되는 가장 작은 숫자  \n",
    "arr : n개의 숫자를 담은 배열(길이 1~15)  \n",
    "최소공배수를 반환  "
   ]
  },
  {
   "cell_type": "code",
   "execution_count": 4,
   "metadata": {},
   "outputs": [
    {
     "name": "stdout",
     "output_type": "stream",
     "text": [
      "168\n",
      "6\n"
     ]
    }
   ],
   "source": [
    "import math\n",
    "def solution(arr):\n",
    "    lcm = arr[0]\n",
    "    for i in range(1, len(arr)):\n",
    "        gcd = math.gcd(lcm, arr[i])\n",
    "        lcm = arr[i] * lcm // gcd\n",
    "    return lcm\n",
    "\n",
    "print(solution([2,6,8,14]))\n",
    "print(solution([1,2,3]))"
   ]
  },
  {
   "cell_type": "markdown",
   "metadata": {},
   "source": [
    "## JadenCase 문자열 만들기\n",
    "JadenCase : 모든 단어의 첫 문자가 대문자이고 그 외의 알파벳은 소문자인 문자열  \n",
    "문자열 s를 JadenCase로 바꾼 문자열을 리턴  \n",
    "\n",
    "제한조건  \n",
    "s : 길이 1 이상의 문자열, 알파벳과 공백문자"
   ]
  },
  {
   "cell_type": "code",
   "execution_count": 23,
   "metadata": {},
   "outputs": [
    {
     "name": "stdout",
     "output_type": "stream",
     "text": [
      "3people Unfollowed Me\n",
      "For The Last Week\n",
      "For\n"
     ]
    }
   ],
   "source": [
    "def solution(s):\n",
    "    answer = ''\n",
    "    for i in range(len(s)):\n",
    "        if i == 0 and s[i].isdigit():\n",
    "            answer += s[i]\n",
    "        elif i == 0 and s[i].isalpha():\n",
    "            answer += s[i].upper()\n",
    "        \n",
    "        if i != 0 and s[i-1] == ' ':\n",
    "            answer += s[i].upper()\n",
    "        elif i != 0:\n",
    "            answer += s[i].lower()\n",
    "    return answer\n",
    "\n",
    "print(solution(\"3people unFollowed me\"))\n",
    "print(solution(\"for the last week\"))\n",
    "print(solution(\"for\"))"
   ]
  },
  {
   "cell_type": "code",
   "execution_count": 24,
   "metadata": {},
   "outputs": [
    {
     "name": "stdout",
     "output_type": "stream",
     "text": [
      "3People Unfollowed Me\n",
      "For The Last Week\n",
      "For\n"
     ]
    }
   ],
   "source": [
    "# 다른 사람 -> 지금은 오답\n",
    "def solution(s):\n",
    "    return s.title()\n",
    "\n",
    "print(solution(\"3people unFollowed me\"))\n",
    "print(solution(\"for the last week\"))\n",
    "print(solution(\"for\"))"
   ]
  },
  {
   "cell_type": "markdown",
   "metadata": {},
   "source": [
    "## 피보나치 수\n",
    "2이상의 n이 입력되었을 때 n번째 피보나치 수를 1234567로 나눈 나머지를 리턴  "
   ]
  },
  {
   "cell_type": "code",
   "execution_count": 30,
   "metadata": {},
   "outputs": [
    {
     "name": "stdout",
     "output_type": "stream",
     "text": [
      "2\n",
      "5\n",
      "1168141\n"
     ]
    }
   ],
   "source": [
    "def solution(n):\n",
    "    f = [0, 1]\n",
    "    for i in range(2, n+1):\n",
    "        f.append(f[i-1] + f[i-2])\n",
    "    return f[n] % 1234567\n",
    "\n",
    "print(solution(3))\n",
    "print(solution(5))\n",
    "print(solution(100000))"
   ]
  },
  {
   "cell_type": "markdown",
   "metadata": {},
   "source": [
    "## 행렬의 곱셈\n",
    "2차원 행렬 arr1, arr2 를 입력받아 arr1에 arr2를 곱한 결과를 반환  "
   ]
  },
  {
   "cell_type": "code",
   "execution_count": 36,
   "metadata": {},
   "outputs": [
    {
     "name": "stdout",
     "output_type": "stream",
     "text": [
      "[[15, 15], [15, 15], [15, 15]]\n",
      "[[22, 22, 11], [36, 28, 18], [29, 20, 14]]\n"
     ]
    }
   ],
   "source": [
    "def solution(arr1, arr2):\n",
    "    answer = [[0 for _ in range(len(arr2[0]))] for _ in range(len(arr1))]\n",
    "    for i in range(len(arr1)):\n",
    "        for j in range(len(arr2[0])):\n",
    "            for k in range(len(arr2)):\n",
    "                answer[i][j] += arr1[i][k] * arr2[k][j]\n",
    "    return answer\n",
    "\n",
    "arr1 = [[1, 4], [3, 2], [4, 1]]\n",
    "arr2 = [[3, 3], [3, 3]]\n",
    "print(solution(arr1, arr2))\n",
    "\n",
    "arr1 = [[2, 3, 2], [4, 2, 4], [3, 1, 4]]\n",
    "arr2 = [[5, 4, 3], [2, 4, 1], [3, 1, 1]]\n",
    "print(solution(arr1, arr2))"
   ]
  },
  {
   "cell_type": "markdown",
   "metadata": {},
   "source": [
    "## 최솟값 만들기\n",
    "길이가 같은 배열 A, B  \n",
    "A, B 각각 한 개의 숫자를 봅아 두 수를 곱함  \n",
    "배열의 길이만큼 반복하여 두 수를 곱한 값을 누적 더함.  \n",
    "최종 누적된 값이 최소가 되도록  \n",
    "k번째 숫자를 뽑았다면 다음에 k번째 숫자는 뽑을 수 없다.  \n",
    "\n",
    "제한사항  \n",
    "A, B 의 길이 : 1,000 이하"
   ]
  },
  {
   "cell_type": "code",
   "execution_count": 38,
   "metadata": {},
   "outputs": [
    {
     "name": "stdout",
     "output_type": "stream",
     "text": [
      "29\n",
      "10\n"
     ]
    }
   ],
   "source": [
    "def solution(A,B):\n",
    "    answer = 0\n",
    "    A.sort()\n",
    "    B.sort(reverse=True)\n",
    "    for a, b in zip(A,B):\n",
    "        answer += a * b\n",
    "    return answer\n",
    "\n",
    "A = [1,4,2]\n",
    "B = [5,4,4]\n",
    "print(solution(A,B))\n",
    "\n",
    "A = [1,2]\n",
    "B = [3,4]\n",
    "print(solution(A,B))"
   ]
  },
  {
   "cell_type": "markdown",
   "metadata": {},
   "source": [
    "## 최댓값과 최솟값\n",
    "문자열 s, 공백으로 구분된 숫자들  \n",
    "최소값과 최대값을 찾아 문자열로 반환  "
   ]
  },
  {
   "cell_type": "code",
   "execution_count": 45,
   "metadata": {},
   "outputs": [
    {
     "name": "stdout",
     "output_type": "stream",
     "text": [
      "1 4\n",
      "-4 -1\n",
      "-1 -1\n"
     ]
    }
   ],
   "source": [
    "def solution(s):\n",
    "    answer = ''\n",
    "    s = list(map(int,s.split()))\n",
    "    answer += str(min(s)) + ' ' + str(max(s))\n",
    "    return answer\n",
    "\n",
    "print(solution(\"1 2 3 4\"))\n",
    "print(solution(\"-1 -2 -3 -4\"))\n",
    "print(solution(\"-1 -1\"))"
   ]
  },
  {
   "cell_type": "markdown",
   "metadata": {},
   "source": [
    "## 숫자의 표현\n",
    "자연수 n이 주어질 때 연속된 자연수로 n을 표현하는 방법의 수를 리턴  "
   ]
  },
  {
   "cell_type": "code",
   "execution_count": 50,
   "metadata": {},
   "outputs": [
    {
     "name": "stdout",
     "output_type": "stream",
     "text": [
      "4\n"
     ]
    }
   ],
   "source": [
    "def solution(n):\n",
    "    answer = 0\n",
    "    tot = 0\n",
    "    for j in range(1, n+1):\n",
    "        for i in range(j, n+1):\n",
    "            tot += i\n",
    "            if tot == n:\n",
    "                answer += 1\n",
    "                tot = 0\n",
    "                break\n",
    "            elif tot > n:\n",
    "                tot = 0\n",
    "                break\n",
    "    return answer\n",
    "\n",
    "print(solution(15))"
   ]
  },
  {
   "cell_type": "markdown",
   "metadata": {},
   "source": [
    "## 올바른 괄호\n",
    "(로 열렸다면 짝지어서 )로 닫혀야 함  \n",
    "문자열 s가 올바른 괄호이면 true 반환  \n",
    "그렇지 않으면 false 반환  "
   ]
  },
  {
   "cell_type": "code",
   "execution_count": 51,
   "metadata": {},
   "outputs": [
    {
     "name": "stdout",
     "output_type": "stream",
     "text": [
      "True\n",
      "True\n",
      "False\n",
      "False\n"
     ]
    }
   ],
   "source": [
    "def solution(s):\n",
    "    stack = []\n",
    "    for c in s:\n",
    "        if c == '(':\n",
    "            stack.append(c)\n",
    "        else:\n",
    "            if stack:\n",
    "                stack.pop()\n",
    "            else:\n",
    "                return False\n",
    "    if not stack:\n",
    "        return True\n",
    "    else: \n",
    "        return False\n",
    "\n",
    "print(solution(\"()()\"))\n",
    "print(solution(\"(())()\"))\n",
    "print(solution(\")()(\"))\n",
    "print(solution(\"(()(\"))"
   ]
  },
  {
   "cell_type": "code",
   "execution_count": 52,
   "metadata": {},
   "outputs": [
    {
     "name": "stdout",
     "output_type": "stream",
     "text": [
      "True\n",
      "True\n",
      "False\n",
      "False\n"
     ]
    }
   ],
   "source": [
    "# 다른 사람\n",
    "def solution(s):\n",
    "    x = 0\n",
    "    for w in s:\n",
    "        if x < 0:\n",
    "            break\n",
    "        x = x+1 if w == \"(\" else x-1 if w == \")\" else x\n",
    "    return x == 0\n",
    "\n",
    "print(solution(\"()()\"))\n",
    "print(solution(\"(())()\"))\n",
    "print(solution(\")()(\"))\n",
    "print(solution(\"(()(\"))"
   ]
  },
  {
   "cell_type": "markdown",
   "metadata": {},
   "source": [
    "## 땅따먹기\n",
    "땅(land) 는 총 N행 4열로 이루어짐  \n",
    "모든 칸에는 점수가 쓰여 있다.  \n",
    "1행부터 땅을 밟으며 한 행씩 내려올 때, 각 행의 4칸 중 한 칸만 밟으며 내려온다.  \n",
    "같은 열을 연속해서 발을 수 없음  \n",
    "마지막 행까지 모두 내려왔을 때 얻을 수 있는 점수의 최댓값 리턴  \n",
    "\n",
    "N : 최대 10^5  \n",
    "\n",
    "DP??"
   ]
  },
  {
   "cell_type": "code",
   "execution_count": 57,
   "metadata": {},
   "outputs": [
    {
     "name": "stdout",
     "output_type": "stream",
     "text": [
      "16\n"
     ]
    }
   ],
   "source": [
    "# 아래 행에 위의 값을 더한다.\n",
    "# 예전에 비슷한 문제를 본 적이 있다.. 그때도 최댓값 구하기.\n",
    "def solution(land):\n",
    "    for r in range(len(land)-1):\n",
    "        f = max(land[r])\n",
    "        s = -1\n",
    "        idx = land[r].index(f)\n",
    "        for i in range(4):\n",
    "            if i != idx and land[r][i] > s:\n",
    "                s = land[r][i]\n",
    "        for i in range(4):\n",
    "            if i != idx:\n",
    "                land[r+1][i] += f\n",
    "            else:\n",
    "                land[r+1][i] += s\n",
    "    return max(land[len(land)-1])\n",
    "\n",
    "print(solution([[1,2,3,5],[5,6,7,8],[4,3,2,1]]))"
   ]
  },
  {
   "cell_type": "code",
   "execution_count": 58,
   "metadata": {},
   "outputs": [
    {
     "name": "stdout",
     "output_type": "stream",
     "text": [
      "16\n"
     ]
    }
   ],
   "source": [
    "# 다른 사람\n",
    "def solution(land):\n",
    "    for i in range(1, len(land)):\n",
    "        for j in range(len(land[0])):\n",
    "            land[i][j] = max(land[i-1][:j] + \\\n",
    "                            land[i-1][j+1:]) + land[i][j]\n",
    "    return max(land[-1])\n",
    "\n",
    "print(solution([[1,2,3,5],[5,6,7,8],[4,3,2,1]]))"
   ]
  },
  {
   "cell_type": "markdown",
   "metadata": {},
   "source": [
    "## 가장 큰 정사각형 찾기 (DP)\n",
    "1과 0으로 채워진 표  \n",
    "1로 이루어지는 가장 큰 정사각형을 찾아 넓이를 리턴"
   ]
  },
  {
   "cell_type": "code",
   "execution_count": 67,
   "metadata": {},
   "outputs": [
    {
     "name": "stdout",
     "output_type": "stream",
     "text": [
      "9\n",
      "4\n"
     ]
    }
   ],
   "source": [
    "def solution(board):\n",
    "    for r in range(len(board)):\n",
    "        for c in range(len(board[r])):\n",
    "            if r+1 <= len(board)-1  and c+1 <= len(board[r])-1:\n",
    "                if board[r][c] != 0 and \\\n",
    "                board[r+1][c] != 0 and\\\n",
    "                board[r][c+1] != 0 and\\\n",
    "                board[r+1][c+1] != 0:\n",
    "                    board[r+1][c+1] += min(board[r][c], \\\n",
    "                                          board[r+1][c], \\\n",
    "                                          board[r][c+1])\n",
    "    return max([max(board[i])for i in range(len(board))]) ** 2\n",
    "\n",
    "print(solution([[0,1,1,1],[1,1,1,1],[1,1,1,1],[0,0,1,0]]))\n",
    "print(solution([[0,0,1,1],[1,1,1,1]]))"
   ]
  },
  {
   "cell_type": "markdown",
   "metadata": {},
   "source": [
    "## 프렌즈 4블록\n",
    "블록이 2 * 2형태로 4개가 붙어있으면 사라지면서 점수를 얻는다.  \n",
    "지워지는 조건에 만족하는 2 * 2 모양이 여러개라면 한꺼번에 지워진다.  \n",
    "블록이 지워진 후 위에 있는 블록이 아래로 떨어져 빈 공간 채운다.  \n",
    "반복  \n",
    "지워지는 블록은 모두 몇 개인지 반환하는 함수  \n"
   ]
  },
  {
   "cell_type": "code",
   "execution_count": 85,
   "metadata": {},
   "outputs": [
    {
     "name": "stdout",
     "output_type": "stream",
     "text": [
      "14\n",
      "15\n",
      "4\n",
      "0\n",
      "4\n",
      "8\n",
      "12\n",
      "8\n",
      "8\n"
     ]
    }
   ],
   "source": [
    "def solution(m, n, board):\n",
    "    answer = 0\n",
    "    board = [list(board[i]) for i in range(len(board))]\n",
    "    while True:\n",
    "        memo = [[0 for _ in range(n)] for _ in range(m)]\n",
    "        for r in range(m-1):\n",
    "            for c in range(n-1):\n",
    "                t = board[r][c]\n",
    "                if t != \" \" and t == board[r+1][c+1] and t == board[r+1][c]\\\n",
    "                and t == board[r][c+1]:\n",
    "                    memo[r][c] = 1\n",
    "                    memo[r+1][c] = 1\n",
    "                    memo[r][c+1] = 1\n",
    "                    memo[r+1][c+1] = 1\n",
    "        for ri, line in enumerate(memo):\n",
    "            for ci, c in enumerate(line):\n",
    "                if c == 1 and ri > 0:\n",
    "                    answer += 1\n",
    "                    i = ri\n",
    "                    j = ci\n",
    "                    while i > 0:\n",
    "                        board[i][j] = board[i-1][j]\n",
    "                        i -= 1\n",
    "                        board[i][j] = \" \"\n",
    "                elif c == 1 and ri == 0:\n",
    "                    answer += 1\n",
    "                    board[ri][ci] = \" \"\n",
    "        if sum([sum(memo[i]) for i in range(len(memo))]) == 0:\n",
    "            break\n",
    "    return answer\n",
    "\n",
    "print(solution(4, 5, [\"CCBDE\", \"AAADE\", \"AAABF\", \"CCBBF\"]))\n",
    "print(solution(6, 6, [\"TTTANT\", \"RRFACC\", \"RRRFCC\", \"TRRRAA\", \"TTMMMF\", \"TMMTTJ\"]))\n",
    "print(solution(2,2,[\"AA\", \"AA\"]))\n",
    "print(solution(2,2, [\"AA\", \"AB\"]))\n",
    "print(solution(3,2, [\"AA\", \"AA\", \"AB\"]))\n",
    "print(solution(4,2, [\"CC\", \"AA\", \"AA\", \"CC\"]))\n",
    "print(solution(6,2, [\"DD\", \"CC\", \"AA\", \"AA\", \"CC\", \"DD\"]))\n",
    "print(solution(8,2, [\"FF\", \"AA\", \"CC\", \"AA\", \"AA\", \"CC\", \"DD\", \"FF\"]))\n",
    "print(solution(6,2, [\"AA\", \"AA\", \"CC\", \"AA\", \"AA\", \"DD\"]))\n"
   ]
  },
  {
   "cell_type": "markdown",
   "metadata": {},
   "source": [
    "## 튜플"
   ]
  },
  {
   "cell_type": "code",
   "execution_count": 110,
   "metadata": {},
   "outputs": [
    {
     "name": "stdout",
     "output_type": "stream",
     "text": [
      "[2, 1, 3, 4]\n",
      "[2, 1, 3, 4]\n",
      "[111, 20]\n",
      "[123]\n",
      "[3, 2, 4, 1]\n"
     ]
    }
   ],
   "source": [
    "# 각 집합에서 원소마다 등장하는 횟수 세서\n",
    "# 가장 많이 등장하는 것이 a1\n",
    "# 가장 적게 등장하는 것이 an ?\n",
    "def solution(s):\n",
    "    answer = []\n",
    "    l = []\n",
    "    memo = dict()\n",
    "    for string in s.split(\"},\"):\n",
    "        l.append(string.replace('}', '').replace('{',''))\n",
    "    l = [ e.split(',') for e in l ]\n",
    "    for tup in l:\n",
    "        for e in tup:\n",
    "            if not e in memo:\n",
    "                memo[e] = 1\n",
    "            else:\n",
    "                memo[e] += 1\n",
    "    memo = sorted(memo.items(), key=lambda x: x[1], reverse=True)\n",
    "    answer = [int(m[0]) for m in memo]\n",
    "    return answer\n",
    "\n",
    "print(solution(\"{{2},{2,1},{2,1,3},{2,1,3,4}}\"))\n",
    "print(solution(\"{{1,2,3},{2,1},{1,2,4,3},{2}}\"))\n",
    "print(solution(\"{{20,111},{111}}\"))\n",
    "print(solution(\"{{123}}\"))\n",
    "print(solution(\"{{4,2,3},{3},{2,3,4,1},{2,3}}\"))\n"
   ]
  },
  {
   "cell_type": "code",
   "execution_count": 111,
   "metadata": {},
   "outputs": [
    {
     "name": "stdout",
     "output_type": "stream",
     "text": [
      "[2, 1, 3, 4]\n",
      "[2, 1, 3, 4]\n",
      "[111, 20]\n",
      "[123]\n",
      "[3, 2, 4, 1]\n"
     ]
    }
   ],
   "source": [
    "# 다른 사람\n",
    "# 정규식\n",
    "import re\n",
    "from collections import Counter\n",
    "\n",
    "def solution(s):\n",
    "    s = Counter(re.findall('\\d+', s))\n",
    "    return list(map(int, [k for k, v in sorted(s.items(), \\\n",
    "                                               key=lambda x: x[1], reverse=True)]))\n",
    "\n",
    "print(solution(\"{{2},{2,1},{2,1,3},{2,1,3,4}}\"))\n",
    "print(solution(\"{{1,2,3},{2,1},{1,2,4,3},{2}}\"))\n",
    "print(solution(\"{{20,111},{111}}\"))\n",
    "print(solution(\"{{123}}\"))\n",
    "print(solution(\"{{4,2,3},{3},{2,3,4,1},{2,3}}\"))"
   ]
  },
  {
   "cell_type": "markdown",
   "metadata": {},
   "source": [
    "## 스킬트리\n",
    "가능한 스킬트리의 개수를 리턴  \n",
    "선행 스킬 순서 skill 배열  \n",
    "유저가 만든 스킬트리를 담은 배열 skill_trees  \n",
    "\n",
    "제한조건\n",
    "스킬은 알파벳 대문자  \n",
    "스킬이 중복해 주어지지 않는다.  "
   ]
  },
  {
   "cell_type": "code",
   "execution_count": 114,
   "metadata": {},
   "outputs": [
    {
     "name": "stdout",
     "output_type": "stream",
     "text": [
      "2\n"
     ]
    }
   ],
   "source": [
    "def solution(skill, skill_trees):\n",
    "    answer = len(skill_trees)\n",
    "    i = 0\n",
    "    for tree in skill_trees:\n",
    "        i = 0\n",
    "        for s in tree:\n",
    "            if s in skill:\n",
    "                if skill.index(s) == i:\n",
    "                    i += 1\n",
    "                else:\n",
    "                    answer -= 1\n",
    "                    break\n",
    "    return answer\n",
    "\n",
    "skill = \"CBD\"\n",
    "skill_trees = [\"BACDE\", \"CBADF\", \"AECB\", \"BDA\"]\n",
    "print(solution(skill, skill_trees))"
   ]
  },
  {
   "cell_type": "code",
   "execution_count": 115,
   "metadata": {},
   "outputs": [
    {
     "name": "stdout",
     "output_type": "stream",
     "text": [
      "2\n"
     ]
    }
   ],
   "source": [
    "# 다른 사람\n",
    "# for - else 문 ??\n",
    "def solution(skill, skill_trees):\n",
    "    answer = 0\n",
    "    for skills in skill_trees:\n",
    "        skill_list = list(skill)\n",
    "        for s in skills:\n",
    "            if s in skill:\n",
    "                if s != skill_list.pop(0):\n",
    "                    break\n",
    "        else:\n",
    "            answer += 1\n",
    "    return answer\n",
    "\n",
    "skill = \"CBD\"\n",
    "skill_trees = [\"BACDE\", \"CBADF\", \"AECB\", \"BDA\"]\n",
    "print(solution(skill, skill_trees))"
   ]
  },
  {
   "cell_type": "markdown",
   "metadata": {},
   "source": [
    "## 멀쩡한 사각형\n",
    "가로 길이 : W  \n",
    "세로 길이 : H  \n",
    "직사각형 종이  \n",
    "\n",
    "누군가 이 종이를 대각선 꼭지점 2개를 잇는 방향으로 잘라 놓음.  \n",
    "현재 직사각형 종이는 크기가 같은 직각삼각형 2개로 나누어진 상태  \n",
    "\n",
    "1 * 1로 잘라 사용가능한 정사각형의 개수를 구해라  \n"
   ]
  },
  {
   "cell_type": "code",
   "execution_count": 131,
   "metadata": {},
   "outputs": [
    {
     "name": "stdout",
     "output_type": "stream",
     "text": [
      "80\n",
      "4\n",
      "2\n",
      "6\n",
      "4\n"
     ]
    }
   ],
   "source": [
    "from math import gcd\n",
    "from math import floor\n",
    "from math import ceil\n",
    "def solution(w,h):\n",
    "    g = gcd(w,h)\n",
    "    dw = w // g\n",
    "    dh = h // g\n",
    "    d = h / w\n",
    "    count = 0\n",
    "    if h > w:\n",
    "        for i in range(1, dw + 1):\n",
    "            y1 = floor(d * (i-1))\n",
    "            y2 = ceil(d * i)\n",
    "            count += y2 - y1\n",
    "            if y2 % dh == 0:\n",
    "                break\n",
    "    else:\n",
    "        for i in range(1, dh + 1):\n",
    "            x1 = floor((i-1) / d)\n",
    "            x2 = ceil(i / d)\n",
    "            count += x2 - x1\n",
    "            if x2 % dw == 0:\n",
    "                break\n",
    "    return w*h - (count * g)\n",
    "print(solution(8,12))\n",
    "print(solution(2, 5))\n",
    "print(solution(2, 3))\n",
    "print(solution(3, 4))\n",
    "print(solution(5, 2)) # 4"
   ]
  },
  {
   "cell_type": "code",
   "execution_count": 132,
   "metadata": {},
   "outputs": [
    {
     "name": "stdout",
     "output_type": "stream",
     "text": [
      "80\n",
      "4\n",
      "2\n",
      "6\n",
      "4\n"
     ]
    }
   ],
   "source": [
    "# 다른 사람\n",
    "def gcd(a,b):\n",
    "    return b if (a==0) else gcd(b%a, a)\n",
    "\n",
    "def solution(w,h):\n",
    "    return w*h - w - h + gcd(w,h)\n",
    "\n",
    "print(solution(8,12))\n",
    "print(solution(2, 5))\n",
    "print(solution(2, 3))\n",
    "print(solution(3, 4))\n",
    "print(solution(5, 2)) # 4"
   ]
  },
  {
   "cell_type": "markdown",
   "metadata": {},
   "source": [
    "## 문자열 압축\n",
    "문자열에서 같은 값이 연속해서 나타나는 것을 그 문자의 개수와 반복되는 값으로 표현  \n",
    "aabbaccc -> 2a2ba3c  \n",
    "\n",
    "문자를 1개 이상의 단위로 잘라서 압축  \n",
    "ex1) ababcdcdababcdcd  \n",
    "2 단위 : 2ab2cd2ab2cd  \n",
    "8 단위 : 2ababcdcd  \n",
    "\n",
    "ex2) abcabcdede  \n",
    "2 단위 : abcabc2de  \n",
    "3 단위 : 2abcdede  \n",
    "\n",
    "1개 이상의 단위로 문자열을 잘라 압축한 문자열 중 가장 짧은 것의 길이를 리턴  \n",
    "\n",
    "제한사항  \n",
    "s의 길이 : 1 ~ 10^3  \n",
    "s는 알파벳 소문자  \n",
    "문자열은 제일 앞에서 정해진 길이만큼 잘라야 함  "
   ]
  },
  {
   "cell_type": "code",
   "execution_count": 35,
   "metadata": {
    "scrolled": false
   },
   "outputs": [
    {
     "name": "stdout",
     "output_type": "stream",
     "text": [
      "7\n",
      "9\n",
      "8\n",
      "14\n",
      "17\n",
      "5\n",
      "4\n",
      "3\n"
     ]
    }
   ],
   "source": [
    "def solution(s):\n",
    "    answer = [len(s)]\n",
    "    chunk = 1\n",
    "    while chunk <= len(s)//2:\n",
    "        i = 0\n",
    "        cnt = 0\n",
    "        l = len(s)\n",
    "        while i < len(s):\n",
    "            if s[i:i+chunk] == s[i+chunk:i+chunk*2]:\n",
    "                l -= chunk\n",
    "                cnt += 1\n",
    "            elif cnt != 0:\n",
    "                if cnt < 9:\n",
    "                    l += 1\n",
    "                elif cnt < 99:\n",
    "                    l += 2\n",
    "                elif cnt < 999:\n",
    "                    l += 3\n",
    "                elif cnt < 9999:\n",
    "                    l += 4\n",
    "                cnt = 0\n",
    "            i += chunk\n",
    "#         print(cnt)\n",
    "#         print(l)\n",
    "        answer.append(l)\n",
    "        chunk += 1\n",
    "    return min(answer)\n",
    "\n",
    "print(solution(\"aabbaccc\")) # 2a2ba3c -> 7\n",
    "print(solution(\"ababcdcdababcdcd\"))\n",
    "print(solution(\"abcabcdede\"))\n",
    "print(solution(\"abcabcabcabcdededededede\"))\n",
    "print(solution(\"xababcdcdababcdcd\")) # 17\n",
    "# 실패 케이스 : 2, 7, 17, 18, 20, 21, 23, 27\n",
    "# 올림 테스트\n",
    "print(solution(\"a\"*1000)) # 5 -> 안 되는 것\n",
    "print(solution('a'*100)) # 4\n",
    "print(solution('a'*10)) # 3"
   ]
  },
  {
   "cell_type": "code",
   "execution_count": null,
   "metadata": {},
   "outputs": [],
   "source": [
    "# 다른 사람\n",
    "def compress(text, tok_len):\n",
    "    words = [text[i:i+tok_len] for i in range(0, len(text), tok_len)]\n",
    "    res = []\n",
    "    cur_word = words[0]\n",
    "    cur_cnt = 1\n",
    "    for a, b in zip(words, words[1:] + ['']):\n",
    "        if a == b:\n",
    "            cur_cnt += 1\n",
    "        else:\n",
    "            res.append([cur_word, cur_cnt])\n",
    "            cur_word = b\n",
    "            cur_cnt = 1\n",
    "    return sum(len(word) + (len(str(cnt)) if cnt > 1 else 0) for word, cnt in res)\n",
    "\n",
    "def solution(text):\n",
    "    return min(compress(text, tok_len) for tok_len in list(range(1, int(len(text)/2) + 1)) + [len(text)])"
   ]
  },
  {
   "cell_type": "markdown",
   "metadata": {},
   "source": [
    "## 조이스틱(탐욕법)\n",
    "조이스틱으로 알파벳 이름을 완성  \n",
    "\n",
    "조이스틱의 각 방향  \n",
    "- 위 : 다음 알파벳\n",
    "- 아래 : 이전 알파벳\n",
    "- 왼쪽 커서 이동\n",
    "- 오른쪽 커서 이동\n",
    "\n",
    "주어진 이름의 길이만큼 A로 시작한다.  \n",
    "JAZ 를 만들기 위해  \n",
    "초기에 AAA 로 시작  \n",
    "\n",
    "이름에 대해 조이스틱 조작 횟수의 최솟값을 리턴  "
   ]
  },
  {
   "cell_type": "code",
   "execution_count": 62,
   "metadata": {
    "scrolled": true
   },
   "outputs": [
    {
     "name": "stdout",
     "output_type": "stream",
     "text": [
      "56\n",
      "11\n",
      "23\n",
      "4\n",
      "6\n",
      "2\n",
      "5\n",
      "12\n",
      "12\n",
      "13\n"
     ]
    }
   ],
   "source": [
    "def solution(name):\n",
    "    answer = 0\n",
    "    init = [\"A\" for _ in range(len(name))]\n",
    "    cursor = []\n",
    "    for i, c in enumerate(name):\n",
    "        if c != \"A\" and i != 0: \n",
    "            cursor.append(i)\n",
    "            \n",
    "    start = 0\n",
    "    i = 0\n",
    "    while cursor:\n",
    "        left = cursor[-1]\n",
    "        right = cursor[0]\n",
    "        l = (len(name)-left+start) % len(name)\n",
    "        r = (right - start) % len(name)\n",
    "        if l < r:\n",
    "            answer += l\n",
    "            cursor.pop()\n",
    "            start = left\n",
    "        else:\n",
    "            answer += r\n",
    "            cursor.pop(0)\n",
    "            start = right\n",
    "        \n",
    "    for c in name:\n",
    "        if c == 'A':\n",
    "            continue\n",
    "        else:\n",
    "            val = ord(c) - ord('A')\n",
    "            move = min(26-val, val)\n",
    "            answer += move\n",
    "    return answer\n",
    "\n",
    "print(solution(\"JEROEN\"))\n",
    "print(solution(\"JAZ\"))\n",
    "print(solution(\"JAN\"))\n",
    "print(solution(\"AAABAAAA\"))\n",
    "print(solution(\"ABAAAAAAABA\"))\n",
    "print(solution(\"AAB\"))\n",
    "print(solution(\"ZZZ\"))\n",
    "print(solution(\"AABAAAAAAABBB\"))#12\n",
    "print(solution(\"BBBBAAAAAB\"))#10 -> 답 틀림\n",
    "print(solution(\"BBBBAAAABA\"))#12 -> 답 틀림\n",
    "# 아래 두 가지 경우에 대해서 틀리지만\n",
    "# 프로그래머스에서는 통과됨...\n",
    "# 다른 사람의 풀이에서도 아래 두 케이스는 통과하지 못 하는 것으로 보임\n",
    "# 밑에 두 케이스를 풀려면 완전 탐색으로 바꿔야 헐 듯..?"
   ]
  },
  {
   "cell_type": "markdown",
   "metadata": {},
   "source": [
    "## 괄호변환\n",
    "균형잡힌 : ( 와 )의 개수가 같다  \n",
    "올바른 : (와 )의 짝이 모두 맞다  \n",
    "\n",
    "균형잡힌 -> 올바른 변환 과정\n",
    "1. 입력이 빈 문자열 -> 빈 문자열\n",
    "2. 문자열 w를 균형잡힌 u, v로 분리 (u: 더 이상 분리흘 수 없는 균형잡힌 문자열, v: 빈 문자열 가능 )\n",
    "3. u가 올바른 -> v에 대해 1번부터 (수행 결과를 u에 이어 붙여 반환)\n",
    "4. u가 올바른 X ->\n",
    "    빈 문자열에 첫 번째 문자로 ( 를 붙임\n",
    "    v에 대해 1단계부터 재귀적 수행해서 결과를 이어 붙임\n",
    "    )를 붙임\n",
    "    u의 첫 번째와 마지막 문자 제거, 나머지 문자열의 괄호 방향을 뒤집어서 뒤에 붙임\n",
    "    생성된 문자열 반환\n",
    "    \n",
    "균형잡힌 p가 주어짐  \n",
    "올바른 괄호 문자열로 변환한 결과 리턴  "
   ]
  },
  {
   "cell_type": "code",
   "execution_count": 64,
   "metadata": {},
   "outputs": [
    {
     "name": "stdout",
     "output_type": "stream",
     "text": [
      "e: ()\n",
      "u: ((\n",
      "e: (())))\n",
      "u: \n",
      "()(())))\n"
     ]
    }
   ],
   "source": [
    "def solution(p):\n",
    "    answer = ''\n",
    "    stack = []\n",
    "    \n",
    "    # 올바른지 확인\n",
    "    for c in p:\n",
    "        if c == '(':\n",
    "            stack.append(c)\n",
    "        elif c == ')':\n",
    "            if stack: stack.pop()\n",
    "            else: stack.append('(')\n",
    "                \n",
    "    if not stack:\n",
    "        return p\n",
    "    \n",
    "    #1\n",
    "    if p == '':\n",
    "        return ''\n",
    "    \n",
    "    #2\n",
    "    cnt = 0\n",
    "    u = ''\n",
    "    v = ''\n",
    "    \n",
    "    u += p[0]\n",
    "    if p[0] == '(':\n",
    "        cnt += 1\n",
    "    else:\n",
    "        cnt -+ 1\n",
    "        \n",
    "    for c in p[1:]:\n",
    "        if cnt != 0:\n",
    "            if c == '(':\n",
    "                u += c\n",
    "                cnt += 1\n",
    "            else:\n",
    "                u += c\n",
    "                cnt -= 1\n",
    "            \n",
    "        if cnt == 0:\n",
    "            v += c\n",
    "    v = v[1:]\n",
    "    \n",
    "    #3\n",
    "    stack = []\n",
    "    for c in u:\n",
    "        if c == '(':\n",
    "            stack.append(c)\n",
    "        elif stack and c == ')':\n",
    "            stack.pop()\n",
    "        else:\n",
    "            stack.append('(')\n",
    "                \n",
    "    if not stack:\n",
    "        answer = u + solution(v)\n",
    "    else:\n",
    "        #4\n",
    "        emp = '('\n",
    "        emp += solution(v) + ')'\n",
    "        u = u[1:-1]\n",
    "        print('e:',emp)\n",
    "        print('u:',u)\n",
    "        for c in u:\n",
    "            if c == '(':\n",
    "                emp += ')'\n",
    "            elif c == ')':\n",
    "                emp += '('\n",
    "#         emp += u.replace('(', ')').replace(')', '(')\n",
    "        answer = emp\n",
    "    \n",
    "    return answer\n",
    "\n",
    "# print(solution(\"\"))\n",
    "# print(solution(\"(()())()\"))\n",
    "# print(solution(\")(\"))\n",
    "print(solution(\"()))((()\"))"
   ]
  },
  {
   "cell_type": "code",
   "execution_count": null,
   "metadata": {},
   "outputs": [],
   "source": []
  },
  {
   "cell_type": "code",
   "execution_count": null,
   "metadata": {},
   "outputs": [],
   "source": []
  },
  {
   "cell_type": "code",
   "execution_count": null,
   "metadata": {},
   "outputs": [],
   "source": []
  },
  {
   "cell_type": "markdown",
   "metadata": {},
   "source": [
    "## 포켓몬\n",
    "N 마리의 포켓몬 중 N/2마리를 가져가도 됨  \n",
    "최대한 많은 종류의 포켓몬을 포함해 N/2마리 선택  \n",
    "nums : N마리 포켓몬 종류 번호  \n",
    "가장 많은 종류의 개수 리턴  \n",
    "\n",
    "제한사항\n",
    "nums 길이 : 1 ~ 10,000 항상 짝수"
   ]
  },
  {
   "cell_type": "code",
   "execution_count": 20,
   "metadata": {},
   "outputs": [
    {
     "name": "stdout",
     "output_type": "stream",
     "text": [
      "2\n",
      "3\n",
      "2\n"
     ]
    }
   ],
   "source": [
    "from itertools import combinations\n",
    "from collections import Counter\n",
    "def solution(nums):\n",
    "    answer = 0\n",
    "    comb = list(combinations(nums, len(nums)//2))\n",
    "    # 시간 초과!!!!\n",
    "    for tup in comb:\n",
    "        if answer < len(Counter(tup).keys()):\n",
    "            answer = len(Counter(tup).keys())\n",
    "    return answer\n",
    "\n",
    "print(solution([3,1,2,3]))\n",
    "print(solution([3,3,3,2,2,4]))\n",
    "print(solution([3,3,3,2,2,2]))"
   ]
  },
  {
   "cell_type": "code",
   "execution_count": null,
   "metadata": {},
   "outputs": [],
   "source": []
  },
  {
   "cell_type": "markdown",
   "metadata": {},
   "source": [
    "## 수식 최대화"
   ]
  },
  {
   "cell_type": "code",
   "execution_count": 19,
   "metadata": {},
   "outputs": [
    {
     "name": "stdout",
     "output_type": "stream",
     "text": [
      "['2000', '-', '100']\n",
      "[1900]\n",
      "[1900]\n",
      "['2000', '-', '100']\n",
      "['2000', '-', '100']\n",
      "[1900]\n",
      "[1900]\n",
      "[1900]\n",
      "[1900]\n",
      "[1900]\n",
      "[1900]\n",
      "[1900]\n",
      "['2000', '-', '100']\n",
      "['2000', '-', '100']\n",
      "[1900]\n",
      "['2000', '-', '100']\n",
      "[1900]\n",
      "[1900]\n",
      "1900\n"
     ]
    }
   ],
   "source": [
    "'''\n",
    "3가지 연산 문자 : +, -, * -> 우선순위를 모두 다르게 새롭게 정함\n",
    "우선순위 조합 -> 최대 6개\n",
    "음수 -> 절댓값으로 변환하여 제출\n",
    "숫자가 가장 큰 참가자가 우승\n",
    "\n",
    "expression : 연산 수식 문자열\n",
    "리턴 : 우승 시 받을 수 있는 가장 큰 상금 금액\n",
    "\n",
    "같은 연산자 -> 앞에 있는 것이 우선순위 높다\n",
    "'''\n",
    "import copy\n",
    "def solution(expression):\n",
    "    answer = -1\n",
    "    op = [\"+-*\", \"+*-\", \"-+*\", \"-*+\", \"*+-\", \"*-+\"]\n",
    "    \n",
    "    exp = []\n",
    "    temp = \"\"\n",
    "    for e in expression:\n",
    "        if e.isnumeric():\n",
    "            temp += e\n",
    "        else:\n",
    "            exp.append(temp)\n",
    "            temp = \"\"\n",
    "            exp.append(e)\n",
    "    exp.append(temp)\n",
    "    \n",
    "    for o in op:\n",
    "        test = copy.deepcopy(exp)\n",
    "        for c in o: # o[0] ~ o[2]\n",
    "            idx = 0\n",
    "            while len(test) != 1:\n",
    "                if idx >= len(test):\n",
    "                    break\n",
    "                num = test[idx]\n",
    "                if num == c:\n",
    "                    if c == '+':\n",
    "                        val = int(test[idx-1]) + int(test[idx+1])\n",
    "                    elif c == '-':\n",
    "                        val = int(test[idx-1]) - int(test[idx+1])\n",
    "                    elif c == '*':\n",
    "                        val = int(test[idx-1]) * int(test[idx+1])\n",
    "\n",
    "                    test.pop(idx-1)\n",
    "                    test.pop(idx-1)\n",
    "                    test.pop(idx-1)\n",
    "                    test.insert(idx-1, val)\n",
    "                else:\n",
    "                    idx += 1\n",
    "            if len(test) == 1 and answer < abs(int(test[0])):\n",
    "                answer = abs(int(test[0]))\n",
    "    return answer\n",
    "\n",
    "# print(solution(\"100-200*300-500+20\"))\n",
    "print(solution(\"2000-100\"))"
   ]
  },
  {
   "cell_type": "code",
   "execution_count": null,
   "metadata": {},
   "outputs": [],
   "source": []
  },
  {
   "cell_type": "markdown",
   "metadata": {},
   "source": [
    "## 삼각달팽이"
   ]
  },
  {
   "cell_type": "code",
   "execution_count": 47,
   "metadata": {},
   "outputs": [
    {
     "name": "stdout",
     "output_type": "stream",
     "text": [
      "[[ 1  0  0  0]\n",
      " [ 2  9  0  0]\n",
      " [ 3 10  8  0]\n",
      " [ 4  5  6  7]]\n",
      "[1, 2, 9, 3, 10, 8, 4, 5, 6, 7]\n",
      "[[ 1  0  0  0  0  0]\n",
      " [ 2 15  0  0  0  0]\n",
      " [ 3 16 14  0  0  0]\n",
      " [ 4 17 21 13  0  0]\n",
      " [ 5 18 19 20 12  0]\n",
      " [ 6  7  8  9 10 11]]\n",
      "[1, 2, 15, 3, 16, 14, 4, 17, 21, 13, 5, 18, 19, 20, 12, 6, 7, 8, 9, 10, 11]\n"
     ]
    }
   ],
   "source": [
    "'''\n",
    "길이와 높이가 n\n",
    "맨 위 꼭짓점에서 반시계 방향으로 달팽이 채우기\n",
    "리턴 : 첫 행 ~ 마지막 행 순서대로 합친 배열\n",
    "'''\n",
    "import numpy as np\n",
    "def fill(n, triangle, num, m):\n",
    "    if len(triangle) == 1:\n",
    "        triangle[0][0] = num\n",
    "        return\n",
    "    \n",
    "    while triangle[1][1] == 0:\n",
    "        for r in range(0, n):\n",
    "            triangle[r][0] = num \n",
    "            num += 1\n",
    "        for c in range(1, n):\n",
    "            triangle[n-1][c] = num\n",
    "            num += 1\n",
    "        for r, c in zip(range(n-2, 0, -1), range(n-2, 0, -1)):\n",
    "            triangle[r][c] = num\n",
    "            num += 1\n",
    "            \n",
    "    if num == m+1:\n",
    "        return\n",
    "    else:\n",
    "        fill(n-3, triangle[2:n-1, 1:n-2], num, m)\n",
    "\n",
    "def solution(n):\n",
    "    answer = []\n",
    "    # 가장 바깥 삼각형 -> 항상 [1][1] 이 채워지면 끝\n",
    "    triangle = np.array([[0 for _ in range(n)] for _ in range(n)])\n",
    "    m = n * (n+1) // 2\n",
    "    num = 1\n",
    "    fill(n, triangle, num, m)\n",
    "    print(triangle)\n",
    "    for r in triangle.tolist():\n",
    "        for e in r:\n",
    "            if e != 0:\n",
    "                answer.append(e)\n",
    "    return answer\n",
    "\n",
    "print(solution(4))\n",
    "print(solution(6))"
   ]
  },
  {
   "cell_type": "code",
   "execution_count": 35,
   "metadata": {},
   "outputs": [
    {
     "name": "stdout",
     "output_type": "stream",
     "text": [
      "[[1 2 3 4]\n",
      " [2 3 4 5]\n",
      " [3 4 5 6]]\n",
      "[[2 3]]\n",
      "[[1 2 3 4]\n",
      " [1 2 4 5]\n",
      " [3 4 5 6]]\n"
     ]
    }
   ],
   "source": [
    "# 어떻게 2차원 배열의 부분을 주소값으로 전달하지????\n",
    "# 그냥 배열 말고\n",
    "# np.array() 로 새로운 변수 할당하고 수정하면 된다 !!!!!!\n",
    "\n",
    "def test1(matrix, num):\n",
    "    matrix[0][0] = num\n",
    "    if num == 10:\n",
    "        return\n",
    "    else:\n",
    "        test1(matrix, num)\n",
    "    \n",
    "def test2():\n",
    "    matrix = [[0 for _ in range(10)] for _ in range(10)]\n",
    "    for n in range(10):\n",
    "        test1(matrix, n)\n",
    "        \n",
    "m = [[1,2,3,4], [2,3,4,5], [3,4,5,6]]\n",
    "arr = np.array(m)\n",
    "print(arr)\n",
    "print(arr[1:2, 0:2])\n",
    "arr[1:2, 0:2] = [1, 2]\n",
    "print(arr)"
   ]
  },
  {
   "cell_type": "markdown",
   "metadata": {},
   "source": [
    "## 쿼드압축 후 개수 세기"
   ]
  },
  {
   "cell_type": "code",
   "execution_count": 48,
   "metadata": {},
   "outputs": [
    {
     "name": "stdout",
     "output_type": "stream",
     "text": [
      "[4, 9]\n"
     ]
    }
   ],
   "source": [
    "# 다른사람\n",
    "import numpy as np\n",
    "def solution(arr):\n",
    "    def fn(a):\n",
    "        if np.all(a==0): return np.array([1,0])\n",
    "        if np.all(a==1): return np.array([0,1])\n",
    "        n = a.shape[0] // 2\n",
    "        return fn(a[:n,:n]) + fn(a[n:,:n]) + fn(a[:n,n:]) + fn(a[n:,n:])\n",
    "    \n",
    "    return fn(np.array(arr)).tolist()\n",
    "\n",
    "print(solution([[1,1,0,0],[1,0,0,0],[1,0,0,1],[1,1,1,1]]))"
   ]
  },
  {
   "cell_type": "markdown",
   "metadata": {},
   "source": [
    "## 짝지어 제거하기"
   ]
  },
  {
   "cell_type": "code",
   "execution_count": null,
   "metadata": {},
   "outputs": [],
   "source": []
  },
  {
   "cell_type": "markdown",
   "metadata": {},
   "source": [
    "## 소수 만들기"
   ]
  },
  {
   "cell_type": "code",
   "execution_count": null,
   "metadata": {},
   "outputs": [],
   "source": []
  },
  {
   "cell_type": "markdown",
   "metadata": {},
   "source": [
    "## 점프와 순간 이동"
   ]
  },
  {
   "cell_type": "code",
   "execution_count": null,
   "metadata": {},
   "outputs": [],
   "source": []
  },
  {
   "cell_type": "markdown",
   "metadata": {},
   "source": [
    "## 영어 끝말잇기"
   ]
  },
  {
   "cell_type": "code",
   "execution_count": null,
   "metadata": {},
   "outputs": [],
   "source": []
  },
  {
   "cell_type": "markdown",
   "metadata": {},
   "source": [
    "## 예상 대진표"
   ]
  },
  {
   "cell_type": "code",
   "execution_count": null,
   "metadata": {},
   "outputs": [],
   "source": []
  },
  {
   "cell_type": "markdown",
   "metadata": {},
   "source": [
    "## 뉴스 클러스터링"
   ]
  },
  {
   "cell_type": "code",
   "execution_count": null,
   "metadata": {},
   "outputs": [],
   "source": []
  },
  {
   "cell_type": "markdown",
   "metadata": {},
   "source": [
    "## 캐시"
   ]
  },
  {
   "cell_type": "code",
   "execution_count": null,
   "metadata": {},
   "outputs": [],
   "source": []
  },
  {
   "cell_type": "markdown",
   "metadata": {},
   "source": [
    "## 오픈채팅방"
   ]
  },
  {
   "cell_type": "code",
   "execution_count": null,
   "metadata": {},
   "outputs": [],
   "source": []
  },
  {
   "cell_type": "markdown",
   "metadata": {},
   "source": [
    "## 후보키"
   ]
  },
  {
   "cell_type": "code",
   "execution_count": null,
   "metadata": {},
   "outputs": [],
   "source": []
  },
  {
   "cell_type": "markdown",
   "metadata": {},
   "source": [
    "## 방금그곡"
   ]
  },
  {
   "cell_type": "code",
   "execution_count": null,
   "metadata": {},
   "outputs": [],
   "source": []
  },
  {
   "cell_type": "markdown",
   "metadata": {},
   "source": [
    "## 압축"
   ]
  },
  {
   "cell_type": "code",
   "execution_count": null,
   "metadata": {},
   "outputs": [],
   "source": []
  },
  {
   "cell_type": "markdown",
   "metadata": {},
   "source": [
    "## 파일명 정렬"
   ]
  },
  {
   "cell_type": "code",
   "execution_count": null,
   "metadata": {},
   "outputs": [],
   "source": []
  },
  {
   "cell_type": "markdown",
   "metadata": {},
   "source": [
    "## n진수 게임"
   ]
  },
  {
   "cell_type": "code",
   "execution_count": null,
   "metadata": {},
   "outputs": [],
   "source": []
  },
  {
   "cell_type": "markdown",
   "metadata": {},
   "source": [
    "## 구명보트 (탐욕법)\n",
    "구명보트 -> 한 번에 최대 2명씩 탈 수 있다 & 무게 제한  \n",
    "구명보트를 최대한 적게 사용하여 모든 사람을 구출  \n",
    "people : 사람들의 몸무게를 담은 배열  \n",
    "limit : 구명보트의 무게 제한  \n",
    "모든 사람을 구출하기 위해 필요한 구명보트의 최소 개수 리턴  \n",
    "\n",
    "사람 : 1 ~ 50,000 명  \n",
    "사람의 무게 : 40 ~ 240  \n",
    "무게 제한 : 40 ~ 240  \n",
    "구출할 수 없는 경우 없다  "
   ]
  },
  {
   "cell_type": "code",
   "execution_count": 53,
   "metadata": {},
   "outputs": [
    {
     "name": "stdout",
     "output_type": "stream",
     "text": [
      "3\n",
      "6\n",
      "3\n",
      "5\n",
      "2\n"
     ]
    }
   ],
   "source": [
    "from collections import deque\n",
    "def solution(people, limit):\n",
    "    answer = 0\n",
    "    q = deque(sorted(people))\n",
    "    while q:\n",
    "        n1 = q.popleft()\n",
    "        if not q:\n",
    "            answer += 1\n",
    "        while q:\n",
    "            n2 = q.pop()\n",
    "            if n1 + n2 <= limit:\n",
    "                answer += 1\n",
    "                break\n",
    "            else:\n",
    "                if len(q) == 0:\n",
    "                    answer += 1\n",
    "                answer += 1\n",
    "    return answer\n",
    "\n",
    "people = [70, 50, 80, 50] # 3\n",
    "limit = 100\n",
    "print(solution(people, limit))\n",
    "\n",
    "people = [20,20,20,20,20,20] # 6\n",
    "limit = 30\n",
    "print(solution(people, limit))\n",
    "\n",
    "people = [70,80,50] # 3\n",
    "limit = 100\n",
    "print(solution(people, limit))\n",
    "\n",
    "people = [10,20,30,40,50,60,70,80,90] # 5\n",
    "limit = 100\n",
    "print(solution(people, limit))\n",
    "\n",
    "people = [20,50,50,80] #2\n",
    "limit = 100\n",
    "print(solution(people, limit))"
   ]
  },
  {
   "cell_type": "code",
   "execution_count": 54,
   "metadata": {},
   "outputs": [
    {
     "name": "stdout",
     "output_type": "stream",
     "text": [
      "3\n",
      "5\n",
      "2\n"
     ]
    }
   ],
   "source": [
    "# 다른 풀이\n",
    "def solution(people, limit):\n",
    "    answer = 0\n",
    "    people.sort()\n",
    "    \n",
    "    a = 0\n",
    "    b = len(people) - 1\n",
    "    while a < b:\n",
    "        if people[a] + people[b] <= limit:\n",
    "            a += 1\n",
    "            answer += 1\n",
    "        b -= 1\n",
    "    return len(people) - answer\n",
    "\n",
    "people = [70,80,50] # 3\n",
    "limit = 100\n",
    "print(solution(people, limit))\n",
    "\n",
    "people = [10,20,30,40,50,60,70,80,90] # 5\n",
    "limit = 100\n",
    "print(solution(people, limit))\n",
    "\n",
    "people = [20,50,50,80] #2\n",
    "limit = 100\n",
    "print(solution(people, limit))"
   ]
  },
  {
   "cell_type": "markdown",
   "metadata": {},
   "source": [
    "## ** 가장 큰 수  (정렬)\n",
    "\n",
    "0 또는 양의 정수 -> 정수를 이어 붙여 만들 수 있는 가장 큰 수  \n",
    "numbers : 0 또는 양의 정수가 담긴 배열  \n",
    "리턴 : 순서를 재배치해 만들 수 있는 가장 큰 수  \n",
    "\n",
    "제한  \n",
    "numbers 길이 : 1 ~ 100,000(10^5) -> 선형 이하  \n",
    "numbers 원소 : 0 ~ 1,000 -> 1000이라는 최대값을 그냥 준 게 아니다.  \n",
    "문자열로 리턴  "
   ]
  },
  {
   "cell_type": "code",
   "execution_count": 11,
   "metadata": {},
   "outputs": [
    {
     "name": "stdout",
     "output_type": "stream",
     "text": [
      "6210\n",
      "9534330\n",
      "999997914322\n",
      "40403\n"
     ]
    }
   ],
   "source": [
    "# 흠 어렵네,, 어떻게 정렬을 구현하지..?\n",
    "# permutations 사용하면 효율성 때문에 실패함\n",
    "from itertools import permutations\n",
    "def solution(numbers):\n",
    "    numbers = list(map(str, numbers))\n",
    "    p = list(permutations(numbers))\n",
    "    l = []\n",
    "    for tup in p:\n",
    "        l.append(int(''.join(tup)))\n",
    "    return str(max(l))\n",
    "\n",
    "print(solution([6, 10, 2]))\n",
    "print(solution([3, 30, 34, 5, 9]))\n",
    "print(solution([22, 43, 91, 97 ,9, 999])) # 9 97 91 43 22\n",
    "print(solution([40, 403]))"
   ]
  },
  {
   "cell_type": "code",
   "execution_count": 19,
   "metadata": {},
   "outputs": [
    {
     "name": "stdout",
     "output_type": "stream",
     "text": [
      "6210\n",
      "9534330\n",
      "999997914322\n",
      "40403\n"
     ]
    }
   ],
   "source": [
    "# 구글링..ㅠ\n",
    "# quick sort를 이용해 우선순위가 높은 값부터 사용\n",
    "def myQuickSort(nums, l, r):\n",
    "    if l >= r: return\n",
    "    pos = partition(nums, l, r)\n",
    "    myQuickSort(nums, l, pos-1)\n",
    "    myQuickSort(nums, pos+1, r)\n",
    "    \n",
    "def partition(nums, l, r):\n",
    "    low = l\n",
    "    while l < r:\n",
    "        if compare(nums[l], nums[r]):\n",
    "            nums[l], nums[low] = nums[low], nums[l]\n",
    "            low += 1\n",
    "        l += 1\n",
    "    nums[low], nums[r] = nums[r], nums[low]\n",
    "    return low\n",
    "\n",
    "def compare(n1, n2):\n",
    "    return str(n1) + str(n2) > str(n2) + str(n1)\n",
    "\n",
    "def solution(numbers):\n",
    "    myQuickSort(numbers, 0, len(numbers)-1)\n",
    "    answer = str(int(''.join(map(str, numbers))))\n",
    "    return answer\n",
    "\n",
    "print(solution([6, 10, 2]))\n",
    "print(solution([3, 30, 34, 5, 9]))\n",
    "print(solution([22, 43, 91, 97 ,9, 999])) # 9 97 91 43 22\n",
    "print(solution([40, 403]))"
   ]
  },
  {
   "cell_type": "code",
   "execution_count": 24,
   "metadata": {},
   "outputs": [
    {
     "name": "stdout",
     "output_type": "stream",
     "text": [
      "6210\n",
      "9534330\n",
      "999997914322\n",
      "40403\n"
     ]
    }
   ],
   "source": [
    "# 다른 사람\n",
    "# numbers 원소가 0 ~ 1000 이라는 조건을 이용\n",
    "def solution(numbers):\n",
    "    numbers = list(map(str, numbers))\n",
    "    numbers.sort(key=lambda x: x*3, reverse=True)\n",
    "    return str(int(''.join(numbers)))\n",
    "\n",
    "print(solution([6, 10, 2]))\n",
    "print(solution([3, 30, 34, 5, 9]))\n",
    "print(solution([22, 43, 91, 97 ,9, 999])) # 9 97 91 43 22\n",
    "print(solution([40, 403]))"
   ]
  },
  {
   "cell_type": "code",
   "execution_count": null,
   "metadata": {},
   "outputs": [],
   "source": [
    "# 다른 사람\n",
    "import functools\n",
    "\n",
    "def comparator(a, b):\n",
    "    t1 = a + b\n",
    "    t2 = b + a\n",
    "    return (int(t1)>int(t2)) - (int(t1)<int(t2))\n",
    "\n",
    "def solution(numbers):\n",
    "    n = [str(x) for x in numbers]\n",
    "    n = sorted(n, key=functools.cmp_to_key(comparator), reverse=True)\n",
    "    answer = str(int(''.join(n)))\n",
    "    return answer\n",
    "\n",
    "# 새로 알게된 함수 cmp_to_key\n"
   ]
  },
  {
   "cell_type": "code",
   "execution_count": 26,
   "metadata": {},
   "outputs": [
    {
     "data": {
      "text/plain": [
       "False"
      ]
     },
     "execution_count": 26,
     "metadata": {},
     "output_type": "execute_result"
    }
   ],
   "source": [
    "'666' < '222' # 문자열끼리 비교"
   ]
  },
  {
   "cell_type": "code",
   "execution_count": 27,
   "metadata": {},
   "outputs": [
    {
     "data": {
      "text/plain": [
       "True"
      ]
     },
     "execution_count": 27,
     "metadata": {},
     "output_type": "execute_result"
    }
   ],
   "source": [
    "'101010' < '666'"
   ]
  },
  {
   "cell_type": "code",
   "execution_count": 28,
   "metadata": {},
   "outputs": [
    {
     "data": {
      "text/plain": [
       "True"
      ]
     },
     "execution_count": 28,
     "metadata": {},
     "output_type": "execute_result"
    }
   ],
   "source": [
    "'101010' < '222'"
   ]
  }
 ],
 "metadata": {
  "kernelspec": {
   "display_name": "Python 3",
   "language": "python",
   "name": "python3"
  },
  "language_info": {
   "codemirror_mode": {
    "name": "ipython",
    "version": 3
   },
   "file_extension": ".py",
   "mimetype": "text/x-python",
   "name": "python",
   "nbconvert_exporter": "python",
   "pygments_lexer": "ipython3",
   "version": "3.7.6"
  }
 },
 "nbformat": 4,
 "nbformat_minor": 4
}
