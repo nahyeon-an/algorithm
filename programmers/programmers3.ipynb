{
 "cells": [
  {
   "cell_type": "code",
   "execution_count": 15,
   "metadata": {},
   "outputs": [
    {
     "name": "stdout",
     "output_type": "stream",
     "text": [
      "{'a': 500, 'b': 150, 'c': 800}\n",
      "[('c', 800), ('a', 500), ('b', 150)]\n",
      "[2, 0, 1]\n",
      "{'a': 500}\n",
      "[('a', 500)]\n",
      "[0]\n"
     ]
    }
   ],
   "source": [
    "# 해시\n",
    "def solution(genres, plays):\n",
    "    answer = []\n",
    "    # genres[i] : 고유번호 i 의 장르\n",
    "    # plays[i] : 고유번호 i 의 재생 횟수\n",
    "    # 위) 길이 1 ~ 10,000\n",
    "    \n",
    "    # 순서\n",
    "    genres_sum = dict() # 장르 : 횟수합\n",
    "    genres_id = dict() # 장르 : (아이디, 횟수) 리스트\n",
    "    # 1. plays 합이 제일 큰 장르\n",
    "    for i, g in enumerate(genres):\n",
    "        if not g in genres_sum:\n",
    "            genres_sum[g] = plays[i]\n",
    "            genres_id[g] = []\n",
    "            genres_id[g].append([i, plays[i]])\n",
    "        else:\n",
    "            genres_sum[g] += plays[i]\n",
    "            genres_id[g].append([i, plays[i]])\n",
    "            \n",
    "    # 2. 각 노래 마다 plays 횟수 비교해서 큰 것부터\n",
    "    # 3. plays 횟수 같으면 고유 번호 낮은 노래부터\n",
    "    genres_sum = sorted(genres_sum.items(), key=lambda x: x[1], reverse=True)\n",
    "    for g in genres_sum:\n",
    "        genres_id[g[0]].sort(key=lambda x: (x[1], -x[0]), reverse=True)\n",
    "        cnt = 0\n",
    "        for pair in genres_id[g[0]]:\n",
    "            if len(genres_id[g[0]]) < 2:\n",
    "                answer.append(pair[0])\n",
    "                break\n",
    "            if cnt == 2:\n",
    "                break\n",
    "            answer.append(pair[0])\n",
    "            cnt += 1\n",
    "    \n",
    "    # 베스트 앨범에 들어갈 노래의 고유 번호를 순서대로 리턴\n",
    "    return answer\n",
    "\n",
    "# print(solution([\"classic\", \"classic\", \"classic\", \"classic\", \"pop\"], [500,150,800,800,2500]))\n",
    "# print(solution([\"classic\", \"classic\", \"classic\", \"classic\"], [500,150,800,800]))\n",
    "print(solution([\"a\", \"b\", \"c\"], [500,150,800]))\n",
    "print(solution([\"a\"], [500]))\n",
    "\n",
    "'''\n",
    "파이썬 매직 메소드, 클래스 공부하기\n",
    "'''"
   ]
  },
  {
   "cell_type": "code",
   "execution_count": null,
   "metadata": {},
   "outputs": [],
   "source": [
    "# 다른 사람\n",
    "def solution(genres, plays):\n",
    "    answer = []\n",
    "    dic = {}\n",
    "    album_list = []\n",
    "    for i in range(len(genres)):\n",
    "        dic[genres[i]] = dic.get(genres[i], 0) + plays[i]\n",
    "        album_list.append(album(genres[i], plays[i], i))\n",
    "\n",
    "    dic = sorted(dic.items(), key=lambda dic:dic[1], reverse=True)\n",
    "    album_list = sorted(album_list, reverse=True)\n",
    "\n",
    "    while len(dic) > 0:\n",
    "        play_genre = dic.pop(0)\n",
    "        print(play_genre)\n",
    "        cnt = 0;\n",
    "        for ab in album_list:\n",
    "            if play_genre[0] == ab.genre:\n",
    "                answer.append(ab.track)\n",
    "                cnt += 1\n",
    "            if cnt == 2:\n",
    "                break\n",
    "\n",
    "    return answer\n",
    "\n",
    "class album:\n",
    "    def __init__(self, genre, play, track):\n",
    "        self.genre = genre\n",
    "        self.play = play\n",
    "        self.track = track\n",
    "\n",
    "    def __lt__(self, other):\n",
    "        return self.play < other.play\n",
    "    def __le__(self, other):\n",
    "        return self.play <= other.play\n",
    "    def __gt__(self, other):\n",
    "        return self.play > other.play\n",
    "    def __ge__(self, other):\n",
    "        return self.play >= other.play\n",
    "    def __eq__(self, other):\n",
    "        return self.play == other.play\n",
    "    def __ne__(self, other):\n",
    "        return self.play != other.play"
   ]
  },
  {
   "cell_type": "markdown",
   "metadata": {},
   "source": [
    "## 디스크 컨트롤러"
   ]
  },
  {
   "cell_type": "code",
   "execution_count": 3,
   "metadata": {},
   "outputs": [
    {
     "name": "stdout",
     "output_type": "stream",
     "text": [
      "[[0, 3], [1, 9], [2, 6]]\n",
      "[0, 3]\n"
     ]
    },
    {
     "name": "stdin",
     "output_type": "stream",
     "text": [
      " \n"
     ]
    },
    {
     "name": "stdout",
     "output_type": "stream",
     "text": [
      "[1, 9]\n"
     ]
    },
    {
     "name": "stdin",
     "output_type": "stream",
     "text": [
      " \n"
     ]
    },
    {
     "name": "stdout",
     "output_type": "stream",
     "text": [
      "[2, 6]\n"
     ]
    },
    {
     "ename": "KeyboardInterrupt",
     "evalue": "Interrupted by user",
     "output_type": "error",
     "traceback": [
      "\u001b[0;31m---------------------------------------------------------------------------\u001b[0m",
      "\u001b[0;31mKeyboardInterrupt\u001b[0m                         Traceback (most recent call last)",
      "\u001b[0;32m<ipython-input-3-6148160e65fc>\u001b[0m in \u001b[0;36m<module>\u001b[0;34m\u001b[0m\n\u001b[1;32m     13\u001b[0m     \u001b[0;32mreturn\u001b[0m \u001b[0manswer\u001b[0m\u001b[0;34m\u001b[0m\u001b[0;34m\u001b[0m\u001b[0m\n\u001b[1;32m     14\u001b[0m \u001b[0;34m\u001b[0m\u001b[0m\n\u001b[0;32m---> 15\u001b[0;31m \u001b[0mprint\u001b[0m\u001b[0;34m(\u001b[0m\u001b[0msolution\u001b[0m\u001b[0;34m(\u001b[0m\u001b[0;34m[\u001b[0m\u001b[0;34m[\u001b[0m\u001b[0;36m0\u001b[0m\u001b[0;34m,\u001b[0m \u001b[0;36m3\u001b[0m\u001b[0;34m]\u001b[0m\u001b[0;34m,\u001b[0m \u001b[0;34m[\u001b[0m\u001b[0;36m1\u001b[0m\u001b[0;34m,\u001b[0m \u001b[0;36m9\u001b[0m\u001b[0;34m]\u001b[0m\u001b[0;34m,\u001b[0m \u001b[0;34m[\u001b[0m\u001b[0;36m2\u001b[0m\u001b[0;34m,\u001b[0m \u001b[0;36m6\u001b[0m\u001b[0;34m]\u001b[0m\u001b[0;34m]\u001b[0m\u001b[0;34m)\u001b[0m\u001b[0;34m)\u001b[0m \u001b[0;31m#9\u001b[0m\u001b[0;34m\u001b[0m\u001b[0;34m\u001b[0m\u001b[0m\n\u001b[0m\u001b[1;32m     16\u001b[0m \u001b[0;31m# print(solution([[0, 3], [4, 3], [8, 3]])) #3\u001b[0m\u001b[0;34m\u001b[0m\u001b[0;34m\u001b[0m\u001b[0;34m\u001b[0m\u001b[0m\n\u001b[1;32m     17\u001b[0m \u001b[0;31m# print(solution([[0, 5], [6, 1], [6, 2]])) #3\u001b[0m\u001b[0;34m\u001b[0m\u001b[0;34m\u001b[0m\u001b[0;34m\u001b[0m\u001b[0m\n",
      "\u001b[0;32m<ipython-input-3-6148160e65fc>\u001b[0m in \u001b[0;36msolution\u001b[0;34m(jobs)\u001b[0m\n\u001b[1;32m      9\u001b[0m     \u001b[0;32mwhile\u001b[0m \u001b[0;32mTrue\u001b[0m\u001b[0;34m:\u001b[0m\u001b[0;34m\u001b[0m\u001b[0;34m\u001b[0m\u001b[0m\n\u001b[1;32m     10\u001b[0m         \u001b[0mprint\u001b[0m\u001b[0;34m(\u001b[0m \u001b[0mheapq\u001b[0m\u001b[0;34m.\u001b[0m\u001b[0mheappop\u001b[0m\u001b[0;34m(\u001b[0m\u001b[0mjobs\u001b[0m\u001b[0;34m)\u001b[0m \u001b[0;34m)\u001b[0m\u001b[0;34m\u001b[0m\u001b[0;34m\u001b[0m\u001b[0m\n\u001b[0;32m---> 11\u001b[0;31m         \u001b[0mb\u001b[0m \u001b[0;34m=\u001b[0m \u001b[0minput\u001b[0m\u001b[0;34m(\u001b[0m\u001b[0;34m)\u001b[0m\u001b[0;34m\u001b[0m\u001b[0;34m\u001b[0m\u001b[0m\n\u001b[0m\u001b[1;32m     12\u001b[0m \u001b[0;34m\u001b[0m\u001b[0m\n\u001b[1;32m     13\u001b[0m     \u001b[0;32mreturn\u001b[0m \u001b[0manswer\u001b[0m\u001b[0;34m\u001b[0m\u001b[0;34m\u001b[0m\u001b[0m\n",
      "\u001b[0;32m~/.local/lib/python3.7/site-packages/ipykernel/kernelbase.py\u001b[0m in \u001b[0;36mraw_input\u001b[0;34m(self, prompt)\u001b[0m\n\u001b[1;32m    861\u001b[0m             \u001b[0mself\u001b[0m\u001b[0;34m.\u001b[0m\u001b[0m_parent_ident\u001b[0m\u001b[0;34m,\u001b[0m\u001b[0;34m\u001b[0m\u001b[0;34m\u001b[0m\u001b[0m\n\u001b[1;32m    862\u001b[0m             \u001b[0mself\u001b[0m\u001b[0;34m.\u001b[0m\u001b[0m_parent_header\u001b[0m\u001b[0;34m,\u001b[0m\u001b[0;34m\u001b[0m\u001b[0;34m\u001b[0m\u001b[0m\n\u001b[0;32m--> 863\u001b[0;31m             \u001b[0mpassword\u001b[0m\u001b[0;34m=\u001b[0m\u001b[0;32mFalse\u001b[0m\u001b[0;34m,\u001b[0m\u001b[0;34m\u001b[0m\u001b[0;34m\u001b[0m\u001b[0m\n\u001b[0m\u001b[1;32m    864\u001b[0m         )\n\u001b[1;32m    865\u001b[0m \u001b[0;34m\u001b[0m\u001b[0m\n",
      "\u001b[0;32m~/.local/lib/python3.7/site-packages/ipykernel/kernelbase.py\u001b[0m in \u001b[0;36m_input_request\u001b[0;34m(self, prompt, ident, parent, password)\u001b[0m\n\u001b[1;32m    902\u001b[0m             \u001b[0;32mexcept\u001b[0m \u001b[0mKeyboardInterrupt\u001b[0m\u001b[0;34m:\u001b[0m\u001b[0;34m\u001b[0m\u001b[0;34m\u001b[0m\u001b[0m\n\u001b[1;32m    903\u001b[0m                 \u001b[0;31m# re-raise KeyboardInterrupt, to truncate traceback\u001b[0m\u001b[0;34m\u001b[0m\u001b[0;34m\u001b[0m\u001b[0;34m\u001b[0m\u001b[0m\n\u001b[0;32m--> 904\u001b[0;31m                 \u001b[0;32mraise\u001b[0m \u001b[0mKeyboardInterrupt\u001b[0m\u001b[0;34m(\u001b[0m\u001b[0;34m\"Interrupted by user\"\u001b[0m\u001b[0;34m)\u001b[0m \u001b[0;32mfrom\u001b[0m \u001b[0;32mNone\u001b[0m\u001b[0;34m\u001b[0m\u001b[0;34m\u001b[0m\u001b[0m\n\u001b[0m\u001b[1;32m    905\u001b[0m             \u001b[0;32mexcept\u001b[0m \u001b[0mException\u001b[0m \u001b[0;32mas\u001b[0m \u001b[0me\u001b[0m\u001b[0;34m:\u001b[0m\u001b[0;34m\u001b[0m\u001b[0;34m\u001b[0m\u001b[0m\n\u001b[1;32m    906\u001b[0m                 \u001b[0mself\u001b[0m\u001b[0;34m.\u001b[0m\u001b[0mlog\u001b[0m\u001b[0;34m.\u001b[0m\u001b[0mwarning\u001b[0m\u001b[0;34m(\u001b[0m\u001b[0;34m\"Invalid Message:\"\u001b[0m\u001b[0;34m,\u001b[0m \u001b[0mexc_info\u001b[0m\u001b[0;34m=\u001b[0m\u001b[0;32mTrue\u001b[0m\u001b[0;34m)\u001b[0m\u001b[0;34m\u001b[0m\u001b[0;34m\u001b[0m\u001b[0m\n",
      "\u001b[0;31mKeyboardInterrupt\u001b[0m: Interrupted by user"
     ]
    }
   ],
   "source": [
    "import heapq\n",
    "def solution(jobs):\n",
    "    answer = 0\n",
    "    \n",
    "    heapq.heapify(jobs)\n",
    "    print(jobs)\n",
    "    \n",
    "    t = 0\n",
    "    while len(jobs) > 0:\n",
    "        now = heapq.heappop(jobs)\n",
    "        if now[0] <= t:\n",
    "            t += now[1]    \n",
    "    return answer\n",
    "\n",
    "print(solution([[0, 3], [1, 9], [2, 6]])) #9\n",
    "# print(solution([[0, 3], [4, 3], [8, 3]])) #3\n",
    "# print(solution([[0, 5], [6, 1], [6, 2]])) #3\n",
    "# print(solution([[0, 5], [6, 2], [6, 1]])) #3\n",
    "# print(solution([[0, 5], [2, 2], [5, 3]])) #5\n",
    "# print(solution([[0, 5], [2, 2], [4, 2]])) #5"
   ]
  },
  {
   "cell_type": "markdown",
   "metadata": {},
   "source": [
    "## 순위"
   ]
  },
  {
   "cell_type": "code",
   "execution_count": 4,
   "metadata": {},
   "outputs": [
    {
     "name": "stdout",
     "output_type": "stream",
     "text": [
      "2\n"
     ]
    }
   ],
   "source": [
    "def solution(n, results):\n",
    "    answer = 0\n",
    "    \n",
    "    inf = 10000000\n",
    "    \n",
    "    dist = [[inf for _ in range(n+1)] for _ in range(n+1)]\n",
    "    \n",
    "    for i in range(1, n+1):\n",
    "        dist[i][i] = 0\n",
    "    \n",
    "    for e in results:\n",
    "        dist[e[0]][e[1]] = 1\n",
    "        \n",
    "    for k in range(1, n+1):\n",
    "        for i in range(1, n+1):\n",
    "            for j in range(1, n+1):\n",
    "                if dist[i][j] > dist[i][k] + dist[k][j]:\n",
    "                    dist[i][j] = dist[i][k] + dist[k][j]\n",
    "                    \n",
    "    for c in range(1, n+1):\n",
    "        cnt = 0\n",
    "        for r in range(1, n+1):\n",
    "            if dist[r][c] != inf or dist[c][r] != inf:\n",
    "                cnt += 1\n",
    "        if cnt == n:\n",
    "            answer += 1\n",
    "            \n",
    "    return answer\n",
    "\n",
    "print( solution(5, [[4, 3], [4, 2], [3, 2], [1, 2], [2, 5]]) )"
   ]
  },
  {
   "cell_type": "markdown",
   "metadata": {},
   "source": [
    "## 입국심사 (이분탐색)"
   ]
  },
  {
   "cell_type": "code",
   "execution_count": 12,
   "metadata": {},
   "outputs": [
    {
     "name": "stdout",
     "output_type": "stream",
     "text": [
      "28\n",
      "2\n"
     ]
    }
   ],
   "source": [
    "def solution(n, times):\n",
    "    answer = 0\n",
    "    start = 1\n",
    "    end = n * max(times)\n",
    "    \n",
    "    while start <= end:\n",
    "        mid = (start + end) // 2\n",
    "        \n",
    "        cnt = 0\n",
    "        for t in times:\n",
    "            cnt += mid // t\n",
    "        \n",
    "        if cnt > n:\n",
    "            end = mid - 1\n",
    "        elif cnt < n:\n",
    "            start = mid + 1\n",
    "        else:\n",
    "            flag = False\n",
    "            for t in times:\n",
    "                if mid % t == 0:\n",
    "                    flag = True\n",
    "                    break\n",
    "            if flag:\n",
    "                answer = mid\n",
    "                break\n",
    "            else:\n",
    "                end = mid - 1\n",
    "                \n",
    "    if answer == 0:\n",
    "        answer = start\n",
    "            \n",
    "    return answer\n",
    "\n",
    "print( solution(6, [7, 10]) )\n",
    "print( solution(2, [1, 2]) )"
   ]
  },
  {
   "cell_type": "code",
   "execution_count": null,
   "metadata": {},
   "outputs": [],
   "source": []
  }
 ],
 "metadata": {
  "kernelspec": {
   "display_name": "Python 3",
   "language": "python",
   "name": "python3"
  },
  "language_info": {
   "codemirror_mode": {
    "name": "ipython",
    "version": 3
   },
   "file_extension": ".py",
   "mimetype": "text/x-python",
   "name": "python",
   "nbconvert_exporter": "python",
   "pygments_lexer": "ipython3",
   "version": "3.7.6"
  }
 },
 "nbformat": 4,
 "nbformat_minor": 4
}
