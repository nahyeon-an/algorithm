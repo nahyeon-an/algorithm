{
 "cells": [
  {
   "cell_type": "markdown",
   "metadata": {},
   "source": [
    "## 방의 개수\n",
    "\n",
    "방이 만들어지는 순간은 다음의 2가지 경우가 있습니다.  \n",
    "\n",
    "첫 번째, 한번 지나왔던 점으로 다시 연결될 때 방이 하나 만들어집니다.  \n",
    "단, 이때 예외가 있습니다. 점으로 연결될 때, *이미 그려졌던 선이 아닌지 확인해야 합니다. = 이미 센 방인 경우*  \n",
    "\n",
    "두 번째, 대각선끼리 교차할 때 방이 하나 만들어집니다.  \n",
    "이때도, 이미 그려졌던 선이 아닌지 확인해야 합니다.  \n",
    "\n",
    "아래 테스트 셋을 확인해보세요.  \n",
    "\\[6, 0, 3, 0, 5, 2, 6, 0, 3, 0, 5\\]  \n",
    "답은 3입니다."
   ]
  },
  {
   "cell_type": "code",
   "execution_count": 9,
   "metadata": {},
   "outputs": [
    {
     "name": "stdout",
     "output_type": "stream",
     "text": [
      "0 -1\n",
      "-1 -1\n",
      "0 0\n",
      "-1 0\n",
      "0 -1\n",
      "0 0\n",
      "0 -1\n",
      "-1 -1\n",
      "0 0\n",
      "-1 0\n",
      "0 -1\n",
      "{0: [0, -1], -1: [-1, 0]}\n",
      "8\n"
     ]
    }
   ],
   "source": [
    "def solution(arrows):\n",
    "    answer = 0\n",
    "    \n",
    "    visit = dict()\n",
    "    \n",
    "    pos = [0, 0]\n",
    "    visit[pos[0]] = [ pos[1] ]\n",
    "    \n",
    "    dr = [-1, -1, 0, 1, 1, 1, 0, -1]\n",
    "    dc = [0, 1, 1, 1, 0, -1, -1, -1]\n",
    "    \n",
    "    for a in arrows:\n",
    "        pos[0] += dr[a]\n",
    "        pos[1] += dc[a]\n",
    "            \n",
    "        print(pos[0], pos[1])\n",
    "            \n",
    "        if pos[0] not in visit:\n",
    "                visit[pos[0]] = []\n",
    "                \n",
    "        if pos[1] in visit[pos[0]]:\n",
    "            answer += 1\n",
    "            continue\n",
    "            \n",
    "        visit[pos[0]].append(pos[1])\n",
    "    \n",
    "    print(visit)\n",
    "    \n",
    "    return answer\n",
    "\n",
    "# 정답은 모두 3\n",
    "# print( solution([6, 6, 6, 4, 4, 4, 2, 2, 2, 0, 0, 0, 1, 6, 5, 5, 3, 6, 0]) )\n",
    "# print( solution([6, 5, 2, 7, 1, 4, 2, 4, 6]) )\n",
    "# print( solution([5, 2, 7, 1, 6, 3]) )\n",
    "print( solution([6, 0, 3, 0, 5, 2, 6, 0, 3, 0, 5]) )\n",
    "# print( solution([6, 2, 4, 0, 5, 0, 6, 4, 2, 4, 2, 0]) )"
   ]
  },
  {
   "cell_type": "code",
   "execution_count": null,
   "metadata": {},
   "outputs": [],
   "source": []
  },
  {
   "cell_type": "code",
   "execution_count": null,
   "metadata": {},
   "outputs": [],
   "source": []
  }
 ],
 "metadata": {
  "kernelspec": {
   "display_name": "Python 3",
   "language": "python",
   "name": "python3"
  },
  "language_info": {
   "codemirror_mode": {
    "name": "ipython",
    "version": 3
   },
   "file_extension": ".py",
   "mimetype": "text/x-python",
   "name": "python",
   "nbconvert_exporter": "python",
   "pygments_lexer": "ipython3",
   "version": "3.7.6"
  }
 },
 "nbformat": 4,
 "nbformat_minor": 4
}
