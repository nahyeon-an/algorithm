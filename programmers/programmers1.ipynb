{
 "cells": [
  {
   "cell_type": "markdown",
   "metadata": {},
   "source": [
    "## 완주하지 못한 선수\n",
    "한 명의 선수만 완주 X  \n",
    "participant : 마라톤 참여한 선수들의 이름 배열  \n",
    "completion : 완주한 선수들의 이름 배열  \n",
    "solution -> 완주하지 못한 선수의 이름 반환  \n",
    "참여한 선수의 수 : 1 <= len(participant) <= 100,000  \n",
    "len(completion) = len(participant) - 1  \n",
    "참가자 이름 : 1 ~ 20개의 알파벳 소문자  \n",
    "참가자에 동명이인 있을 수 있다.  "
   ]
  },
  {
   "cell_type": "code",
   "execution_count": 1,
   "metadata": {},
   "outputs": [],
   "source": [
    "def solution(participant, completion):\n",
    "    answer = ''\n",
    "    participated = dict()\n",
    "    for p in participant:\n",
    "        if not p in participated:\n",
    "            participated[p] = 0\n",
    "            continue\n",
    "        participated[p] -= 1 # 동명이인\n",
    "    for c in completion:\n",
    "        participated[c] += 1\n",
    "    for k, v in participated.items():\n",
    "        if v == 0:\n",
    "            answer = k\n",
    "            break\n",
    "    return answer"
   ]
  },
  {
   "cell_type": "code",
   "execution_count": 2,
   "metadata": {
    "scrolled": true
   },
   "outputs": [
    {
     "name": "stdout",
     "output_type": "stream",
     "text": [
      "leo\n",
      "vinko\n",
      "mislav\n",
      "CPU times: user 277 µs, sys: 159 µs, total: 436 µs\n",
      "Wall time: 330 µs\n"
     ]
    }
   ],
   "source": [
    "%%time\n",
    "p = ['leo', 'kiki', 'eden']\n",
    "c = ['eden', 'kiki']\n",
    "print(solution(p, c))\n",
    "p = ['marina', 'josipa', 'nikola', 'vinko', 'filipa']\n",
    "c = ['josipa', 'filipa', 'marina', 'nikola']\n",
    "print(solution(p, c))\n",
    "p = ['mislav', 'stanko', 'mislav', 'ana']\n",
    "c = ['stanko', 'ana', 'mislav']\n",
    "print(solution(p, c))"
   ]
  },
  {
   "cell_type": "code",
   "execution_count": 3,
   "metadata": {},
   "outputs": [
    {
     "name": "stdout",
     "output_type": "stream",
     "text": [
      "leo\n",
      "vinko\n",
      "mislav\n"
     ]
    }
   ],
   "source": [
    "# 다른사람\n",
    "import collections\n",
    "def solution(participant, completion):\n",
    "    answer = collections.Counter(participant) - \\\n",
    "            collections.Counter(completion)\n",
    "    return list(answer.keys())[0]\n",
    "\n",
    "p = ['leo', 'kiki', 'eden']\n",
    "c = ['eden', 'kiki']\n",
    "print(solution(p, c))\n",
    "p = ['marina', 'josipa', 'nikola', 'vinko', 'filipa']\n",
    "c = ['josipa', 'filipa', 'marina', 'nikola']\n",
    "print(solution(p, c))\n",
    "p = ['mislav', 'stanko', 'mislav', 'ana']\n",
    "c = ['stanko', 'ana', 'mislav']\n",
    "print(solution(p, c))"
   ]
  },
  {
   "cell_type": "code",
   "execution_count": 4,
   "metadata": {},
   "outputs": [
    {
     "name": "stdout",
     "output_type": "stream",
     "text": [
      "leo\n",
      "vinko\n",
      "mislav\n"
     ]
    }
   ],
   "source": [
    "# 수업\n",
    "def solution(participant, completion):\n",
    "    participant.sort()\n",
    "    completion.sort()\n",
    "    \n",
    "    for i in range(len(completion)):\n",
    "        if participant[i] != completion[i]:\n",
    "            return participant[i]\n",
    "        \n",
    "    return participant[len(participant)-1]\n",
    "\n",
    "p = ['leo', 'kiki', 'eden']\n",
    "c = ['eden', 'kiki']\n",
    "print(solution(p, c))\n",
    "p = ['marina', 'josipa', 'nikola', 'vinko', 'filipa']\n",
    "c = ['josipa', 'filipa', 'marina', 'nikola']\n",
    "print(solution(p, c))\n",
    "p = ['mislav', 'stanko', 'mislav', 'ana']\n",
    "c = ['stanko', 'ana', 'mislav']\n",
    "print(solution(p, c))"
   ]
  },
  {
   "cell_type": "markdown",
   "metadata": {},
   "source": [
    "## 가운데 글자 가져오기\n",
    "단어 s의 가운데 글자를 반환  \n",
    "단어의 길이가 짝수라면 가운데 두 글자 반환  \n",
    "1 <= len(s) <= 100, s = string"
   ]
  },
  {
   "cell_type": "code",
   "execution_count": 5,
   "metadata": {},
   "outputs": [
    {
     "name": "stdout",
     "output_type": "stream",
     "text": [
      "c\n",
      "we\n"
     ]
    }
   ],
   "source": [
    "def solution(s):\n",
    "    answer = ''\n",
    "    half = len(s) // 2\n",
    "    # 길이 짝수\n",
    "    if len(s)%2 == 0:\n",
    "        answer = s[half-1]+s[half]\n",
    "    else:\n",
    "        answer = s[half]\n",
    "    return answer\n",
    "\n",
    "s=\"abcde\"\n",
    "print(solution(s))\n",
    "s=\"qwer\"\n",
    "print(solution(s))"
   ]
  },
  {
   "cell_type": "code",
   "execution_count": 6,
   "metadata": {},
   "outputs": [
    {
     "name": "stdout",
     "output_type": "stream",
     "text": [
      "c\n",
      "we\n"
     ]
    }
   ],
   "source": [
    "# 다른 사람\n",
    "def solution(s):\n",
    "    return s[(len(s)-1)//2 : len(s)//2+1]\n",
    "\n",
    "s=\"abcde\"\n",
    "print(solution(s))\n",
    "s=\"qwer\"\n",
    "print(solution(s))"
   ]
  },
  {
   "cell_type": "markdown",
   "metadata": {},
   "source": [
    "## 같은 숫자는 싫어\n",
    "배열 arr의 원소 : 0 ~ 9 숫자. \n",
    "arr에서 연속되는 숫자는 하나만 남기고 전부 제거  \n",
    "제거 후 남은 수를 반환할 때 arr 원소들의 순서는 유지  \n",
    "arr의 크기 <= 1,000,000\n",
    "arr의 원소의 크기 : 0~9 정수"
   ]
  },
  {
   "cell_type": "code",
   "execution_count": 7,
   "metadata": {},
   "outputs": [
    {
     "data": {
      "text/plain": [
       "[1, 3, 0, 1]"
      ]
     },
     "execution_count": 7,
     "metadata": {},
     "output_type": "execute_result"
    }
   ],
   "source": [
    "def solution(arr):\n",
    "    answer = []\n",
    "    previous = -1\n",
    "    for i in range(len(arr)):\n",
    "        if arr[i] != previous:\n",
    "            answer.append(arr[i])\n",
    "            previous = arr[i]\n",
    "        else:\n",
    "            continue\n",
    "    return answer\n",
    "\n",
    "a = [1,1,3,3,0,1,1]\n",
    "solution(a)"
   ]
  },
  {
   "cell_type": "code",
   "execution_count": 8,
   "metadata": {},
   "outputs": [
    {
     "data": {
      "text/plain": [
       "[1, 3, 0, 1]"
      ]
     },
     "execution_count": 8,
     "metadata": {},
     "output_type": "execute_result"
    }
   ],
   "source": [
    "# 다른 사람 풀이\n",
    "def solution(arr):\n",
    "    answer = []\n",
    "    for i in arr:\n",
    "        if answer[-1:] == [i]:\n",
    "            continue\n",
    "        answer.append(i)\n",
    "    return answer\n",
    "\n",
    "a = [1,1,3,3,0,1,1]\n",
    "solution(a)"
   ]
  },
  {
   "cell_type": "markdown",
   "metadata": {},
   "source": [
    "## 나누어 떨어지는 숫자 배열\n",
    "array의 요소 중 divisor로 나누어 떨어지는 값 -> 오름차순으로 정렬한 배열 반환  \n",
    "divisor로 나누어 떨어지는 값이 하나도 없다면 -1을 담아 반환  \n",
    "arr 은 자연수를 담은 배열  \n",
    "arr의 요소 값은 서로 다르다  \n",
    "divisor 는 자연수  \n",
    "array의 길이 >= 1"
   ]
  },
  {
   "cell_type": "code",
   "execution_count": 9,
   "metadata": {},
   "outputs": [
    {
     "name": "stdout",
     "output_type": "stream",
     "text": [
      "[5, 10]\n",
      "[1, 2, 3, 36]\n",
      "[-1]\n"
     ]
    }
   ],
   "source": [
    "def solution(arr, divisor):\n",
    "    answer = []\n",
    "    for element in arr:\n",
    "        if element % divisor == 0:\n",
    "            answer.append(element)\n",
    "    if len(answer) == 0:\n",
    "        answer.append(-1)\n",
    "    return sorted(answer)\n",
    "\n",
    "arr = [5, 9, 7, 10]\n",
    "divisor = 5\n",
    "print(solution(arr, divisor))\n",
    "\n",
    "arr = [2, 36, 1, 3]\n",
    "divisor = 1\n",
    "print(solution(arr, divisor))\n",
    "\n",
    "arr = [3,2,6]\n",
    "divisor = 10\n",
    "print(solution(arr, divisor))"
   ]
  },
  {
   "cell_type": "code",
   "execution_count": 10,
   "metadata": {},
   "outputs": [
    {
     "name": "stdout",
     "output_type": "stream",
     "text": [
      "[5, 10]\n",
      "[1, 2, 3, 36]\n",
      "[-1]\n"
     ]
    }
   ],
   "source": [
    "# 다른 사람 풀이\n",
    "def solution(arr, divisor):\n",
    "    return sorted([n for n in arr if n%divisor == 0]) or [-1]\n",
    "\n",
    "arr = [5, 9, 7, 10]\n",
    "divisor = 5\n",
    "print(solution(arr, divisor))\n",
    "\n",
    "arr = [2, 36, 1, 3]\n",
    "divisor = 1\n",
    "print(solution(arr, divisor))\n",
    "\n",
    "arr = [3,2,6]\n",
    "divisor = 10\n",
    "print(solution(arr, divisor))"
   ]
  },
  {
   "cell_type": "markdown",
   "metadata": {},
   "source": [
    "## 문자열 내 p와 y의 개수\n",
    "문자열 s : 대문자 + 소문자  \n",
    "s에 p의 개수 = y의 개수 이면 True, else False  \n",
    "p, y 모두 하나도 없는 경우 항상 True  \n",
    "개수 비교 시 대문자와 소문자를 구별하지 X  \n",
    "len(s) <= 50\n",
    "s는 알파벳으로만 이루어짐"
   ]
  },
  {
   "cell_type": "code",
   "execution_count": 11,
   "metadata": {},
   "outputs": [
    {
     "name": "stdout",
     "output_type": "stream",
     "text": [
      "True\n",
      "False\n",
      "True\n",
      "True\n"
     ]
    }
   ],
   "source": [
    "def solution(s):\n",
    "    s = s.lower()\n",
    "    p = [ c for c in s if c == 'p']\n",
    "    y = [ c for c in s if c == 'y']\n",
    "    if len(p) ==  len(y):\n",
    "        return True\n",
    "    else:\n",
    "        return False\n",
    "    \n",
    "s = \"pPoooyY\"\n",
    "print(solution(s))\n",
    "s = \"Pyy\"\n",
    "print(solution(s))\n",
    "s = \"PpppYYyy\"\n",
    "print(solution(s))\n",
    "s = \"abcdefghaadkjfe\"\n",
    "print(solution(s))"
   ]
  },
  {
   "cell_type": "code",
   "execution_count": 12,
   "metadata": {},
   "outputs": [
    {
     "name": "stdout",
     "output_type": "stream",
     "text": [
      "True\n",
      "False\n",
      "True\n",
      "True\n"
     ]
    }
   ],
   "source": [
    "# 다른 사람 풀이\n",
    "def solution(s):\n",
    "    return s.lower().count('p') == s.lower().count('y')\n",
    "\n",
    "s = \"pPoooyY\"\n",
    "print(solution(s))\n",
    "s = \"Pyy\"\n",
    "print(solution(s))\n",
    "s = \"PpppYYyy\"\n",
    "print(solution(s))\n",
    "s = \"abcdefghaadkjfe\"\n",
    "print(solution(s))"
   ]
  },
  {
   "cell_type": "markdown",
   "metadata": {},
   "source": [
    "## 문자열을 정수로 바꾸기\n",
    "문자열 s를 숫자로 변환한 결과를 반환. \n",
    "1<= len(s) <= 5  \n",
    "맨 앞에 부호(+, -)가 올 수 있다  \n",
    "s = 부호 + 숫자  \n",
    "s는 0으로 시작하지 X  "
   ]
  },
  {
   "cell_type": "code",
   "execution_count": 15,
   "metadata": {},
   "outputs": [
    {
     "name": "stdout",
     "output_type": "stream",
     "text": [
      "1234\n",
      "-1234\n"
     ]
    }
   ],
   "source": [
    "def solution(s):\n",
    "    answer = 0\n",
    "    if s[0] == '-':\n",
    "        sign = -1\n",
    "        s = s.replace('-','')\n",
    "    elif s[0] == '+':\n",
    "        sign = +1\n",
    "        s = s.replace('+','')\n",
    "    else:\n",
    "        sign = +1\n",
    "\n",
    "    string = list(reversed(s))\n",
    "    i = 1\n",
    "    for c in string:\n",
    "        answer += int(c) * i\n",
    "        i *= 10\n",
    "\n",
    "    answer *= sign\n",
    " \n",
    "    return answer\n",
    "\n",
    "s = \"1234\"\n",
    "print(solution(s))\n",
    "s = \"-1234\"\n",
    "print(solution(s))"
   ]
  },
  {
   "cell_type": "code",
   "execution_count": 16,
   "metadata": {},
   "outputs": [
    {
     "name": "stdout",
     "output_type": "stream",
     "text": [
      "1234\n",
      "-1234\n"
     ]
    }
   ],
   "source": [
    "# 다른 사람 풀이\n",
    "# 새로 알게 된 문법 : 문자열 s에 s[::-1]을 하면 문자열을 거꾸로 뒤집는다.\n",
    "def solution(s):\n",
    "    answer = 0\n",
    "    for idx, number in enumerate(s[::-1]):\n",
    "        if number == '-':\n",
    "            answer *= -1\n",
    "        else:\n",
    "            answer += int(number) * (10 ** idx)\n",
    "    return answer\n",
    "\n",
    "s = \"1234\"\n",
    "print(solution(s))\n",
    "s = \"-1234\"\n",
    "print(solution(s))"
   ]
  },
  {
   "cell_type": "markdown",
   "metadata": {},
   "source": [
    "## 2016년\n",
    "2016.01.01 = 금요일  \n",
    "2016년 a월 b일은 무슨 요일인가?  \n",
    "a, b를 입력받아 무슨 요일인지 리턴\n",
    "요일의 이름 = SUN, MON, TUE, WED, THU, FRI, SAT\n",
    "2016년은 윤년"
   ]
  },
  {
   "cell_type": "code",
   "execution_count": 17,
   "metadata": {},
   "outputs": [
    {
     "name": "stdout",
     "output_type": "stream",
     "text": [
      "TUE\n"
     ]
    }
   ],
   "source": [
    "def solution(a, b):\n",
    "    answer = ''\n",
    "    month = [31, 29, 31, 30, 31, 30, 31, 31, 30, 31, 30, 31]\n",
    "    day = ['THU', 'FRI', 'SAT', 'SUN', 'MON', 'TUE', 'WED']\n",
    "    if a != 1:\n",
    "        for i in range(a-1):\n",
    "            b += month[i]\n",
    "    answer = day[b % 7]\n",
    "    return answer\n",
    "\n",
    "print(solution(5,24))"
   ]
  },
  {
   "cell_type": "code",
   "execution_count": 18,
   "metadata": {},
   "outputs": [
    {
     "name": "stdout",
     "output_type": "stream",
     "text": [
      "TUE\n"
     ]
    }
   ],
   "source": [
    "def solution(a, b):\n",
    "    months = [31, 29, 31, 30, 31, 30, 31, 31, 30, 31, 30, 31]\n",
    "    days = ['FRI', 'SAT', 'SUN', 'MON', 'TUE', 'WED', 'THU']\n",
    "    return days[(sum(months[:a-1]) + b - 1) % 7]\n",
    "\n",
    "print(solution(5,24))\n",
    "# index를 반복하고 싶으면 slicing!"
   ]
  },
  {
   "cell_type": "markdown",
   "metadata": {},
   "source": [
    "## 문자열 다루기 기본\n",
    "문자열 s의 길이가 4 또는 6 && 숫자로만 구성되어 있는지 확인해주는 함수  \n",
    "s의 길이는 1 <=  <= 8"
   ]
  },
  {
   "cell_type": "code",
   "execution_count": 19,
   "metadata": {},
   "outputs": [
    {
     "data": {
      "text/plain": [
       "False"
      ]
     },
     "execution_count": 19,
     "metadata": {},
     "output_type": "execute_result"
    }
   ],
   "source": [
    "def solution(s):\n",
    "    return s.isdigit() and (len(s) == 4 or len(s) == 6)\n",
    "\n",
    "# 다른 사람\n",
    "s.isdigit() and len(s) in (4, 6)"
   ]
  },
  {
   "cell_type": "code",
   "execution_count": 20,
   "metadata": {},
   "outputs": [
    {
     "name": "stdout",
     "output_type": "stream",
     "text": [
      "True\n"
     ]
    }
   ],
   "source": [
    "print(solution(\"1234\"))"
   ]
  },
  {
   "cell_type": "markdown",
   "metadata": {},
   "source": [
    "## 서울에서 김서방 찾기\n",
    "배열 seoul : 스트링 요소 -> \"Kim\"의 위치 x를 찾아, \"김서방은 x에 있다\"라는 String을 반환  \n",
    "\"Kim\"은 한 번만 나타나고 잘못된 입력은 없다  \n",
    "seoul 길이 1<= <= 1000  \n",
    "seoul 원소의 길이 1<= <=20  \n",
    "Kim은 반드시 존재  "
   ]
  },
  {
   "cell_type": "code",
   "execution_count": 21,
   "metadata": {},
   "outputs": [],
   "source": [
    "def solution(seoul):\n",
    "    for idx, person in enumerate(seoul):\n",
    "        if person == \"Kim\":\n",
    "            return \"김서방은 {}에 있다\".format(idx)"
   ]
  },
  {
   "cell_type": "code",
   "execution_count": 22,
   "metadata": {},
   "outputs": [],
   "source": [
    "# 다른 사람\n",
    "def solution(seoul):\n",
    "    return \"김서방은 {}에 있다\".format(seoul.index('Kim'))"
   ]
  },
  {
   "cell_type": "code",
   "execution_count": 23,
   "metadata": {},
   "outputs": [
    {
     "name": "stdout",
     "output_type": "stream",
     "text": [
      "김서방은 1에 있다\n"
     ]
    }
   ],
   "source": [
    "seoul = [\"Jane\", \"Kim\"]\n",
    "print(solution(seoul))"
   ]
  },
  {
   "cell_type": "markdown",
   "metadata": {},
   "source": [
    "## 문자열 내림차순으로 배치하기\n",
    "s의 문자를 큰 것부터 작은 순으로 정렬하여 문자열 리턴  \n",
    "s는 영문 대소문자로만 구성  \n",
    "대문자는 소문자보다 작은 것"
   ]
  },
  {
   "cell_type": "code",
   "execution_count": 24,
   "metadata": {},
   "outputs": [
    {
     "data": {
      "text/plain": [
       "'4321-'"
      ]
     },
     "execution_count": 24,
     "metadata": {},
     "output_type": "execute_result"
    }
   ],
   "source": [
    "def solution(s):\n",
    "    return \"\".join(list(reversed(sorted(s))))\n",
    "\n",
    "# 다른 사람\n",
    "''.join(sorted(s, reverse=True))"
   ]
  },
  {
   "cell_type": "code",
   "execution_count": 25,
   "metadata": {},
   "outputs": [
    {
     "name": "stdout",
     "output_type": "stream",
     "text": [
      "gfedcbZ\n"
     ]
    }
   ],
   "source": [
    "s = \"Zbcdefg\"\n",
    "print(solution(s))"
   ]
  },
  {
   "cell_type": "markdown",
   "metadata": {},
   "source": [
    "## 소수 찾기\n",
    "1 ~ n 사이의 숫자(n 포함) 중 소수의 개수를 반환"
   ]
  },
  {
   "cell_type": "code",
   "execution_count": 26,
   "metadata": {},
   "outputs": [],
   "source": [
    "# 수업\n",
    "def solution(n):\n",
    "    nums = set(range(2, n+1))\n",
    "    for i in range(2, n+1):\n",
    "        if i in nums:\n",
    "            # 배수를 제거하는 코드\n",
    "            nums -= set(range(2*i, n+1, i))\n",
    "    return len(nums)"
   ]
  },
  {
   "cell_type": "code",
   "execution_count": 27,
   "metadata": {},
   "outputs": [
    {
     "name": "stdout",
     "output_type": "stream",
     "text": [
      "4\n"
     ]
    }
   ],
   "source": [
    "print(solution(10))"
   ]
  },
  {
   "cell_type": "markdown",
   "metadata": {},
   "source": [
    "## 문자열 내 마음대로 정렬하기\n",
    "문자열 리스트 string, 정수 n  \n",
    "각 문자열의 n 번째 인덱스 글자를 기준으로 오름차순 정렬  \n",
    "strings의 길이 1<= <=50  \n",
    "strings의 원소는 소문자 알파벳  \n",
    "strings의 원소의 길이 1<= <=100  \n",
    "모든 strings의 원소의 길이는 n보다 크다  \n",
    "인덱스 1dml 문자가 여러개일 때 사전순으로 앞선 문자열이 앞쪽"
   ]
  },
  {
   "cell_type": "code",
   "execution_count": 28,
   "metadata": {},
   "outputs": [],
   "source": [
    "def solution(strings, n):\n",
    "    return sorted(strings, key=lambda x: (x[n], x))\n",
    "\n",
    "# 알게된 것 : sorted()함수를 사용할 때 \n",
    "# 정렬 기준은 key parameter를 통해 지정\n",
    "# 두 개 이상의 정렬 기준은 튜플형식(조건1, 조건2, ...)으로 지정"
   ]
  },
  {
   "cell_type": "code",
   "execution_count": 29,
   "metadata": {},
   "outputs": [
    {
     "name": "stdout",
     "output_type": "stream",
     "text": [
      "['car', 'bed', 'sun']\n",
      "['abcd', 'abce', 'cdx']\n"
     ]
    }
   ],
   "source": [
    "strings = [\"sun\", \"bed\", \"car\"]\n",
    "n = 1\n",
    "print(solution(strings, n))\n",
    "\n",
    "strings = [\"abce\", \"abcd\", \"cdx\"]\n",
    "n = 2\n",
    "print(solution(strings, n))"
   ]
  },
  {
   "cell_type": "markdown",
   "metadata": {},
   "source": [
    "## 시저 암호\n",
    "알파벳을 일정한 거리만큼 밀어서 다른 알파벳으로 바꿈  \n",
    "\"AB\"를 1만큼 밀어서 \"BC\", 3만큼 밀어서 \"DE\"  \n",
    "\"z\"는 1만큼 밀면 \"a\"  \n",
    "문자열 s, 거리 n을 입력받아 s를 n만큼 민 암호문  \n",
    "공백은 밀어도 공백 : 공백은 그냥 그 자리에 둬라  \n",
    "s는 알파벳 소문자, 대문자, 공백  \n",
    "s의 길이 <= 8000  \n",
    "n 은 1 이상, 25 이하"
   ]
  },
  {
   "cell_type": "code",
   "execution_count": 30,
   "metadata": {},
   "outputs": [
    {
     "name": "stdout",
     "output_type": "stream",
     "text": [
      "BC\n",
      "a\n",
      "e F d\n"
     ]
    }
   ],
   "source": [
    "def solution(s, n):\n",
    "    answer = ''\n",
    "    lower = list(range(ord('h'), ord('z')+1)) + list(range(ord('a'), ord('h')))\n",
    "    upper = list(range(ord('N'), ord('Z')+1)) + list(range(ord('A'), ord('N')))\n",
    "    for c in s:\n",
    "        if c == ' ':\n",
    "            answer += c\n",
    "        elif 97 <= ord(c) <= 122:\n",
    "            answer += chr(lower[(ord(c) + n) % 26])\n",
    "        elif 65 <= ord(c) <= 90:\n",
    "            answer += chr(upper[(ord(c) + n) % 26])\n",
    "    return answer\n",
    "\n",
    "s = \"AB\" # 65 66\n",
    "n = 1\n",
    "print(solution(s, n))\n",
    "\n",
    "s = \"z\" # 122\n",
    "n = 1\n",
    "print(solution(s, n))\n",
    "\n",
    "s = \"a B z\" # 97 32 66 32 122\n",
    "n = 4\n",
    "print(solution(s, n))"
   ]
  },
  {
   "cell_type": "code",
   "execution_count": 31,
   "metadata": {},
   "outputs": [
    {
     "name": "stdout",
     "output_type": "stream",
     "text": [
      "e F d\n"
     ]
    }
   ],
   "source": [
    "# 다른 사람\n",
    "# 알아가는 것 : isupper(), islower() 함수\n",
    "def solution(s, n):\n",
    "    s = list(s)\n",
    "    for i in range(len(s)):\n",
    "        if s[i].isupper():\n",
    "            s[i]=chr((ord(s[i])-ord('A')+ n)%26+ord('A'))\n",
    "        elif s[i].islower():\n",
    "            s[i]=chr((ord(s[i])-ord('a')+ n)%26+ord('a'))\n",
    "    return \"\".join(s)\n",
    "\n",
    "s = \"a B z\" # 97 32 66 32 122\n",
    "n = 4\n",
    "print(solution(s, n))"
   ]
  },
  {
   "cell_type": "code",
   "execution_count": 32,
   "metadata": {},
   "outputs": [
    {
     "name": "stdout",
     "output_type": "stream",
     "text": [
      "a: 97\n",
      "z: 122\n",
      "a-z: -25\n",
      "A: 65\n",
      "Z: 90\n",
      "A-Z: -25\n",
      "False\n",
      "True\n"
     ]
    }
   ],
   "source": [
    "print(\"a:\", ord('a')) # 97\n",
    "print(\"z:\", ord('z')) # 122\n",
    "print(\"a-z:\", ord('a')-ord('z')) # -25\n",
    "print(\"A:\", ord('A')) # 65\n",
    "print(\"Z:\", ord('Z')) # 90\n",
    "print(\"A-Z:\", ord('A')-ord('Z')) # -25\n",
    "print('a'.isupper())\n",
    "print('A'.isupper())"
   ]
  },
  {
   "cell_type": "markdown",
   "metadata": {},
   "source": [
    "## 이상한 문자 만들기\n",
    "문자열 s 는 하나 이상의 단어로 구성됨  \n",
    "각 단어는 하나 이상의 공백문자로 구분됨  \n",
    "단어의 짝수번째 알파벳은 대문자, 홀수번째 알파벳은 소문자로 바꾸어 리턴  \n",
    "인덱스 기준 짝/홀을 판단하는거 X  \n",
    "단어 별로 짝수/홀수 인덱스 판단  \n",
    "첫 번째 글자는 0번째 인덱스 = 짝수번째로 처리  "
   ]
  },
  {
   "cell_type": "code",
   "execution_count": 33,
   "metadata": {},
   "outputs": [
    {
     "name": "stdout",
     "output_type": "stream",
     "text": [
      "TrY HeLlO WoRlD\n",
      "   TrY HeLlO WoRlD\n"
     ]
    }
   ],
   "source": [
    "def solution(s):\n",
    "    s = list(s)\n",
    "    i = 0\n",
    "    for idx, c in enumerate(s):\n",
    "        # 공백 문자는 패스\n",
    "        if c == ' ':\n",
    "            i=0\n",
    "            continue\n",
    "        else:\n",
    "            if i%2 == 0:\n",
    "                s[idx] = c.upper()\n",
    "                i += 1\n",
    "            else:\n",
    "                s[idx] = c.lower()\n",
    "                i += 1\n",
    "    return \"\".join(s)\n",
    "\n",
    "s = \"try hello world\"\n",
    "print(solution(s))\n",
    "\n",
    "s = \"   try hello world\"\n",
    "print(solution(s))"
   ]
  },
  {
   "cell_type": "markdown",
   "metadata": {},
   "source": [
    "## 자릿수 더하기\n",
    "자연수 N  \n",
    "N의 각 자릿수의 합을 구해서 리턴  \n",
    "N <= 100,000,000"
   ]
  },
  {
   "cell_type": "code",
   "execution_count": 34,
   "metadata": {},
   "outputs": [
    {
     "name": "stdout",
     "output_type": "stream",
     "text": [
      "6\n",
      "24\n"
     ]
    }
   ],
   "source": [
    "def solution(n):\n",
    "    return sum([int(c) for c in str(n)])\n",
    "\n",
    "n = 123\n",
    "print(solution(n))\n",
    "n = 987\n",
    "print(solution(n))"
   ]
  },
  {
   "cell_type": "markdown",
   "metadata": {},
   "source": [
    "## 자연수 뒤집어 배열로 만들기\n",
    "자연수 n을 뒤집어 각 자리 숫자를 원소로 가지는 배열 리턴  \n",
    "n <= 10,000,000,000"
   ]
  },
  {
   "cell_type": "code",
   "execution_count": 35,
   "metadata": {},
   "outputs": [
    {
     "name": "stdout",
     "output_type": "stream",
     "text": [
      "[5, 4, 3, 2, 1]\n"
     ]
    }
   ],
   "source": [
    "def solution(n):\n",
    "    return [ int(x) for x in list(reversed(str(n))) ]\n",
    "\n",
    "# 다른 사람\n",
    "# return list(map(int, reversed(str(n))))\n",
    "\n",
    "n = 12345\n",
    "print(solution(n))"
   ]
  },
  {
   "cell_type": "markdown",
   "metadata": {},
   "source": [
    "## 정수 내림차순으로 배치\n",
    "정수 n을 매개변수로 입력받는다.  \n",
    "n의 각 자릿수를 큰 것부터 작은 순으로 정렬한 새로운 정수를 리턴  \n",
    "n : 1 <= <= 8,000,000,000"
   ]
  },
  {
   "cell_type": "code",
   "execution_count": 36,
   "metadata": {},
   "outputs": [
    {
     "name": "stdout",
     "output_type": "stream",
     "text": [
      "873211\n"
     ]
    }
   ],
   "source": [
    "def solution(n):\n",
    "    return int(''.join(sorted(str(n), reverse = True)))\n",
    "\n",
    "n = 118372\n",
    "print(solution(n))"
   ]
  },
  {
   "cell_type": "markdown",
   "metadata": {},
   "source": [
    "## 정수 제곱근 판별\n",
    "임의의 양의 정수 n  \n",
    "n이 어떤 양의 정수 x의 제곱인지 아닌지 판단하려고 한다.  \n",
    "n이 양의 정수 x의 제곱이면 x+1의 제곱을 리턴  \n",
    "n이 x의 제곱이 아니라면 -1을 리턴  \n",
    "n 은 1 <= <= 50,000,000,000,000"
   ]
  },
  {
   "cell_type": "code",
   "execution_count": 37,
   "metadata": {},
   "outputs": [
    {
     "name": "stdout",
     "output_type": "stream",
     "text": [
      "144\n",
      "-1\n",
      "CPU times: user 343 µs, sys: 273 µs, total: 616 µs\n",
      "Wall time: 1.21 ms\n"
     ]
    }
   ],
   "source": [
    "%%time\n",
    "import math\n",
    "def solution(n):\n",
    "    if math.sqrt(n).is_integer():\n",
    "        return (int(math.sqrt(n))+1) ** 2\n",
    "    else:\n",
    "        return -1\n",
    "    \n",
    "print(solution(121))\n",
    "print(solution(3))"
   ]
  },
  {
   "cell_type": "code",
   "execution_count": 38,
   "metadata": {},
   "outputs": [
    {
     "name": "stdout",
     "output_type": "stream",
     "text": [
      "144\n",
      "-1\n"
     ]
    }
   ],
   "source": [
    "# 다른 사람\n",
    "def solution(n):\n",
    "    sqrt = n ** (1/2)\n",
    "    if sqrt % 1 == 0: # 소수가 있는지 없는지 확인(정수인지 아닌지)\n",
    "        return int((sqrt + 1) ** 2)\n",
    "    return -1\n",
    "\n",
    "print(solution(121))\n",
    "print(solution(3))"
   ]
  },
  {
   "cell_type": "markdown",
   "metadata": {},
   "source": [
    "## 제일 작은 수 제거하기\n",
    "arr : 정수를 저장한 배열  \n",
    "arr에서 가장 작은 수를 제거한 배열을 리턴  \n",
    "리턴하려는 배열이 빈 배열일 때 (arr의 원소가 1개뿐) -1을 채워 리턴  \n",
    "i != j 이면 arr[i] != arr[j]  "
   ]
  },
  {
   "cell_type": "code",
   "execution_count": 39,
   "metadata": {},
   "outputs": [
    {
     "name": "stdout",
     "output_type": "stream",
     "text": [
      "[4, 3, 2]\n",
      "[-1]\n"
     ]
    }
   ],
   "source": [
    "def solution(arr):\n",
    "    arr.remove(min(arr))\n",
    "    if not arr: arr = [-1]\n",
    "    return arr\n",
    "\n",
    "arr = [4, 3, 2, 1]\n",
    "print(solution(arr))\n",
    "\n",
    "arr = [10]\n",
    "print(solution(arr))"
   ]
  },
  {
   "cell_type": "markdown",
   "metadata": {},
   "source": [
    "## k번째수\n",
    "배열 array의 i 부터 j 까지 자르고 정렬해서 k번째 수를 구하려고 한다.  \n",
    "[i, j, k]를 원소로 가지는 2차원 배열 commands가 매개변수로 주어짐  \n",
    "commands의 모든 원소에 대해 나온 결과를 배열로 리턴  \n",
    "commands의 길이만큼 결과 배열이 나타난다"
   ]
  },
  {
   "cell_type": "code",
   "execution_count": 40,
   "metadata": {},
   "outputs": [
    {
     "name": "stdout",
     "output_type": "stream",
     "text": [
      "[5, 6, 3]\n"
     ]
    }
   ],
   "source": [
    "def solution(array, commands):\n",
    "    answer = []\n",
    "    for command in commands:\n",
    "        i, j, k = command\n",
    "        partial = []\n",
    "        partial = sorted(array[i-1:j])\n",
    "        if not partial and i == j:\n",
    "            answer.append(array[i])\n",
    "            continue\n",
    "        answer.append(partial[k-1])\n",
    "    return answer\n",
    "\n",
    "array = [1,5,2,6,3,7,4]\n",
    "commands = [[2,5,3], [4,4,1], [1,7,3]]\n",
    "print(solution(array, commands))"
   ]
  },
  {
   "cell_type": "code",
   "execution_count": 41,
   "metadata": {},
   "outputs": [
    {
     "name": "stdout",
     "output_type": "stream",
     "text": [
      "[5, 6, 3]\n"
     ]
    }
   ],
   "source": [
    "# 다른 사람\n",
    "def solution(array, commands):\n",
    "    return list(map(lambda x: sorted(array[x[0]-1:x[1]])[x[2]-1], commands))\n",
    "\n",
    "array = [1,5,2,6,3,7,4]\n",
    "commands = [[2,5,3], [4,4,1], [1,7,3]]\n",
    "print(solution(array, commands))"
   ]
  },
  {
   "cell_type": "markdown",
   "metadata": {},
   "source": [
    "## 탑\n",
    "수평 직선에 탑 N대를 세움  \n",
    "탑의 꼭대기에 신호를 송/수신하는 장치를 설치  \n",
    "발사한 신호는 신호를 보낸 탑보다 높은 탑에서만 수신  \n",
    "탑이 왼쪽으로 신호를 보냄\n",
    "한 번 수신된 신호는 다른 탑으로 송신되지 X  \n",
    "heights : 왼쪽부터 순서대로 탑의 높이를 담은 배열  \n",
    "각 탑이 쏜 신호를 어느 탑에서 받았는지 기록한 배열을 리턴  \n",
    "리턴되는 배열에는 탑의 인덱스+1가 저장됨\n",
    "2 <= len(heights) <= 100  \n",
    "모든 탑의 높이 1~100\n",
    "신호를 수신하는 탑이 없으면 0으로 표시"
   ]
  },
  {
   "cell_type": "code",
   "execution_count": 42,
   "metadata": {},
   "outputs": [
    {
     "name": "stdout",
     "output_type": "stream",
     "text": [
      "[0, 0, 2, 2, 4]\n"
     ]
    }
   ],
   "source": [
    "def solution(heights):\n",
    "    answer = []\n",
    "    heights = heights[::-1]    \n",
    "    for idx, top in enumerate(heights):\n",
    "        for i in range(idx+1, len(heights)):\n",
    "            if top < heights[i]:\n",
    "                answer.append(len(heights)-i)\n",
    "                break\n",
    "            if i == len(heights)-1:\n",
    "                answer.append(0)\n",
    "    answer.append(0)\n",
    "    return answer[::-1]\n",
    "\n",
    "heights = [6,9,5,7,4]\n",
    "print(solution(heights))"
   ]
  },
  {
   "cell_type": "code",
   "execution_count": 43,
   "metadata": {},
   "outputs": [],
   "source": [
    "# 다른 사람 & 수업\n",
    "def solution(heights):\n",
    "    answer = [0] * len(heights) # 0으로 초기화.. 이러면 append(0)할 필요가 없네\n",
    "    for i in range(len(heights)-1, 0, -1):\n",
    "        for j in range(i-1, -1, -1): # 왼쪽 방향 검사\n",
    "            if heights[i] < heights[j]:\n",
    "                answer[i] = j+1\n",
    "                break\n",
    "#     for i in range(1, len(heights)):\n",
    "#         for j in range(i-1, -1, -1): # 왼쪽 방향 검사\n",
    "#             if heights[i] < heights[j]:\n",
    "#                 answer[i] = j+1\n",
    "#                 break\n",
    "    return answer"
   ]
  },
  {
   "cell_type": "code",
   "execution_count": 44,
   "metadata": {},
   "outputs": [
    {
     "name": "stdout",
     "output_type": "stream",
     "text": [
      "[0, 0, 2, 2, 4]\n",
      "[0, 0, 0, 3, 3, 3, 6]\n",
      "[0, 0, 2, 0, 0, 5, 6]\n"
     ]
    }
   ],
   "source": [
    "heights = [6,9,5,7,4]\n",
    "print(solution(heights))\n",
    "# [0, 0, 2, 2, 4]\n",
    "\n",
    "heights = [3,9,9,3,5,7,2]\n",
    "print(solution(heights))\n",
    "# [0, 0, 0, 3, 3, 3, 6]\n",
    "\n",
    "heights = [1,5,3,6,7,6,5]\n",
    "print(solution(heights))\n",
    "# [0, 0, 2, 0, 0, 5, 6]"
   ]
  },
  {
   "cell_type": "markdown",
   "metadata": {},
   "source": [
    "## 전화번호 목록\n",
    "한 번호가 다른 번호의 접두어인 경우가 있는지 확인  \n",
    "phone_book : 전화번호를 담은 전화번호부  \n",
    "접두어인 경우가 있으면 False  \n",
    "len(phone_book) 1 <= <= 1,000,000  "
   ]
  },
  {
   "cell_type": "code",
   "execution_count": 45,
   "metadata": {},
   "outputs": [],
   "source": [
    "def solution(phone_book):\n",
    "    for idx, number in enumerate(phone_book):\n",
    "        for i in range(0, len(phone_book)):\n",
    "            if i == idx:\n",
    "                continue\n",
    "            if phone_book[i].find(number) == 0:\n",
    "                return False\n",
    "    return True"
   ]
  },
  {
   "cell_type": "markdown",
   "metadata": {},
   "source": [
    "logN의 시간복잡도를 가지는것.  \n",
    "binary search : 데이터가 정렬되어있어야  \n",
    "quick sort : 파이썬에서 정렬은 퀵정렬  \n",
    "힙 큐 (우선순위 큐) : 최대, 최소  "
   ]
  },
  {
   "cell_type": "code",
   "execution_count": 46,
   "metadata": {},
   "outputs": [],
   "source": [
    "# 다른사람\n",
    "def solution(phone_book): \n",
    "    phone_book = sorted(phone_book)\n",
    "    for p1, p2 in zip(phone_book, phone_book[1:]):\n",
    "        if p2.startswith(p1): return False\n",
    "    return True"
   ]
  },
  {
   "cell_type": "code",
   "execution_count": 47,
   "metadata": {},
   "outputs": [],
   "source": [
    "# 수업\n",
    "def solution(phoneBook):\n",
    "    # (아스키 코드값 기준으로 가장 차이가 작은)\n",
    "    # 접두어와 접두어가 들어있는 번호는 붙어있다\n",
    "    # 정렬해서 2개씩 비교\n",
    "    phoneBook.sort()\n",
    "    for i in range(len(phoneBook) - 1):\n",
    "        if phoneBook[i+1].startswith(phoneBook[i]):\n",
    "            return False\n",
    "    return True"
   ]
  },
  {
   "cell_type": "code",
   "execution_count": 48,
   "metadata": {},
   "outputs": [
    {
     "name": "stdout",
     "output_type": "stream",
     "text": [
      "False\n",
      "False\n",
      "False\n"
     ]
    }
   ],
   "source": [
    "phone_book = [\"119\", \"97674223\", \"1195524421\"]\n",
    "print(solution(phone_book))\n",
    "\n",
    "phone_book = [\"123\",\"456\",\"789\", \"12\"]\n",
    "print(solution(phone_book))\n",
    "\n",
    "phone_book = [\"12\",\"123\",\"1235\",\"567\",\"88\"]\n",
    "print(solution(phone_book))"
   ]
  },
  {
   "cell_type": "markdown",
   "metadata": {},
   "source": [
    "## 체육복\n",
    "여벌 체육복이 있는 학생이 체육복을 빌려준다.(한명에게만)  \n",
    "학생들의 번호 = 체격 순  \n",
    "앞번호의 학생 or 뒷번호의 학생에게만 체육복을 빌려줄 수 있다  \n",
    "최대한 많은 학생에게 체육복을 빌려준다  \n",
    "n : 전체 학생의 수  \n",
    "lost : 체육복이 없는 학생들의 번호 배열  \n",
    "reserve : 여벌의 체육복을 가진 학생들의 번호 배열  \n",
    "체육수업을 들을 수 있는 학생의 최댓값을 리턴  \n",
    "\n",
    "n : 2 <= <= 30  \n",
    "lost : 1 <= <= n  \n",
    "reserve : 1 <= <= n  \n",
    "reserve에 있는 학생이 lost에 있을 수 있다 (다른 학생에게 빌려줄 수 없음)"
   ]
  },
  {
   "cell_type": "code",
   "execution_count": 49,
   "metadata": {},
   "outputs": [],
   "source": [
    "def solution(n, lost, reserve):\n",
    "    # 0인 값을 만나면 앞에서 빌릴 수 있는지 or 뒤에서 빌릴 수 있는지 확인\n",
    "    real_reserve = [i for i in reserve if i not in lost]\n",
    "    real_lost = [i for i in lost if i not in reserve]\n",
    "    for i in real_reserve:\n",
    "        befo_i = i - 1\n",
    "        next_i = i + 1\n",
    "        if befo_i in real_lost:\n",
    "            real_lost.remove(befo_i)\n",
    "        elif next_i in real_lost:\n",
    "            real_lost.remove(next_i)\n",
    "    return n - len(real_lost)"
   ]
  },
  {
   "cell_type": "code",
   "execution_count": 50,
   "metadata": {},
   "outputs": [],
   "source": [
    "def solution(n, lost, reserve):\n",
    "    set_reserve = set(reserve) - set(lost)\n",
    "    set_lost = set(lost) - set(reserve)\n",
    "    for i in set_reserve:\n",
    "        if i-1 in set_lost:\n",
    "            set_lost.remove(i-1)\n",
    "        elif i+1 in set_lost:\n",
    "            set_lost.remove(i+1)\n",
    "            \n",
    "    return n - len(set_lost)"
   ]
  },
  {
   "cell_type": "code",
   "execution_count": 51,
   "metadata": {},
   "outputs": [
    {
     "name": "stdout",
     "output_type": "stream",
     "text": [
      "5\n",
      "4\n",
      "2\n",
      "17\n",
      "19\n"
     ]
    }
   ],
   "source": [
    "# 문제의 케이스\n",
    "n = 5\n",
    "lost = [1, 3]\n",
    "reserve = [2, 4]\n",
    "print(solution(n, lost, reserve))\n",
    "\n",
    "n = 6\n",
    "lost = [1, 3, 4, 5]\n",
    "reserve = [1, 4]\n",
    "print(solution(n, lost, reserve))\n",
    "\n",
    "n = 3\n",
    "lost = [2, 3]\n",
    "reserve = [1]\n",
    "print(solution(n, lost, reserve))\n",
    "\n",
    "n = 18\n",
    "lost = [7, 8, 11, 12]\n",
    "reserve = [1, 6, 8, 10]\n",
    "print(solution(n, lost, reserve))\n",
    "\n",
    "n = 24\n",
    "lost = [12, 13, 16, 17, 19, 20, 21, 22]\n",
    "reserve = [1, 22, 16, 18, 9, 10]\n",
    "print(solution(n, lost, reserve))"
   ]
  },
  {
   "cell_type": "markdown",
   "metadata": {},
   "source": [
    "## 최대공약수와 최소공배수\n",
    "두 수를 입력받아 두 수의 gcd, lcm 반환.  \n",
    "배열 [ gcd, lcm ] 으로 리턴  "
   ]
  },
  {
   "cell_type": "code",
   "execution_count": 52,
   "metadata": {},
   "outputs": [
    {
     "data": {
      "text/plain": [
       "[1, 10]"
      ]
     },
     "execution_count": 52,
     "metadata": {},
     "output_type": "execute_result"
    }
   ],
   "source": [
    "def solution(n, m):\n",
    "    gcd = 0\n",
    "    for div in range(n, 0, -1):\n",
    "        if n % div == 0 and m % div == 0:\n",
    "            gcd = div\n",
    "            break\n",
    "    return [gcd, n * m // gcd]\n",
    "\n",
    "solution(2, 5)"
   ]
  },
  {
   "cell_type": "markdown",
   "metadata": {},
   "source": [
    "## 콜라츠 추측\n",
    "주어진 수가 1이 될 때까지 다음을 반복한다.  \n",
    "짝수라면 2로 나눈다.  \n",
    "홀수라면 3을 곱하고 1을 더한다.  \n",
    "결과로 나온 수에 같은 작업을 1이 될 때까지 반복.  \n",
    "몇 번 반복해야하는지 반환  \n",
    "500번을 반복해도 1이 되지 않으면 -1을 반환  "
   ]
  },
  {
   "cell_type": "code",
   "execution_count": 53,
   "metadata": {},
   "outputs": [
    {
     "data": {
      "text/plain": [
       "-1"
      ]
     },
     "execution_count": 53,
     "metadata": {},
     "output_type": "execute_result"
    }
   ],
   "source": [
    "def solution(num):\n",
    "    answer = 0\n",
    "    while num != 1:\n",
    "        if answer > 500:\n",
    "            return -1\n",
    "        if num % 2 == 0:\n",
    "            num //= 2\n",
    "        else:\n",
    "            num = num * 3 + 1\n",
    "        answer += 1\n",
    "    return answer\n",
    "\n",
    "solution(626331)"
   ]
  },
  {
   "cell_type": "markdown",
   "metadata": {},
   "source": [
    "## 직사각형 별찍기\n",
    "두 개의 정수 n, m  \n",
    "n : 가로의 길이  \n",
    "m : 세로의 길이  "
   ]
  },
  {
   "cell_type": "code",
   "execution_count": 54,
   "metadata": {},
   "outputs": [
    {
     "name": "stdout",
     "output_type": "stream",
     "text": [
      "5 2\n",
      "*****\n",
      "*****\n"
     ]
    }
   ],
   "source": [
    "a, b = map(int, input().strip().split(' '))\n",
    "for i in range(b):\n",
    "    print('*' * a)"
   ]
  },
  {
   "cell_type": "markdown",
   "metadata": {},
   "source": [
    "## x만큼 간격이 있는 n개의 숫자\n",
    "x : 정수, n : 자연수  \n",
    "x부터 시작하여 x씩 증가하는 숫자를 n개 지니는 리스트를 반환  "
   ]
  },
  {
   "cell_type": "code",
   "execution_count": 55,
   "metadata": {},
   "outputs": [
    {
     "data": {
      "text/plain": [
       "[4, 8, 12]"
      ]
     },
     "execution_count": 55,
     "metadata": {},
     "output_type": "execute_result"
    }
   ],
   "source": [
    "def solution(x, n):\n",
    "#     answer = []\n",
    "#     for i in range(n):\n",
    "#         answer.append(x*(i+1))\n",
    "#     return answer\n",
    "    return [ x*i for i in range(1, n+1) ]\n",
    "\n",
    "solution(4, 3)"
   ]
  },
  {
   "cell_type": "markdown",
   "metadata": {},
   "source": [
    "## 행렬의 덧셈\n",
    "2개의 행렬 arr1, arr2를 입력받아 행렬 덧셈의 결과를 반환  "
   ]
  },
  {
   "cell_type": "code",
   "execution_count": 56,
   "metadata": {},
   "outputs": [
    {
     "data": {
      "text/plain": [
       "[[4, 6], [7, 9]]"
      ]
     },
     "execution_count": 56,
     "metadata": {},
     "output_type": "execute_result"
    }
   ],
   "source": [
    "def solution(arr1, arr2):\n",
    "    answer = [[] for x in range(len(arr2))]\n",
    "    for r in range(len(arr1)):\n",
    "        for c in range(len(arr1[0])):\n",
    "            answer[r].append(arr1[r][c] + arr2[r][c])\n",
    "    return answer\n",
    "\n",
    "arr1 = [[1,2],[2,3]]\n",
    "arr2 = [[3,4],[5,6]]\n",
    "solution(arr1, arr2)"
   ]
  },
  {
   "cell_type": "code",
   "execution_count": 57,
   "metadata": {},
   "outputs": [
    {
     "data": {
      "text/plain": [
       "[[4, 6], [7, 9]]"
      ]
     },
     "execution_count": 57,
     "metadata": {},
     "output_type": "execute_result"
    }
   ],
   "source": [
    "# 다른 사람\n",
    "def solution(arr1, arr2):\n",
    "    return [[c+d for c, d in zip(a,b)] for a, b in zip(arr1, arr2)]\n",
    "\n",
    "arr1 = [[1,2],[2,3]]\n",
    "arr2 = [[3,4],[5,6]]\n",
    "solution(arr1, arr2)"
   ]
  },
  {
   "cell_type": "markdown",
   "metadata": {},
   "source": [
    "## 핸드폰 번호 가리기\n",
    "문자열 phone_number  \n",
    "전화번호의 뒷 4자리를 제외한 나머지 숫자를 모두 * 로 가린 문자열을 리턴  \n",
    "s의 길이는 4이상, 20이하  "
   ]
  },
  {
   "cell_type": "code",
   "execution_count": 58,
   "metadata": {},
   "outputs": [
    {
     "data": {
      "text/plain": [
       "'*******4444'"
      ]
     },
     "execution_count": 58,
     "metadata": {},
     "output_type": "execute_result"
    }
   ],
   "source": [
    "def solution(phone_number):\n",
    "    return \"\".join([ \"*\" for x in phone_number[:-4]] + \\\n",
    "                  [ x for x in phone_number[-4:]])\n",
    "\n",
    "solution(\"01033334444\")"
   ]
  },
  {
   "cell_type": "code",
   "execution_count": 59,
   "metadata": {},
   "outputs": [
    {
     "data": {
      "text/plain": [
       "'*******4444'"
      ]
     },
     "execution_count": 59,
     "metadata": {},
     "output_type": "execute_result"
    }
   ],
   "source": [
    "# 다른 사람\n",
    "def solution(phone_number):\n",
    "    return \"*\" * (len(phone_number)-4) + phone_number[-4:]\n",
    "\n",
    "solution(\"01033334444\")"
   ]
  },
  {
   "cell_type": "markdown",
   "metadata": {},
   "source": [
    "## 하샤드 수\n",
    "양의 정수 x가 하샤드 수 == x의 자릿수의 합으로 x가 나누어짐  \n",
    "18의 자릿수의 합 = 9, 18은 9로 나누어 떨어짐  \n",
    "18은 하샤드 수  \n",
    "자연수 x를 입력받아 하샤드 수인지 아닌지 검사  "
   ]
  },
  {
   "cell_type": "code",
   "execution_count": 60,
   "metadata": {},
   "outputs": [
    {
     "name": "stdout",
     "output_type": "stream",
     "text": [
      "True\n",
      "True\n",
      "False\n",
      "False\n"
     ]
    }
   ],
   "source": [
    "def solution(x):\n",
    "    hap = sum(map(int,str(x)))\n",
    "    if x % hap == 0:\n",
    "        return True\n",
    "    else:\n",
    "        return False\n",
    "    #return x % sum(map(int,str(x))) == 0\n",
    "\n",
    "print(solution(10))\n",
    "print(solution(12))\n",
    "print(solution(11))\n",
    "print(solution(13))"
   ]
  },
  {
   "cell_type": "markdown",
   "metadata": {},
   "source": [
    "## 모의고사\n",
    "answers : 정답이 순서대로 있는 배열  \n",
    "가장 많은 문제를 맞힌 사람을 배열에 담아 리턴  \n",
    "1번 : 1,2,3,4,5 / 1,2,3,4,5,...  \n",
    "2번 : 2,1,2,3,2,4,2,5 / 2,1,2,3,2,4,2,5 / ...  \n",
    "3번 : 3,3,1,1,2,2,4,4,5,5 / 3,3,1,1,2,2,4,4,5,5 / ...  \n",
    "answers의 길이는 최대 10,000  \n",
    "리턴하는 사람이 여럿일경우 리턴값을 오름차순"
   ]
  },
  {
   "cell_type": "code",
   "execution_count": 61,
   "metadata": {},
   "outputs": [
    {
     "name": "stdout",
     "output_type": "stream",
     "text": [
      "[1]\n",
      "[1, 2, 3]\n"
     ]
    }
   ],
   "source": [
    "def solution(answers):\n",
    "    cnt = [0] * 3\n",
    "    \n",
    "    p1 = [1,2,3,4,5]\n",
    "    p2 = [2,1,2,3,2,4,2,5]\n",
    "    p3 = [3,3,1,1,2,2,4,4,5,5]\n",
    "    \n",
    "    i = 0\n",
    "    while i < len(answers):\n",
    "        if p1[i % len(p1)] == answers[i]:\n",
    "            cnt[0] += 1\n",
    "        if p2[i % len(p2)] == answers[i]:\n",
    "            cnt[1] += 1\n",
    "        if p3[i % len(p3)] == answers[i]:\n",
    "            cnt[2] += 1\n",
    "        i += 1\n",
    "    return [ j+1 for j, x in enumerate(cnt) if x == max(cnt) ]\n",
    "\n",
    "print(solution([1,2,3,4,5]))\n",
    "print(solution([1,3,2,4,2]))"
   ]
  },
  {
   "cell_type": "markdown",
   "metadata": {},
   "source": [
    "## 크레인 인형뽑기 게임\n",
    "게임 화면 : N * N 크기의 정사각형 격자  \n",
    "위 : 크레인  \n",
    "오른쪽 : 바구니  \n",
    "모든 인형은 격자의 가장 아래 칸부터 차곡차곡 쌓여 있다  \n",
    "크레인을 좌우로 움직여서 멈춘 위치에서 가장 위에 있는 인형을 집어 올릴 수 있다.  \n",
    "집어 올린 인형은 바구니의 가장 아래 칸부터 쌓인다.  \n",
    "\n",
    "같은 모양의 인형 두개가 바구니에 연속해서 쌓이면 두 인형 모두 바구니에서 사라짐  \n",
    "인형이 없는 곳에서 크레인 작동 -> 아무일도 일어나지 않음  \n",
    "바구니는 인형이 들어가기에 충분히 크다  \n",
    "\n",
    "board : 게임화면 격자 2차원 배열  \n",
    "moves : 크레인을 작동시킨 위치가 담긴 배열  \n",
    "\n",
    "리턴 : 크레인을 모두 작동시킨 후 사라진 인형의 개수  \n",
    "-> 터뜨려진 횟수 * 2 \n",
    "\n",
    "board : 5 * 5 이상 30 * 30 이하  \n",
    "board의 각 원소는 0 ~ 100 정수  \n",
    "0 = 빈칸  \n",
    "1~100 : 서로 다른 인형의 모양  \n",
    "moves 배열의 길이 1 ~ 1,000  \n",
    "moves 배열의 원소는 1이상의 값"
   ]
  },
  {
   "cell_type": "code",
   "execution_count": 62,
   "metadata": {},
   "outputs": [
    {
     "name": "stdout",
     "output_type": "stream",
     "text": [
      "4\n"
     ]
    }
   ],
   "source": [
    "def solution(board, moves):\n",
    "    answer = 0\n",
    "    basket = []\n",
    "    for m in moves:\n",
    "        for r in range(len(board)):\n",
    "            if board[r][m-1] != 0:\n",
    "                if basket:\n",
    "                    previous = basket.pop()\n",
    "                else:\n",
    "                    previous = 0\n",
    "                if previous == board[r][m-1]:\n",
    "                    answer +=1\n",
    "                else:\n",
    "                    if previous != 0: basket.append(previous)\n",
    "                    basket.append(board[r][m-1])\n",
    "                board[r][m-1] = 0\n",
    "                break\n",
    "    return answer*2\n",
    "\n",
    "board = [[0,0,0,0,0],[0,0,1,0,3],[0,2,5,0,1],[4,2,4,4,2],[3,5,1,3,1]]\n",
    "moves = [1,5,3,5,1,2,1,4]\n",
    "print(solution(board, moves))"
   ]
  },
  {
   "cell_type": "markdown",
   "metadata": {},
   "source": [
    "## 다트 게임\n",
    "점수계산 로직  \n",
    "1. 3번의 기회\n",
    "2. 기회마다 얻을 수 있는 점수 : 0 ~ 10\n",
    "3. single(1제곱), double(2제곱), triple(3제곱) 영역 존재\n",
    "4. 옵션 : 스타상(* 해당 점수와 바로 직전 점수를 2배로), 아차상(# 해당 점수는 마이너스)\n",
    "5. * : 첫 번째 기회에서 등장 가능, 첫번째 점수만 2배 (예제 4)\n",
    "6. * : 다른 * 와 중첩 가능. 중첩되면 4배 (예제 4)\n",
    "7. * : # 과 중첩 가능. 중첩되면 -2배 (예제 5)\n",
    "8. S, D, T는 점수마다 하나씩 존재\n",
    "9. * , # : 점수마다 둘 중 하나만 존재 가능. 존재하지 않을 수 있다.\n",
    "\n",
    "parameters : 문자열(점수|보너스|[옵션] 이 1개의 세트)  \n",
    "return : 총 점수"
   ]
  },
  {
   "cell_type": "code",
   "execution_count": 63,
   "metadata": {
    "scrolled": true
   },
   "outputs": [
    {
     "name": "stdout",
     "output_type": "stream",
     "text": [
      "[2, 8, 27]\n",
      "37\n",
      "[1, -2, 10]\n",
      "9\n",
      "[1, 2, 0]\n",
      "3\n",
      "[4, 16, 3]\n",
      "23\n",
      "[-2, 4, 3]\n",
      "5\n",
      "[1, 4, -9]\n",
      "-4\n",
      "[1, 4, 54]\n",
      "59\n"
     ]
    }
   ],
   "source": [
    "def solution(dartResult):\n",
    "    stack = []\n",
    "    val = []\n",
    "    for c in dartResult:\n",
    "        if c.isdigit(): # 숫자라면\n",
    "            stack.append(int(c))\n",
    "        elif c.isalpha():\n",
    "            i = 0\n",
    "            n = 0\n",
    "            while stack:\n",
    "                n += stack.pop() * (10**i)\n",
    "                i += 1\n",
    "            if c == 'S':\n",
    "                val.append(n ** 1)\n",
    "            elif c == 'D':\n",
    "                val.append(n ** 2)\n",
    "            elif c == 'T':\n",
    "                val.append(n ** 3)\n",
    "        elif c == '*':\n",
    "            if len(val) == 1: # 첫번째 등장\n",
    "                val.append(val.pop() * 2)\n",
    "            else:\n",
    "                n1 = val.pop()\n",
    "                n2 = val.pop()\n",
    "                val.append(n2 * 2)\n",
    "                val.append(n1 * 2)\n",
    "        elif c == '#':\n",
    "            val.append(val.pop() * (-1))\n",
    "    print(val)\n",
    "    return sum(val)\n",
    "\n",
    "dartResult = \"1S2D*3T\"\n",
    "print(solution(dartResult))\n",
    "\n",
    "dartResult = \"1D2S#10S\"\n",
    "print(solution(dartResult))\n",
    "\n",
    "dartResult = \"1D2S0T\"\n",
    "print(solution(dartResult))\n",
    "\n",
    "dartResult = \"1S*2T*3S\"\n",
    "print(solution(dartResult))\n",
    "\n",
    "dartResult = \"1D#2S*3S\"\n",
    "print(solution(dartResult))\n",
    "\n",
    "dartResult = \"1T2D3D#\"\n",
    "print(solution(dartResult))\n",
    "\n",
    "dartResult = \"1D2S3T*\"\n",
    "print(solution(dartResult))"
   ]
  },
  {
   "cell_type": "code",
   "execution_count": 64,
   "metadata": {},
   "outputs": [
    {
     "name": "stdout",
     "output_type": "stream",
     "text": [
      "38\n",
      "9\n",
      "3\n",
      "23\n",
      "8\n",
      "-4\n",
      "59\n"
     ]
    }
   ],
   "source": [
    "# 다른 사람\n",
    "import re\n",
    "def solution(dartResult):\n",
    "    bonus = {'S' : 1, 'D' : 2, 'T' : 3}\n",
    "    option = {'' : 1, '*' : 2, '#' : -1}\n",
    "    p = re.compile('(\\d+)([SDT])([*#]?)')\n",
    "    dart = p.findall(dartResult)\n",
    "    for i in range(len(dart)):\n",
    "        if dart[i][2] == '*' and i > 0:\n",
    "            dart[i-1] += 2\n",
    "        dart[i] = int(dart[i][0]) ** bonus[dart[i][1]] * option[dart[i][2]]\n",
    "    return sum(dart)\n",
    "\n",
    "dartResult = \"1S2D*3T\"\n",
    "print(solution(dartResult))\n",
    "\n",
    "dartResult = \"1D2S#10S\"\n",
    "print(solution(dartResult))\n",
    "\n",
    "dartResult = \"1D2S0T\"\n",
    "print(solution(dartResult))\n",
    "\n",
    "dartResult = \"1S*2T*3S\"\n",
    "print(solution(dartResult))\n",
    "\n",
    "dartResult = \"1D#2S*3S\"\n",
    "print(solution(dartResult))\n",
    "\n",
    "dartResult = \"1T2D3D#\"\n",
    "print(solution(dartResult))\n",
    "\n",
    "dartResult = \"1D2S3T*\"\n",
    "print(solution(dartResult))"
   ]
  },
  {
   "cell_type": "markdown",
   "metadata": {},
   "source": [
    "## 실패율\n",
    "실패율 = 스테이지에 도달&아직 클리어 못한 플레이어 수 / 스테이지 도달 플레이어 수  \n",
    "전체 스테이지 개수 = N  \n",
    "stages = 사용자가 현재 멈춰있는 스테이지의 번호가 담긴 배열  \n",
    "실패율이 높은 스테이지부터 내림차순으로 스테이지 번호가 담긴 배열을 리턴  \n",
    "\n",
    "제약조건\n",
    "N : 1 ~ 500  \n",
    "stages 길이 : 1 ~ 200,000  \n",
    "stages의 원소 : 1 ~ N+1 (현재 도전중인 스테이지 번호)  \n",
    "N+1 : 마지막 스테이지(N번째 스테이지)까지 클리어한 사용자  \n",
    "\n",
    "실패율이 같은 스테이지 -> 작은 번호의 스테이지가 먼저  \n",
    "\n",
    "스테이지에 도달한 유저가 없는 스테이지의 실패율 = 0  "
   ]
  },
  {
   "cell_type": "code",
   "execution_count": 65,
   "metadata": {},
   "outputs": [
    {
     "name": "stdout",
     "output_type": "stream",
     "text": [
      "[3, 4, 2, 1, 5]\n",
      "[4, 1, 2, 3]\n"
     ]
    }
   ],
   "source": [
    "def solution(N, stages):\n",
    "    answer = []\n",
    "    fail = [0] * N\n",
    "    stages = sorted(stages)\n",
    "    for i in range(len(stages)):\n",
    "        tot = len(stages) - i\n",
    "        if stages[i] <= N and fail[stages[i]-1] == 0:\n",
    "            fail[stages[i]-1] = stages.count(stages[i]) / tot\n",
    "    for i in range(len(fail)):\n",
    "        answer.append((fail[i], i+1))\n",
    "    answer = sorted(answer, key = lambda x: (x[0],-x[1]), reverse=True)\n",
    "    answer = list(map(lambda x:x[1], answer))\n",
    "    return answer\n",
    "\n",
    "N = 5\n",
    "stages = [2, 1, 2, 6, 2, 4, 3, 3]\n",
    "print(solution(N, stages))\n",
    "\n",
    "N = 4\n",
    "stages = [4,4,4,4,4]\n",
    "print(solution(N, stages))"
   ]
  },
  {
   "cell_type": "code",
   "execution_count": 66,
   "metadata": {},
   "outputs": [],
   "source": [
    "# 다른 사람 풀이\n",
    "def solution(N, stages):\n",
    "    result = {}\n",
    "    denominator = len(stages)\n",
    "    for stage in range(1, N+1):\n",
    "        if denominator != 0:\n",
    "            count = stages.count(stage)\n",
    "            result[stage] = count / denominator\n",
    "            denominator -= count\n",
    "        else:\n",
    "            result[stage] = 0\n",
    "    return sorted(result, key=lambda x: result[x], reverse=True)"
   ]
  },
  {
   "cell_type": "markdown",
   "metadata": {},
   "source": [
    "## 비밀지도\n",
    "지도 : 한 변의 길이가 n인 정사각형 배열  \n",
    "각 칸은 공백(\" \") 또는 벽(\"#\")  \n",
    "\n",
    "전체 지도는 두 장의 지도를 겹쳐서 얻는다.  \n",
    "지도1과 지도2 중어느 하나라도 벽인 부분은 전체 지도에서도 벽이다.  \n",
    "지도1과 지도2 모두에서 공백인 부분은 전체 지도에서 공백이다.  \n",
    "00 공백  \n",
    "01 벽  \n",
    "10 벽  \n",
    "11 벽  \n",
    "\n",
    "지도1과 지도2 는 각각 정수 배열로 암호화되어 있다.  \n",
    "벽 = 1, 공백 = 0  \n",
    "\n",
    "n : 지도 한 변의 크기  \n",
    "arr1, arr2 : 두 개의 정수 배열  \n",
    "\n",
    "n : 1 ~ 16  \n",
    "arr1, arr2 : 길이 n인 정수 배열 -> 각 원소 x를 이진수로 변환해야 함, 길이는 n 이하  \n",
    "\n",
    "리턴 : '#', ' '으로 구성된 문자열 배열 출력  "
   ]
  },
  {
   "cell_type": "code",
   "execution_count": 67,
   "metadata": {},
   "outputs": [
    {
     "name": "stdout",
     "output_type": "stream",
     "text": [
      "['#####', '# # #', '### #', '#  ##', '#####']\n",
      "['######', '###  #', '##  ##', ' #### ', ' #####', '### # ']\n"
     ]
    }
   ],
   "source": [
    "def solution(n, arr1, arr2):\n",
    "    answer = []\n",
    "    for i in range(n):\n",
    "        arr1[i] = list(map(int,format(arr1[i], 'b')))\n",
    "        arr2[i] = list(map(int,format(arr2[i], 'b')))\n",
    "        \n",
    "        if len(arr1[i]) < n:\n",
    "            for j in range(n-len(arr1[i])):\n",
    "                arr1[i].insert(0, 0)\n",
    "        if len(arr2[i]) < n:\n",
    "            for j in range(n-len(arr2[i])):\n",
    "                arr2[i].insert(0, 0)\n",
    "        \n",
    "        k = 0\n",
    "        s = []\n",
    "        while k < n:\n",
    "            if not(arr1[i][k] or arr2[i][k]):\n",
    "                s.append(\" \")\n",
    "            else:\n",
    "                s.append(\"#\")\n",
    "            k += 1\n",
    "        answer.append(\"\".join(s))\n",
    "    return answer\n",
    "\n",
    "n = 5\n",
    "arr1 = [9, 20, 28, 18, 11]\n",
    "arr2 = [30, 1, 21, 17, 28]\n",
    "print(solution(n, arr1, arr2))\n",
    "n = 6\n",
    "arr1 = [46, 33, 33 ,22, 31, 50]\n",
    "arr2 = [27 ,56, 19, 14, 14, 10]\n",
    "print(solution(n, arr1, arr2))"
   ]
  },
  {
   "cell_type": "code",
   "execution_count": 68,
   "metadata": {},
   "outputs": [
    {
     "name": "stdout",
     "output_type": "stream",
     "text": [
      "['#####', '# # #', '### #', '#  ##', '#####']\n"
     ]
    }
   ],
   "source": [
    "# 다른 사람\n",
    "def solution(n, arr1, arr2):\n",
    "    answer = []\n",
    "    for i, j in zip(arr1, arr2):\n",
    "        s = str(bin(i|j)[2:])\n",
    "        s = s.rjust(n, '0')\n",
    "        s = s.replace('1', '#')\n",
    "        s = s.replace('0', ' ')\n",
    "        answer.append(s)\n",
    "    return answer\n",
    "# 사용해본적 없는 함수가 좀 있다 : zip, bin, rjust\n",
    "# python 기본 정리 노트에 추가하기 !\n",
    "\n",
    "n = 5\n",
    "arr1 = [9, 20, 28, 18, 11]\n",
    "arr2 = [30, 1, 21, 17, 28]\n",
    "print(solution(n, arr1, arr2))"
   ]
  },
  {
   "cell_type": "markdown",
   "metadata": {},
   "source": [
    "## 예산\n",
    "최대한 많은 부서의 물품을 구매해 주자  \n",
    "물품을 구매해 줄 때는 신청한 금액만큼 모두 지원해야 함 (더 적은 금액 지원 X)  \n",
    "\n",
    "d : 부서별 신청 금액 배열  \n",
    "budget : 예산  \n",
    "\n",
    "return : 최대 몇 개의 부서에 물품 지원 가능?  \n",
    "\n",
    "d길이 : 1 ~ 100  \n",
    "d의 원소 : 1 ~ 100,000  \n",
    "budget : 1 ~ 10,000,000  "
   ]
  },
  {
   "cell_type": "code",
   "execution_count": 69,
   "metadata": {},
   "outputs": [
    {
     "name": "stdout",
     "output_type": "stream",
     "text": [
      "3\n",
      "4\n"
     ]
    }
   ],
   "source": [
    "def solution(d, budget):\n",
    "    d = sorted(d)\n",
    "    temp = []\n",
    "    for i in d:\n",
    "        temp.append(i)\n",
    "        if sum(temp) > budget:\n",
    "            temp.pop()\n",
    "            break\n",
    "    return len(temp)\n",
    "\n",
    "d = [1,3,2,5,4]\n",
    "budget = 9\n",
    "print(solution(d, budget))\n",
    "\n",
    "d = [2,2,3,3]\n",
    "budget = 10\n",
    "print(solution(d, budget))"
   ]
  },
  {
   "cell_type": "code",
   "execution_count": 70,
   "metadata": {},
   "outputs": [
    {
     "name": "stdout",
     "output_type": "stream",
     "text": [
      "3\n"
     ]
    }
   ],
   "source": [
    "# 다른 사람\n",
    "def solution(d, budget):\n",
    "    d.sort()\n",
    "    while budget < sum(d):\n",
    "        d.pop()\n",
    "    return len(d)\n",
    "\n",
    "d = [1,3,2,5,4]\n",
    "budget = 9\n",
    "print(solution(d, budget))"
   ]
  },
  {
   "cell_type": "markdown",
   "metadata": {},
   "source": [
    "## 키패드 누르기\n",
    "처음 왼손 엄지 : * 키패드  \n",
    "처음 오른손 엄지 : # 키패드  \n",
    "\n",
    "엄지 손가락 사용 규칙\n",
    "- 상하좌우 4가지 방향으로만 이동\n",
    "- 이동 거리 = 한칸 = 거리 1\n",
    "- 1, 4, 7 을 입력할 때 : 왼손 엄지 사용\n",
    "- 3, 6, 9 를 입력할 때 : 오른손 엄지 사용\n",
    "- 2, 5, 8, 0 을 입력할 때 : 더 가까운 엄지 사용 (거리가 같다면 오른손 잡이는 오른손, 왼손잡이는 왼손 엄지 사용)\n",
    "\n",
    "numbers : 누르는 번호가 순서대로 담긴 배열  \n",
    "hand : 왼손잡이/오른손잡이  \n",
    "\n",
    "각 번호를 누른 엄지가 왼손인지 오른손인지 연속된 문자열로 리턴  \n",
    "\n",
    "제한사항  \n",
    "numbers : 1 ~ 1,000  \n",
    "numbers의 원소 : 0 ~ 9  \n",
    "왼손 엄지 사용 = L  \n",
    "오른손 엄지 사용 = R  "
   ]
  },
  {
   "cell_type": "code",
   "execution_count": 72,
   "metadata": {},
   "outputs": [
    {
     "name": "stdout",
     "output_type": "stream",
     "text": [
      "LRLLLRLLRRL\n",
      "LRLLRRLLLRR\n",
      "LLRLLRLLRL\n"
     ]
    }
   ],
   "source": [
    "def solution(numbers, hand):\n",
    "    answer = ''\n",
    "    keypad = [1, 2, 3, 4, 5, 6, 7, 8, 9, '*', 0, '#']\n",
    "    l = keypad.index('*') # 왼손 위치\n",
    "    r = keypad.index('#') # 오른손 위치\n",
    "    for num in numbers:\n",
    "        if num == 1 or num == 4 or num == 7:\n",
    "            answer += \"L\"\n",
    "            l = keypad.index(num)\n",
    "        elif num == 3 or num == 6 or num == 9:\n",
    "            answer += \"R\"\n",
    "            r = keypad.index(num)\n",
    "        else:\n",
    "            l_diff = abs((keypad.index(num)//3 - l // 3)) + abs((keypad.index(num)%3 - l%3))\n",
    "            r_diff = abs((keypad.index(num)//3 - r // 3)) + abs((keypad.index(num)%3 - r%3))\n",
    "            if l_diff < r_diff:\n",
    "                answer += \"L\"\n",
    "                l = keypad.index(num)\n",
    "            elif l_diff > r_diff:\n",
    "                answer += \"R\"\n",
    "                r = keypad.index(num)\n",
    "            else:\n",
    "                if hand == \"right\":\n",
    "                    answer += \"R\"\n",
    "                    r = keypad.index(num)\n",
    "                else:\n",
    "                    answer += \"L\"\n",
    "                    l = keypad.index(num)\n",
    "    return answer\n",
    "\n",
    "numbers = [1, 3, 4, 5, 8, 2, 1, 4, 5, 9, 5]\n",
    "hand = \"right\"\n",
    "print(solution(numbers, hand))\n",
    "\n",
    "numbers = [7, 0, 8, 2, 8, 3, 1, 5, 7, 6, 2]\n",
    "hand = \"left\"\n",
    "print(solution(numbers, hand))\n",
    "\n",
    "numbers = [1, 2, 3, 4, 5, 6, 7, 8, 9, 0]\n",
    "hand = \"right\"\n",
    "print(solution(numbers, hand))"
   ]
  }
 ],
 "metadata": {
  "kernelspec": {
   "display_name": "Python 3",
   "language": "python",
   "name": "python3"
  },
  "language_info": {
   "codemirror_mode": {
    "name": "ipython",
    "version": 3
   },
   "file_extension": ".py",
   "mimetype": "text/x-python",
   "name": "python",
   "nbconvert_exporter": "python",
   "pygments_lexer": "ipython3",
   "version": "3.7.6"
  }
 },
 "nbformat": 4,
 "nbformat_minor": 4
}
